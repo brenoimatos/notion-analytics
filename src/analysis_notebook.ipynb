{
 "cells": [
  {
   "cell_type": "code",
   "execution_count": 1,
   "metadata": {},
   "outputs": [],
   "source": [
    "import pandas as pd\n",
    "import plotly.express as px\n"
   ]
  },
  {
   "cell_type": "code",
   "execution_count": 6,
   "metadata": {},
   "outputs": [
    {
     "data": {
      "text/html": [
       "<div>\n",
       "<style scoped>\n",
       "    .dataframe tbody tr th:only-of-type {\n",
       "        vertical-align: middle;\n",
       "    }\n",
       "\n",
       "    .dataframe tbody tr th {\n",
       "        vertical-align: top;\n",
       "    }\n",
       "\n",
       "    .dataframe thead th {\n",
       "        text-align: right;\n",
       "    }\n",
       "</style>\n",
       "<table border=\"1\" class=\"dataframe\">\n",
       "  <thead>\n",
       "    <tr style=\"text-align: right;\">\n",
       "      <th></th>\n",
       "      <th>id</th>\n",
       "      <th>url</th>\n",
       "      <th>page_title</th>\n",
       "      <th>alternative_title</th>\n",
       "      <th>ds</th>\n",
       "      <th>unique_views</th>\n",
       "      <th>total_views</th>\n",
       "    </tr>\n",
       "  </thead>\n",
       "  <tbody>\n",
       "    <tr>\n",
       "      <th>0</th>\n",
       "      <td>31e8adb3-ae66-4b26-9ac5-f9dd5bdd4f21</td>\n",
       "      <td>https://www.notion.so/Beto-Sicupira-Funda-o-Br...</td>\n",
       "      <td>None</td>\n",
       "      <td>Beto Sicupira (Fundação Brava)</td>\n",
       "      <td>2023-10-06</td>\n",
       "      <td>1</td>\n",
       "      <td>1</td>\n",
       "    </tr>\n",
       "    <tr>\n",
       "      <th>1</th>\n",
       "      <td>6db2925b-a3bc-4ee9-89ca-003d21204282</td>\n",
       "      <td>https://www.notion.so/Rafael-Clemente-6db2925b...</td>\n",
       "      <td>None</td>\n",
       "      <td>Rafael Clemente</td>\n",
       "      <td>2023-10-04</td>\n",
       "      <td>1</td>\n",
       "      <td>1</td>\n",
       "    </tr>\n",
       "    <tr>\n",
       "      <th>2</th>\n",
       "      <td>30c0c3ff-265e-4d09-9e58-f21361e5200d</td>\n",
       "      <td>https://www.notion.so/Instituto-Reditus-30c0c3...</td>\n",
       "      <td>Instituto Reditus</td>\n",
       "      <td>Instituto Reditus</td>\n",
       "      <td>2022-08-02</td>\n",
       "      <td>5</td>\n",
       "      <td>6</td>\n",
       "    </tr>\n",
       "  </tbody>\n",
       "</table>\n",
       "</div>"
      ],
      "text/plain": [
       "                                     id  \\\n",
       "0  31e8adb3-ae66-4b26-9ac5-f9dd5bdd4f21   \n",
       "1  6db2925b-a3bc-4ee9-89ca-003d21204282   \n",
       "2  30c0c3ff-265e-4d09-9e58-f21361e5200d   \n",
       "\n",
       "                                                 url         page_title  \\\n",
       "0  https://www.notion.so/Beto-Sicupira-Funda-o-Br...               None   \n",
       "1  https://www.notion.so/Rafael-Clemente-6db2925b...               None   \n",
       "2  https://www.notion.so/Instituto-Reditus-30c0c3...  Instituto Reditus   \n",
       "\n",
       "                alternative_title          ds  unique_views  total_views  \n",
       "0  Beto Sicupira (Fundação Brava)  2023-10-06             1            1  \n",
       "1                 Rafael Clemente  2023-10-04             1            1  \n",
       "2               Instituto Reditus  2022-08-02             5            6  "
      ]
     },
     "execution_count": 6,
     "metadata": {},
     "output_type": "execute_result"
    }
   ],
   "source": [
    "\n",
    "df_raw = pd.read_json(r'C:\\Users\\breno\\Documents\\Programacao\\Projetos\\notion-analytics\\src\\data\\parsed\\parsed_analytics_filtered_False.json')\n",
    "df_raw.head(3)"
   ]
  },
  {
   "cell_type": "code",
   "execution_count": 7,
   "metadata": {},
   "outputs": [
    {
     "data": {
      "text/html": [
       "<div>\n",
       "<style scoped>\n",
       "    .dataframe tbody tr th:only-of-type {\n",
       "        vertical-align: middle;\n",
       "    }\n",
       "\n",
       "    .dataframe tbody tr th {\n",
       "        vertical-align: top;\n",
       "    }\n",
       "\n",
       "    .dataframe thead th {\n",
       "        text-align: right;\n",
       "    }\n",
       "</style>\n",
       "<table border=\"1\" class=\"dataframe\">\n",
       "  <thead>\n",
       "    <tr style=\"text-align: right;\">\n",
       "      <th></th>\n",
       "      <th>id</th>\n",
       "      <th>url</th>\n",
       "      <th>page_title</th>\n",
       "      <th>alternative_title</th>\n",
       "      <th>ds</th>\n",
       "      <th>unique_views</th>\n",
       "      <th>total_views</th>\n",
       "      <th>date_visited</th>\n",
       "    </tr>\n",
       "  </thead>\n",
       "  <tbody>\n",
       "    <tr>\n",
       "      <th>2</th>\n",
       "      <td>30c0c3ff-265e-4d09-9e58-f21361e5200d</td>\n",
       "      <td>https://www.notion.so/Instituto-Reditus-30c0c3...</td>\n",
       "      <td>Instituto Reditus</td>\n",
       "      <td>Instituto Reditus</td>\n",
       "      <td>2022-08-02</td>\n",
       "      <td>5</td>\n",
       "      <td>6</td>\n",
       "      <td>2022-08-02</td>\n",
       "    </tr>\n",
       "    <tr>\n",
       "      <th>1037</th>\n",
       "      <td>5eed6af8-3607-4578-bea8-7ee1203d64f4</td>\n",
       "      <td>https://www.notion.so/Assessoria-Executiva-5ee...</td>\n",
       "      <td>Assessoria Executiva</td>\n",
       "      <td>Assessoria Executiva</td>\n",
       "      <td>2022-08-02</td>\n",
       "      <td>1</td>\n",
       "      <td>2</td>\n",
       "      <td>2022-08-02</td>\n",
       "    </tr>\n",
       "    <tr>\n",
       "      <th>3180</th>\n",
       "      <td>39e0ac46-0eab-4b85-8ac8-f3a2509cab71</td>\n",
       "      <td>https://www.notion.so/Victor-Lameiras-39e0ac46...</td>\n",
       "      <td>None</td>\n",
       "      <td>Victor Lameiras</td>\n",
       "      <td>2022-08-02</td>\n",
       "      <td>1</td>\n",
       "      <td>2</td>\n",
       "      <td>2022-08-02</td>\n",
       "    </tr>\n",
       "  </tbody>\n",
       "</table>\n",
       "</div>"
      ],
      "text/plain": [
       "                                        id  \\\n",
       "2     30c0c3ff-265e-4d09-9e58-f21361e5200d   \n",
       "1037  5eed6af8-3607-4578-bea8-7ee1203d64f4   \n",
       "3180  39e0ac46-0eab-4b85-8ac8-f3a2509cab71   \n",
       "\n",
       "                                                    url            page_title  \\\n",
       "2     https://www.notion.so/Instituto-Reditus-30c0c3...     Instituto Reditus   \n",
       "1037  https://www.notion.so/Assessoria-Executiva-5ee...  Assessoria Executiva   \n",
       "3180  https://www.notion.so/Victor-Lameiras-39e0ac46...                  None   \n",
       "\n",
       "         alternative_title          ds  unique_views  total_views date_visited  \n",
       "2        Instituto Reditus  2022-08-02             5            6   2022-08-02  \n",
       "1037  Assessoria Executiva  2022-08-02             1            2   2022-08-02  \n",
       "3180       Victor Lameiras  2022-08-02             1            2   2022-08-02  "
      ]
     },
     "execution_count": 7,
     "metadata": {},
     "output_type": "execute_result"
    }
   ],
   "source": [
    "df = (\n",
    "    df_raw\n",
    "    .assign(date_visited=pd.to_datetime(df_raw['ds']))\n",
    "    .sort_values(by='date_visited')\n",
    ")\n",
    "df.head(3)"
   ]
  },
  {
   "cell_type": "code",
   "execution_count": 8,
   "metadata": {},
   "outputs": [
    {
     "data": {
      "text/plain": [
       "id                           object\n",
       "url                          object\n",
       "page_title                   object\n",
       "alternative_title            object\n",
       "ds                           object\n",
       "unique_views                  int64\n",
       "total_views                   int64\n",
       "date_visited         datetime64[ns]\n",
       "dtype: object"
      ]
     },
     "execution_count": 8,
     "metadata": {},
     "output_type": "execute_result"
    }
   ],
   "source": [
    "df.dtypes\n"
   ]
  },
  {
   "cell_type": "code",
   "execution_count": 9,
   "metadata": {},
   "outputs": [
    {
     "data": {
      "text/html": [
       "<div>\n",
       "<style scoped>\n",
       "    .dataframe tbody tr th:only-of-type {\n",
       "        vertical-align: middle;\n",
       "    }\n",
       "\n",
       "    .dataframe tbody tr th {\n",
       "        vertical-align: top;\n",
       "    }\n",
       "\n",
       "    .dataframe thead th {\n",
       "        text-align: right;\n",
       "    }\n",
       "</style>\n",
       "<table border=\"1\" class=\"dataframe\">\n",
       "  <thead>\n",
       "    <tr style=\"text-align: right;\">\n",
       "      <th></th>\n",
       "      <th>month_visited</th>\n",
       "      <th>page_title</th>\n",
       "      <th>unique_views</th>\n",
       "      <th>total_views</th>\n",
       "    </tr>\n",
       "  </thead>\n",
       "  <tbody>\n",
       "    <tr>\n",
       "      <th>0</th>\n",
       "      <td>2022-08</td>\n",
       "      <td>Alterações do site</td>\n",
       "      <td>6</td>\n",
       "      <td>9</td>\n",
       "    </tr>\n",
       "    <tr>\n",
       "      <th>1</th>\n",
       "      <td>2022-08</td>\n",
       "      <td>Assessoria Executiva</td>\n",
       "      <td>2</td>\n",
       "      <td>3</td>\n",
       "    </tr>\n",
       "    <tr>\n",
       "      <th>2</th>\n",
       "      <td>2022-08</td>\n",
       "      <td>Benchmarks</td>\n",
       "      <td>1</td>\n",
       "      <td>1</td>\n",
       "    </tr>\n",
       "    <tr>\n",
       "      <th>3</th>\n",
       "      <td>2022-08</td>\n",
       "      <td>Brainstorms - Infos doadores</td>\n",
       "      <td>6</td>\n",
       "      <td>7</td>\n",
       "    </tr>\n",
       "    <tr>\n",
       "      <th>4</th>\n",
       "      <td>2022-08</td>\n",
       "      <td>Calendário de Comunicação</td>\n",
       "      <td>8</td>\n",
       "      <td>10</td>\n",
       "    </tr>\n",
       "  </tbody>\n",
       "</table>\n",
       "</div>"
      ],
      "text/plain": [
       "  month_visited                    page_title  unique_views  total_views\n",
       "0       2022-08            Alterações do site             6            9\n",
       "1       2022-08          Assessoria Executiva             2            3\n",
       "2       2022-08                    Benchmarks             1            1\n",
       "3       2022-08  Brainstorms - Infos doadores             6            7\n",
       "4       2022-08     Calendário de Comunicação             8           10"
      ]
     },
     "execution_count": 9,
     "metadata": {},
     "output_type": "execute_result"
    }
   ],
   "source": [
    "# Aggregate the data by month\n",
    "df['month_visited'] = df['date_visited'].dt.to_period('M').astype(str)\n",
    "df_monthly = df.groupby(['month_visited', 'page_title']).agg({\n",
    "    'unique_views': 'sum',\n",
    "    'total_views': 'sum'\n",
    "}).reset_index()\n",
    "\n",
    "df_monthly.head()"
   ]
  },
  {
   "cell_type": "code",
   "execution_count": 25,
   "metadata": {},
   "outputs": [
    {
     "data": {
      "text/html": [
       "<div>\n",
       "<style scoped>\n",
       "    .dataframe tbody tr th:only-of-type {\n",
       "        vertical-align: middle;\n",
       "    }\n",
       "\n",
       "    .dataframe tbody tr th {\n",
       "        vertical-align: top;\n",
       "    }\n",
       "\n",
       "    .dataframe thead th {\n",
       "        text-align: right;\n",
       "    }\n",
       "</style>\n",
       "<table border=\"1\" class=\"dataframe\">\n",
       "  <thead>\n",
       "    <tr style=\"text-align: right;\">\n",
       "      <th></th>\n",
       "      <th>month_visited</th>\n",
       "      <th>page_title</th>\n",
       "      <th>unique_views</th>\n",
       "      <th>total_views</th>\n",
       "    </tr>\n",
       "  </thead>\n",
       "  <tbody>\n",
       "    <tr>\n",
       "      <th>724</th>\n",
       "      <td>2023-08</td>\n",
       "      <td></td>\n",
       "      <td>2</td>\n",
       "      <td>3</td>\n",
       "    </tr>\n",
       "    <tr>\n",
       "      <th>725</th>\n",
       "      <td>2023-08</td>\n",
       "      <td>Acompanhamento de Projetos</td>\n",
       "      <td>6</td>\n",
       "      <td>16</td>\n",
       "    </tr>\n",
       "    <tr>\n",
       "      <th>726</th>\n",
       "      <td>2023-08</td>\n",
       "      <td>Anotações Reunião de Área</td>\n",
       "      <td>1</td>\n",
       "      <td>1</td>\n",
       "    </tr>\n",
       "    <tr>\n",
       "      <th>727</th>\n",
       "      <td>2023-08</td>\n",
       "      <td>Assessoria Executiva</td>\n",
       "      <td>6</td>\n",
       "      <td>13</td>\n",
       "    </tr>\n",
       "    <tr>\n",
       "      <th>728</th>\n",
       "      <td>2023-08</td>\n",
       "      <td>Atas de reunião</td>\n",
       "      <td>2</td>\n",
       "      <td>3</td>\n",
       "    </tr>\n",
       "    <tr>\n",
       "      <th>...</th>\n",
       "      <td>...</td>\n",
       "      <td>...</td>\n",
       "      <td>...</td>\n",
       "      <td>...</td>\n",
       "    </tr>\n",
       "    <tr>\n",
       "      <th>957</th>\n",
       "      <td>2023-10</td>\n",
       "      <td>Sugestões de Aprendizado</td>\n",
       "      <td>1</td>\n",
       "      <td>1</td>\n",
       "    </tr>\n",
       "    <tr>\n",
       "      <th>958</th>\n",
       "      <td>2023-10</td>\n",
       "      <td>Tecnologia</td>\n",
       "      <td>3</td>\n",
       "      <td>3</td>\n",
       "    </tr>\n",
       "    <tr>\n",
       "      <th>959</th>\n",
       "      <td>2023-10</td>\n",
       "      <td>Templates</td>\n",
       "      <td>1</td>\n",
       "      <td>1</td>\n",
       "    </tr>\n",
       "    <tr>\n",
       "      <th>960</th>\n",
       "      <td>2023-10</td>\n",
       "      <td>Tutoriais</td>\n",
       "      <td>4</td>\n",
       "      <td>4</td>\n",
       "    </tr>\n",
       "    <tr>\n",
       "      <th>961</th>\n",
       "      <td>2023-10</td>\n",
       "      <td>Victor Lameiras</td>\n",
       "      <td>1</td>\n",
       "      <td>1</td>\n",
       "    </tr>\n",
       "  </tbody>\n",
       "</table>\n",
       "<p>238 rows × 4 columns</p>\n",
       "</div>"
      ],
      "text/plain": [
       "    month_visited                  page_title  unique_views  total_views\n",
       "724       2023-08                                         2            3\n",
       "725       2023-08  Acompanhamento de Projetos             6           16\n",
       "726       2023-08   Anotações Reunião de Área             1            1\n",
       "727       2023-08        Assessoria Executiva             6           13\n",
       "728       2023-08             Atas de reunião             2            3\n",
       "..            ...                         ...           ...          ...\n",
       "957       2023-10    Sugestões de Aprendizado             1            1\n",
       "958       2023-10                  Tecnologia             3            3\n",
       "959       2023-10                   Templates             1            1\n",
       "960       2023-10                   Tutoriais             4            4\n",
       "961       2023-10             Victor Lameiras             1            1\n",
       "\n",
       "[238 rows x 4 columns]"
      ]
     },
     "execution_count": 25,
     "metadata": {},
     "output_type": "execute_result"
    }
   ],
   "source": [
    "df_monthly.query('month_visited >= \"2023-08\"')"
   ]
  },
  {
   "cell_type": "code",
   "execution_count": 38,
   "metadata": {},
   "outputs": [
    {
     "data": {
      "text/plain": [
       "'2023-07-01'"
      ]
     },
     "execution_count": 38,
     "metadata": {},
     "output_type": "execute_result"
    }
   ],
   "source": [
    "from datetime import date\n",
    "from dateutil.relativedelta import relativedelta\n",
    "\n",
    "\n",
    "MONTHS_AGO = 3\n",
    "str(date.today().month - MONTHS_AGO).zfill(2)\n",
    "\n",
    "str(date.today() - relativedelta(months=3, day=1))"
   ]
  },
  {
   "cell_type": "code",
   "execution_count": 42,
   "metadata": {},
   "outputs": [
    {
     "data": {
      "text/plain": [
       "'2023-07'"
      ]
     },
     "execution_count": 42,
     "metadata": {},
     "output_type": "execute_result"
    }
   ],
   "source": [
    "date_to_filter.strftime('%Y-%m')"
   ]
  },
  {
   "cell_type": "code",
   "execution_count": 40,
   "metadata": {},
   "outputs": [
    {
     "data": {
      "text/html": [
       "<div>\n",
       "<style scoped>\n",
       "    .dataframe tbody tr th:only-of-type {\n",
       "        vertical-align: middle;\n",
       "    }\n",
       "\n",
       "    .dataframe tbody tr th {\n",
       "        vertical-align: top;\n",
       "    }\n",
       "\n",
       "    .dataframe thead th {\n",
       "        text-align: right;\n",
       "    }\n",
       "</style>\n",
       "<table border=\"1\" class=\"dataframe\">\n",
       "  <thead>\n",
       "    <tr style=\"text-align: right;\">\n",
       "      <th></th>\n",
       "      <th>month_visited</th>\n",
       "      <th>page_title</th>\n",
       "      <th>unique_views</th>\n",
       "      <th>total_views</th>\n",
       "    </tr>\n",
       "  </thead>\n",
       "  <tbody>\n",
       "    <tr>\n",
       "      <th>724</th>\n",
       "      <td>2023-08</td>\n",
       "      <td></td>\n",
       "      <td>2</td>\n",
       "      <td>3</td>\n",
       "    </tr>\n",
       "    <tr>\n",
       "      <th>725</th>\n",
       "      <td>2023-08</td>\n",
       "      <td>Acompanhamento de Projetos</td>\n",
       "      <td>6</td>\n",
       "      <td>16</td>\n",
       "    </tr>\n",
       "    <tr>\n",
       "      <th>726</th>\n",
       "      <td>2023-08</td>\n",
       "      <td>Anotações Reunião de Área</td>\n",
       "      <td>1</td>\n",
       "      <td>1</td>\n",
       "    </tr>\n",
       "    <tr>\n",
       "      <th>727</th>\n",
       "      <td>2023-08</td>\n",
       "      <td>Assessoria Executiva</td>\n",
       "      <td>6</td>\n",
       "      <td>13</td>\n",
       "    </tr>\n",
       "    <tr>\n",
       "      <th>728</th>\n",
       "      <td>2023-08</td>\n",
       "      <td>Atas de reunião</td>\n",
       "      <td>2</td>\n",
       "      <td>3</td>\n",
       "    </tr>\n",
       "    <tr>\n",
       "      <th>...</th>\n",
       "      <td>...</td>\n",
       "      <td>...</td>\n",
       "      <td>...</td>\n",
       "      <td>...</td>\n",
       "    </tr>\n",
       "    <tr>\n",
       "      <th>957</th>\n",
       "      <td>2023-10</td>\n",
       "      <td>Sugestões de Aprendizado</td>\n",
       "      <td>1</td>\n",
       "      <td>1</td>\n",
       "    </tr>\n",
       "    <tr>\n",
       "      <th>958</th>\n",
       "      <td>2023-10</td>\n",
       "      <td>Tecnologia</td>\n",
       "      <td>3</td>\n",
       "      <td>3</td>\n",
       "    </tr>\n",
       "    <tr>\n",
       "      <th>959</th>\n",
       "      <td>2023-10</td>\n",
       "      <td>Templates</td>\n",
       "      <td>1</td>\n",
       "      <td>1</td>\n",
       "    </tr>\n",
       "    <tr>\n",
       "      <th>960</th>\n",
       "      <td>2023-10</td>\n",
       "      <td>Tutoriais</td>\n",
       "      <td>4</td>\n",
       "      <td>4</td>\n",
       "    </tr>\n",
       "    <tr>\n",
       "      <th>961</th>\n",
       "      <td>2023-10</td>\n",
       "      <td>Victor Lameiras</td>\n",
       "      <td>1</td>\n",
       "      <td>1</td>\n",
       "    </tr>\n",
       "  </tbody>\n",
       "</table>\n",
       "<p>238 rows × 4 columns</p>\n",
       "</div>"
      ],
      "text/plain": [
       "    month_visited                  page_title  unique_views  total_views\n",
       "724       2023-08                                         2            3\n",
       "725       2023-08  Acompanhamento de Projetos             6           16\n",
       "726       2023-08   Anotações Reunião de Área             1            1\n",
       "727       2023-08        Assessoria Executiva             6           13\n",
       "728       2023-08             Atas de reunião             2            3\n",
       "..            ...                         ...           ...          ...\n",
       "957       2023-10    Sugestões de Aprendizado             1            1\n",
       "958       2023-10                  Tecnologia             3            3\n",
       "959       2023-10                   Templates             1            1\n",
       "960       2023-10                   Tutoriais             4            4\n",
       "961       2023-10             Victor Lameiras             1            1\n",
       "\n",
       "[238 rows x 4 columns]"
      ]
     },
     "execution_count": 40,
     "metadata": {},
     "output_type": "execute_result"
    }
   ],
   "source": [
    "df_monthly.query(f'month_visited >= \"{date_to_filter}\"')"
   ]
  },
  {
   "cell_type": "code",
   "execution_count": 44,
   "metadata": {},
   "outputs": [
    {
     "data": {
      "application/vnd.plotly.v1+json": {
       "config": {
        "plotlyServerURL": "https://plot.ly"
       },
       "data": [
        {
         "hovertemplate": "page_title=Instituto Reditus<br>month_visited=%{x}<br>unique_views=%{y}<extra></extra>",
         "legendgroup": "Instituto Reditus",
         "line": {
          "color": "#636efa",
          "dash": "solid"
         },
         "marker": {
          "symbol": "circle"
         },
         "mode": "lines",
         "name": "Instituto Reditus",
         "orientation": "v",
         "showlegend": true,
         "type": "scatter",
         "x": [
          "2022-08",
          "2022-09",
          "2022-10",
          "2022-11",
          "2022-12",
          "2023-01",
          "2023-02",
          "2023-03",
          "2023-04",
          "2023-05",
          "2023-06",
          "2023-07",
          "2023-08",
          "2023-09",
          "2023-10"
         ],
         "xaxis": "x",
         "y": [
          34,
          38,
          40,
          34,
          27,
          64,
          60,
          66,
          39,
          45,
          20,
          48,
          48,
          46,
          32
         ],
         "yaxis": "y"
        },
        {
         "hovertemplate": "page_title=Gestão<br>month_visited=%{x}<br>unique_views=%{y}<extra></extra>",
         "legendgroup": "Gestão",
         "line": {
          "color": "#EF553B",
          "dash": "solid"
         },
         "marker": {
          "symbol": "circle"
         },
         "mode": "lines",
         "name": "Gestão",
         "orientation": "v",
         "showlegend": true,
         "type": "scatter",
         "x": [
          "2022-08",
          "2022-09",
          "2022-10",
          "2022-11",
          "2022-12",
          "2023-01",
          "2023-02",
          "2023-03",
          "2023-04",
          "2023-05",
          "2023-06",
          "2023-07",
          "2023-08",
          "2023-09",
          "2023-10"
         ],
         "xaxis": "x",
         "y": [
          1,
          1,
          7,
          4,
          6,
          8,
          5,
          7,
          7,
          9,
          8,
          13,
          24,
          12,
          12
         ],
         "yaxis": "y"
        },
        {
         "hovertemplate": "page_title=Radar de execução<br>month_visited=%{x}<br>unique_views=%{y}<extra></extra>",
         "legendgroup": "Radar de execução",
         "line": {
          "color": "#00cc96",
          "dash": "solid"
         },
         "marker": {
          "symbol": "circle"
         },
         "mode": "lines",
         "name": "Radar de execução",
         "orientation": "v",
         "showlegend": true,
         "type": "scatter",
         "x": [
          "2023-04",
          "2023-05",
          "2023-06",
          "2023-07",
          "2023-08",
          "2023-09",
          "2023-10"
         ],
         "xaxis": "x",
         "y": [
          2,
          10,
          7,
          10,
          16,
          18,
          9
         ],
         "yaxis": "y"
        },
        {
         "hovertemplate": "page_title=Relacionamentos<br>month_visited=%{x}<br>unique_views=%{y}<extra></extra>",
         "legendgroup": "Relacionamentos",
         "line": {
          "color": "#ab63fa",
          "dash": "solid"
         },
         "marker": {
          "symbol": "circle"
         },
         "mode": "lines",
         "name": "Relacionamentos",
         "orientation": "v",
         "showlegend": true,
         "type": "scatter",
         "x": [
          "2022-08",
          "2022-09",
          "2022-10",
          "2022-11",
          "2023-01",
          "2023-02",
          "2023-03",
          "2023-04",
          "2023-05",
          "2023-06",
          "2023-07",
          "2023-08",
          "2023-09",
          "2023-10"
         ],
         "xaxis": "x",
         "y": [
          12,
          5,
          8,
          2,
          3,
          16,
          24,
          13,
          14,
          6,
          23,
          9,
          13,
          6
         ],
         "yaxis": "y"
        },
        {
         "hovertemplate": "page_title=Captação Personalizada<br>month_visited=%{x}<br>unique_views=%{y}<extra></extra>",
         "legendgroup": "Captação Personalizada",
         "line": {
          "color": "#FFA15A",
          "dash": "solid"
         },
         "marker": {
          "symbol": "circle"
         },
         "mode": "lines",
         "name": "Captação Personalizada",
         "orientation": "v",
         "showlegend": true,
         "type": "scatter",
         "x": [
          "2022-08",
          "2022-09",
          "2022-10",
          "2022-11",
          "2022-12",
          "2023-01",
          "2023-02",
          "2023-03",
          "2023-04",
          "2023-05",
          "2023-06",
          "2023-07",
          "2023-08",
          "2023-09",
          "2023-10"
         ],
         "xaxis": "x",
         "y": [
          14,
          4,
          10,
          3,
          7,
          10,
          36,
          32,
          19,
          20,
          18,
          14,
          12,
          7,
          5
         ],
         "yaxis": "y"
        },
        {
         "hovertemplate": "page_title=Marketing<br>month_visited=%{x}<br>unique_views=%{y}<extra></extra>",
         "legendgroup": "Marketing",
         "line": {
          "color": "#19d3f3",
          "dash": "solid"
         },
         "marker": {
          "symbol": "circle"
         },
         "mode": "lines",
         "name": "Marketing",
         "orientation": "v",
         "showlegend": true,
         "type": "scatter",
         "x": [
          "2022-08",
          "2022-09",
          "2022-10",
          "2022-11",
          "2022-12",
          "2023-01",
          "2023-02",
          "2023-03",
          "2023-04",
          "2023-05",
          "2023-06",
          "2023-07",
          "2023-08",
          "2023-09",
          "2023-10"
         ],
         "xaxis": "x",
         "y": [
          3,
          4,
          2,
          7,
          3,
          2,
          3,
          3,
          1,
          5,
          2,
          5,
          9,
          4,
          5
         ],
         "yaxis": "y"
        },
        {
         "hovertemplate": "page_title=Régua de comunicação<br>month_visited=%{x}<br>unique_views=%{y}<extra></extra>",
         "legendgroup": "Régua de comunicação",
         "line": {
          "color": "#FF6692",
          "dash": "solid"
         },
         "marker": {
          "symbol": "circle"
         },
         "mode": "lines",
         "name": "Régua de comunicação",
         "orientation": "v",
         "showlegend": true,
         "type": "scatter",
         "x": [
          "2022-08",
          "2022-09",
          "2022-10",
          "2022-11",
          "2023-01",
          "2023-02",
          "2023-03",
          "2023-04",
          "2023-05",
          "2023-06",
          "2023-07",
          "2023-08",
          "2023-09",
          "2023-10"
         ],
         "xaxis": "x",
         "y": [
          2,
          1,
          2,
          1,
          7,
          21,
          12,
          6,
          4,
          3,
          7,
          5,
          9,
          1
         ],
         "yaxis": "y"
        },
        {
         "hovertemplate": "page_title=Projetos<br>month_visited=%{x}<br>unique_views=%{y}<extra></extra>",
         "legendgroup": "Projetos",
         "line": {
          "color": "#B6E880",
          "dash": "solid"
         },
         "marker": {
          "symbol": "circle"
         },
         "mode": "lines",
         "name": "Projetos",
         "orientation": "v",
         "showlegend": true,
         "type": "scatter",
         "x": [
          "2022-08",
          "2022-09",
          "2022-10",
          "2022-11",
          "2022-12",
          "2023-01",
          "2023-02",
          "2023-03",
          "2023-04",
          "2023-05",
          "2023-06",
          "2023-07",
          "2023-08",
          "2023-09",
          "2023-10"
         ],
         "xaxis": "x",
         "y": [
          2,
          7,
          12,
          4,
          4,
          16,
          12,
          19,
          6,
          2,
          8,
          7,
          9,
          2,
          2
         ],
         "yaxis": "y"
        },
        {
         "hovertemplate": "page_title=Comunicação<br>month_visited=%{x}<br>unique_views=%{y}<extra></extra>",
         "legendgroup": "Comunicação",
         "line": {
          "color": "#FF97FF",
          "dash": "solid"
         },
         "marker": {
          "symbol": "circle"
         },
         "mode": "lines",
         "name": "Comunicação",
         "orientation": "v",
         "showlegend": true,
         "type": "scatter",
         "x": [
          "2022-08",
          "2022-09",
          "2022-10",
          "2022-11",
          "2022-12",
          "2023-01",
          "2023-02",
          "2023-03",
          "2023-04",
          "2023-05",
          "2023-06",
          "2023-07",
          "2023-08",
          "2023-09",
          "2023-10"
         ],
         "xaxis": "x",
         "y": [
          8,
          5,
          3,
          6,
          6,
          16,
          14,
          10,
          5,
          12,
          3,
          3,
          5,
          8,
          4
         ],
         "yaxis": "y"
        },
        {
         "hovertemplate": "page_title=Reditus Talk<br>month_visited=%{x}<br>unique_views=%{y}<extra></extra>",
         "legendgroup": "Reditus Talk",
         "line": {
          "color": "#FECB52",
          "dash": "solid"
         },
         "marker": {
          "symbol": "circle"
         },
         "mode": "lines",
         "name": "Reditus Talk",
         "orientation": "v",
         "showlegend": true,
         "type": "scatter",
         "x": [
          "2022-08",
          "2022-09",
          "2022-10",
          "2022-11",
          "2022-12",
          "2023-01",
          "2023-02",
          "2023-03",
          "2023-04",
          "2023-05",
          "2023-06",
          "2023-07",
          "2023-08",
          "2023-09",
          "2023-10"
         ],
         "xaxis": "x",
         "y": [
          16,
          9,
          10,
          6,
          1,
          1,
          3,
          4,
          4,
          5,
          7,
          8,
          1,
          7,
          4
         ],
         "yaxis": "y"
        },
        {
         "hovertemplate": "page_title=OKRs Relacionamentos 23.1<br>month_visited=%{x}<br>unique_views=%{y}<extra></extra>",
         "legendgroup": "OKRs Relacionamentos 23.1",
         "line": {
          "color": "#636efa",
          "dash": "solid"
         },
         "marker": {
          "symbol": "circle"
         },
         "mode": "lines",
         "name": "OKRs Relacionamentos 23.1",
         "orientation": "v",
         "showlegend": true,
         "type": "scatter",
         "x": [
          "2023-04",
          "2023-05",
          "2023-06",
          "2023-07",
          "2023-08",
          "2023-09"
         ],
         "xaxis": "x",
         "y": [
          7,
          5,
          3,
          15,
          1,
          3
         ],
         "yaxis": "y"
        },
        {
         "hovertemplate": "page_title=Membros<br>month_visited=%{x}<br>unique_views=%{y}<extra></extra>",
         "legendgroup": "Membros",
         "line": {
          "color": "#EF553B",
          "dash": "solid"
         },
         "marker": {
          "symbol": "circle"
         },
         "mode": "lines",
         "name": "Membros",
         "orientation": "v",
         "showlegend": true,
         "type": "scatter",
         "x": [
          "2022-08",
          "2022-09",
          "2022-10",
          "2022-11",
          "2022-12",
          "2023-01",
          "2023-02",
          "2023-03",
          "2023-04",
          "2023-05",
          "2023-06",
          "2023-07",
          "2023-08",
          "2023-09",
          "2023-10"
         ],
         "xaxis": "x",
         "y": [
          5,
          2,
          3,
          3,
          5,
          10,
          6,
          10,
          2,
          2,
          1,
          3,
          9,
          5,
          2
         ],
         "yaxis": "y"
        },
        {
         "hovertemplate": "page_title=Interações Doadores + Doadores<br>month_visited=%{x}<br>unique_views=%{y}<extra></extra>",
         "legendgroup": "Interações Doadores + Doadores",
         "line": {
          "color": "#00cc96",
          "dash": "solid"
         },
         "marker": {
          "symbol": "circle"
         },
         "mode": "lines",
         "name": "Interações Doadores + Doadores",
         "orientation": "v",
         "showlegend": true,
         "type": "scatter",
         "x": [
          "2022-08",
          "2022-09",
          "2022-10",
          "2022-11",
          "2023-02",
          "2023-03",
          "2023-04",
          "2023-05",
          "2023-06",
          "2023-07",
          "2023-08",
          "2023-09",
          "2023-10"
         ],
         "xaxis": "x",
         "y": [
          10,
          4,
          5,
          3,
          3,
          8,
          4,
          5,
          5,
          7,
          1,
          7,
          4
         ],
         "yaxis": "y"
        },
        {
         "hovertemplate": "page_title=Gestão de processos<br>month_visited=%{x}<br>unique_views=%{y}<extra></extra>",
         "legendgroup": "Gestão de processos",
         "line": {
          "color": "#ab63fa",
          "dash": "solid"
         },
         "marker": {
          "symbol": "circle"
         },
         "mode": "lines",
         "name": "Gestão de processos",
         "orientation": "v",
         "showlegend": true,
         "type": "scatter",
         "x": [
          "2023-07",
          "2023-08",
          "2023-09",
          "2023-10"
         ],
         "xaxis": "x",
         "y": [
          4,
          5,
          4,
          5
         ],
         "yaxis": "y"
        },
        {
         "hovertemplate": "page_title=Rituais<br>month_visited=%{x}<br>unique_views=%{y}<extra></extra>",
         "legendgroup": "Rituais",
         "line": {
          "color": "#FFA15A",
          "dash": "solid"
         },
         "marker": {
          "symbol": "circle"
         },
         "mode": "lines",
         "name": "Rituais",
         "orientation": "v",
         "showlegend": true,
         "type": "scatter",
         "x": [
          "2022-08",
          "2022-09",
          "2022-10",
          "2022-11",
          "2022-12",
          "2023-01",
          "2023-02",
          "2023-03",
          "2023-04",
          "2023-05",
          "2023-06",
          "2023-07",
          "2023-08",
          "2023-09",
          "2023-10"
         ],
         "xaxis": "x",
         "y": [
          1,
          2,
          1,
          1,
          3,
          2,
          2,
          4,
          6,
          5,
          3,
          6,
          7,
          2,
          2
         ],
         "yaxis": "y"
        },
        {
         "hovertemplate": "page_title=Materiais<br>month_visited=%{x}<br>unique_views=%{y}<extra></extra>",
         "legendgroup": "Materiais",
         "line": {
          "color": "#19d3f3",
          "dash": "solid"
         },
         "marker": {
          "symbol": "circle"
         },
         "mode": "lines",
         "name": "Materiais",
         "orientation": "v",
         "showlegend": true,
         "type": "scatter",
         "x": [
          "2023-01",
          "2023-02",
          "2023-03",
          "2023-04",
          "2023-05",
          "2023-06",
          "2023-07",
          "2023-08",
          "2023-09",
          "2023-10"
         ],
         "xaxis": "x",
         "y": [
          13,
          16,
          20,
          5,
          14,
          10,
          5,
          6,
          5,
          1
         ],
         "yaxis": "y"
        },
        {
         "hovertemplate": "page_title=Tecnologia<br>month_visited=%{x}<br>unique_views=%{y}<extra></extra>",
         "legendgroup": "Tecnologia",
         "line": {
          "color": "#FF6692",
          "dash": "solid"
         },
         "marker": {
          "symbol": "circle"
         },
         "mode": "lines",
         "name": "Tecnologia",
         "orientation": "v",
         "showlegend": true,
         "type": "scatter",
         "x": [
          "2022-12",
          "2023-01",
          "2023-02",
          "2023-03",
          "2023-04",
          "2023-06",
          "2023-07",
          "2023-08",
          "2023-09",
          "2023-10"
         ],
         "xaxis": "x",
         "y": [
          1,
          1,
          2,
          2,
          2,
          1,
          2,
          7,
          4,
          3
         ],
         "yaxis": "y"
        },
        {
         "hovertemplate": "page_title=Processos Internos<br>month_visited=%{x}<br>unique_views=%{y}<extra></extra>",
         "legendgroup": "Processos Internos",
         "line": {
          "color": "#B6E880",
          "dash": "solid"
         },
         "marker": {
          "symbol": "circle"
         },
         "mode": "lines",
         "name": "Processos Internos",
         "orientation": "v",
         "showlegend": true,
         "type": "scatter",
         "x": [
          "2022-09",
          "2022-10",
          "2022-11",
          "2022-12",
          "2023-03",
          "2023-04",
          "2023-05",
          "2023-06",
          "2023-07",
          "2023-08",
          "2023-09",
          "2023-10"
         ],
         "xaxis": "x",
         "y": [
          1,
          2,
          1,
          1,
          1,
          3,
          5,
          3,
          3,
          5,
          2,
          6
         ],
         "yaxis": "y"
        },
        {
         "hovertemplate": "page_title=Tutoriais<br>month_visited=%{x}<br>unique_views=%{y}<extra></extra>",
         "legendgroup": "Tutoriais",
         "line": {
          "color": "#FF97FF",
          "dash": "solid"
         },
         "marker": {
          "symbol": "circle"
         },
         "mode": "lines",
         "name": "Tutoriais",
         "orientation": "v",
         "showlegend": true,
         "type": "scatter",
         "x": [
          "2023-02",
          "2023-03",
          "2023-04",
          "2023-05",
          "2023-06",
          "2023-07",
          "2023-08",
          "2023-09",
          "2023-10"
         ],
         "xaxis": "x",
         "y": [
          4,
          11,
          6,
          8,
          4,
          8,
          2,
          2,
          4
         ],
         "yaxis": "y"
        },
        {
         "hovertemplate": "page_title=Radar geral de execução<br>month_visited=%{x}<br>unique_views=%{y}<extra></extra>",
         "legendgroup": "Radar geral de execução",
         "line": {
          "color": "#FECB52",
          "dash": "solid"
         },
         "marker": {
          "symbol": "circle"
         },
         "mode": "lines",
         "name": "Radar geral de execução",
         "orientation": "v",
         "showlegend": true,
         "type": "scatter",
         "x": [
          "2023-02",
          "2023-03",
          "2023-04",
          "2023-05",
          "2023-06",
          "2023-07",
          "2023-08",
          "2023-09",
          "2023-10"
         ],
         "xaxis": "x",
         "y": [
          5,
          13,
          8,
          9,
          2,
          6,
          3,
          3,
          2
         ],
         "yaxis": "y"
        },
        {
         "hovertemplate": "page_title=OKRs do Reditus<br>month_visited=%{x}<br>unique_views=%{y}<extra></extra>",
         "legendgroup": "OKRs do Reditus",
         "line": {
          "color": "#636efa",
          "dash": "solid"
         },
         "marker": {
          "symbol": "circle"
         },
         "mode": "lines",
         "name": "OKRs do Reditus",
         "orientation": "v",
         "showlegend": true,
         "type": "scatter",
         "x": [
          "2022-09",
          "2022-10",
          "2022-12",
          "2023-01",
          "2023-03",
          "2023-04",
          "2023-05",
          "2023-06",
          "2023-07",
          "2023-08",
          "2023-09"
         ],
         "xaxis": "x",
         "y": [
          1,
          1,
          3,
          1,
          5,
          3,
          7,
          2,
          3,
          6,
          4
         ],
         "yaxis": "y"
        },
        {
         "hovertemplate": "page_title=Gente <br>month_visited=%{x}<br>unique_views=%{y}<extra></extra>",
         "legendgroup": "Gente ",
         "line": {
          "color": "#EF553B",
          "dash": "solid"
         },
         "marker": {
          "symbol": "circle"
         },
         "mode": "lines",
         "name": "Gente ",
         "orientation": "v",
         "showlegend": true,
         "type": "scatter",
         "x": [
          "2022-08",
          "2022-09",
          "2022-10",
          "2022-11",
          "2022-12",
          "2023-02",
          "2023-03",
          "2023-04",
          "2023-05",
          "2023-06",
          "2023-08",
          "2023-09",
          "2023-10"
         ],
         "xaxis": "x",
         "y": [
          1,
          1,
          7,
          4,
          2,
          5,
          2,
          4,
          1,
          1,
          6,
          4,
          3
         ],
         "yaxis": "y"
        },
        {
         "hovertemplate": "page_title=Acompanhamento de Projetos<br>month_visited=%{x}<br>unique_views=%{y}<extra></extra>",
         "legendgroup": "Acompanhamento de Projetos",
         "line": {
          "color": "#00cc96",
          "dash": "solid"
         },
         "marker": {
          "symbol": "circle"
         },
         "mode": "lines",
         "name": "Acompanhamento de Projetos",
         "orientation": "v",
         "showlegend": true,
         "type": "scatter",
         "x": [
          "2022-09",
          "2022-10",
          "2022-11",
          "2022-12",
          "2023-01",
          "2023-02",
          "2023-03",
          "2023-04",
          "2023-05",
          "2023-06",
          "2023-07",
          "2023-08",
          "2023-09",
          "2023-10"
         ],
         "xaxis": "x",
         "y": [
          11,
          11,
          3,
          2,
          17,
          9,
          15,
          3,
          3,
          3,
          3,
          6,
          2,
          1
         ],
         "yaxis": "y"
        },
        {
         "hovertemplate": "page_title=Reunião Geral (RG)<br>month_visited=%{x}<br>unique_views=%{y}<extra></extra>",
         "legendgroup": "Reunião Geral (RG)",
         "line": {
          "color": "#ab63fa",
          "dash": "solid"
         },
         "marker": {
          "symbol": "circle"
         },
         "mode": "lines",
         "name": "Reunião Geral (RG)",
         "orientation": "v",
         "showlegend": true,
         "type": "scatter",
         "x": [
          "2022-10",
          "2022-11",
          "2022-12",
          "2023-01",
          "2023-02",
          "2023-03",
          "2023-04",
          "2023-05",
          "2023-06",
          "2023-07",
          "2023-08",
          "2023-09",
          "2023-10"
         ],
         "xaxis": "x",
         "y": [
          3,
          10,
          8,
          12,
          3,
          1,
          8,
          4,
          5,
          2,
          7,
          1,
          2
         ],
         "yaxis": "y"
        },
        {
         "hovertemplate": "page_title=| bolsa reditus<br>month_visited=%{x}<br>unique_views=%{y}<extra></extra>",
         "legendgroup": "| bolsa reditus",
         "line": {
          "color": "#FFA15A",
          "dash": "solid"
         },
         "marker": {
          "symbol": "circle"
         },
         "mode": "lines",
         "name": "| bolsa reditus",
         "orientation": "v",
         "showlegend": true,
         "type": "scatter",
         "x": [
          "2023-06",
          "2023-07",
          "2023-08"
         ],
         "xaxis": "x",
         "y": [
          13,
          7,
          4
         ],
         "yaxis": "y"
        },
        {
         "hovertemplate": "page_title=Assessoria Executiva<br>month_visited=%{x}<br>unique_views=%{y}<extra></extra>",
         "legendgroup": "Assessoria Executiva",
         "line": {
          "color": "#19d3f3",
          "dash": "solid"
         },
         "marker": {
          "symbol": "circle"
         },
         "mode": "lines",
         "name": "Assessoria Executiva",
         "orientation": "v",
         "showlegend": true,
         "type": "scatter",
         "x": [
          "2022-08",
          "2022-09",
          "2022-10",
          "2022-12",
          "2023-01",
          "2023-02",
          "2023-03",
          "2023-04",
          "2023-07",
          "2023-08",
          "2023-09",
          "2023-10"
         ],
         "xaxis": "x",
         "y": [
          2,
          1,
          2,
          3,
          4,
          1,
          3,
          4,
          2,
          6,
          2,
          1
         ],
         "yaxis": "y"
        },
        {
         "hovertemplate": "page_title=Edição 2023.1<br>month_visited=%{x}<br>unique_views=%{y}<extra></extra>",
         "legendgroup": "Edição 2023.1",
         "line": {
          "color": "#FF6692",
          "dash": "solid"
         },
         "marker": {
          "symbol": "circle"
         },
         "mode": "lines",
         "name": "Edição 2023.1",
         "orientation": "v",
         "showlegend": true,
         "type": "scatter",
         "x": [
          "2023-03",
          "2023-04",
          "2023-05",
          "2023-06",
          "2023-07",
          "2023-09",
          "2023-10"
         ],
         "xaxis": "x",
         "y": [
          3,
          6,
          4,
          6,
          6,
          3,
          2
         ],
         "yaxis": "y"
        },
        {
         "hovertemplate": "page_title=Interações Doadores + Alunos<br>month_visited=%{x}<br>unique_views=%{y}<extra></extra>",
         "legendgroup": "Interações Doadores + Alunos",
         "line": {
          "color": "#B6E880",
          "dash": "solid"
         },
         "marker": {
          "symbol": "circle"
         },
         "mode": "lines",
         "name": "Interações Doadores + Alunos",
         "orientation": "v",
         "showlegend": true,
         "type": "scatter",
         "x": [
          "2022-08",
          "2022-10",
          "2022-11",
          "2023-03",
          "2023-04",
          "2023-07",
          "2023-08",
          "2023-09",
          "2023-10"
         ],
         "xaxis": "x",
         "y": [
          1,
          1,
          1,
          3,
          2,
          5,
          1,
          3,
          1
         ],
         "yaxis": "y"
        },
        {
         "hovertemplate": "page_title=Reditus Talks Presencial 23.2<br>month_visited=%{x}<br>unique_views=%{y}<extra></extra>",
         "legendgroup": "Reditus Talks Presencial 23.2",
         "line": {
          "color": "#FF97FF",
          "dash": "solid"
         },
         "marker": {
          "symbol": "circle"
         },
         "mode": "lines",
         "name": "Reditus Talks Presencial 23.2",
         "orientation": "v",
         "showlegend": true,
         "type": "scatter",
         "x": [
          "2023-09",
          "2023-10"
         ],
         "xaxis": "x",
         "y": [
          4,
          6
         ],
         "yaxis": "y"
        },
        {
         "hovertemplate": "page_title=Edição 2022<br>month_visited=%{x}<br>unique_views=%{y}<extra></extra>",
         "legendgroup": "Edição 2022",
         "line": {
          "color": "#FECB52",
          "dash": "solid"
         },
         "marker": {
          "symbol": "circle"
         },
         "mode": "lines",
         "name": "Edição 2022",
         "orientation": "v",
         "showlegend": true,
         "type": "scatter",
         "x": [
          "2023-03",
          "2023-05",
          "2023-06",
          "2023-07",
          "2023-09",
          "2023-10"
         ],
         "xaxis": "x",
         "y": [
          3,
          1,
          1,
          5,
          2,
          2
         ],
         "yaxis": "y"
        },
        {
         "hovertemplate": "page_title=Como Organizar o PEIR (Checklist)<br>month_visited=%{x}<br>unique_views=%{y}<extra></extra>",
         "legendgroup": "Como Organizar o PEIR (Checklist)",
         "line": {
          "color": "#636efa",
          "dash": "solid"
         },
         "marker": {
          "symbol": "circle"
         },
         "mode": "lines",
         "name": "Como Organizar o PEIR (Checklist)",
         "orientation": "v",
         "showlegend": true,
         "type": "scatter",
         "x": [
          "2023-03",
          "2023-04",
          "2023-07",
          "2023-08",
          "2023-09",
          "2023-10"
         ],
         "xaxis": "x",
         "y": [
          5,
          2,
          6,
          1,
          1,
          1
         ],
         "yaxis": "y"
        },
        {
         "hovertemplate": "page_title=Sou de outra área, o que preciso saber?<br>month_visited=%{x}<br>unique_views=%{y}<extra></extra>",
         "legendgroup": "Sou de outra área, o que preciso saber?",
         "line": {
          "color": "#EF553B",
          "dash": "solid"
         },
         "marker": {
          "symbol": "circle"
         },
         "mode": "lines",
         "name": "Sou de outra área, o que preciso saber?",
         "orientation": "v",
         "showlegend": true,
         "type": "scatter",
         "x": [
          "2022-08",
          "2022-09",
          "2022-10",
          "2022-11",
          "2022-12",
          "2023-01",
          "2023-02",
          "2023-04",
          "2023-05",
          "2023-08",
          "2023-09",
          "2023-10"
         ],
         "xaxis": "x",
         "y": [
          5,
          2,
          2,
          3,
          1,
          4,
          2,
          3,
          3,
          4,
          2,
          3
         ],
         "yaxis": "y"
        },
        {
         "hovertemplate": "page_title=Sou de outra área, o que posso precisar de Gestão?<br>month_visited=%{x}<br>unique_views=%{y}<extra></extra>",
         "legendgroup": "Sou de outra área, o que posso precisar de Gestão?",
         "line": {
          "color": "#00cc96",
          "dash": "solid"
         },
         "marker": {
          "symbol": "circle"
         },
         "mode": "lines",
         "name": "Sou de outra área, o que posso precisar de Gestão?",
         "orientation": "v",
         "showlegend": true,
         "type": "scatter",
         "x": [
          "2022-08",
          "2022-11",
          "2022-12",
          "2023-01",
          "2023-03",
          "2023-04",
          "2023-05",
          "2023-06",
          "2023-07",
          "2023-08",
          "2023-09",
          "2023-10"
         ],
         "xaxis": "x",
         "y": [
          1,
          1,
          1,
          3,
          3,
          3,
          4,
          1,
          2,
          2,
          1,
          4
         ],
         "yaxis": "y"
        },
        {
         "hovertemplate": "page_title=Organograma<br>month_visited=%{x}<br>unique_views=%{y}<extra></extra>",
         "legendgroup": "Organograma",
         "line": {
          "color": "#ab63fa",
          "dash": "solid"
         },
         "marker": {
          "symbol": "circle"
         },
         "mode": "lines",
         "name": "Organograma",
         "orientation": "v",
         "showlegend": true,
         "type": "scatter",
         "x": [
          "2022-08",
          "2022-10",
          "2022-11",
          "2022-12",
          "2023-01",
          "2023-02",
          "2023-03",
          "2023-04",
          "2023-05",
          "2023-06",
          "2023-07",
          "2023-08",
          "2023-09",
          "2023-10"
         ],
         "xaxis": "x",
         "y": [
          1,
          6,
          2,
          4,
          6,
          2,
          5,
          2,
          5,
          1,
          2,
          1,
          3,
          3
         ],
         "yaxis": "y"
        },
        {
         "hovertemplate": "page_title=Organograma Estado Final pós-REORG<br>month_visited=%{x}<br>unique_views=%{y}<extra></extra>",
         "legendgroup": "Organograma Estado Final pós-REORG",
         "line": {
          "color": "#FFA15A",
          "dash": "solid"
         },
         "marker": {
          "symbol": "circle"
         },
         "mode": "lines",
         "name": "Organograma Estado Final pós-REORG",
         "orientation": "v",
         "showlegend": true,
         "type": "scatter",
         "x": [
          "2022-10",
          "2022-11",
          "2022-12",
          "2023-01",
          "2023-02",
          "2023-03",
          "2023-04",
          "2023-05",
          "2023-07",
          "2023-09",
          "2023-10"
         ],
         "xaxis": "x",
         "y": [
          4,
          2,
          5,
          3,
          2,
          3,
          2,
          3,
          1,
          4,
          3
         ],
         "yaxis": "y"
        },
        {
         "hovertemplate": "page_title=Handover de Point Person<br>month_visited=%{x}<br>unique_views=%{y}<extra></extra>",
         "legendgroup": "Handover de Point Person",
         "line": {
          "color": "#19d3f3",
          "dash": "solid"
         },
         "marker": {
          "symbol": "circle"
         },
         "mode": "lines",
         "name": "Handover de Point Person",
         "orientation": "v",
         "showlegend": true,
         "type": "scatter",
         "x": [
          "2023-03",
          "2023-04",
          "2023-07",
          "2023-08",
          "2023-09"
         ],
         "xaxis": "x",
         "y": [
          4,
          2,
          4,
          1,
          3
         ],
         "yaxis": "y"
        },
        {
         "hovertemplate": "page_title=Planejamento Estratégico (PEIR)<br>month_visited=%{x}<br>unique_views=%{y}<extra></extra>",
         "legendgroup": "Planejamento Estratégico (PEIR)",
         "line": {
          "color": "#FF6692",
          "dash": "solid"
         },
         "marker": {
          "symbol": "circle"
         },
         "mode": "lines",
         "name": "Planejamento Estratégico (PEIR)",
         "orientation": "v",
         "showlegend": true,
         "type": "scatter",
         "x": [
          "2022-08",
          "2022-12",
          "2023-03",
          "2023-04",
          "2023-05",
          "2023-07",
          "2023-08",
          "2023-09",
          "2023-10"
         ],
         "xaxis": "x",
         "y": [
          2,
          1,
          4,
          3,
          2,
          4,
          2,
          1,
          1
         ],
         "yaxis": "y"
        },
        {
         "hovertemplate": "page_title=Princípios de Trabalho<br>month_visited=%{x}<br>unique_views=%{y}<extra></extra>",
         "legendgroup": "Princípios de Trabalho",
         "line": {
          "color": "#B6E880",
          "dash": "solid"
         },
         "marker": {
          "symbol": "circle"
         },
         "mode": "lines",
         "name": "Princípios de Trabalho",
         "orientation": "v",
         "showlegend": true,
         "type": "scatter",
         "x": [
          "2022-10",
          "2022-12",
          "2023-01",
          "2023-02",
          "2023-03",
          "2023-04",
          "2023-07",
          "2023-08",
          "2023-09"
         ],
         "xaxis": "x",
         "y": [
          2,
          3,
          1,
          3,
          5,
          1,
          1,
          4,
          3
         ],
         "yaxis": "y"
        },
        {
         "hovertemplate": "page_title=O que fazemos? <br>month_visited=%{x}<br>unique_views=%{y}<extra></extra>",
         "legendgroup": "O que fazemos? ",
         "line": {
          "color": "#FF97FF",
          "dash": "solid"
         },
         "marker": {
          "symbol": "circle"
         },
         "mode": "lines",
         "name": "O que fazemos? ",
         "orientation": "v",
         "showlegend": true,
         "type": "scatter",
         "x": [
          "2022-08",
          "2022-09",
          "2022-10",
          "2022-11",
          "2022-12",
          "2023-01",
          "2023-02",
          "2023-03",
          "2023-05",
          "2023-07",
          "2023-08",
          "2023-09"
         ],
         "xaxis": "x",
         "y": [
          3,
          1,
          1,
          1,
          2,
          2,
          8,
          1,
          2,
          1,
          2,
          5
         ],
         "yaxis": "y"
        },
        {
         "hovertemplate": "page_title=Bolsa Reditus<br>month_visited=%{x}<br>unique_views=%{y}<extra></extra>",
         "legendgroup": "Bolsa Reditus",
         "line": {
          "color": "#FECB52",
          "dash": "solid"
         },
         "marker": {
          "symbol": "circle"
         },
         "mode": "lines",
         "name": "Bolsa Reditus",
         "orientation": "v",
         "showlegend": true,
         "type": "scatter",
         "x": [
          "2023-06",
          "2023-07",
          "2023-08"
         ],
         "xaxis": "x",
         "y": [
          4,
          5,
          3
         ],
         "yaxis": "y"
        },
        {
         "hovertemplate": "page_title=Missão, Visão e Valores<br>month_visited=%{x}<br>unique_views=%{y}<extra></extra>",
         "legendgroup": "Missão, Visão e Valores",
         "line": {
          "color": "#636efa",
          "dash": "solid"
         },
         "marker": {
          "symbol": "circle"
         },
         "mode": "lines",
         "name": "Missão, Visão e Valores",
         "orientation": "v",
         "showlegend": true,
         "type": "scatter",
         "x": [
          "2022-08",
          "2022-12",
          "2023-01",
          "2023-02",
          "2023-03",
          "2023-04",
          "2023-05",
          "2023-06",
          "2023-07",
          "2023-08",
          "2023-09",
          "2023-10"
         ],
         "xaxis": "x",
         "y": [
          5,
          3,
          2,
          2,
          4,
          1,
          2,
          1,
          3,
          2,
          2,
          1
         ],
         "yaxis": "y"
        },
        {
         "hovertemplate": "page_title=Tiers e Doadores<br>month_visited=%{x}<br>unique_views=%{y}<extra></extra>",
         "legendgroup": "Tiers e Doadores",
         "line": {
          "color": "#EF553B",
          "dash": "solid"
         },
         "marker": {
          "symbol": "circle"
         },
         "mode": "lines",
         "name": "Tiers e Doadores",
         "orientation": "v",
         "showlegend": true,
         "type": "scatter",
         "x": [
          "2023-02",
          "2023-03",
          "2023-05",
          "2023-07",
          "2023-08",
          "2023-09"
         ],
         "xaxis": "x",
         "y": [
          6,
          4,
          2,
          3,
          2,
          2
         ],
         "yaxis": "y"
        },
        {
         "hovertemplate": "page_title=Redes Sociais<br>month_visited=%{x}<br>unique_views=%{y}<extra></extra>",
         "legendgroup": "Redes Sociais",
         "line": {
          "color": "#00cc96",
          "dash": "solid"
         },
         "marker": {
          "symbol": "circle"
         },
         "mode": "lines",
         "name": "Redes Sociais",
         "orientation": "v",
         "showlegend": true,
         "type": "scatter",
         "x": [
          "2022-08",
          "2022-09",
          "2022-11",
          "2022-12",
          "2023-01",
          "2023-02",
          "2023-03",
          "2023-04",
          "2023-05",
          "2023-07",
          "2023-08",
          "2023-09"
         ],
         "xaxis": "x",
         "y": [
          3,
          3,
          2,
          2,
          3,
          7,
          4,
          1,
          7,
          2,
          2,
          3
         ],
         "yaxis": "y"
        },
        {
         "hovertemplate": "page_title=SFE 2023<br>month_visited=%{x}<br>unique_views=%{y}<extra></extra>",
         "legendgroup": "SFE 2023",
         "line": {
          "color": "#ab63fa",
          "dash": "solid"
         },
         "marker": {
          "symbol": "circle"
         },
         "mode": "lines",
         "name": "SFE 2023",
         "orientation": "v",
         "showlegend": true,
         "type": "scatter",
         "x": [
          "2023-03",
          "2023-05",
          "2023-07",
          "2023-09",
          "2023-10"
         ],
         "xaxis": "x",
         "y": [
          1,
          1,
          5,
          1,
          1
         ],
         "yaxis": "y"
        },
        {
         "hovertemplate": "page_title=O que Gestão faz?<br>month_visited=%{x}<br>unique_views=%{y}<extra></extra>",
         "legendgroup": "O que Gestão faz?",
         "line": {
          "color": "#FFA15A",
          "dash": "solid"
         },
         "marker": {
          "symbol": "circle"
         },
         "mode": "lines",
         "name": "O que Gestão faz?",
         "orientation": "v",
         "showlegend": true,
         "type": "scatter",
         "x": [
          "2022-10",
          "2022-11",
          "2022-12",
          "2023-01",
          "2023-03",
          "2023-04",
          "2023-05",
          "2023-06",
          "2023-07",
          "2023-08",
          "2023-09",
          "2023-10"
         ],
         "xaxis": "x",
         "y": [
          1,
          1,
          1,
          2,
          2,
          4,
          3,
          1,
          1,
          2,
          2,
          2
         ],
         "yaxis": "y"
        },
        {
         "hovertemplate": "page_title=OKRs<br>month_visited=%{x}<br>unique_views=%{y}<extra></extra>",
         "legendgroup": "OKRs",
         "line": {
          "color": "#19d3f3",
          "dash": "solid"
         },
         "marker": {
          "symbol": "circle"
         },
         "mode": "lines",
         "name": "OKRs",
         "orientation": "v",
         "showlegend": true,
         "type": "scatter",
         "x": [
          "2022-08",
          "2022-09",
          "2022-10",
          "2022-12",
          "2023-01",
          "2023-02",
          "2023-03",
          "2023-04",
          "2023-05",
          "2023-07",
          "2023-08",
          "2023-09",
          "2023-10"
         ],
         "xaxis": "x",
         "y": [
          2,
          1,
          2,
          3,
          2,
          1,
          5,
          4,
          4,
          2,
          2,
          2,
          1
         ],
         "yaxis": "y"
        },
        {
         "hovertemplate": "page_title=OKRs <br>month_visited=%{x}<br>unique_views=%{y}<extra></extra>",
         "legendgroup": "OKRs ",
         "line": {
          "color": "#FF6692",
          "dash": "solid"
         },
         "marker": {
          "symbol": "circle"
         },
         "mode": "lines",
         "name": "OKRs ",
         "orientation": "v",
         "showlegend": true,
         "type": "scatter",
         "x": [
          "2022-08",
          "2022-10",
          "2022-11",
          "2022-12",
          "2023-01",
          "2023-02",
          "2023-03",
          "2023-04",
          "2023-05",
          "2023-06",
          "2023-08",
          "2023-09",
          "2023-10"
         ],
         "xaxis": "x",
         "y": [
          1,
          3,
          1,
          4,
          5,
          3,
          3,
          5,
          2,
          2,
          2,
          1,
          3
         ],
         "yaxis": "y"
        },
        {
         "hovertemplate": "page_title=OKRs das Áreas<br>month_visited=%{x}<br>unique_views=%{y}<extra></extra>",
         "legendgroup": "OKRs das Áreas",
         "line": {
          "color": "#B6E880",
          "dash": "solid"
         },
         "marker": {
          "symbol": "circle"
         },
         "mode": "lines",
         "name": "OKRs das Áreas",
         "orientation": "v",
         "showlegend": true,
         "type": "scatter",
         "x": [
          "2022-08",
          "2022-09",
          "2022-10",
          "2022-11",
          "2022-12",
          "2023-01",
          "2023-02",
          "2023-03",
          "2023-04",
          "2023-05",
          "2023-06",
          "2023-07",
          "2023-08",
          "2023-10"
         ],
         "xaxis": "x",
         "y": [
          2,
          1,
          1,
          1,
          2,
          2,
          2,
          8,
          3,
          3,
          1,
          2,
          3,
          1
         ],
         "yaxis": "y"
        },
        {
         "hovertemplate": "page_title=Processos e rotinas de trabalho<br>month_visited=%{x}<br>unique_views=%{y}<extra></extra>",
         "legendgroup": "Processos e rotinas de trabalho",
         "line": {
          "color": "#FF97FF",
          "dash": "solid"
         },
         "marker": {
          "symbol": "circle"
         },
         "mode": "lines",
         "name": "Processos e rotinas de trabalho",
         "orientation": "v",
         "showlegend": true,
         "type": "scatter",
         "x": [
          "2022-08",
          "2022-09",
          "2022-10",
          "2022-12",
          "2023-01",
          "2023-02",
          "2023-07",
          "2023-08",
          "2023-09"
         ],
         "xaxis": "x",
         "y": [
          1,
          2,
          1,
          1,
          1,
          1,
          3,
          2,
          1
         ],
         "yaxis": "y"
        },
        {
         "hovertemplate": "page_title=O que a Tecnologia faz?<br>month_visited=%{x}<br>unique_views=%{y}<extra></extra>",
         "legendgroup": "O que a Tecnologia faz?",
         "line": {
          "color": "#FECB52",
          "dash": "solid"
         },
         "marker": {
          "symbol": "circle"
         },
         "mode": "lines",
         "name": "O que a Tecnologia faz?",
         "orientation": "v",
         "showlegend": true,
         "type": "scatter",
         "x": [
          "2023-07",
          "2023-08",
          "2023-09"
         ],
         "xaxis": "x",
         "y": [
          1,
          3,
          2
         ],
         "yaxis": "y"
        },
        {
         "hovertemplate": "page_title=Financeiro<br>month_visited=%{x}<br>unique_views=%{y}<extra></extra>",
         "legendgroup": "Financeiro",
         "line": {
          "color": "#636efa",
          "dash": "solid"
         },
         "marker": {
          "symbol": "circle"
         },
         "mode": "lines",
         "name": "Financeiro",
         "orientation": "v",
         "showlegend": true,
         "type": "scatter",
         "x": [
          "2022-08",
          "2022-11",
          "2022-12",
          "2023-01",
          "2023-02",
          "2023-03",
          "2023-04",
          "2023-06",
          "2023-08",
          "2023-09",
          "2023-10"
         ],
         "xaxis": "x",
         "y": [
          1,
          2,
          2,
          3,
          2,
          7,
          4,
          2,
          3,
          2,
          1
         ],
         "yaxis": "y"
        },
        {
         "hovertemplate": "page_title=Gestão da área<br>month_visited=%{x}<br>unique_views=%{y}<extra></extra>",
         "legendgroup": "Gestão da área",
         "line": {
          "color": "#EF553B",
          "dash": "solid"
         },
         "marker": {
          "symbol": "circle"
         },
         "mode": "lines",
         "name": "Gestão da área",
         "orientation": "v",
         "showlegend": true,
         "type": "scatter",
         "x": [
          "2022-09",
          "2023-07",
          "2023-08",
          "2023-09"
         ],
         "xaxis": "x",
         "y": [
          1,
          2,
          3,
          1
         ],
         "yaxis": "y"
        },
        {
         "hovertemplate": "page_title=Dashboards<br>month_visited=%{x}<br>unique_views=%{y}<extra></extra>",
         "legendgroup": "Dashboards",
         "line": {
          "color": "#00cc96",
          "dash": "solid"
         },
         "marker": {
          "symbol": "circle"
         },
         "mode": "lines",
         "name": "Dashboards",
         "orientation": "v",
         "showlegend": true,
         "type": "scatter",
         "x": [
          "2022-08",
          "2022-10",
          "2022-11",
          "2022-12",
          "2023-01",
          "2023-02",
          "2023-03",
          "2023-04",
          "2023-05",
          "2023-06",
          "2023-07",
          "2023-08",
          "2023-09",
          "2023-10"
         ],
         "xaxis": "x",
         "y": [
          2,
          3,
          2,
          8,
          4,
          6,
          8,
          4,
          3,
          1,
          1,
          2,
          1,
          2
         ],
         "yaxis": "y"
        },
        {
         "hovertemplate": "page_title=Calendário de Comunicação<br>month_visited=%{x}<br>unique_views=%{y}<extra></extra>",
         "legendgroup": "Calendário de Comunicação",
         "line": {
          "color": "#ab63fa",
          "dash": "solid"
         },
         "marker": {
          "symbol": "circle"
         },
         "mode": "lines",
         "name": "Calendário de Comunicação",
         "orientation": "v",
         "showlegend": true,
         "type": "scatter",
         "x": [
          "2022-08",
          "2022-09",
          "2022-10",
          "2022-11",
          "2023-01",
          "2023-02",
          "2023-04",
          "2023-05",
          "2023-07",
          "2023-08",
          "2023-09"
         ],
         "xaxis": "x",
         "y": [
          8,
          13,
          1,
          1,
          1,
          1,
          2,
          1,
          2,
          1,
          2
         ],
         "yaxis": "y"
        },
        {
         "hovertemplate": "page_title=Reuniões <br>month_visited=%{x}<br>unique_views=%{y}<extra></extra>",
         "legendgroup": "Reuniões ",
         "line": {
          "color": "#FFA15A",
          "dash": "solid"
         },
         "marker": {
          "symbol": "circle"
         },
         "mode": "lines",
         "name": "Reuniões ",
         "orientation": "v",
         "showlegend": true,
         "type": "scatter",
         "x": [
          "2023-04",
          "2023-05",
          "2023-06",
          "2023-07",
          "2023-09"
         ],
         "xaxis": "x",
         "y": [
          1,
          6,
          4,
          3,
          2
         ],
         "yaxis": "y"
        },
        {
         "hovertemplate": "page_title=Cracking Notion<br>month_visited=%{x}<br>unique_views=%{y}<extra></extra>",
         "legendgroup": "Cracking Notion",
         "line": {
          "color": "#19d3f3",
          "dash": "solid"
         },
         "marker": {
          "symbol": "circle"
         },
         "mode": "lines",
         "name": "Cracking Notion",
         "orientation": "v",
         "showlegend": true,
         "type": "scatter",
         "x": [
          "2023-03",
          "2023-04",
          "2023-05",
          "2023-08"
         ],
         "xaxis": "x",
         "y": [
          1,
          1,
          1,
          5
         ],
         "yaxis": "y"
        },
        {
         "hovertemplate": "page_title=Edital de Inovação<br>month_visited=%{x}<br>unique_views=%{y}<extra></extra>",
         "legendgroup": "Edital de Inovação",
         "line": {
          "color": "#FF6692",
          "dash": "solid"
         },
         "marker": {
          "symbol": "circle"
         },
         "mode": "lines",
         "name": "Edital de Inovação",
         "orientation": "v",
         "showlegend": true,
         "type": "scatter",
         "x": [
          "2022-11",
          "2023-01",
          "2023-03",
          "2023-04",
          "2023-06",
          "2023-07",
          "2023-08",
          "2023-10"
         ],
         "xaxis": "x",
         "y": [
          1,
          1,
          2,
          1,
          3,
          1,
          3,
          1
         ],
         "yaxis": "y"
        },
        {
         "hovertemplate": "page_title=Evento Padrão<br>month_visited=%{x}<br>unique_views=%{y}<extra></extra>",
         "legendgroup": "Evento Padrão",
         "line": {
          "color": "#B6E880",
          "dash": "solid"
         },
         "marker": {
          "symbol": "circle"
         },
         "mode": "lines",
         "name": "Evento Padrão",
         "orientation": "v",
         "showlegend": true,
         "type": "scatter",
         "x": [
          "2023-06",
          "2023-07"
         ],
         "xaxis": "x",
         "y": [
          1,
          5
         ],
         "yaxis": "y"
        },
        {
         "hovertemplate": "page_title=Ferramentas<br>month_visited=%{x}<br>unique_views=%{y}<extra></extra>",
         "legendgroup": "Ferramentas",
         "line": {
          "color": "#FF97FF",
          "dash": "solid"
         },
         "marker": {
          "symbol": "circle"
         },
         "mode": "lines",
         "name": "Ferramentas",
         "orientation": "v",
         "showlegend": true,
         "type": "scatter",
         "x": [
          "2022-08",
          "2022-09",
          "2022-11",
          "2022-12",
          "2023-01",
          "2023-02",
          "2023-03",
          "2023-04",
          "2023-05",
          "2023-07",
          "2023-08",
          "2023-09"
         ],
         "xaxis": "x",
         "y": [
          1,
          1,
          1,
          3,
          4,
          1,
          1,
          1,
          4,
          1,
          3,
          1
         ],
         "yaxis": "y"
        },
        {
         "hovertemplate": "page_title=Quem somos<br>month_visited=%{x}<br>unique_views=%{y}<extra></extra>",
         "legendgroup": "Quem somos",
         "line": {
          "color": "#FECB52",
          "dash": "solid"
         },
         "marker": {
          "symbol": "circle"
         },
         "mode": "lines",
         "name": "Quem somos",
         "orientation": "v",
         "showlegend": true,
         "type": "scatter",
         "x": [
          "2022-08",
          "2022-09",
          "2022-10",
          "2022-11",
          "2022-12",
          "2023-01",
          "2023-02",
          "2023-03",
          "2023-04",
          "2023-05",
          "2023-07",
          "2023-08",
          "2023-09",
          "2023-10"
         ],
         "xaxis": "x",
         "y": [
          2,
          1,
          2,
          3,
          2,
          1,
          5,
          3,
          1,
          1,
          1,
          2,
          1,
          1
         ],
         "yaxis": "y"
        },
        {
         "hovertemplate": "page_title=Pitch compartilhável<br>month_visited=%{x}<br>unique_views=%{y}<extra></extra>",
         "legendgroup": "Pitch compartilhável",
         "line": {
          "color": "#636efa",
          "dash": "solid"
         },
         "marker": {
          "symbol": "circle"
         },
         "mode": "lines",
         "name": "Pitch compartilhável",
         "orientation": "v",
         "showlegend": true,
         "type": "scatter",
         "x": [
          "2022-08",
          "2023-02",
          "2023-07",
          "2023-08"
         ],
         "xaxis": "x",
         "y": [
          1,
          2,
          3,
          2
         ],
         "yaxis": "y"
        },
        {
         "hovertemplate": "page_title=Jurídico<br>month_visited=%{x}<br>unique_views=%{y}<extra></extra>",
         "legendgroup": "Jurídico",
         "line": {
          "color": "#EF553B",
          "dash": "solid"
         },
         "marker": {
          "symbol": "circle"
         },
         "mode": "lines",
         "name": "Jurídico",
         "orientation": "v",
         "showlegend": true,
         "type": "scatter",
         "x": [
          "2022-08",
          "2022-10",
          "2022-11",
          "2022-12",
          "2023-02",
          "2023-03",
          "2023-04",
          "2023-06",
          "2023-08",
          "2023-09"
         ],
         "xaxis": "x",
         "y": [
          2,
          2,
          1,
          2,
          1,
          2,
          2,
          2,
          4,
          1
         ],
         "yaxis": "y"
        },
        {
         "hovertemplate": "page_title=Nossa História<br>month_visited=%{x}<br>unique_views=%{y}<extra></extra>",
         "legendgroup": "Nossa História",
         "line": {
          "color": "#00cc96",
          "dash": "solid"
         },
         "marker": {
          "symbol": "circle"
         },
         "mode": "lines",
         "name": "Nossa História",
         "orientation": "v",
         "showlegend": true,
         "type": "scatter",
         "x": [
          "2022-10",
          "2022-12",
          "2023-01",
          "2023-02",
          "2023-04",
          "2023-05",
          "2023-06",
          "2023-07",
          "2023-08",
          "2023-09",
          "2023-10"
         ],
         "xaxis": "x",
         "y": [
          1,
          1,
          1,
          4,
          1,
          1,
          2,
          1,
          2,
          1,
          1
         ],
         "yaxis": "y"
        },
        {
         "hovertemplate": "page_title=Líderes<br>month_visited=%{x}<br>unique_views=%{y}<extra></extra>",
         "legendgroup": "Líderes",
         "line": {
          "color": "#ab63fa",
          "dash": "solid"
         },
         "marker": {
          "symbol": "circle"
         },
         "mode": "lines",
         "name": "Líderes",
         "orientation": "v",
         "showlegend": true,
         "type": "scatter",
         "x": [
          "2022-11",
          "2022-12",
          "2023-01",
          "2023-02",
          "2023-03",
          "2023-04",
          "2023-05",
          "2023-06",
          "2023-07",
          "2023-08",
          "2023-09",
          "2023-10"
         ],
         "xaxis": "x",
         "y": [
          1,
          2,
          5,
          3,
          3,
          3,
          2,
          2,
          2,
          1,
          1,
          1
         ],
         "yaxis": "y"
        },
        {
         "hovertemplate": "page_title=Templates<br>month_visited=%{x}<br>unique_views=%{y}<extra></extra>",
         "legendgroup": "Templates",
         "line": {
          "color": "#FFA15A",
          "dash": "solid"
         },
         "marker": {
          "symbol": "circle"
         },
         "mode": "lines",
         "name": "Templates",
         "orientation": "v",
         "showlegend": true,
         "type": "scatter",
         "x": [
          "2023-05",
          "2023-08",
          "2023-09",
          "2023-10"
         ],
         "xaxis": "x",
         "y": [
          3,
          2,
          2,
          1
         ],
         "yaxis": "y"
        },
        {
         "hovertemplate": "page_title=Rotina GDs<br>month_visited=%{x}<br>unique_views=%{y}<extra></extra>",
         "legendgroup": "Rotina GDs",
         "line": {
          "color": "#19d3f3",
          "dash": "solid"
         },
         "marker": {
          "symbol": "circle"
         },
         "mode": "lines",
         "name": "Rotina GDs",
         "orientation": "v",
         "showlegend": true,
         "type": "scatter",
         "x": [
          "2023-04",
          "2023-05",
          "2023-07",
          "2023-09",
          "2023-10"
         ],
         "xaxis": "x",
         "y": [
          6,
          1,
          1,
          2,
          1
         ],
         "yaxis": "y"
        },
        {
         "hovertemplate": "page_title=Processo de Captação<br>month_visited=%{x}<br>unique_views=%{y}<extra></extra>",
         "legendgroup": "Processo de Captação",
         "line": {
          "color": "#FF6692",
          "dash": "solid"
         },
         "marker": {
          "symbol": "circle"
         },
         "mode": "lines",
         "name": "Processo de Captação",
         "orientation": "v",
         "showlegend": true,
         "type": "scatter",
         "x": [
          "2023-02",
          "2023-03",
          "2023-05",
          "2023-07",
          "2023-08"
         ],
         "xaxis": "x",
         "y": [
          4,
          2,
          2,
          2,
          2
         ],
         "yaxis": "y"
        },
        {
         "hovertemplate": "page_title=Time<br>month_visited=%{x}<br>unique_views=%{y}<extra></extra>",
         "legendgroup": "Time",
         "line": {
          "color": "#B6E880",
          "dash": "solid"
         },
         "marker": {
          "symbol": "circle"
         },
         "mode": "lines",
         "name": "Time",
         "orientation": "v",
         "showlegend": true,
         "type": "scatter",
         "x": [
          "2023-02",
          "2023-03",
          "2023-04",
          "2023-05",
          "2023-08",
          "2023-09"
         ],
         "xaxis": "x",
         "y": [
          6,
          2,
          1,
          2,
          2,
          2
         ],
         "yaxis": "y"
        },
        {
         "hovertemplate": "page_title=Discovery Reditus Talks presencial - setembro 2023<br>month_visited=%{x}<br>unique_views=%{y}<extra></extra>",
         "legendgroup": "Discovery Reditus Talks presencial - setembro 2023",
         "line": {
          "color": "#FF97FF",
          "dash": "solid"
         },
         "marker": {
          "symbol": "circle"
         },
         "mode": "lines",
         "name": "Discovery Reditus Talks presencial - setembro 2023",
         "orientation": "v",
         "showlegend": true,
         "type": "scatter",
         "x": [
          "2023-09",
          "2023-10"
         ],
         "xaxis": "x",
         "y": [
          3,
          1
         ],
         "yaxis": "y"
        },
        {
         "hovertemplate": "page_title=Programa de Mentoria<br>month_visited=%{x}<br>unique_views=%{y}<extra></extra>",
         "legendgroup": "Programa de Mentoria",
         "line": {
          "color": "#FECB52",
          "dash": "solid"
         },
         "marker": {
          "symbol": "circle"
         },
         "mode": "lines",
         "name": "Programa de Mentoria",
         "orientation": "v",
         "showlegend": true,
         "type": "scatter",
         "x": [
          "2023-07",
          "2023-08",
          "2023-10"
         ],
         "xaxis": "x",
         "y": [
          1,
          2,
          1
         ],
         "yaxis": "y"
        },
        {
         "hovertemplate": "page_title=Treinamentos<br>month_visited=%{x}<br>unique_views=%{y}<extra></extra>",
         "legendgroup": "Treinamentos",
         "line": {
          "color": "#636efa",
          "dash": "solid"
         },
         "marker": {
          "symbol": "circle"
         },
         "mode": "lines",
         "name": "Treinamentos",
         "orientation": "v",
         "showlegend": true,
         "type": "scatter",
         "x": [
          "2022-09",
          "2022-10",
          "2022-12",
          "2023-01",
          "2023-02",
          "2023-03",
          "2023-04",
          "2023-05",
          "2023-06",
          "2023-08"
         ],
         "xaxis": "x",
         "y": [
          1,
          1,
          3,
          2,
          1,
          3,
          1,
          2,
          1,
          4
         ],
         "yaxis": "y"
        },
        {
         "hovertemplate": "page_title=Como definimos estratégia?<br>month_visited=%{x}<br>unique_views=%{y}<extra></extra>",
         "legendgroup": "Como definimos estratégia?",
         "line": {
          "color": "#EF553B",
          "dash": "solid"
         },
         "marker": {
          "symbol": "circle"
         },
         "mode": "lines",
         "name": "Como definimos estratégia?",
         "orientation": "v",
         "showlegend": true,
         "type": "scatter",
         "x": [
          "2022-12",
          "2023-01",
          "2023-03",
          "2023-05",
          "2023-07",
          "2023-08",
          "2023-10"
         ],
         "xaxis": "x",
         "y": [
          2,
          1,
          2,
          1,
          1,
          2,
          1
         ],
         "yaxis": "y"
        },
        {
         "hovertemplate": "page_title=Campanha de Awareness Presencial<br>month_visited=%{x}<br>unique_views=%{y}<extra></extra>",
         "legendgroup": "Campanha de Awareness Presencial",
         "line": {
          "color": "#00cc96",
          "dash": "solid"
         },
         "marker": {
          "symbol": "circle"
         },
         "mode": "lines",
         "name": "Campanha de Awareness Presencial",
         "orientation": "v",
         "showlegend": true,
         "type": "scatter",
         "x": [
          "2023-07",
          "2023-08"
         ],
         "xaxis": "x",
         "y": [
          2,
          2
         ],
         "yaxis": "y"
        },
        {
         "hovertemplate": "page_title=Indique um PGD<br>month_visited=%{x}<br>unique_views=%{y}<extra></extra>",
         "legendgroup": "Indique um PGD",
         "line": {
          "color": "#ab63fa",
          "dash": "solid"
         },
         "marker": {
          "symbol": "circle"
         },
         "mode": "lines",
         "name": "Indique um PGD",
         "orientation": "v",
         "showlegend": true,
         "type": "scatter",
         "x": [
          "2022-11",
          "2022-12",
          "2023-02",
          "2023-04",
          "2023-05",
          "2023-06",
          "2023-08",
          "2023-09"
         ],
         "xaxis": "x",
         "y": [
          1,
          1,
          2,
          1,
          1,
          1,
          3,
          1
         ],
         "yaxis": "y"
        },
        {
         "hovertemplate": "page_title=Sugestões de Aprendizado<br>month_visited=%{x}<br>unique_views=%{y}<extra></extra>",
         "legendgroup": "Sugestões de Aprendizado",
         "line": {
          "color": "#FFA15A",
          "dash": "solid"
         },
         "marker": {
          "symbol": "circle"
         },
         "mode": "lines",
         "name": "Sugestões de Aprendizado",
         "orientation": "v",
         "showlegend": true,
         "type": "scatter",
         "x": [
          "2022-12",
          "2023-01",
          "2023-02",
          "2023-03",
          "2023-04",
          "2023-05",
          "2023-08",
          "2023-10"
         ],
         "xaxis": "x",
         "y": [
          1,
          1,
          1,
          2,
          1,
          3,
          2,
          1
         ],
         "yaxis": "y"
        },
        {
         "hovertemplate": "page_title=Taggeamento<br>month_visited=%{x}<br>unique_views=%{y}<extra></extra>",
         "legendgroup": "Taggeamento",
         "line": {
          "color": "#19d3f3",
          "dash": "solid"
         },
         "marker": {
          "symbol": "circle"
         },
         "mode": "lines",
         "name": "Taggeamento",
         "orientation": "v",
         "showlegend": true,
         "type": "scatter",
         "x": [
          "2023-07",
          "2023-08"
         ],
         "xaxis": "x",
         "y": [
          2,
          1
         ],
         "yaxis": "y"
        },
        {
         "hovertemplate": "page_title=Captação Pontual <br>month_visited=%{x}<br>unique_views=%{y}<extra></extra>",
         "legendgroup": "Captação Pontual ",
         "line": {
          "color": "#FF6692",
          "dash": "solid"
         },
         "marker": {
          "symbol": "circle"
         },
         "mode": "lines",
         "name": "Captação Pontual ",
         "orientation": "v",
         "showlegend": true,
         "type": "scatter",
         "x": [
          "2022-10",
          "2023-07",
          "2023-08"
         ],
         "xaxis": "x",
         "y": [
          1,
          1,
          2
         ],
         "yaxis": "y"
        },
        {
         "hovertemplate": "page_title=Processos<br>month_visited=%{x}<br>unique_views=%{y}<extra></extra>",
         "legendgroup": "Processos",
         "line": {
          "color": "#B6E880",
          "dash": "solid"
         },
         "marker": {
          "symbol": "circle"
         },
         "mode": "lines",
         "name": "Processos",
         "orientation": "v",
         "showlegend": true,
         "type": "scatter",
         "x": [
          "2022-09",
          "2022-10",
          "2022-11",
          "2023-01",
          "2023-02",
          "2023-03",
          "2023-04",
          "2023-06",
          "2023-07",
          "2023-08",
          "2023-09"
         ],
         "xaxis": "x",
         "y": [
          5,
          14,
          2,
          4,
          1,
          4,
          2,
          1,
          1,
          1,
          1
         ],
         "yaxis": "y"
        },
        {
         "hovertemplate": "page_title=Big Numbers do Instituto Reditus<br>month_visited=%{x}<br>unique_views=%{y}<extra></extra>",
         "legendgroup": "Big Numbers do Instituto Reditus",
         "line": {
          "color": "#FF97FF",
          "dash": "solid"
         },
         "marker": {
          "symbol": "circle"
         },
         "mode": "lines",
         "name": "Big Numbers do Instituto Reditus",
         "orientation": "v",
         "showlegend": true,
         "type": "scatter",
         "x": [
          "2022-12",
          "2023-03",
          "2023-04",
          "2023-08",
          "2023-10"
         ],
         "xaxis": "x",
         "y": [
          1,
          2,
          1,
          2,
          1
         ],
         "yaxis": "y"
        },
        {
         "hovertemplate": "page_title=Brainstorms - Infos doadores<br>month_visited=%{x}<br>unique_views=%{y}<extra></extra>",
         "legendgroup": "Brainstorms - Infos doadores",
         "line": {
          "color": "#FECB52",
          "dash": "solid"
         },
         "marker": {
          "symbol": "circle"
         },
         "mode": "lines",
         "name": "Brainstorms - Infos doadores",
         "orientation": "v",
         "showlegend": true,
         "type": "scatter",
         "x": [
          "2022-08",
          "2023-02",
          "2023-04",
          "2023-05",
          "2023-07",
          "2023-09"
         ],
         "xaxis": "x",
         "y": [
          6,
          2,
          1,
          1,
          2,
          1
         ],
         "yaxis": "y"
        },
        {
         "hovertemplate": "page_title=Processo de gestão de churn<br>month_visited=%{x}<br>unique_views=%{y}<extra></extra>",
         "legendgroup": "Processo de gestão de churn",
         "line": {
          "color": "#636efa",
          "dash": "solid"
         },
         "marker": {
          "symbol": "circle"
         },
         "mode": "lines",
         "name": "Processo de gestão de churn",
         "orientation": "v",
         "showlegend": true,
         "type": "scatter",
         "x": [
          "2023-02",
          "2023-07",
          "2023-09"
         ],
         "xaxis": "x",
         "y": [
          3,
          2,
          1
         ],
         "yaxis": "y"
        },
        {
         "hovertemplate": "page_title=O que Projetos faz?<br>month_visited=%{x}<br>unique_views=%{y}<extra></extra>",
         "legendgroup": "O que Projetos faz?",
         "line": {
          "color": "#EF553B",
          "dash": "solid"
         },
         "marker": {
          "symbol": "circle"
         },
         "mode": "lines",
         "name": "O que Projetos faz?",
         "orientation": "v",
         "showlegend": true,
         "type": "scatter",
         "x": [
          "2022-09",
          "2022-10",
          "2023-01",
          "2023-02",
          "2023-03",
          "2023-07",
          "2023-08"
         ],
         "xaxis": "x",
         "y": [
          1,
          1,
          2,
          1,
          1,
          1,
          2
         ],
         "yaxis": "y"
        },
        {
         "hovertemplate": "page_title=O que Marketing faz?<br>month_visited=%{x}<br>unique_views=%{y}<extra></extra>",
         "legendgroup": "O que Marketing faz?",
         "line": {
          "color": "#00cc96",
          "dash": "solid"
         },
         "marker": {
          "symbol": "circle"
         },
         "mode": "lines",
         "name": "O que Marketing faz?",
         "orientation": "v",
         "showlegend": true,
         "type": "scatter",
         "x": [
          "2022-09",
          "2023-06",
          "2023-07",
          "2023-08"
         ],
         "xaxis": "x",
         "y": [
          1,
          1,
          1,
          2
         ],
         "yaxis": "y"
        },
        {
         "hovertemplate": "page_title=Ferramentas Externas Úteis<br>month_visited=%{x}<br>unique_views=%{y}<extra></extra>",
         "legendgroup": "Ferramentas Externas Úteis",
         "line": {
          "color": "#ab63fa",
          "dash": "solid"
         },
         "marker": {
          "symbol": "circle"
         },
         "mode": "lines",
         "name": "Ferramentas Externas Úteis",
         "orientation": "v",
         "showlegend": true,
         "type": "scatter",
         "x": [
          "2022-10",
          "2022-11",
          "2023-04",
          "2023-05",
          "2023-08"
         ],
         "xaxis": "x",
         "y": [
          1,
          1,
          4,
          1,
          3
         ],
         "yaxis": "y"
        },
        {
         "hovertemplate": "page_title=Modelos de Eventos<br>month_visited=%{x}<br>unique_views=%{y}<extra></extra>",
         "legendgroup": "Modelos de Eventos",
         "line": {
          "color": "#FFA15A",
          "dash": "solid"
         },
         "marker": {
          "symbol": "circle"
         },
         "mode": "lines",
         "name": "Modelos de Eventos",
         "orientation": "v",
         "showlegend": true,
         "type": "scatter",
         "x": [
          "2022-11",
          "2023-03",
          "2023-05",
          "2023-08",
          "2023-09",
          "2023-10"
         ],
         "xaxis": "x",
         "y": [
          2,
          8,
          1,
          1,
          1,
          1
         ],
         "yaxis": "y"
        },
        {
         "hovertemplate": "page_title=O que Gente faz?<br>month_visited=%{x}<br>unique_views=%{y}<extra></extra>",
         "legendgroup": "O que Gente faz?",
         "line": {
          "color": "#19d3f3",
          "dash": "solid"
         },
         "marker": {
          "symbol": "circle"
         },
         "mode": "lines",
         "name": "O que Gente faz?",
         "orientation": "v",
         "showlegend": true,
         "type": "scatter",
         "x": [
          "2022-10",
          "2023-03",
          "2023-04",
          "2023-06",
          "2023-08",
          "2023-10"
         ],
         "xaxis": "x",
         "y": [
          1,
          1,
          1,
          1,
          2,
          1
         ],
         "yaxis": "y"
        },
        {
         "hovertemplate": "page_title=PEIR 23.1<br>month_visited=%{x}<br>unique_views=%{y}<extra></extra>",
         "legendgroup": "PEIR 23.1",
         "line": {
          "color": "#FF6692",
          "dash": "solid"
         },
         "marker": {
          "symbol": "circle"
         },
         "mode": "lines",
         "name": "PEIR 23.1",
         "orientation": "v",
         "showlegend": true,
         "type": "scatter",
         "x": [
          "2023-03",
          "2023-04",
          "2023-05",
          "2023-07",
          "2023-09",
          "2023-10"
         ],
         "xaxis": "x",
         "y": [
          7,
          4,
          1,
          1,
          1,
          1
         ],
         "yaxis": "y"
        },
        {
         "hovertemplate": "page_title=Orçamento<br>month_visited=%{x}<br>unique_views=%{y}<extra></extra>",
         "legendgroup": "Orçamento",
         "line": {
          "color": "#B6E880",
          "dash": "solid"
         },
         "marker": {
          "symbol": "circle"
         },
         "mode": "lines",
         "name": "Orçamento",
         "orientation": "v",
         "showlegend": true,
         "type": "scatter",
         "x": [
          "2023-03",
          "2023-04",
          "2023-08",
          "2023-10"
         ],
         "xaxis": "x",
         "y": [
          1,
          1,
          2,
          1
         ],
         "yaxis": "y"
        },
        {
         "hovertemplate": "page_title=Ferramentas Gestão<br>month_visited=%{x}<br>unique_views=%{y}<extra></extra>",
         "legendgroup": "Ferramentas Gestão",
         "line": {
          "color": "#FF97FF",
          "dash": "solid"
         },
         "marker": {
          "symbol": "circle"
         },
         "mode": "lines",
         "name": "Ferramentas Gestão",
         "orientation": "v",
         "showlegend": true,
         "type": "scatter",
         "x": [
          "2022-11",
          "2022-12",
          "2023-01",
          "2023-03",
          "2023-04",
          "2023-05",
          "2023-08"
         ],
         "xaxis": "x",
         "y": [
          2,
          3,
          2,
          1,
          4,
          3,
          2
         ],
         "yaxis": "y"
        },
        {
         "hovertemplate": "page_title=Comitê de Investimentos<br>month_visited=%{x}<br>unique_views=%{y}<extra></extra>",
         "legendgroup": "Comitê de Investimentos",
         "line": {
          "color": "#FECB52",
          "dash": "solid"
         },
         "marker": {
          "symbol": "circle"
         },
         "mode": "lines",
         "name": "Comitê de Investimentos",
         "orientation": "v",
         "showlegend": true,
         "type": "scatter",
         "x": [
          "2023-03",
          "2023-04",
          "2023-08"
         ],
         "xaxis": "x",
         "y": [
          1,
          1,
          2
         ],
         "yaxis": "y"
        },
        {
         "hovertemplate": "page_title=Atas de reunião<br>month_visited=%{x}<br>unique_views=%{y}<extra></extra>",
         "legendgroup": "Atas de reunião",
         "line": {
          "color": "#636efa",
          "dash": "solid"
         },
         "marker": {
          "symbol": "circle"
         },
         "mode": "lines",
         "name": "Atas de reunião",
         "orientation": "v",
         "showlegend": true,
         "type": "scatter",
         "x": [
          "2022-11",
          "2023-08"
         ],
         "xaxis": "x",
         "y": [
          1,
          2
         ],
         "yaxis": "y"
        },
        {
         "hovertemplate": "page_title= <br>month_visited=%{x}<br>unique_views=%{y}<extra></extra>",
         "legendgroup": " ",
         "line": {
          "color": "#EF553B",
          "dash": "solid"
         },
         "marker": {
          "symbol": "circle"
         },
         "mode": "lines",
         "name": " ",
         "orientation": "v",
         "showlegend": true,
         "type": "scatter",
         "x": [
          "2022-09",
          "2022-11",
          "2022-12",
          "2023-01",
          "2023-03",
          "2023-04",
          "2023-05",
          "2023-08"
         ],
         "xaxis": "x",
         "y": [
          3,
          2,
          1,
          2,
          1,
          4,
          3,
          2
         ],
         "yaxis": "y"
        },
        {
         "hovertemplate": "page_title=Reditus Perpetuum (Fundo)<br>month_visited=%{x}<br>unique_views=%{y}<extra></extra>",
         "legendgroup": "Reditus Perpetuum (Fundo)",
         "line": {
          "color": "#00cc96",
          "dash": "solid"
         },
         "marker": {
          "symbol": "circle"
         },
         "mode": "lines",
         "name": "Reditus Perpetuum (Fundo)",
         "orientation": "v",
         "showlegend": true,
         "type": "scatter",
         "x": [
          "2023-04",
          "2023-08"
         ],
         "xaxis": "x",
         "y": [
          1,
          2
         ],
         "yaxis": "y"
        },
        {
         "hovertemplate": "page_title=Indicadores<br>month_visited=%{x}<br>unique_views=%{y}<extra></extra>",
         "legendgroup": "Indicadores",
         "line": {
          "color": "#ab63fa",
          "dash": "solid"
         },
         "marker": {
          "symbol": "circle"
         },
         "mode": "lines",
         "name": "Indicadores",
         "orientation": "v",
         "showlegend": true,
         "type": "scatter",
         "x": [
          "2022-09",
          "2022-10",
          "2023-02",
          "2023-03",
          "2023-04",
          "2023-05",
          "2023-07",
          "2023-08"
         ],
         "xaxis": "x",
         "y": [
          3,
          6,
          1,
          1,
          3,
          1,
          1,
          1
         ],
         "yaxis": "y"
        },
        {
         "hovertemplate": "page_title=Captação Perene<br>month_visited=%{x}<br>unique_views=%{y}<extra></extra>",
         "legendgroup": "Captação Perene",
         "line": {
          "color": "#FFA15A",
          "dash": "solid"
         },
         "marker": {
          "symbol": "circle"
         },
         "mode": "lines",
         "name": "Captação Perene",
         "orientation": "v",
         "showlegend": true,
         "type": "scatter",
         "x": [
          "2022-09",
          "2023-08"
         ],
         "xaxis": "x",
         "y": [
          2,
          2
         ],
         "yaxis": "y"
        },
        {
         "hovertemplate": "page_title=Benchmarks<br>month_visited=%{x}<br>unique_views=%{y}<extra></extra>",
         "legendgroup": "Benchmarks",
         "line": {
          "color": "#19d3f3",
          "dash": "solid"
         },
         "marker": {
          "symbol": "circle"
         },
         "mode": "lines",
         "name": "Benchmarks",
         "orientation": "v",
         "showlegend": true,
         "type": "scatter",
         "x": [
          "2022-08",
          "2022-11",
          "2023-03",
          "2023-04",
          "2023-05",
          "2023-07",
          "2023-09"
         ],
         "xaxis": "x",
         "y": [
          1,
          1,
          1,
          1,
          2,
          1,
          1
         ],
         "yaxis": "y"
        },
        {
         "hovertemplate": "page_title=O que o Financeiro faz?<br>month_visited=%{x}<br>unique_views=%{y}<extra></extra>",
         "legendgroup": "O que o Financeiro faz?",
         "line": {
          "color": "#FF6692",
          "dash": "solid"
         },
         "marker": {
          "symbol": "circle"
         },
         "mode": "lines",
         "name": "O que o Financeiro faz?",
         "orientation": "v",
         "showlegend": true,
         "type": "scatter",
         "x": [
          "2023-01",
          "2023-03",
          "2023-04",
          "2023-08"
         ],
         "xaxis": "x",
         "y": [
          1,
          1,
          1,
          2
         ],
         "yaxis": "y"
        },
        {
         "hovertemplate": "page_title=Histórias Inspiradoras<br>month_visited=%{x}<br>unique_views=%{y}<extra></extra>",
         "legendgroup": "Histórias Inspiradoras",
         "line": {
          "color": "#B6E880",
          "dash": "solid"
         },
         "marker": {
          "symbol": "circle"
         },
         "mode": "lines",
         "name": "Histórias Inspiradoras",
         "orientation": "v",
         "showlegend": true,
         "type": "scatter",
         "x": [
          "2023-05",
          "2023-06",
          "2023-07",
          "2023-09"
         ],
         "xaxis": "x",
         "y": [
          11,
          1,
          1,
          1
         ],
         "yaxis": "y"
        },
        {
         "hovertemplate": "page_title=Interação com Banca do Edital<br>month_visited=%{x}<br>unique_views=%{y}<extra></extra>",
         "legendgroup": "Interação com Banca do Edital",
         "line": {
          "color": "#FF97FF",
          "dash": "solid"
         },
         "marker": {
          "symbol": "circle"
         },
         "mode": "lines",
         "name": "Interação com Banca do Edital",
         "orientation": "v",
         "showlegend": true,
         "type": "scatter",
         "x": [
          "2023-03",
          "2023-07",
          "2023-09"
         ],
         "xaxis": "x",
         "y": [
          1,
          1,
          1
         ],
         "yaxis": "y"
        },
        {
         "hovertemplate": "page_title=Comunicação Institucional<br>month_visited=%{x}<br>unique_views=%{y}<extra></extra>",
         "legendgroup": "Comunicação Institucional",
         "line": {
          "color": "#FECB52",
          "dash": "solid"
         },
         "marker": {
          "symbol": "circle"
         },
         "mode": "lines",
         "name": "Comunicação Institucional",
         "orientation": "v",
         "showlegend": true,
         "type": "scatter",
         "x": [
          "2022-09",
          "2022-10",
          "2022-11",
          "2023-01",
          "2023-04",
          "2023-05",
          "2023-06",
          "2023-07",
          "2023-09"
         ],
         "xaxis": "x",
         "y": [
          2,
          1,
          3,
          5,
          2,
          3,
          1,
          1,
          1
         ],
         "yaxis": "y"
        },
        {
         "hovertemplate": "page_title=Organização Interna<br>month_visited=%{x}<br>unique_views=%{y}<extra></extra>",
         "legendgroup": "Organização Interna",
         "line": {
          "color": "#636efa",
          "dash": "solid"
         },
         "marker": {
          "symbol": "circle"
         },
         "mode": "lines",
         "name": "Organização Interna",
         "orientation": "v",
         "showlegend": true,
         "type": "scatter",
         "x": [
          "2022-08",
          "2023-03",
          "2023-04",
          "2023-08"
         ],
         "xaxis": "x",
         "y": [
          2,
          1,
          2,
          2
         ],
         "yaxis": "y"
        },
        {
         "hovertemplate": "page_title=Conselho Fiscal<br>month_visited=%{x}<br>unique_views=%{y}<extra></extra>",
         "legendgroup": "Conselho Fiscal",
         "line": {
          "color": "#EF553B",
          "dash": "solid"
         },
         "marker": {
          "symbol": "circle"
         },
         "mode": "lines",
         "name": "Conselho Fiscal",
         "orientation": "v",
         "showlegend": true,
         "type": "scatter",
         "x": [
          "2023-03",
          "2023-08"
         ],
         "xaxis": "x",
         "y": [
          1,
          2
         ],
         "yaxis": "y"
        },
        {
         "hovertemplate": "page_title=Organograma de Transição pós-REORG<br>month_visited=%{x}<br>unique_views=%{y}<extra></extra>",
         "legendgroup": "Organograma de Transição pós-REORG",
         "line": {
          "color": "#00cc96",
          "dash": "solid"
         },
         "marker": {
          "symbol": "circle"
         },
         "mode": "lines",
         "name": "Organograma de Transição pós-REORG",
         "orientation": "v",
         "showlegend": true,
         "type": "scatter",
         "x": [
          "2022-10",
          "2022-11",
          "2022-12",
          "2023-01",
          "2023-02",
          "2023-03",
          "2023-04",
          "2023-10"
         ],
         "xaxis": "x",
         "y": [
          3,
          1,
          3,
          3,
          2,
          3,
          2,
          2
         ],
         "yaxis": "y"
        },
        {
         "hovertemplate": "page_title=Victor Lameiras<br>month_visited=%{x}<br>unique_views=%{y}<extra></extra>",
         "legendgroup": "Victor Lameiras",
         "line": {
          "color": "#ab63fa",
          "dash": "solid"
         },
         "marker": {
          "symbol": "circle"
         },
         "mode": "lines",
         "name": "Victor Lameiras",
         "orientation": "v",
         "showlegend": true,
         "type": "scatter",
         "x": [
          "2023-09",
          "2023-10"
         ],
         "xaxis": "x",
         "y": [
          1,
          1
         ],
         "yaxis": "y"
        },
        {
         "hovertemplate": "page_title=Working Folders<br>month_visited=%{x}<br>unique_views=%{y}<extra></extra>",
         "legendgroup": "Working Folders",
         "line": {
          "color": "#FFA15A",
          "dash": "solid"
         },
         "marker": {
          "symbol": "circle"
         },
         "mode": "lines",
         "name": "Working Folders",
         "orientation": "v",
         "showlegend": true,
         "type": "scatter",
         "x": [
          "2023-09"
         ],
         "xaxis": "x",
         "y": [
          2
         ],
         "yaxis": "y"
        },
        {
         "hovertemplate": "page_title=Principais Entregáveis<br>month_visited=%{x}<br>unique_views=%{y}<extra></extra>",
         "legendgroup": "Principais Entregáveis",
         "line": {
          "color": "#19d3f3",
          "dash": "solid"
         },
         "marker": {
          "symbol": "circle"
         },
         "mode": "lines",
         "name": "Principais Entregáveis",
         "orientation": "v",
         "showlegend": true,
         "type": "scatter",
         "x": [
          "2023-03",
          "2023-04",
          "2023-08"
         ],
         "xaxis": "x",
         "y": [
          2,
          1,
          2
         ],
         "yaxis": "y"
        },
        {
         "hovertemplate": "page_title=Precisa de um grupo de email?<br>month_visited=%{x}<br>unique_views=%{y}<extra></extra>",
         "legendgroup": "Precisa de um grupo de email?",
         "line": {
          "color": "#FF6692",
          "dash": "solid"
         },
         "marker": {
          "symbol": "circle"
         },
         "mode": "lines",
         "name": "Precisa de um grupo de email?",
         "orientation": "v",
         "showlegend": true,
         "type": "scatter",
         "x": [
          "2023-01",
          "2023-03",
          "2023-04",
          "2023-05",
          "2023-07",
          "2023-10"
         ],
         "xaxis": "x",
         "y": [
          2,
          3,
          2,
          1,
          1,
          1
         ],
         "yaxis": "y"
        },
        {
         "hovertemplate": "page_title=Dia-a-dia da área<br>month_visited=%{x}<br>unique_views=%{y}<extra></extra>",
         "legendgroup": "Dia-a-dia da área",
         "line": {
          "color": "#B6E880",
          "dash": "solid"
         },
         "marker": {
          "symbol": "circle"
         },
         "mode": "lines",
         "name": "Dia-a-dia da área",
         "orientation": "v",
         "showlegend": true,
         "type": "scatter",
         "x": [
          "2022-11",
          "2023-02",
          "2023-08"
         ],
         "xaxis": "x",
         "y": [
          1,
          1,
          2
         ],
         "yaxis": "y"
        },
        {
         "hovertemplate": "page_title=Reunião de Líderes (RL)<br>month_visited=%{x}<br>unique_views=%{y}<extra></extra>",
         "legendgroup": "Reunião de Líderes (RL)",
         "line": {
          "color": "#FF97FF",
          "dash": "solid"
         },
         "marker": {
          "symbol": "circle"
         },
         "mode": "lines",
         "name": "Reunião de Líderes (RL)",
         "orientation": "v",
         "showlegend": true,
         "type": "scatter",
         "x": [
          "2022-10",
          "2023-04",
          "2023-07",
          "2023-10"
         ],
         "xaxis": "x",
         "y": [
          1,
          1,
          1,
          1
         ],
         "yaxis": "y"
        },
        {
         "hovertemplate": "page_title=To Dos pro Henrique<br>month_visited=%{x}<br>unique_views=%{y}<extra></extra>",
         "legendgroup": "To Dos pro Henrique",
         "line": {
          "color": "#FECB52",
          "dash": "solid"
         },
         "marker": {
          "symbol": "circle"
         },
         "mode": "lines",
         "name": "To Dos pro Henrique",
         "orientation": "v",
         "showlegend": true,
         "type": "scatter",
         "x": [
          "2023-04",
          "2023-05",
          "2023-09"
         ],
         "xaxis": "x",
         "y": [
          1,
          1,
          1
         ],
         "yaxis": "y"
        },
        {
         "hovertemplate": "page_title=O que Comunicação faz?<br>month_visited=%{x}<br>unique_views=%{y}<extra></extra>",
         "legendgroup": "O que Comunicação faz?",
         "line": {
          "color": "#636efa",
          "dash": "solid"
         },
         "marker": {
          "symbol": "circle"
         },
         "mode": "lines",
         "name": "O que Comunicação faz?",
         "orientation": "v",
         "showlegend": true,
         "type": "scatter",
         "x": [
          "2023-01",
          "2023-04",
          "2023-08"
         ],
         "xaxis": "x",
         "y": [
          1,
          1,
          1
         ],
         "yaxis": "y"
        },
        {
         "hovertemplate": "page_title=Solicitações de Pagamento<br>month_visited=%{x}<br>unique_views=%{y}<extra></extra>",
         "legendgroup": "Solicitações de Pagamento",
         "line": {
          "color": "#EF553B",
          "dash": "solid"
         },
         "marker": {
          "symbol": "circle"
         },
         "mode": "lines",
         "name": "Solicitações de Pagamento",
         "orientation": "v",
         "showlegend": true,
         "type": "scatter",
         "x": [
          "2023-03",
          "2023-04",
          "2023-08"
         ],
         "xaxis": "x",
         "y": [
          1,
          1,
          1
         ],
         "yaxis": "y"
        },
        {
         "hovertemplate": "page_title=Anotações Reunião de Área<br>month_visited=%{x}<br>unique_views=%{y}<extra></extra>",
         "legendgroup": "Anotações Reunião de Área",
         "line": {
          "color": "#00cc96",
          "dash": "solid"
         },
         "marker": {
          "symbol": "circle"
         },
         "mode": "lines",
         "name": "Anotações Reunião de Área",
         "orientation": "v",
         "showlegend": true,
         "type": "scatter",
         "x": [
          "2022-12",
          "2023-08"
         ],
         "xaxis": "x",
         "y": [
          1,
          1
         ],
         "yaxis": "y"
        },
        {
         "hovertemplate": "page_title=Boas Práticas<br>month_visited=%{x}<br>unique_views=%{y}<extra></extra>",
         "legendgroup": "Boas Práticas",
         "line": {
          "color": "#ab63fa",
          "dash": "solid"
         },
         "marker": {
          "symbol": "circle"
         },
         "mode": "lines",
         "name": "Boas Práticas",
         "orientation": "v",
         "showlegend": true,
         "type": "scatter",
         "x": [
          "2022-11",
          "2023-02",
          "2023-03",
          "2023-05",
          "2023-08"
         ],
         "xaxis": "x",
         "y": [
          5,
          1,
          2,
          2,
          1
         ],
         "yaxis": "y"
        },
        {
         "hovertemplate": "page_title=Pipeline de Tarefas da Área<br>month_visited=%{x}<br>unique_views=%{y}<extra></extra>",
         "legendgroup": "Pipeline de Tarefas da Área",
         "line": {
          "color": "#FFA15A",
          "dash": "solid"
         },
         "marker": {
          "symbol": "circle"
         },
         "mode": "lines",
         "name": "Pipeline de Tarefas da Área",
         "orientation": "v",
         "showlegend": true,
         "type": "scatter",
         "x": [
          "2023-03",
          "2023-04",
          "2023-08"
         ],
         "xaxis": "x",
         "y": [
          1,
          3,
          1
         ],
         "yaxis": "y"
        },
        {
         "hovertemplate": "page_title=Bolsistas<br>month_visited=%{x}<br>unique_views=%{y}<extra></extra>",
         "legendgroup": "Bolsistas",
         "line": {
          "color": "#19d3f3",
          "dash": "solid"
         },
         "marker": {
          "symbol": "circle"
         },
         "mode": "lines",
         "name": "Bolsistas",
         "orientation": "v",
         "showlegend": true,
         "type": "scatter",
         "x": [
          "2023-08"
         ],
         "xaxis": "x",
         "y": [
          1
         ],
         "yaxis": "y"
        },
        {
         "hovertemplate": "page_title=Calendário<br>month_visited=%{x}<br>unique_views=%{y}<extra></extra>",
         "legendgroup": "Calendário",
         "line": {
          "color": "#FF6692",
          "dash": "solid"
         },
         "marker": {
          "symbol": "circle"
         },
         "mode": "lines",
         "name": "Calendário",
         "orientation": "v",
         "showlegend": true,
         "type": "scatter",
         "x": [
          "2023-08"
         ],
         "xaxis": "x",
         "y": [
          1
         ],
         "yaxis": "y"
        },
        {
         "hovertemplate": "page_title=Abastecimento de funil (novos potenciais PGD!)<br>month_visited=%{x}<br>unique_views=%{y}<extra></extra>",
         "legendgroup": "Abastecimento de funil (novos potenciais PGD!)",
         "line": {
          "color": "#B6E880",
          "dash": "solid"
         },
         "marker": {
          "symbol": "circle"
         },
         "mode": "lines",
         "name": "Abastecimento de funil (novos potenciais PGD!)",
         "orientation": "v",
         "showlegend": true,
         "type": "scatter",
         "x": [
          "2023-04",
          "2023-06",
          "2023-09"
         ],
         "xaxis": "x",
         "y": [
          5,
          1,
          1
         ],
         "yaxis": "y"
        },
        {
         "hovertemplate": "page_title=Reunião Conselho Administrativo (RCA)<br>month_visited=%{x}<br>unique_views=%{y}<extra></extra>",
         "legendgroup": "Reunião Conselho Administrativo (RCA)",
         "line": {
          "color": "#FF97FF",
          "dash": "solid"
         },
         "marker": {
          "symbol": "circle"
         },
         "mode": "lines",
         "name": "Reunião Conselho Administrativo (RCA)",
         "orientation": "v",
         "showlegend": true,
         "type": "scatter",
         "x": [
          "2022-10",
          "2023-02",
          "2023-04",
          "2023-10"
         ],
         "xaxis": "x",
         "y": [
          1,
          1,
          2,
          1
         ],
         "yaxis": "y"
        },
        {
         "hovertemplate": "page_title=Planejamento Anna<br>month_visited=%{x}<br>unique_views=%{y}<extra></extra>",
         "legendgroup": "Planejamento Anna",
         "line": {
          "color": "#FECB52",
          "dash": "solid"
         },
         "marker": {
          "symbol": "circle"
         },
         "mode": "lines",
         "name": "Planejamento Anna",
         "orientation": "v",
         "showlegend": true,
         "type": "scatter",
         "x": [
          "2022-12",
          "2023-01",
          "2023-08"
         ],
         "xaxis": "x",
         "y": [
          1,
          1,
          1
         ],
         "yaxis": "y"
        },
        {
         "hovertemplate": "page_title=O que o Jurídico faz?<br>month_visited=%{x}<br>unique_views=%{y}<extra></extra>",
         "legendgroup": "O que o Jurídico faz?",
         "line": {
          "color": "#636efa",
          "dash": "solid"
         },
         "marker": {
          "symbol": "circle"
         },
         "mode": "lines",
         "name": "O que o Jurídico faz?",
         "orientation": "v",
         "showlegend": true,
         "type": "scatter",
         "x": [
          "2022-12",
          "2023-02",
          "2023-04",
          "2023-08"
         ],
         "xaxis": "x",
         "y": [
          1,
          1,
          1,
          1
         ],
         "yaxis": "y"
        },
        {
         "hovertemplate": "page_title=Checks do Financeiro<br>month_visited=%{x}<br>unique_views=%{y}<extra></extra>",
         "legendgroup": "Checks do Financeiro",
         "line": {
          "color": "#EF553B",
          "dash": "solid"
         },
         "marker": {
          "symbol": "circle"
         },
         "mode": "lines",
         "name": "Checks do Financeiro",
         "orientation": "v",
         "showlegend": true,
         "type": "scatter",
         "x": [
          "2023-06",
          "2023-07"
         ],
         "xaxis": "x",
         "y": [
          1,
          1
         ],
         "yaxis": "y"
        },
        {
         "hovertemplate": "page_title=Quero enviar um email para a nossa base<br>month_visited=%{x}<br>unique_views=%{y}<extra></extra>",
         "legendgroup": "Quero enviar um email para a nossa base",
         "line": {
          "color": "#00cc96",
          "dash": "solid"
         },
         "marker": {
          "symbol": "circle"
         },
         "mode": "lines",
         "name": "Quero enviar um email para a nossa base",
         "orientation": "v",
         "showlegend": true,
         "type": "scatter",
         "x": [
          "2023-07"
         ],
         "xaxis": "x",
         "y": [
          1
         ],
         "yaxis": "y"
        },
        {
         "hovertemplate": "page_title=Quero criar uma campanha nas redes sociais<br>month_visited=%{x}<br>unique_views=%{y}<extra></extra>",
         "legendgroup": "Quero criar uma campanha nas redes sociais",
         "line": {
          "color": "#ab63fa",
          "dash": "solid"
         },
         "marker": {
          "symbol": "circle"
         },
         "mode": "lines",
         "name": "Quero criar uma campanha nas redes sociais",
         "orientation": "v",
         "showlegend": true,
         "type": "scatter",
         "x": [
          "2023-07"
         ],
         "xaxis": "x",
         "y": [
          1
         ],
         "yaxis": "y"
        },
        {
         "hovertemplate": "page_title=Proposta de OKRs Reditus 2022<br>month_visited=%{x}<br>unique_views=%{y}<extra></extra>",
         "legendgroup": "Proposta de OKRs Reditus 2022",
         "line": {
          "color": "#FFA15A",
          "dash": "solid"
         },
         "marker": {
          "symbol": "circle"
         },
         "mode": "lines",
         "name": "Proposta de OKRs Reditus 2022",
         "orientation": "v",
         "showlegend": true,
         "type": "scatter",
         "x": [
          "2022-08",
          "2022-09",
          "2022-12",
          "2023-03",
          "2023-04",
          "2023-05",
          "2023-08"
         ],
         "xaxis": "x",
         "y": [
          2,
          1,
          1,
          3,
          1,
          1,
          1
         ],
         "yaxis": "y"
        },
        {
         "hovertemplate": "page_title=Dinâmicas PEIR<br>month_visited=%{x}<br>unique_views=%{y}<extra></extra>",
         "legendgroup": "Dinâmicas PEIR",
         "line": {
          "color": "#19d3f3",
          "dash": "solid"
         },
         "marker": {
          "symbol": "circle"
         },
         "mode": "lines",
         "name": "Dinâmicas PEIR",
         "orientation": "v",
         "showlegend": true,
         "type": "scatter",
         "x": [
          "2023-09"
         ],
         "xaxis": "x",
         "y": [
          1
         ],
         "yaxis": "y"
        },
        {
         "hovertemplate": "page_title=Lista com Contatos de GDs<br>month_visited=%{x}<br>unique_views=%{y}<extra></extra>",
         "legendgroup": "Lista com Contatos de GDs",
         "line": {
          "color": "#FF6692",
          "dash": "solid"
         },
         "marker": {
          "symbol": "circle"
         },
         "mode": "lines",
         "name": "Lista com Contatos de GDs",
         "orientation": "v",
         "showlegend": true,
         "type": "scatter",
         "x": [
          "2023-09"
         ],
         "xaxis": "x",
         "y": [
          1
         ],
         "yaxis": "y"
        },
        {
         "hovertemplate": "page_title=Priorização e Abordagem de PGDs<br>month_visited=%{x}<br>unique_views=%{y}<extra></extra>",
         "legendgroup": "Priorização e Abordagem de PGDs",
         "line": {
          "color": "#B6E880",
          "dash": "solid"
         },
         "marker": {
          "symbol": "circle"
         },
         "mode": "lines",
         "name": "Priorização e Abordagem de PGDs",
         "orientation": "v",
         "showlegend": true,
         "type": "scatter",
         "x": [
          "2023-03",
          "2023-04",
          "2023-05",
          "2023-06",
          "2023-09"
         ],
         "xaxis": "x",
         "y": [
          1,
          7,
          1,
          1,
          1
         ],
         "yaxis": "y"
        },
        {
         "hovertemplate": "page_title=O que o Financeiro faz? modelo<br>month_visited=%{x}<br>unique_views=%{y}<extra></extra>",
         "legendgroup": "O que o Financeiro faz? modelo",
         "line": {
          "color": "#FF97FF",
          "dash": "solid"
         },
         "marker": {
          "symbol": "circle"
         },
         "mode": "lines",
         "name": "O que o Financeiro faz? modelo",
         "orientation": "v",
         "showlegend": true,
         "type": "scatter",
         "x": [
          "2023-01",
          "2023-03",
          "2023-08"
         ],
         "xaxis": "x",
         "y": [
          1,
          2,
          1
         ],
         "yaxis": "y"
        },
        {
         "hovertemplate": "page_title=Alterações do site<br>month_visited=%{x}<br>unique_views=%{y}<extra></extra>",
         "legendgroup": "Alterações do site",
         "line": {
          "color": "#FECB52",
          "dash": "solid"
         },
         "marker": {
          "symbol": "circle"
         },
         "mode": "lines",
         "name": "Alterações do site",
         "orientation": "v",
         "showlegend": true,
         "type": "scatter",
         "x": [
          "2022-08",
          "2022-09",
          "2022-11",
          "2023-01",
          "2023-04",
          "2023-05"
         ],
         "xaxis": "x",
         "y": [
          6,
          2,
          2,
          2,
          1,
          1
         ],
         "yaxis": "y"
        },
        {
         "hovertemplate": "page_title=PEIR 22.2<br>month_visited=%{x}<br>unique_views=%{y}<extra></extra>",
         "legendgroup": "PEIR 22.2",
         "line": {
          "color": "#636efa",
          "dash": "solid"
         },
         "marker": {
          "symbol": "circle"
         },
         "mode": "lines",
         "name": "PEIR 22.2",
         "orientation": "v",
         "showlegend": true,
         "type": "scatter",
         "x": [
          "2022-08",
          "2022-10",
          "2022-11",
          "2023-03",
          "2023-05"
         ],
         "xaxis": "x",
         "y": [
          3,
          3,
          1,
          1,
          1
         ],
         "yaxis": "y"
        },
        {
         "hovertemplate": "page_title=Estrutura<br>month_visited=%{x}<br>unique_views=%{y}<extra></extra>",
         "legendgroup": "Estrutura",
         "line": {
          "color": "#EF553B",
          "dash": "solid"
         },
         "marker": {
          "symbol": "circle"
         },
         "mode": "lines",
         "name": "Estrutura",
         "orientation": "v",
         "showlegend": true,
         "type": "scatter",
         "x": [
          "2022-09",
          "2022-10"
         ],
         "xaxis": "x",
         "y": [
          1,
          1
         ],
         "yaxis": "y"
        },
        {
         "hovertemplate": "page_title=Gestão do Conhecimento: Jestor<br>month_visited=%{x}<br>unique_views=%{y}<extra></extra>",
         "legendgroup": "Gestão do Conhecimento: Jestor",
         "line": {
          "color": "#00cc96",
          "dash": "solid"
         },
         "marker": {
          "symbol": "circle"
         },
         "mode": "lines",
         "name": "Gestão do Conhecimento: Jestor",
         "orientation": "v",
         "showlegend": true,
         "type": "scatter",
         "x": [
          "2022-09",
          "2022-10",
          "2023-01"
         ],
         "xaxis": "x",
         "y": [
          2,
          3,
          2
         ],
         "yaxis": "y"
        },
        {
         "hovertemplate": "page_title=Princípios do Jestor (3:30 minutos de leitura)<br>month_visited=%{x}<br>unique_views=%{y}<extra></extra>",
         "legendgroup": "Princípios do Jestor (3:30 minutos de leitura)",
         "line": {
          "color": "#ab63fa",
          "dash": "solid"
         },
         "marker": {
          "symbol": "circle"
         },
         "mode": "lines",
         "name": "Princípios do Jestor (3:30 minutos de leitura)",
         "orientation": "v",
         "showlegend": true,
         "type": "scatter",
         "x": [
          "2022-09",
          "2022-10"
         ],
         "xaxis": "x",
         "y": [
          1,
          1
         ],
         "yaxis": "y"
        },
        {
         "hovertemplate": "page_title=Processos do Dia a Dia<br>month_visited=%{x}<br>unique_views=%{y}<extra></extra>",
         "legendgroup": "Processos do Dia a Dia",
         "line": {
          "color": "#FFA15A",
          "dash": "solid"
         },
         "marker": {
          "symbol": "circle"
         },
         "mode": "lines",
         "name": "Processos do Dia a Dia",
         "orientation": "v",
         "showlegend": true,
         "type": "scatter",
         "x": [
          "2022-09"
         ],
         "xaxis": "x",
         "y": [
          1
         ],
         "yaxis": "y"
        },
        {
         "hovertemplate": "page_title=Análise de métricas no Meta Business Suite<br>month_visited=%{x}<br>unique_views=%{y}<extra></extra>",
         "legendgroup": "Análise de métricas no Meta Business Suite",
         "line": {
          "color": "#19d3f3",
          "dash": "solid"
         },
         "marker": {
          "symbol": "circle"
         },
         "mode": "lines",
         "name": "Análise de métricas no Meta Business Suite",
         "orientation": "v",
         "showlegend": true,
         "type": "scatter",
         "x": [
          "2022-10",
          "2023-02"
         ],
         "xaxis": "x",
         "y": [
          1,
          1
         ],
         "yaxis": "y"
        },
        {
         "hovertemplate": "page_title=O que Gente e Gestão faz?<br>month_visited=%{x}<br>unique_views=%{y}<extra></extra>",
         "legendgroup": "O que Gente e Gestão faz?",
         "line": {
          "color": "#FF6692",
          "dash": "solid"
         },
         "marker": {
          "symbol": "circle"
         },
         "mode": "lines",
         "name": "O que Gente e Gestão faz?",
         "orientation": "v",
         "showlegend": true,
         "type": "scatter",
         "x": [
          "2022-10"
         ],
         "xaxis": "x",
         "y": [
          1
         ],
         "yaxis": "y"
        },
        {
         "hovertemplate": "page_title=One pagers da áreas (old versions)<br>month_visited=%{x}<br>unique_views=%{y}<extra></extra>",
         "legendgroup": "One pagers da áreas (old versions)",
         "line": {
          "color": "#B6E880",
          "dash": "solid"
         },
         "marker": {
          "symbol": "circle"
         },
         "mode": "lines",
         "name": "One pagers da áreas (old versions)",
         "orientation": "v",
         "showlegend": true,
         "type": "scatter",
         "x": [
          "2022-10",
          "2023-04"
         ],
         "xaxis": "x",
         "y": [
          1,
          1
         ],
         "yaxis": "y"
        },
        {
         "hovertemplate": "page_title=Reestruturação Organizacional<br>month_visited=%{x}<br>unique_views=%{y}<extra></extra>",
         "legendgroup": "Reestruturação Organizacional",
         "line": {
          "color": "#FF97FF",
          "dash": "solid"
         },
         "marker": {
          "symbol": "circle"
         },
         "mode": "lines",
         "name": "Reestruturação Organizacional",
         "orientation": "v",
         "showlegend": true,
         "type": "scatter",
         "x": [
          "2022-10",
          "2022-12",
          "2023-04"
         ],
         "xaxis": "x",
         "y": [
          1,
          1,
          2
         ],
         "yaxis": "y"
        },
        {
         "hovertemplate": "page_title=Tutoriais de Airtable<br>month_visited=%{x}<br>unique_views=%{y}<extra></extra>",
         "legendgroup": "Tutoriais de Airtable",
         "line": {
          "color": "#FECB52",
          "dash": "solid"
         },
         "marker": {
          "symbol": "circle"
         },
         "mode": "lines",
         "name": "Tutoriais de Airtable",
         "orientation": "v",
         "showlegend": true,
         "type": "scatter",
         "x": [
          "2023-03",
          "2023-04",
          "2023-05",
          "2023-06"
         ],
         "xaxis": "x",
         "y": [
          12,
          3,
          2,
          1
         ],
         "yaxis": "y"
        },
        {
         "hovertemplate": "page_title=Apresentação Final<br>month_visited=%{x}<br>unique_views=%{y}<extra></extra>",
         "legendgroup": "Apresentação Final",
         "line": {
          "color": "#636efa",
          "dash": "solid"
         },
         "marker": {
          "symbol": "circle"
         },
         "mode": "lines",
         "name": "Apresentação Final",
         "orientation": "v",
         "showlegend": true,
         "type": "scatter",
         "x": [
          "2023-04"
         ],
         "xaxis": "x",
         "y": [
          2
         ],
         "yaxis": "y"
        },
        {
         "hovertemplate": "page_title=Benchmarking<br>month_visited=%{x}<br>unique_views=%{y}<extra></extra>",
         "legendgroup": "Benchmarking",
         "line": {
          "color": "#EF553B",
          "dash": "solid"
         },
         "marker": {
          "symbol": "circle"
         },
         "mode": "lines",
         "name": "Benchmarking",
         "orientation": "v",
         "showlegend": true,
         "type": "scatter",
         "x": [
          "2023-04"
         ],
         "xaxis": "x",
         "y": [
          1
         ],
         "yaxis": "y"
        },
        {
         "hovertemplate": "page_title=Ferramentas em exploração<br>month_visited=%{x}<br>unique_views=%{y}<extra></extra>",
         "legendgroup": "Ferramentas em exploração",
         "line": {
          "color": "#00cc96",
          "dash": "solid"
         },
         "marker": {
          "symbol": "circle"
         },
         "mode": "lines",
         "name": "Ferramentas em exploração",
         "orientation": "v",
         "showlegend": true,
         "type": "scatter",
         "x": [
          "2023-04",
          "2023-05"
         ],
         "xaxis": "x",
         "y": [
          1,
          1
         ],
         "yaxis": "y"
        },
        {
         "hovertemplate": "page_title=Materiais de Estudo<br>month_visited=%{x}<br>unique_views=%{y}<extra></extra>",
         "legendgroup": "Materiais de Estudo",
         "line": {
          "color": "#ab63fa",
          "dash": "solid"
         },
         "marker": {
          "symbol": "circle"
         },
         "mode": "lines",
         "name": "Materiais de Estudo",
         "orientation": "v",
         "showlegend": true,
         "type": "scatter",
         "x": [
          "2023-04"
         ],
         "xaxis": "x",
         "y": [
          1
         ],
         "yaxis": "y"
        },
        {
         "hovertemplate": "page_title=Organização de demandas externas<br>month_visited=%{x}<br>unique_views=%{y}<extra></extra>",
         "legendgroup": "Organização de demandas externas",
         "line": {
          "color": "#FFA15A",
          "dash": "solid"
         },
         "marker": {
          "symbol": "circle"
         },
         "mode": "lines",
         "name": "Organização de demandas externas",
         "orientation": "v",
         "showlegend": true,
         "type": "scatter",
         "x": [
          "2023-04"
         ],
         "xaxis": "x",
         "y": [
          1
         ],
         "yaxis": "y"
        },
        {
         "hovertemplate": "page_title=Planejamento<br>month_visited=%{x}<br>unique_views=%{y}<extra></extra>",
         "legendgroup": "Planejamento",
         "line": {
          "color": "#19d3f3",
          "dash": "solid"
         },
         "marker": {
          "symbol": "circle"
         },
         "mode": "lines",
         "name": "Planejamento",
         "orientation": "v",
         "showlegend": true,
         "type": "scatter",
         "x": [
          "2023-04"
         ],
         "xaxis": "x",
         "y": [
          1
         ],
         "yaxis": "y"
        },
        {
         "hovertemplate": "page_title=Metas<br>month_visited=%{x}<br>unique_views=%{y}<extra></extra>",
         "legendgroup": "Metas",
         "line": {
          "color": "#FF6692",
          "dash": "solid"
         },
         "marker": {
          "symbol": "circle"
         },
         "mode": "lines",
         "name": "Metas",
         "orientation": "v",
         "showlegend": true,
         "type": "scatter",
         "x": [
          "2023-06"
         ],
         "xaxis": "x",
         "y": [
          1
         ],
         "yaxis": "y"
        }
       ],
       "layout": {
        "legend": {
         "title": {
          "text": "page_title"
         },
         "tracegroupgap": 0
        },
        "template": {
         "data": {
          "bar": [
           {
            "error_x": {
             "color": "#2a3f5f"
            },
            "error_y": {
             "color": "#2a3f5f"
            },
            "marker": {
             "line": {
              "color": "#E5ECF6",
              "width": 0.5
             },
             "pattern": {
              "fillmode": "overlay",
              "size": 10,
              "solidity": 0.2
             }
            },
            "type": "bar"
           }
          ],
          "barpolar": [
           {
            "marker": {
             "line": {
              "color": "#E5ECF6",
              "width": 0.5
             },
             "pattern": {
              "fillmode": "overlay",
              "size": 10,
              "solidity": 0.2
             }
            },
            "type": "barpolar"
           }
          ],
          "carpet": [
           {
            "aaxis": {
             "endlinecolor": "#2a3f5f",
             "gridcolor": "white",
             "linecolor": "white",
             "minorgridcolor": "white",
             "startlinecolor": "#2a3f5f"
            },
            "baxis": {
             "endlinecolor": "#2a3f5f",
             "gridcolor": "white",
             "linecolor": "white",
             "minorgridcolor": "white",
             "startlinecolor": "#2a3f5f"
            },
            "type": "carpet"
           }
          ],
          "choropleth": [
           {
            "colorbar": {
             "outlinewidth": 0,
             "ticks": ""
            },
            "type": "choropleth"
           }
          ],
          "contour": [
           {
            "colorbar": {
             "outlinewidth": 0,
             "ticks": ""
            },
            "colorscale": [
             [
              0,
              "#0d0887"
             ],
             [
              0.1111111111111111,
              "#46039f"
             ],
             [
              0.2222222222222222,
              "#7201a8"
             ],
             [
              0.3333333333333333,
              "#9c179e"
             ],
             [
              0.4444444444444444,
              "#bd3786"
             ],
             [
              0.5555555555555556,
              "#d8576b"
             ],
             [
              0.6666666666666666,
              "#ed7953"
             ],
             [
              0.7777777777777778,
              "#fb9f3a"
             ],
             [
              0.8888888888888888,
              "#fdca26"
             ],
             [
              1,
              "#f0f921"
             ]
            ],
            "type": "contour"
           }
          ],
          "contourcarpet": [
           {
            "colorbar": {
             "outlinewidth": 0,
             "ticks": ""
            },
            "type": "contourcarpet"
           }
          ],
          "heatmap": [
           {
            "colorbar": {
             "outlinewidth": 0,
             "ticks": ""
            },
            "colorscale": [
             [
              0,
              "#0d0887"
             ],
             [
              0.1111111111111111,
              "#46039f"
             ],
             [
              0.2222222222222222,
              "#7201a8"
             ],
             [
              0.3333333333333333,
              "#9c179e"
             ],
             [
              0.4444444444444444,
              "#bd3786"
             ],
             [
              0.5555555555555556,
              "#d8576b"
             ],
             [
              0.6666666666666666,
              "#ed7953"
             ],
             [
              0.7777777777777778,
              "#fb9f3a"
             ],
             [
              0.8888888888888888,
              "#fdca26"
             ],
             [
              1,
              "#f0f921"
             ]
            ],
            "type": "heatmap"
           }
          ],
          "heatmapgl": [
           {
            "colorbar": {
             "outlinewidth": 0,
             "ticks": ""
            },
            "colorscale": [
             [
              0,
              "#0d0887"
             ],
             [
              0.1111111111111111,
              "#46039f"
             ],
             [
              0.2222222222222222,
              "#7201a8"
             ],
             [
              0.3333333333333333,
              "#9c179e"
             ],
             [
              0.4444444444444444,
              "#bd3786"
             ],
             [
              0.5555555555555556,
              "#d8576b"
             ],
             [
              0.6666666666666666,
              "#ed7953"
             ],
             [
              0.7777777777777778,
              "#fb9f3a"
             ],
             [
              0.8888888888888888,
              "#fdca26"
             ],
             [
              1,
              "#f0f921"
             ]
            ],
            "type": "heatmapgl"
           }
          ],
          "histogram": [
           {
            "marker": {
             "pattern": {
              "fillmode": "overlay",
              "size": 10,
              "solidity": 0.2
             }
            },
            "type": "histogram"
           }
          ],
          "histogram2d": [
           {
            "colorbar": {
             "outlinewidth": 0,
             "ticks": ""
            },
            "colorscale": [
             [
              0,
              "#0d0887"
             ],
             [
              0.1111111111111111,
              "#46039f"
             ],
             [
              0.2222222222222222,
              "#7201a8"
             ],
             [
              0.3333333333333333,
              "#9c179e"
             ],
             [
              0.4444444444444444,
              "#bd3786"
             ],
             [
              0.5555555555555556,
              "#d8576b"
             ],
             [
              0.6666666666666666,
              "#ed7953"
             ],
             [
              0.7777777777777778,
              "#fb9f3a"
             ],
             [
              0.8888888888888888,
              "#fdca26"
             ],
             [
              1,
              "#f0f921"
             ]
            ],
            "type": "histogram2d"
           }
          ],
          "histogram2dcontour": [
           {
            "colorbar": {
             "outlinewidth": 0,
             "ticks": ""
            },
            "colorscale": [
             [
              0,
              "#0d0887"
             ],
             [
              0.1111111111111111,
              "#46039f"
             ],
             [
              0.2222222222222222,
              "#7201a8"
             ],
             [
              0.3333333333333333,
              "#9c179e"
             ],
             [
              0.4444444444444444,
              "#bd3786"
             ],
             [
              0.5555555555555556,
              "#d8576b"
             ],
             [
              0.6666666666666666,
              "#ed7953"
             ],
             [
              0.7777777777777778,
              "#fb9f3a"
             ],
             [
              0.8888888888888888,
              "#fdca26"
             ],
             [
              1,
              "#f0f921"
             ]
            ],
            "type": "histogram2dcontour"
           }
          ],
          "mesh3d": [
           {
            "colorbar": {
             "outlinewidth": 0,
             "ticks": ""
            },
            "type": "mesh3d"
           }
          ],
          "parcoords": [
           {
            "line": {
             "colorbar": {
              "outlinewidth": 0,
              "ticks": ""
             }
            },
            "type": "parcoords"
           }
          ],
          "pie": [
           {
            "automargin": true,
            "type": "pie"
           }
          ],
          "scatter": [
           {
            "fillpattern": {
             "fillmode": "overlay",
             "size": 10,
             "solidity": 0.2
            },
            "type": "scatter"
           }
          ],
          "scatter3d": [
           {
            "line": {
             "colorbar": {
              "outlinewidth": 0,
              "ticks": ""
             }
            },
            "marker": {
             "colorbar": {
              "outlinewidth": 0,
              "ticks": ""
             }
            },
            "type": "scatter3d"
           }
          ],
          "scattercarpet": [
           {
            "marker": {
             "colorbar": {
              "outlinewidth": 0,
              "ticks": ""
             }
            },
            "type": "scattercarpet"
           }
          ],
          "scattergeo": [
           {
            "marker": {
             "colorbar": {
              "outlinewidth": 0,
              "ticks": ""
             }
            },
            "type": "scattergeo"
           }
          ],
          "scattergl": [
           {
            "marker": {
             "colorbar": {
              "outlinewidth": 0,
              "ticks": ""
             }
            },
            "type": "scattergl"
           }
          ],
          "scattermapbox": [
           {
            "marker": {
             "colorbar": {
              "outlinewidth": 0,
              "ticks": ""
             }
            },
            "type": "scattermapbox"
           }
          ],
          "scatterpolar": [
           {
            "marker": {
             "colorbar": {
              "outlinewidth": 0,
              "ticks": ""
             }
            },
            "type": "scatterpolar"
           }
          ],
          "scatterpolargl": [
           {
            "marker": {
             "colorbar": {
              "outlinewidth": 0,
              "ticks": ""
             }
            },
            "type": "scatterpolargl"
           }
          ],
          "scatterternary": [
           {
            "marker": {
             "colorbar": {
              "outlinewidth": 0,
              "ticks": ""
             }
            },
            "type": "scatterternary"
           }
          ],
          "surface": [
           {
            "colorbar": {
             "outlinewidth": 0,
             "ticks": ""
            },
            "colorscale": [
             [
              0,
              "#0d0887"
             ],
             [
              0.1111111111111111,
              "#46039f"
             ],
             [
              0.2222222222222222,
              "#7201a8"
             ],
             [
              0.3333333333333333,
              "#9c179e"
             ],
             [
              0.4444444444444444,
              "#bd3786"
             ],
             [
              0.5555555555555556,
              "#d8576b"
             ],
             [
              0.6666666666666666,
              "#ed7953"
             ],
             [
              0.7777777777777778,
              "#fb9f3a"
             ],
             [
              0.8888888888888888,
              "#fdca26"
             ],
             [
              1,
              "#f0f921"
             ]
            ],
            "type": "surface"
           }
          ],
          "table": [
           {
            "cells": {
             "fill": {
              "color": "#EBF0F8"
             },
             "line": {
              "color": "white"
             }
            },
            "header": {
             "fill": {
              "color": "#C8D4E3"
             },
             "line": {
              "color": "white"
             }
            },
            "type": "table"
           }
          ]
         },
         "layout": {
          "annotationdefaults": {
           "arrowcolor": "#2a3f5f",
           "arrowhead": 0,
           "arrowwidth": 1
          },
          "autotypenumbers": "strict",
          "coloraxis": {
           "colorbar": {
            "outlinewidth": 0,
            "ticks": ""
           }
          },
          "colorscale": {
           "diverging": [
            [
             0,
             "#8e0152"
            ],
            [
             0.1,
             "#c51b7d"
            ],
            [
             0.2,
             "#de77ae"
            ],
            [
             0.3,
             "#f1b6da"
            ],
            [
             0.4,
             "#fde0ef"
            ],
            [
             0.5,
             "#f7f7f7"
            ],
            [
             0.6,
             "#e6f5d0"
            ],
            [
             0.7,
             "#b8e186"
            ],
            [
             0.8,
             "#7fbc41"
            ],
            [
             0.9,
             "#4d9221"
            ],
            [
             1,
             "#276419"
            ]
           ],
           "sequential": [
            [
             0,
             "#0d0887"
            ],
            [
             0.1111111111111111,
             "#46039f"
            ],
            [
             0.2222222222222222,
             "#7201a8"
            ],
            [
             0.3333333333333333,
             "#9c179e"
            ],
            [
             0.4444444444444444,
             "#bd3786"
            ],
            [
             0.5555555555555556,
             "#d8576b"
            ],
            [
             0.6666666666666666,
             "#ed7953"
            ],
            [
             0.7777777777777778,
             "#fb9f3a"
            ],
            [
             0.8888888888888888,
             "#fdca26"
            ],
            [
             1,
             "#f0f921"
            ]
           ],
           "sequentialminus": [
            [
             0,
             "#0d0887"
            ],
            [
             0.1111111111111111,
             "#46039f"
            ],
            [
             0.2222222222222222,
             "#7201a8"
            ],
            [
             0.3333333333333333,
             "#9c179e"
            ],
            [
             0.4444444444444444,
             "#bd3786"
            ],
            [
             0.5555555555555556,
             "#d8576b"
            ],
            [
             0.6666666666666666,
             "#ed7953"
            ],
            [
             0.7777777777777778,
             "#fb9f3a"
            ],
            [
             0.8888888888888888,
             "#fdca26"
            ],
            [
             1,
             "#f0f921"
            ]
           ]
          },
          "colorway": [
           "#636efa",
           "#EF553B",
           "#00cc96",
           "#ab63fa",
           "#FFA15A",
           "#19d3f3",
           "#FF6692",
           "#B6E880",
           "#FF97FF",
           "#FECB52"
          ],
          "font": {
           "color": "#2a3f5f"
          },
          "geo": {
           "bgcolor": "white",
           "lakecolor": "white",
           "landcolor": "#E5ECF6",
           "showlakes": true,
           "showland": true,
           "subunitcolor": "white"
          },
          "hoverlabel": {
           "align": "left"
          },
          "hovermode": "closest",
          "mapbox": {
           "style": "light"
          },
          "paper_bgcolor": "white",
          "plot_bgcolor": "#E5ECF6",
          "polar": {
           "angularaxis": {
            "gridcolor": "white",
            "linecolor": "white",
            "ticks": ""
           },
           "bgcolor": "#E5ECF6",
           "radialaxis": {
            "gridcolor": "white",
            "linecolor": "white",
            "ticks": ""
           }
          },
          "scene": {
           "xaxis": {
            "backgroundcolor": "#E5ECF6",
            "gridcolor": "white",
            "gridwidth": 2,
            "linecolor": "white",
            "showbackground": true,
            "ticks": "",
            "zerolinecolor": "white"
           },
           "yaxis": {
            "backgroundcolor": "#E5ECF6",
            "gridcolor": "white",
            "gridwidth": 2,
            "linecolor": "white",
            "showbackground": true,
            "ticks": "",
            "zerolinecolor": "white"
           },
           "zaxis": {
            "backgroundcolor": "#E5ECF6",
            "gridcolor": "white",
            "gridwidth": 2,
            "linecolor": "white",
            "showbackground": true,
            "ticks": "",
            "zerolinecolor": "white"
           }
          },
          "shapedefaults": {
           "line": {
            "color": "#2a3f5f"
           }
          },
          "ternary": {
           "aaxis": {
            "gridcolor": "white",
            "linecolor": "white",
            "ticks": ""
           },
           "baxis": {
            "gridcolor": "white",
            "linecolor": "white",
            "ticks": ""
           },
           "bgcolor": "#E5ECF6",
           "caxis": {
            "gridcolor": "white",
            "linecolor": "white",
            "ticks": ""
           }
          },
          "title": {
           "x": 0.05
          },
          "xaxis": {
           "automargin": true,
           "gridcolor": "white",
           "linecolor": "white",
           "ticks": "",
           "title": {
            "standoff": 15
           },
           "zerolinecolor": "white",
           "zerolinewidth": 2
          },
          "yaxis": {
           "automargin": true,
           "gridcolor": "white",
           "linecolor": "white",
           "ticks": "",
           "title": {
            "standoff": 15
           },
           "zerolinecolor": "white",
           "zerolinewidth": 2
          }
         }
        },
        "title": {
         "text": "Visualizações Únicas por Mês"
        },
        "xaxis": {
         "anchor": "y",
         "domain": [
          0,
          1
         ],
         "title": {
          "text": "month_visited"
         }
        },
        "yaxis": {
         "anchor": "x",
         "domain": [
          0,
          1
         ],
         "title": {
          "text": "unique_views"
         }
        }
       }
      }
     },
     "metadata": {},
     "output_type": "display_data"
    }
   ],
   "source": [
    "date_to_filter = (date.today() - relativedelta(months=3, day=1)).strftime('%Y-%m')\n",
    "legend_order = df_monthly.query(f'month_visited >= \"{date_to_filter}\"').groupby('page_title')['unique_views'].sum().sort_values(ascending=False).index.tolist()\n",
    "fig_unique_monthly = px.line(df_monthly, x='month_visited', y='unique_views', color='page_title', title='Visualizações Únicas por Mês', category_orders={\"page_title\": legend_order})\n",
    "fig_unique_monthly"
   ]
  },
  {
   "cell_type": "code",
   "execution_count": 45,
   "metadata": {},
   "outputs": [
    {
     "data": {
      "application/vnd.plotly.v1+json": {
       "config": {
        "plotlyServerURL": "https://plot.ly"
       },
       "data": [
        {
         "hovertemplate": "page_title=Instituto Reditus<br>month_visited=%{x}<br>total_views=%{y}<extra></extra>",
         "legendgroup": "Instituto Reditus",
         "line": {
          "color": "#636efa",
          "dash": "solid"
         },
         "marker": {
          "symbol": "circle"
         },
         "mode": "lines",
         "name": "Instituto Reditus",
         "orientation": "v",
         "showlegend": true,
         "type": "scatter",
         "x": [
          "2022-08",
          "2022-09",
          "2022-10",
          "2022-11",
          "2022-12",
          "2023-01",
          "2023-02",
          "2023-03",
          "2023-04",
          "2023-05",
          "2023-06",
          "2023-07",
          "2023-08",
          "2023-09",
          "2023-10"
         ],
         "xaxis": "x",
         "y": [
          49,
          54,
          71,
          60,
          55,
          112,
          135,
          121,
          128,
          96,
          33,
          85,
          114,
          96,
          66
         ],
         "yaxis": "y"
        },
        {
         "hovertemplate": "page_title=Gestão<br>month_visited=%{x}<br>total_views=%{y}<extra></extra>",
         "legendgroup": "Gestão",
         "line": {
          "color": "#EF553B",
          "dash": "solid"
         },
         "marker": {
          "symbol": "circle"
         },
         "mode": "lines",
         "name": "Gestão",
         "orientation": "v",
         "showlegend": true,
         "type": "scatter",
         "x": [
          "2022-08",
          "2022-09",
          "2022-10",
          "2022-11",
          "2022-12",
          "2023-01",
          "2023-02",
          "2023-03",
          "2023-04",
          "2023-05",
          "2023-06",
          "2023-07",
          "2023-08",
          "2023-09",
          "2023-10"
         ],
         "xaxis": "x",
         "y": [
          2,
          1,
          9,
          6,
          10,
          12,
          6,
          7,
          35,
          31,
          17,
          18,
          44,
          21,
          53
         ],
         "yaxis": "y"
        },
        {
         "hovertemplate": "page_title=Relacionamentos<br>month_visited=%{x}<br>total_views=%{y}<extra></extra>",
         "legendgroup": "Relacionamentos",
         "line": {
          "color": "#00cc96",
          "dash": "solid"
         },
         "marker": {
          "symbol": "circle"
         },
         "mode": "lines",
         "name": "Relacionamentos",
         "orientation": "v",
         "showlegend": true,
         "type": "scatter",
         "x": [
          "2022-08",
          "2022-09",
          "2022-10",
          "2022-11",
          "2023-01",
          "2023-02",
          "2023-03",
          "2023-04",
          "2023-05",
          "2023-06",
          "2023-07",
          "2023-08",
          "2023-09",
          "2023-10"
         ],
         "xaxis": "x",
         "y": [
          20,
          8,
          16,
          3,
          5,
          43,
          54,
          47,
          32,
          14,
          60,
          20,
          36,
          8
         ],
         "yaxis": "y"
        },
        {
         "hovertemplate": "page_title=Radar de execução<br>month_visited=%{x}<br>total_views=%{y}<extra></extra>",
         "legendgroup": "Radar de execução",
         "line": {
          "color": "#ab63fa",
          "dash": "solid"
         },
         "marker": {
          "symbol": "circle"
         },
         "mode": "lines",
         "name": "Radar de execução",
         "orientation": "v",
         "showlegend": true,
         "type": "scatter",
         "x": [
          "2023-04",
          "2023-05",
          "2023-06",
          "2023-07",
          "2023-08",
          "2023-09",
          "2023-10"
         ],
         "xaxis": "x",
         "y": [
          2,
          19,
          13,
          14,
          38,
          27,
          17
         ],
         "yaxis": "y"
        },
        {
         "hovertemplate": "page_title=Captação Personalizada<br>month_visited=%{x}<br>total_views=%{y}<extra></extra>",
         "legendgroup": "Captação Personalizada",
         "line": {
          "color": "#FFA15A",
          "dash": "solid"
         },
         "marker": {
          "symbol": "circle"
         },
         "mode": "lines",
         "name": "Captação Personalizada",
         "orientation": "v",
         "showlegend": true,
         "type": "scatter",
         "x": [
          "2022-08",
          "2022-09",
          "2022-10",
          "2022-11",
          "2022-12",
          "2023-01",
          "2023-02",
          "2023-03",
          "2023-04",
          "2023-05",
          "2023-06",
          "2023-07",
          "2023-08",
          "2023-09",
          "2023-10"
         ],
         "xaxis": "x",
         "y": [
          25,
          4,
          22,
          4,
          11,
          22,
          139,
          67,
          30,
          38,
          30,
          21,
          32,
          21,
          6
         ],
         "yaxis": "y"
        },
        {
         "hovertemplate": "page_title=Marketing<br>month_visited=%{x}<br>total_views=%{y}<extra></extra>",
         "legendgroup": "Marketing",
         "line": {
          "color": "#19d3f3",
          "dash": "solid"
         },
         "marker": {
          "symbol": "circle"
         },
         "mode": "lines",
         "name": "Marketing",
         "orientation": "v",
         "showlegend": true,
         "type": "scatter",
         "x": [
          "2022-08",
          "2022-09",
          "2022-10",
          "2022-11",
          "2022-12",
          "2023-01",
          "2023-02",
          "2023-03",
          "2023-04",
          "2023-05",
          "2023-06",
          "2023-07",
          "2023-08",
          "2023-09",
          "2023-10"
         ],
         "xaxis": "x",
         "y": [
          3,
          5,
          3,
          8,
          6,
          6,
          4,
          4,
          2,
          5,
          3,
          34,
          21,
          7,
          6
         ],
         "yaxis": "y"
        },
        {
         "hovertemplate": "page_title=Comunicação<br>month_visited=%{x}<br>total_views=%{y}<extra></extra>",
         "legendgroup": "Comunicação",
         "line": {
          "color": "#FF6692",
          "dash": "solid"
         },
         "marker": {
          "symbol": "circle"
         },
         "mode": "lines",
         "name": "Comunicação",
         "orientation": "v",
         "showlegend": true,
         "type": "scatter",
         "x": [
          "2022-08",
          "2022-09",
          "2022-10",
          "2022-11",
          "2022-12",
          "2023-01",
          "2023-02",
          "2023-03",
          "2023-04",
          "2023-05",
          "2023-06",
          "2023-07",
          "2023-08",
          "2023-09",
          "2023-10"
         ],
         "xaxis": "x",
         "y": [
          13,
          11,
          4,
          13,
          10,
          39,
          20,
          14,
          20,
          39,
          8,
          5,
          12,
          29,
          9
         ],
         "yaxis": "y"
        },
        {
         "hovertemplate": "page_title=Reditus Talk<br>month_visited=%{x}<br>total_views=%{y}<extra></extra>",
         "legendgroup": "Reditus Talk",
         "line": {
          "color": "#B6E880",
          "dash": "solid"
         },
         "marker": {
          "symbol": "circle"
         },
         "mode": "lines",
         "name": "Reditus Talk",
         "orientation": "v",
         "showlegend": true,
         "type": "scatter",
         "x": [
          "2022-08",
          "2022-09",
          "2022-10",
          "2022-11",
          "2022-12",
          "2023-01",
          "2023-02",
          "2023-03",
          "2023-04",
          "2023-05",
          "2023-06",
          "2023-07",
          "2023-08",
          "2023-09",
          "2023-10"
         ],
         "xaxis": "x",
         "y": [
          24,
          11,
          14,
          17,
          1,
          1,
          3,
          18,
          5,
          9,
          14,
          16,
          1,
          16,
          11
         ],
         "yaxis": "y"
        },
        {
         "hovertemplate": "page_title=Projetos<br>month_visited=%{x}<br>total_views=%{y}<extra></extra>",
         "legendgroup": "Projetos",
         "line": {
          "color": "#FF97FF",
          "dash": "solid"
         },
         "marker": {
          "symbol": "circle"
         },
         "mode": "lines",
         "name": "Projetos",
         "orientation": "v",
         "showlegend": true,
         "type": "scatter",
         "x": [
          "2022-08",
          "2022-09",
          "2022-10",
          "2022-11",
          "2022-12",
          "2023-01",
          "2023-02",
          "2023-03",
          "2023-04",
          "2023-05",
          "2023-06",
          "2023-07",
          "2023-08",
          "2023-09",
          "2023-10"
         ],
         "xaxis": "x",
         "y": [
          2,
          20,
          23,
          11,
          4,
          33,
          18,
          33,
          17,
          3,
          17,
          12,
          18,
          3,
          3
         ],
         "yaxis": "y"
        },
        {
         "hovertemplate": "page_title=Membros<br>month_visited=%{x}<br>total_views=%{y}<extra></extra>",
         "legendgroup": "Membros",
         "line": {
          "color": "#FECB52",
          "dash": "solid"
         },
         "marker": {
          "symbol": "circle"
         },
         "mode": "lines",
         "name": "Membros",
         "orientation": "v",
         "showlegend": true,
         "type": "scatter",
         "x": [
          "2022-08",
          "2022-09",
          "2022-10",
          "2022-11",
          "2022-12",
          "2023-01",
          "2023-02",
          "2023-03",
          "2023-04",
          "2023-05",
          "2023-06",
          "2023-07",
          "2023-08",
          "2023-09",
          "2023-10"
         ],
         "xaxis": "x",
         "y": [
          32,
          2,
          3,
          3,
          7,
          12,
          7,
          11,
          3,
          3,
          1,
          3,
          13,
          15,
          4
         ],
         "yaxis": "y"
        },
        {
         "hovertemplate": "page_title=Tecnologia<br>month_visited=%{x}<br>total_views=%{y}<extra></extra>",
         "legendgroup": "Tecnologia",
         "line": {
          "color": "#636efa",
          "dash": "solid"
         },
         "marker": {
          "symbol": "circle"
         },
         "mode": "lines",
         "name": "Tecnologia",
         "orientation": "v",
         "showlegend": true,
         "type": "scatter",
         "x": [
          "2022-12",
          "2023-01",
          "2023-02",
          "2023-03",
          "2023-04",
          "2023-06",
          "2023-07",
          "2023-08",
          "2023-09",
          "2023-10"
         ],
         "xaxis": "x",
         "y": [
          1,
          1,
          2,
          3,
          2,
          1,
          2,
          14,
          14,
          3
         ],
         "yaxis": "y"
        },
        {
         "hovertemplate": "page_title=Acompanhamento de Projetos<br>month_visited=%{x}<br>total_views=%{y}<extra></extra>",
         "legendgroup": "Acompanhamento de Projetos",
         "line": {
          "color": "#EF553B",
          "dash": "solid"
         },
         "marker": {
          "symbol": "circle"
         },
         "mode": "lines",
         "name": "Acompanhamento de Projetos",
         "orientation": "v",
         "showlegend": true,
         "type": "scatter",
         "x": [
          "2022-09",
          "2022-10",
          "2022-11",
          "2022-12",
          "2023-01",
          "2023-02",
          "2023-03",
          "2023-04",
          "2023-05",
          "2023-06",
          "2023-07",
          "2023-08",
          "2023-09",
          "2023-10"
         ],
         "xaxis": "x",
         "y": [
          35,
          40,
          6,
          2,
          30,
          17,
          37,
          11,
          6,
          5,
          6,
          16,
          8,
          2
         ],
         "yaxis": "y"
        },
        {
         "hovertemplate": "page_title=Interações Doadores + Doadores<br>month_visited=%{x}<br>total_views=%{y}<extra></extra>",
         "legendgroup": "Interações Doadores + Doadores",
         "line": {
          "color": "#00cc96",
          "dash": "solid"
         },
         "marker": {
          "symbol": "circle"
         },
         "mode": "lines",
         "name": "Interações Doadores + Doadores",
         "orientation": "v",
         "showlegend": true,
         "type": "scatter",
         "x": [
          "2022-08",
          "2022-09",
          "2022-10",
          "2022-11",
          "2023-02",
          "2023-03",
          "2023-04",
          "2023-05",
          "2023-06",
          "2023-07",
          "2023-08",
          "2023-09",
          "2023-10"
         ],
         "xaxis": "x",
         "y": [
          15,
          5,
          8,
          21,
          4,
          22,
          5,
          9,
          5,
          8,
          4,
          14,
          5
         ],
         "yaxis": "y"
        },
        {
         "hovertemplate": "page_title=Rituais<br>month_visited=%{x}<br>total_views=%{y}<extra></extra>",
         "legendgroup": "Rituais",
         "line": {
          "color": "#ab63fa",
          "dash": "solid"
         },
         "marker": {
          "symbol": "circle"
         },
         "mode": "lines",
         "name": "Rituais",
         "orientation": "v",
         "showlegend": true,
         "type": "scatter",
         "x": [
          "2022-08",
          "2022-09",
          "2022-10",
          "2022-11",
          "2022-12",
          "2023-01",
          "2023-02",
          "2023-03",
          "2023-04",
          "2023-05",
          "2023-06",
          "2023-07",
          "2023-08",
          "2023-09",
          "2023-10"
         ],
         "xaxis": "x",
         "y": [
          1,
          2,
          4,
          1,
          4,
          2,
          3,
          4,
          21,
          6,
          3,
          7,
          12,
          2,
          10
         ],
         "yaxis": "y"
        },
        {
         "hovertemplate": "page_title=Processos e rotinas de trabalho<br>month_visited=%{x}<br>total_views=%{y}<extra></extra>",
         "legendgroup": "Processos e rotinas de trabalho",
         "line": {
          "color": "#FFA15A",
          "dash": "solid"
         },
         "marker": {
          "symbol": "circle"
         },
         "mode": "lines",
         "name": "Processos e rotinas de trabalho",
         "orientation": "v",
         "showlegend": true,
         "type": "scatter",
         "x": [
          "2022-08",
          "2022-09",
          "2022-10",
          "2022-12",
          "2023-01",
          "2023-02",
          "2023-07",
          "2023-08",
          "2023-09"
         ],
         "xaxis": "x",
         "y": [
          1,
          2,
          2,
          1,
          1,
          1,
          18,
          11,
          1
         ],
         "yaxis": "y"
        },
        {
         "hovertemplate": "page_title=Gestão de processos<br>month_visited=%{x}<br>total_views=%{y}<extra></extra>",
         "legendgroup": "Gestão de processos",
         "line": {
          "color": "#19d3f3",
          "dash": "solid"
         },
         "marker": {
          "symbol": "circle"
         },
         "mode": "lines",
         "name": "Gestão de processos",
         "orientation": "v",
         "showlegend": true,
         "type": "scatter",
         "x": [
          "2023-07",
          "2023-08",
          "2023-09",
          "2023-10"
         ],
         "xaxis": "x",
         "y": [
          11,
          5,
          7,
          7
         ],
         "yaxis": "y"
        },
        {
         "hovertemplate": "page_title=Gente <br>month_visited=%{x}<br>total_views=%{y}<extra></extra>",
         "legendgroup": "Gente ",
         "line": {
          "color": "#FF6692",
          "dash": "solid"
         },
         "marker": {
          "symbol": "circle"
         },
         "mode": "lines",
         "name": "Gente ",
         "orientation": "v",
         "showlegend": true,
         "type": "scatter",
         "x": [
          "2022-08",
          "2022-09",
          "2022-10",
          "2022-11",
          "2022-12",
          "2023-02",
          "2023-03",
          "2023-04",
          "2023-05",
          "2023-06",
          "2023-08",
          "2023-09",
          "2023-10"
         ],
         "xaxis": "x",
         "y": [
          1,
          1,
          9,
          7,
          5,
          7,
          2,
          11,
          1,
          2,
          20,
          5,
          5
         ],
         "yaxis": "y"
        },
        {
         "hovertemplate": "page_title=Régua de comunicação<br>month_visited=%{x}<br>total_views=%{y}<extra></extra>",
         "legendgroup": "Régua de comunicação",
         "line": {
          "color": "#B6E880",
          "dash": "solid"
         },
         "marker": {
          "symbol": "circle"
         },
         "mode": "lines",
         "name": "Régua de comunicação",
         "orientation": "v",
         "showlegend": true,
         "type": "scatter",
         "x": [
          "2022-08",
          "2022-09",
          "2022-10",
          "2022-11",
          "2023-01",
          "2023-02",
          "2023-03",
          "2023-04",
          "2023-05",
          "2023-06",
          "2023-07",
          "2023-08",
          "2023-09",
          "2023-10"
         ],
         "xaxis": "x",
         "y": [
          2,
          3,
          3,
          1,
          8,
          24,
          12,
          7,
          6,
          4,
          8,
          6,
          15,
          1
         ],
         "yaxis": "y"
        },
        {
         "hovertemplate": "page_title=Financeiro<br>month_visited=%{x}<br>total_views=%{y}<extra></extra>",
         "legendgroup": "Financeiro",
         "line": {
          "color": "#FF97FF",
          "dash": "solid"
         },
         "marker": {
          "symbol": "circle"
         },
         "mode": "lines",
         "name": "Financeiro",
         "orientation": "v",
         "showlegend": true,
         "type": "scatter",
         "x": [
          "2022-08",
          "2022-11",
          "2022-12",
          "2023-01",
          "2023-02",
          "2023-03",
          "2023-04",
          "2023-06",
          "2023-08",
          "2023-09",
          "2023-10"
         ],
         "xaxis": "x",
         "y": [
          1,
          2,
          4,
          4,
          3,
          12,
          12,
          2,
          19,
          3,
          2
         ],
         "yaxis": "y"
        },
        {
         "hovertemplate": "page_title=OKRs Relacionamentos 23.1<br>month_visited=%{x}<br>total_views=%{y}<extra></extra>",
         "legendgroup": "OKRs Relacionamentos 23.1",
         "line": {
          "color": "#FECB52",
          "dash": "solid"
         },
         "marker": {
          "symbol": "circle"
         },
         "mode": "lines",
         "name": "OKRs Relacionamentos 23.1",
         "orientation": "v",
         "showlegend": true,
         "type": "scatter",
         "x": [
          "2023-04",
          "2023-05",
          "2023-06",
          "2023-07",
          "2023-08",
          "2023-09"
         ],
         "xaxis": "x",
         "y": [
          13,
          6,
          4,
          20,
          1,
          3
         ],
         "yaxis": "y"
        },
        {
         "hovertemplate": "page_title=Processos Internos<br>month_visited=%{x}<br>total_views=%{y}<extra></extra>",
         "legendgroup": "Processos Internos",
         "line": {
          "color": "#636efa",
          "dash": "solid"
         },
         "marker": {
          "symbol": "circle"
         },
         "mode": "lines",
         "name": "Processos Internos",
         "orientation": "v",
         "showlegend": true,
         "type": "scatter",
         "x": [
          "2022-09",
          "2022-10",
          "2022-11",
          "2022-12",
          "2023-03",
          "2023-04",
          "2023-05",
          "2023-06",
          "2023-07",
          "2023-08",
          "2023-09",
          "2023-10"
         ],
         "xaxis": "x",
         "y": [
          1,
          2,
          1,
          1,
          1,
          3,
          9,
          5,
          4,
          8,
          2,
          9
         ],
         "yaxis": "y"
        },
        {
         "hovertemplate": "page_title=Materiais<br>month_visited=%{x}<br>total_views=%{y}<extra></extra>",
         "legendgroup": "Materiais",
         "line": {
          "color": "#EF553B",
          "dash": "solid"
         },
         "marker": {
          "symbol": "circle"
         },
         "mode": "lines",
         "name": "Materiais",
         "orientation": "v",
         "showlegend": true,
         "type": "scatter",
         "x": [
          "2023-01",
          "2023-02",
          "2023-03",
          "2023-04",
          "2023-05",
          "2023-06",
          "2023-07",
          "2023-08",
          "2023-09",
          "2023-10"
         ],
         "xaxis": "x",
         "y": [
          24,
          32,
          28,
          7,
          14,
          11,
          5,
          6,
          9,
          1
         ],
         "yaxis": "y"
        },
        {
         "hovertemplate": "page_title=Tutoriais<br>month_visited=%{x}<br>total_views=%{y}<extra></extra>",
         "legendgroup": "Tutoriais",
         "line": {
          "color": "#00cc96",
          "dash": "solid"
         },
         "marker": {
          "symbol": "circle"
         },
         "mode": "lines",
         "name": "Tutoriais",
         "orientation": "v",
         "showlegend": true,
         "type": "scatter",
         "x": [
          "2023-02",
          "2023-03",
          "2023-04",
          "2023-05",
          "2023-06",
          "2023-07",
          "2023-08",
          "2023-09",
          "2023-10"
         ],
         "xaxis": "x",
         "y": [
          6,
          19,
          9,
          13,
          9,
          11,
          2,
          4,
          4
         ],
         "yaxis": "y"
        },
        {
         "hovertemplate": "page_title=Organograma<br>month_visited=%{x}<br>total_views=%{y}<extra></extra>",
         "legendgroup": "Organograma",
         "line": {
          "color": "#ab63fa",
          "dash": "solid"
         },
         "marker": {
          "symbol": "circle"
         },
         "mode": "lines",
         "name": "Organograma",
         "orientation": "v",
         "showlegend": true,
         "type": "scatter",
         "x": [
          "2022-08",
          "2022-10",
          "2022-11",
          "2022-12",
          "2023-01",
          "2023-02",
          "2023-03",
          "2023-04",
          "2023-05",
          "2023-06",
          "2023-07",
          "2023-08",
          "2023-09",
          "2023-10"
         ],
         "xaxis": "x",
         "y": [
          1,
          10,
          3,
          9,
          9,
          2,
          9,
          8,
          8,
          1,
          5,
          2,
          7,
          6
         ],
         "yaxis": "y"
        },
        {
         "hovertemplate": "page_title=Reditus Talks Presencial 23.2<br>month_visited=%{x}<br>total_views=%{y}<extra></extra>",
         "legendgroup": "Reditus Talks Presencial 23.2",
         "line": {
          "color": "#FFA15A",
          "dash": "solid"
         },
         "marker": {
          "symbol": "circle"
         },
         "mode": "lines",
         "name": "Reditus Talks Presencial 23.2",
         "orientation": "v",
         "showlegend": true,
         "type": "scatter",
         "x": [
          "2023-09",
          "2023-10"
         ],
         "xaxis": "x",
         "y": [
          10,
          10
         ],
         "yaxis": "y"
        },
        {
         "hovertemplate": "page_title=Assessoria Executiva<br>month_visited=%{x}<br>total_views=%{y}<extra></extra>",
         "legendgroup": "Assessoria Executiva",
         "line": {
          "color": "#19d3f3",
          "dash": "solid"
         },
         "marker": {
          "symbol": "circle"
         },
         "mode": "lines",
         "name": "Assessoria Executiva",
         "orientation": "v",
         "showlegend": true,
         "type": "scatter",
         "x": [
          "2022-08",
          "2022-09",
          "2022-10",
          "2022-12",
          "2023-01",
          "2023-02",
          "2023-03",
          "2023-04",
          "2023-07",
          "2023-08",
          "2023-09",
          "2023-10"
         ],
         "xaxis": "x",
         "y": [
          3,
          1,
          2,
          5,
          4,
          2,
          4,
          6,
          2,
          13,
          4,
          1
         ],
         "yaxis": "y"
        },
        {
         "hovertemplate": "page_title=Radar geral de execução<br>month_visited=%{x}<br>total_views=%{y}<extra></extra>",
         "legendgroup": "Radar geral de execução",
         "line": {
          "color": "#FF6692",
          "dash": "solid"
         },
         "marker": {
          "symbol": "circle"
         },
         "mode": "lines",
         "name": "Radar geral de execução",
         "orientation": "v",
         "showlegend": true,
         "type": "scatter",
         "x": [
          "2023-02",
          "2023-03",
          "2023-04",
          "2023-05",
          "2023-06",
          "2023-07",
          "2023-08",
          "2023-09",
          "2023-10"
         ],
         "xaxis": "x",
         "y": [
          10,
          18,
          11,
          12,
          3,
          7,
          5,
          3,
          4
         ],
         "yaxis": "y"
        },
        {
         "hovertemplate": "page_title=Interações Doadores + Alunos<br>month_visited=%{x}<br>total_views=%{y}<extra></extra>",
         "legendgroup": "Interações Doadores + Alunos",
         "line": {
          "color": "#B6E880",
          "dash": "solid"
         },
         "marker": {
          "symbol": "circle"
         },
         "mode": "lines",
         "name": "Interações Doadores + Alunos",
         "orientation": "v",
         "showlegend": true,
         "type": "scatter",
         "x": [
          "2022-08",
          "2022-10",
          "2022-11",
          "2023-03",
          "2023-04",
          "2023-07",
          "2023-08",
          "2023-09",
          "2023-10"
         ],
         "xaxis": "x",
         "y": [
          1,
          1,
          1,
          7,
          2,
          6,
          1,
          11,
          1
         ],
         "yaxis": "y"
        },
        {
         "hovertemplate": "page_title=Como Organizar o PEIR (Checklist)<br>month_visited=%{x}<br>total_views=%{y}<extra></extra>",
         "legendgroup": "Como Organizar o PEIR (Checklist)",
         "line": {
          "color": "#FF97FF",
          "dash": "solid"
         },
         "marker": {
          "symbol": "circle"
         },
         "mode": "lines",
         "name": "Como Organizar o PEIR (Checklist)",
         "orientation": "v",
         "showlegend": true,
         "type": "scatter",
         "x": [
          "2023-03",
          "2023-04",
          "2023-07",
          "2023-08",
          "2023-09",
          "2023-10"
         ],
         "xaxis": "x",
         "y": [
          11,
          3,
          13,
          1,
          2,
          1
         ],
         "yaxis": "y"
        },
        {
         "hovertemplate": "page_title=Reunião Geral (RG)<br>month_visited=%{x}<br>total_views=%{y}<extra></extra>",
         "legendgroup": "Reunião Geral (RG)",
         "line": {
          "color": "#FECB52",
          "dash": "solid"
         },
         "marker": {
          "symbol": "circle"
         },
         "mode": "lines",
         "name": "Reunião Geral (RG)",
         "orientation": "v",
         "showlegend": true,
         "type": "scatter",
         "x": [
          "2022-10",
          "2022-11",
          "2022-12",
          "2023-01",
          "2023-02",
          "2023-03",
          "2023-04",
          "2023-05",
          "2023-06",
          "2023-07",
          "2023-08",
          "2023-09",
          "2023-10"
         ],
         "xaxis": "x",
         "y": [
          3,
          15,
          12,
          15,
          4,
          1,
          10,
          5,
          5,
          2,
          9,
          1,
          5
         ],
         "yaxis": "y"
        },
        {
         "hovertemplate": "page_title=SFE 2023<br>month_visited=%{x}<br>total_views=%{y}<extra></extra>",
         "legendgroup": "SFE 2023",
         "line": {
          "color": "#636efa",
          "dash": "solid"
         },
         "marker": {
          "symbol": "circle"
         },
         "mode": "lines",
         "name": "SFE 2023",
         "orientation": "v",
         "showlegend": true,
         "type": "scatter",
         "x": [
          "2023-03",
          "2023-05",
          "2023-07",
          "2023-09",
          "2023-10"
         ],
         "xaxis": "x",
         "y": [
          1,
          1,
          7,
          8,
          1
         ],
         "yaxis": "y"
        },
        {
         "hovertemplate": "page_title=O que a Tecnologia faz?<br>month_visited=%{x}<br>total_views=%{y}<extra></extra>",
         "legendgroup": "O que a Tecnologia faz?",
         "line": {
          "color": "#EF553B",
          "dash": "solid"
         },
         "marker": {
          "symbol": "circle"
         },
         "mode": "lines",
         "name": "O que a Tecnologia faz?",
         "orientation": "v",
         "showlegend": true,
         "type": "scatter",
         "x": [
          "2023-07",
          "2023-08",
          "2023-09"
         ],
         "xaxis": "x",
         "y": [
          1,
          4,
          11
         ],
         "yaxis": "y"
        },
        {
         "hovertemplate": "page_title=| bolsa reditus<br>month_visited=%{x}<br>total_views=%{y}<extra></extra>",
         "legendgroup": "| bolsa reditus",
         "line": {
          "color": "#00cc96",
          "dash": "solid"
         },
         "marker": {
          "symbol": "circle"
         },
         "mode": "lines",
         "name": "| bolsa reditus",
         "orientation": "v",
         "showlegend": true,
         "type": "scatter",
         "x": [
          "2023-06",
          "2023-07",
          "2023-08"
         ],
         "xaxis": "x",
         "y": [
          26,
          9,
          7
         ],
         "yaxis": "y"
        },
        {
         "hovertemplate": "page_title=Edição 2023.1<br>month_visited=%{x}<br>total_views=%{y}<extra></extra>",
         "legendgroup": "Edição 2023.1",
         "line": {
          "color": "#ab63fa",
          "dash": "solid"
         },
         "marker": {
          "symbol": "circle"
         },
         "mode": "lines",
         "name": "Edição 2023.1",
         "orientation": "v",
         "showlegend": true,
         "type": "scatter",
         "x": [
          "2023-03",
          "2023-04",
          "2023-05",
          "2023-06",
          "2023-07",
          "2023-09",
          "2023-10"
         ],
         "xaxis": "x",
         "y": [
          9,
          8,
          7,
          11,
          8,
          5,
          3
         ],
         "yaxis": "y"
        },
        {
         "hovertemplate": "page_title=Bolsa Reditus<br>month_visited=%{x}<br>total_views=%{y}<extra></extra>",
         "legendgroup": "Bolsa Reditus",
         "line": {
          "color": "#FFA15A",
          "dash": "solid"
         },
         "marker": {
          "symbol": "circle"
         },
         "mode": "lines",
         "name": "Bolsa Reditus",
         "orientation": "v",
         "showlegend": true,
         "type": "scatter",
         "x": [
          "2023-06",
          "2023-07",
          "2023-08"
         ],
         "xaxis": "x",
         "y": [
          5,
          5,
          10
         ],
         "yaxis": "y"
        },
        {
         "hovertemplate": "page_title=Planejamento Estratégico (PEIR)<br>month_visited=%{x}<br>total_views=%{y}<extra></extra>",
         "legendgroup": "Planejamento Estratégico (PEIR)",
         "line": {
          "color": "#19d3f3",
          "dash": "solid"
         },
         "marker": {
          "symbol": "circle"
         },
         "mode": "lines",
         "name": "Planejamento Estratégico (PEIR)",
         "orientation": "v",
         "showlegend": true,
         "type": "scatter",
         "x": [
          "2022-08",
          "2022-12",
          "2023-03",
          "2023-04",
          "2023-05",
          "2023-07",
          "2023-08",
          "2023-09",
          "2023-10"
         ],
         "xaxis": "x",
         "y": [
          3,
          1,
          9,
          10,
          2,
          5,
          2,
          2,
          5
         ],
         "yaxis": "y"
        },
        {
         "hovertemplate": "page_title=OKRs do Reditus<br>month_visited=%{x}<br>total_views=%{y}<extra></extra>",
         "legendgroup": "OKRs do Reditus",
         "line": {
          "color": "#FF6692",
          "dash": "solid"
         },
         "marker": {
          "symbol": "circle"
         },
         "mode": "lines",
         "name": "OKRs do Reditus",
         "orientation": "v",
         "showlegend": true,
         "type": "scatter",
         "x": [
          "2022-09",
          "2022-10",
          "2022-12",
          "2023-01",
          "2023-03",
          "2023-04",
          "2023-05",
          "2023-06",
          "2023-07",
          "2023-08",
          "2023-09"
         ],
         "xaxis": "x",
         "y": [
          2,
          1,
          4,
          1,
          7,
          5,
          13,
          3,
          3,
          7,
          4
         ],
         "yaxis": "y"
        },
        {
         "hovertemplate": "page_title=Ferramentas<br>month_visited=%{x}<br>total_views=%{y}<extra></extra>",
         "legendgroup": "Ferramentas",
         "line": {
          "color": "#B6E880",
          "dash": "solid"
         },
         "marker": {
          "symbol": "circle"
         },
         "mode": "lines",
         "name": "Ferramentas",
         "orientation": "v",
         "showlegend": true,
         "type": "scatter",
         "x": [
          "2022-08",
          "2022-09",
          "2022-11",
          "2022-12",
          "2023-01",
          "2023-02",
          "2023-03",
          "2023-04",
          "2023-05",
          "2023-07",
          "2023-08",
          "2023-09"
         ],
         "xaxis": "x",
         "y": [
          1,
          1,
          1,
          3,
          4,
          2,
          1,
          4,
          6,
          1,
          10,
          2
         ],
         "yaxis": "y"
        },
        {
         "hovertemplate": "page_title=Organograma Estado Final pós-REORG<br>month_visited=%{x}<br>total_views=%{y}<extra></extra>",
         "legendgroup": "Organograma Estado Final pós-REORG",
         "line": {
          "color": "#FF97FF",
          "dash": "solid"
         },
         "marker": {
          "symbol": "circle"
         },
         "mode": "lines",
         "name": "Organograma Estado Final pós-REORG",
         "orientation": "v",
         "showlegend": true,
         "type": "scatter",
         "x": [
          "2022-10",
          "2022-11",
          "2022-12",
          "2023-01",
          "2023-02",
          "2023-03",
          "2023-04",
          "2023-05",
          "2023-07",
          "2023-09",
          "2023-10"
         ],
         "xaxis": "x",
         "y": [
          7,
          2,
          8,
          3,
          2,
          3,
          3,
          3,
          2,
          6,
          5
         ],
         "yaxis": "y"
        },
        {
         "hovertemplate": "page_title=Jurídico<br>month_visited=%{x}<br>total_views=%{y}<extra></extra>",
         "legendgroup": "Jurídico",
         "line": {
          "color": "#FECB52",
          "dash": "solid"
         },
         "marker": {
          "symbol": "circle"
         },
         "mode": "lines",
         "name": "Jurídico",
         "orientation": "v",
         "showlegend": true,
         "type": "scatter",
         "x": [
          "2022-08",
          "2022-10",
          "2022-11",
          "2022-12",
          "2023-02",
          "2023-03",
          "2023-04",
          "2023-06",
          "2023-08",
          "2023-09"
         ],
         "xaxis": "x",
         "y": [
          2,
          2,
          1,
          4,
          1,
          3,
          5,
          2,
          11,
          1
         ],
         "yaxis": "y"
        },
        {
         "hovertemplate": "page_title=Edição 2022<br>month_visited=%{x}<br>total_views=%{y}<extra></extra>",
         "legendgroup": "Edição 2022",
         "line": {
          "color": "#636efa",
          "dash": "solid"
         },
         "marker": {
          "symbol": "circle"
         },
         "mode": "lines",
         "name": "Edição 2022",
         "orientation": "v",
         "showlegend": true,
         "type": "scatter",
         "x": [
          "2023-03",
          "2023-05",
          "2023-06",
          "2023-07",
          "2023-09",
          "2023-10"
         ],
         "xaxis": "x",
         "y": [
          7,
          1,
          3,
          6,
          4,
          2
         ],
         "yaxis": "y"
        },
        {
         "hovertemplate": "page_title=Missão, Visão e Valores<br>month_visited=%{x}<br>total_views=%{y}<extra></extra>",
         "legendgroup": "Missão, Visão e Valores",
         "line": {
          "color": "#EF553B",
          "dash": "solid"
         },
         "marker": {
          "symbol": "circle"
         },
         "mode": "lines",
         "name": "Missão, Visão e Valores",
         "orientation": "v",
         "showlegend": true,
         "type": "scatter",
         "x": [
          "2022-08",
          "2022-12",
          "2023-01",
          "2023-02",
          "2023-03",
          "2023-04",
          "2023-05",
          "2023-06",
          "2023-07",
          "2023-08",
          "2023-09",
          "2023-10"
         ],
         "xaxis": "x",
         "y": [
          6,
          4,
          2,
          2,
          5,
          1,
          2,
          1,
          3,
          5,
          2,
          1
         ],
         "yaxis": "y"
        },
        {
         "hovertemplate": "page_title=O que Gestão faz?<br>month_visited=%{x}<br>total_views=%{y}<extra></extra>",
         "legendgroup": "O que Gestão faz?",
         "line": {
          "color": "#00cc96",
          "dash": "solid"
         },
         "marker": {
          "symbol": "circle"
         },
         "mode": "lines",
         "name": "O que Gestão faz?",
         "orientation": "v",
         "showlegend": true,
         "type": "scatter",
         "x": [
          "2022-10",
          "2022-11",
          "2022-12",
          "2023-01",
          "2023-03",
          "2023-04",
          "2023-05",
          "2023-06",
          "2023-07",
          "2023-08",
          "2023-09",
          "2023-10"
         ],
         "xaxis": "x",
         "y": [
          1,
          1,
          1,
          2,
          2,
          12,
          8,
          1,
          1,
          2,
          3,
          5
         ],
         "yaxis": "y"
        },
        {
         "hovertemplate": "page_title=Redes Sociais<br>month_visited=%{x}<br>total_views=%{y}<extra></extra>",
         "legendgroup": "Redes Sociais",
         "line": {
          "color": "#ab63fa",
          "dash": "solid"
         },
         "marker": {
          "symbol": "circle"
         },
         "mode": "lines",
         "name": "Redes Sociais",
         "orientation": "v",
         "showlegend": true,
         "type": "scatter",
         "x": [
          "2022-08",
          "2022-09",
          "2022-11",
          "2022-12",
          "2023-01",
          "2023-02",
          "2023-03",
          "2023-04",
          "2023-05",
          "2023-07",
          "2023-08",
          "2023-09"
         ],
         "xaxis": "x",
         "y": [
          3,
          3,
          3,
          4,
          4,
          12,
          5,
          5,
          10,
          2,
          3,
          6
         ],
         "yaxis": "y"
        },
        {
         "hovertemplate": "page_title=Sou de outra área, o que posso precisar de Gestão?<br>month_visited=%{x}<br>total_views=%{y}<extra></extra>",
         "legendgroup": "Sou de outra área, o que posso precisar de Gestão?",
         "line": {
          "color": "#FFA15A",
          "dash": "solid"
         },
         "marker": {
          "symbol": "circle"
         },
         "mode": "lines",
         "name": "Sou de outra área, o que posso precisar de Gestão?",
         "orientation": "v",
         "showlegend": true,
         "type": "scatter",
         "x": [
          "2022-08",
          "2022-11",
          "2022-12",
          "2023-01",
          "2023-03",
          "2023-04",
          "2023-05",
          "2023-06",
          "2023-07",
          "2023-08",
          "2023-09",
          "2023-10"
         ],
         "xaxis": "x",
         "y": [
          1,
          1,
          1,
          3,
          3,
          11,
          9,
          2,
          2,
          2,
          1,
          6
         ],
         "yaxis": "y"
        },
        {
         "hovertemplate": "page_title=Treinamentos<br>month_visited=%{x}<br>total_views=%{y}<extra></extra>",
         "legendgroup": "Treinamentos",
         "line": {
          "color": "#19d3f3",
          "dash": "solid"
         },
         "marker": {
          "symbol": "circle"
         },
         "mode": "lines",
         "name": "Treinamentos",
         "orientation": "v",
         "showlegend": true,
         "type": "scatter",
         "x": [
          "2022-09",
          "2022-10",
          "2022-12",
          "2023-01",
          "2023-02",
          "2023-03",
          "2023-04",
          "2023-05",
          "2023-06",
          "2023-08"
         ],
         "xaxis": "x",
         "y": [
          1,
          1,
          5,
          2,
          1,
          3,
          2,
          2,
          1,
          11
         ],
         "yaxis": "y"
        },
        {
         "hovertemplate": "page_title=Sou de outra área, o que preciso saber?<br>month_visited=%{x}<br>total_views=%{y}<extra></extra>",
         "legendgroup": "Sou de outra área, o que preciso saber?",
         "line": {
          "color": "#FF6692",
          "dash": "solid"
         },
         "marker": {
          "symbol": "circle"
         },
         "mode": "lines",
         "name": "Sou de outra área, o que preciso saber?",
         "orientation": "v",
         "showlegend": true,
         "type": "scatter",
         "x": [
          "2022-08",
          "2022-09",
          "2022-10",
          "2022-11",
          "2022-12",
          "2023-01",
          "2023-02",
          "2023-04",
          "2023-05",
          "2023-08",
          "2023-09",
          "2023-10"
         ],
         "xaxis": "x",
         "y": [
          6,
          4,
          2,
          4,
          1,
          14,
          2,
          12,
          6,
          4,
          3,
          3
         ],
         "yaxis": "y"
        },
        {
         "hovertemplate": "page_title=O que fazemos? <br>month_visited=%{x}<br>total_views=%{y}<extra></extra>",
         "legendgroup": "O que fazemos? ",
         "line": {
          "color": "#B6E880",
          "dash": "solid"
         },
         "marker": {
          "symbol": "circle"
         },
         "mode": "lines",
         "name": "O que fazemos? ",
         "orientation": "v",
         "showlegend": true,
         "type": "scatter",
         "x": [
          "2022-08",
          "2022-09",
          "2022-10",
          "2022-11",
          "2022-12",
          "2023-01",
          "2023-02",
          "2023-03",
          "2023-05",
          "2023-07",
          "2023-08",
          "2023-09"
         ],
         "xaxis": "x",
         "y": [
          3,
          1,
          1,
          1,
          2,
          2,
          14,
          1,
          2,
          1,
          4,
          5
         ],
         "yaxis": "y"
        },
        {
         "hovertemplate": "page_title=Princípios de Trabalho<br>month_visited=%{x}<br>total_views=%{y}<extra></extra>",
         "legendgroup": "Princípios de Trabalho",
         "line": {
          "color": "#FF97FF",
          "dash": "solid"
         },
         "marker": {
          "symbol": "circle"
         },
         "mode": "lines",
         "name": "Princípios de Trabalho",
         "orientation": "v",
         "showlegend": true,
         "type": "scatter",
         "x": [
          "2022-10",
          "2022-12",
          "2023-01",
          "2023-02",
          "2023-03",
          "2023-04",
          "2023-07",
          "2023-08",
          "2023-09"
         ],
         "xaxis": "x",
         "y": [
          3,
          5,
          1,
          3,
          5,
          3,
          1,
          6,
          3
         ],
         "yaxis": "y"
        },
        {
         "hovertemplate": "page_title=Dashboards<br>month_visited=%{x}<br>total_views=%{y}<extra></extra>",
         "legendgroup": "Dashboards",
         "line": {
          "color": "#FECB52",
          "dash": "solid"
         },
         "marker": {
          "symbol": "circle"
         },
         "mode": "lines",
         "name": "Dashboards",
         "orientation": "v",
         "showlegend": true,
         "type": "scatter",
         "x": [
          "2022-08",
          "2022-10",
          "2022-11",
          "2022-12",
          "2023-01",
          "2023-02",
          "2023-03",
          "2023-04",
          "2023-05",
          "2023-06",
          "2023-07",
          "2023-08",
          "2023-09",
          "2023-10"
         ],
         "xaxis": "x",
         "y": [
          6,
          4,
          3,
          15,
          5,
          9,
          10,
          8,
          3,
          1,
          1,
          2,
          3,
          3
         ],
         "yaxis": "y"
        },
        {
         "hovertemplate": "page_title=O que Marketing faz?<br>month_visited=%{x}<br>total_views=%{y}<extra></extra>",
         "legendgroup": "O que Marketing faz?",
         "line": {
          "color": "#636efa",
          "dash": "solid"
         },
         "marker": {
          "symbol": "circle"
         },
         "mode": "lines",
         "name": "O que Marketing faz?",
         "orientation": "v",
         "showlegend": true,
         "type": "scatter",
         "x": [
          "2022-09",
          "2023-06",
          "2023-07",
          "2023-08"
         ],
         "xaxis": "x",
         "y": [
          1,
          1,
          7,
          2
         ],
         "yaxis": "y"
        },
        {
         "hovertemplate": "page_title=Líderes<br>month_visited=%{x}<br>total_views=%{y}<extra></extra>",
         "legendgroup": "Líderes",
         "line": {
          "color": "#EF553B",
          "dash": "solid"
         },
         "marker": {
          "symbol": "circle"
         },
         "mode": "lines",
         "name": "Líderes",
         "orientation": "v",
         "showlegend": true,
         "type": "scatter",
         "x": [
          "2022-11",
          "2022-12",
          "2023-01",
          "2023-02",
          "2023-03",
          "2023-04",
          "2023-05",
          "2023-06",
          "2023-07",
          "2023-08",
          "2023-09",
          "2023-10"
         ],
         "xaxis": "x",
         "y": [
          1,
          2,
          6,
          3,
          4,
          3,
          2,
          3,
          2,
          5,
          1,
          1
         ],
         "yaxis": "y"
        },
        {
         "hovertemplate": "page_title=Gestão da área<br>month_visited=%{x}<br>total_views=%{y}<extra></extra>",
         "legendgroup": "Gestão da área",
         "line": {
          "color": "#00cc96",
          "dash": "solid"
         },
         "marker": {
          "symbol": "circle"
         },
         "mode": "lines",
         "name": "Gestão da área",
         "orientation": "v",
         "showlegend": true,
         "type": "scatter",
         "x": [
          "2022-09",
          "2023-07",
          "2023-08",
          "2023-09"
         ],
         "xaxis": "x",
         "y": [
          1,
          5,
          3,
          1
         ],
         "yaxis": "y"
        },
        {
         "hovertemplate": "page_title=Ferramentas Gestão<br>month_visited=%{x}<br>total_views=%{y}<extra></extra>",
         "legendgroup": "Ferramentas Gestão",
         "line": {
          "color": "#ab63fa",
          "dash": "solid"
         },
         "marker": {
          "symbol": "circle"
         },
         "mode": "lines",
         "name": "Ferramentas Gestão",
         "orientation": "v",
         "showlegend": true,
         "type": "scatter",
         "x": [
          "2022-11",
          "2022-12",
          "2023-01",
          "2023-03",
          "2023-04",
          "2023-05",
          "2023-08"
         ],
         "xaxis": "x",
         "y": [
          2,
          3,
          2,
          1,
          13,
          8,
          9
         ],
         "yaxis": "y"
        },
        {
         "hovertemplate": "page_title=Reuniões <br>month_visited=%{x}<br>total_views=%{y}<extra></extra>",
         "legendgroup": "Reuniões ",
         "line": {
          "color": "#FFA15A",
          "dash": "solid"
         },
         "marker": {
          "symbol": "circle"
         },
         "mode": "lines",
         "name": "Reuniões ",
         "orientation": "v",
         "showlegend": true,
         "type": "scatter",
         "x": [
          "2023-04",
          "2023-05",
          "2023-06",
          "2023-07",
          "2023-09"
         ],
         "xaxis": "x",
         "y": [
          3,
          7,
          6,
          3,
          5
         ],
         "yaxis": "y"
        },
        {
         "hovertemplate": "page_title=Handover de Point Person<br>month_visited=%{x}<br>total_views=%{y}<extra></extra>",
         "legendgroup": "Handover de Point Person",
         "line": {
          "color": "#19d3f3",
          "dash": "solid"
         },
         "marker": {
          "symbol": "circle"
         },
         "mode": "lines",
         "name": "Handover de Point Person",
         "orientation": "v",
         "showlegend": true,
         "type": "scatter",
         "x": [
          "2023-03",
          "2023-04",
          "2023-07",
          "2023-08",
          "2023-09"
         ],
         "xaxis": "x",
         "y": [
          4,
          2,
          4,
          1,
          3
         ],
         "yaxis": "y"
        },
        {
         "hovertemplate": "page_title=OKRs das Áreas<br>month_visited=%{x}<br>total_views=%{y}<extra></extra>",
         "legendgroup": "OKRs das Áreas",
         "line": {
          "color": "#FF6692",
          "dash": "solid"
         },
         "marker": {
          "symbol": "circle"
         },
         "mode": "lines",
         "name": "OKRs das Áreas",
         "orientation": "v",
         "showlegend": true,
         "type": "scatter",
         "x": [
          "2022-08",
          "2022-09",
          "2022-10",
          "2022-11",
          "2022-12",
          "2023-01",
          "2023-02",
          "2023-03",
          "2023-04",
          "2023-05",
          "2023-06",
          "2023-07",
          "2023-08",
          "2023-10"
         ],
         "xaxis": "x",
         "y": [
          2,
          1,
          4,
          1,
          3,
          4,
          2,
          10,
          11,
          7,
          1,
          3,
          4,
          1
         ],
         "yaxis": "y"
        },
        {
         "hovertemplate": "page_title=OKRs<br>month_visited=%{x}<br>total_views=%{y}<extra></extra>",
         "legendgroup": "OKRs",
         "line": {
          "color": "#B6E880",
          "dash": "solid"
         },
         "marker": {
          "symbol": "circle"
         },
         "mode": "lines",
         "name": "OKRs",
         "orientation": "v",
         "showlegend": true,
         "type": "scatter",
         "x": [
          "2022-08",
          "2022-09",
          "2022-10",
          "2022-12",
          "2023-01",
          "2023-02",
          "2023-03",
          "2023-04",
          "2023-05",
          "2023-07",
          "2023-08",
          "2023-09",
          "2023-10"
         ],
         "xaxis": "x",
         "y": [
          2,
          1,
          2,
          7,
          3,
          1,
          10,
          7,
          6,
          2,
          2,
          3,
          1
         ],
         "yaxis": "y"
        },
        {
         "hovertemplate": "page_title=Evento Padrão<br>month_visited=%{x}<br>total_views=%{y}<extra></extra>",
         "legendgroup": "Evento Padrão",
         "line": {
          "color": "#FF97FF",
          "dash": "solid"
         },
         "marker": {
          "symbol": "circle"
         },
         "mode": "lines",
         "name": "Evento Padrão",
         "orientation": "v",
         "showlegend": true,
         "type": "scatter",
         "x": [
          "2023-06",
          "2023-07"
         ],
         "xaxis": "x",
         "y": [
          3,
          7
         ],
         "yaxis": "y"
        },
        {
         "hovertemplate": "page_title=Quem somos<br>month_visited=%{x}<br>total_views=%{y}<extra></extra>",
         "legendgroup": "Quem somos",
         "line": {
          "color": "#FECB52",
          "dash": "solid"
         },
         "marker": {
          "symbol": "circle"
         },
         "mode": "lines",
         "name": "Quem somos",
         "orientation": "v",
         "showlegend": true,
         "type": "scatter",
         "x": [
          "2022-08",
          "2022-09",
          "2022-10",
          "2022-11",
          "2022-12",
          "2023-01",
          "2023-02",
          "2023-03",
          "2023-04",
          "2023-05",
          "2023-07",
          "2023-08",
          "2023-09",
          "2023-10"
         ],
         "xaxis": "x",
         "y": [
          2,
          1,
          2,
          3,
          2,
          2,
          5,
          3,
          1,
          1,
          1,
          4,
          1,
          1
         ],
         "yaxis": "y"
        },
        {
         "hovertemplate": "page_title=Cracking Notion<br>month_visited=%{x}<br>total_views=%{y}<extra></extra>",
         "legendgroup": "Cracking Notion",
         "line": {
          "color": "#636efa",
          "dash": "solid"
         },
         "marker": {
          "symbol": "circle"
         },
         "mode": "lines",
         "name": "Cracking Notion",
         "orientation": "v",
         "showlegend": true,
         "type": "scatter",
         "x": [
          "2023-03",
          "2023-04",
          "2023-05",
          "2023-08"
         ],
         "xaxis": "x",
         "y": [
          3,
          1,
          1,
          7
         ],
         "yaxis": "y"
        },
        {
         "hovertemplate": "page_title=Sugestões de Aprendizado<br>month_visited=%{x}<br>total_views=%{y}<extra></extra>",
         "legendgroup": "Sugestões de Aprendizado",
         "line": {
          "color": "#EF553B",
          "dash": "solid"
         },
         "marker": {
          "symbol": "circle"
         },
         "mode": "lines",
         "name": "Sugestões de Aprendizado",
         "orientation": "v",
         "showlegend": true,
         "type": "scatter",
         "x": [
          "2022-12",
          "2023-01",
          "2023-02",
          "2023-03",
          "2023-04",
          "2023-05",
          "2023-08",
          "2023-10"
         ],
         "xaxis": "x",
         "y": [
          1,
          1,
          1,
          3,
          1,
          3,
          6,
          1
         ],
         "yaxis": "y"
        },
        {
         "hovertemplate": "page_title=Tiers e Doadores<br>month_visited=%{x}<br>total_views=%{y}<extra></extra>",
         "legendgroup": "Tiers e Doadores",
         "line": {
          "color": "#00cc96",
          "dash": "solid"
         },
         "marker": {
          "symbol": "circle"
         },
         "mode": "lines",
         "name": "Tiers e Doadores",
         "orientation": "v",
         "showlegend": true,
         "type": "scatter",
         "x": [
          "2023-02",
          "2023-03",
          "2023-05",
          "2023-07",
          "2023-08",
          "2023-09"
         ],
         "xaxis": "x",
         "y": [
          16,
          5,
          2,
          3,
          2,
          2
         ],
         "yaxis": "y"
        },
        {
         "hovertemplate": "page_title=Programa de Mentoria<br>month_visited=%{x}<br>total_views=%{y}<extra></extra>",
         "legendgroup": "Programa de Mentoria",
         "line": {
          "color": "#ab63fa",
          "dash": "solid"
         },
         "marker": {
          "symbol": "circle"
         },
         "mode": "lines",
         "name": "Programa de Mentoria",
         "orientation": "v",
         "showlegend": true,
         "type": "scatter",
         "x": [
          "2023-07",
          "2023-08",
          "2023-10"
         ],
         "xaxis": "x",
         "y": [
          2,
          2,
          2
         ],
         "yaxis": "y"
        },
        {
         "hovertemplate": "page_title=Calendário de Comunicação<br>month_visited=%{x}<br>total_views=%{y}<extra></extra>",
         "legendgroup": "Calendário de Comunicação",
         "line": {
          "color": "#FFA15A",
          "dash": "solid"
         },
         "marker": {
          "symbol": "circle"
         },
         "mode": "lines",
         "name": "Calendário de Comunicação",
         "orientation": "v",
         "showlegend": true,
         "type": "scatter",
         "x": [
          "2022-08",
          "2022-09",
          "2022-10",
          "2022-11",
          "2023-01",
          "2023-02",
          "2023-04",
          "2023-05",
          "2023-07",
          "2023-08",
          "2023-09"
         ],
         "xaxis": "x",
         "y": [
          10,
          26,
          1,
          2,
          1,
          1,
          2,
          1,
          2,
          2,
          2
         ],
         "yaxis": "y"
        },
        {
         "hovertemplate": "page_title=Templates<br>month_visited=%{x}<br>total_views=%{y}<extra></extra>",
         "legendgroup": "Templates",
         "line": {
          "color": "#19d3f3",
          "dash": "solid"
         },
         "marker": {
          "symbol": "circle"
         },
         "mode": "lines",
         "name": "Templates",
         "orientation": "v",
         "showlegend": true,
         "type": "scatter",
         "x": [
          "2023-05",
          "2023-08",
          "2023-09",
          "2023-10"
         ],
         "xaxis": "x",
         "y": [
          3,
          2,
          3,
          1
         ],
         "yaxis": "y"
        },
        {
         "hovertemplate": "page_title=Como definimos estratégia?<br>month_visited=%{x}<br>total_views=%{y}<extra></extra>",
         "legendgroup": "Como definimos estratégia?",
         "line": {
          "color": "#FF6692",
          "dash": "solid"
         },
         "marker": {
          "symbol": "circle"
         },
         "mode": "lines",
         "name": "Como definimos estratégia?",
         "orientation": "v",
         "showlegend": true,
         "type": "scatter",
         "x": [
          "2022-12",
          "2023-01",
          "2023-03",
          "2023-05",
          "2023-07",
          "2023-08",
          "2023-10"
         ],
         "xaxis": "x",
         "y": [
          3,
          1,
          2,
          1,
          1,
          4,
          1
         ],
         "yaxis": "y"
        },
        {
         "hovertemplate": "page_title=OKRs <br>month_visited=%{x}<br>total_views=%{y}<extra></extra>",
         "legendgroup": "OKRs ",
         "line": {
          "color": "#B6E880",
          "dash": "solid"
         },
         "marker": {
          "symbol": "circle"
         },
         "mode": "lines",
         "name": "OKRs ",
         "orientation": "v",
         "showlegend": true,
         "type": "scatter",
         "x": [
          "2022-08",
          "2022-10",
          "2022-11",
          "2022-12",
          "2023-01",
          "2023-02",
          "2023-03",
          "2023-04",
          "2023-05",
          "2023-06",
          "2023-08",
          "2023-09",
          "2023-10"
         ],
         "xaxis": "x",
         "y": [
          1,
          3,
          1,
          6,
          6,
          3,
          4,
          8,
          3,
          2,
          2,
          1,
          3
         ],
         "yaxis": "y"
        },
        {
         "hovertemplate": "page_title=Pitch compartilhável<br>month_visited=%{x}<br>total_views=%{y}<extra></extra>",
         "legendgroup": "Pitch compartilhável",
         "line": {
          "color": "#FF97FF",
          "dash": "solid"
         },
         "marker": {
          "symbol": "circle"
         },
         "mode": "lines",
         "name": "Pitch compartilhável",
         "orientation": "v",
         "showlegend": true,
         "type": "scatter",
         "x": [
          "2022-08",
          "2023-02",
          "2023-07",
          "2023-08"
         ],
         "xaxis": "x",
         "y": [
          1,
          2,
          3,
          3
         ],
         "yaxis": "y"
        },
        {
         "hovertemplate": "page_title=Indique um PGD<br>month_visited=%{x}<br>total_views=%{y}<extra></extra>",
         "legendgroup": "Indique um PGD",
         "line": {
          "color": "#FECB52",
          "dash": "solid"
         },
         "marker": {
          "symbol": "circle"
         },
         "mode": "lines",
         "name": "Indique um PGD",
         "orientation": "v",
         "showlegend": true,
         "type": "scatter",
         "x": [
          "2022-11",
          "2022-12",
          "2023-02",
          "2023-04",
          "2023-05",
          "2023-06",
          "2023-08",
          "2023-09"
         ],
         "xaxis": "x",
         "y": [
          1,
          1,
          2,
          4,
          1,
          1,
          5,
          1
         ],
         "yaxis": "y"
        },
        {
         "hovertemplate": "page_title=Nossa História<br>month_visited=%{x}<br>total_views=%{y}<extra></extra>",
         "legendgroup": "Nossa História",
         "line": {
          "color": "#636efa",
          "dash": "solid"
         },
         "marker": {
          "symbol": "circle"
         },
         "mode": "lines",
         "name": "Nossa História",
         "orientation": "v",
         "showlegend": true,
         "type": "scatter",
         "x": [
          "2022-10",
          "2022-12",
          "2023-01",
          "2023-02",
          "2023-04",
          "2023-05",
          "2023-06",
          "2023-07",
          "2023-08",
          "2023-09",
          "2023-10"
         ],
         "xaxis": "x",
         "y": [
          1,
          1,
          1,
          5,
          1,
          1,
          3,
          1,
          3,
          1,
          1
         ],
         "yaxis": "y"
        },
        {
         "hovertemplate": "page_title=Edital de Inovação<br>month_visited=%{x}<br>total_views=%{y}<extra></extra>",
         "legendgroup": "Edital de Inovação",
         "line": {
          "color": "#EF553B",
          "dash": "solid"
         },
         "marker": {
          "symbol": "circle"
         },
         "mode": "lines",
         "name": "Edital de Inovação",
         "orientation": "v",
         "showlegend": true,
         "type": "scatter",
         "x": [
          "2022-11",
          "2023-01",
          "2023-03",
          "2023-04",
          "2023-06",
          "2023-07",
          "2023-08",
          "2023-10"
         ],
         "xaxis": "x",
         "y": [
          3,
          1,
          3,
          1,
          3,
          2,
          3,
          1
         ],
         "yaxis": "y"
        },
        {
         "hovertemplate": "page_title=Discovery Reditus Talks presencial - setembro 2023<br>month_visited=%{x}<br>total_views=%{y}<extra></extra>",
         "legendgroup": "Discovery Reditus Talks presencial - setembro 2023",
         "line": {
          "color": "#00cc96",
          "dash": "solid"
         },
         "marker": {
          "symbol": "circle"
         },
         "mode": "lines",
         "name": "Discovery Reditus Talks presencial - setembro 2023",
         "orientation": "v",
         "showlegend": true,
         "type": "scatter",
         "x": [
          "2023-09",
          "2023-10"
         ],
         "xaxis": "x",
         "y": [
          4,
          1
         ],
         "yaxis": "y"
        },
        {
         "hovertemplate": "page_title=Processos<br>month_visited=%{x}<br>total_views=%{y}<extra></extra>",
         "legendgroup": "Processos",
         "line": {
          "color": "#ab63fa",
          "dash": "solid"
         },
         "marker": {
          "symbol": "circle"
         },
         "mode": "lines",
         "name": "Processos",
         "orientation": "v",
         "showlegend": true,
         "type": "scatter",
         "x": [
          "2022-09",
          "2022-10",
          "2022-11",
          "2023-01",
          "2023-02",
          "2023-03",
          "2023-04",
          "2023-06",
          "2023-07",
          "2023-08",
          "2023-09"
         ],
         "xaxis": "x",
         "y": [
          9,
          16,
          2,
          5,
          1,
          7,
          3,
          2,
          1,
          3,
          1
         ],
         "yaxis": "y"
        },
        {
         "hovertemplate": "page_title=Processo de Captação<br>month_visited=%{x}<br>total_views=%{y}<extra></extra>",
         "legendgroup": "Processo de Captação",
         "line": {
          "color": "#FFA15A",
          "dash": "solid"
         },
         "marker": {
          "symbol": "circle"
         },
         "mode": "lines",
         "name": "Processo de Captação",
         "orientation": "v",
         "showlegend": true,
         "type": "scatter",
         "x": [
          "2023-02",
          "2023-03",
          "2023-05",
          "2023-07",
          "2023-08"
         ],
         "xaxis": "x",
         "y": [
          9,
          2,
          2,
          2,
          3
         ],
         "yaxis": "y"
        },
        {
         "hovertemplate": "page_title=Taggeamento<br>month_visited=%{x}<br>total_views=%{y}<extra></extra>",
         "legendgroup": "Taggeamento",
         "line": {
          "color": "#19d3f3",
          "dash": "solid"
         },
         "marker": {
          "symbol": "circle"
         },
         "mode": "lines",
         "name": "Taggeamento",
         "orientation": "v",
         "showlegend": true,
         "type": "scatter",
         "x": [
          "2023-07",
          "2023-08"
         ],
         "xaxis": "x",
         "y": [
          4,
          1
         ],
         "yaxis": "y"
        },
        {
         "hovertemplate": "page_title=Campanha de Awareness Presencial<br>month_visited=%{x}<br>total_views=%{y}<extra></extra>",
         "legendgroup": "Campanha de Awareness Presencial",
         "line": {
          "color": "#FF6692",
          "dash": "solid"
         },
         "marker": {
          "symbol": "circle"
         },
         "mode": "lines",
         "name": "Campanha de Awareness Presencial",
         "orientation": "v",
         "showlegend": true,
         "type": "scatter",
         "x": [
          "2023-07",
          "2023-08"
         ],
         "xaxis": "x",
         "y": [
          3,
          2
         ],
         "yaxis": "y"
        },
        {
         "hovertemplate": "page_title=O que Gente faz?<br>month_visited=%{x}<br>total_views=%{y}<extra></extra>",
         "legendgroup": "O que Gente faz?",
         "line": {
          "color": "#B6E880",
          "dash": "solid"
         },
         "marker": {
          "symbol": "circle"
         },
         "mode": "lines",
         "name": "O que Gente faz?",
         "orientation": "v",
         "showlegend": true,
         "type": "scatter",
         "x": [
          "2022-10",
          "2023-03",
          "2023-04",
          "2023-06",
          "2023-08",
          "2023-10"
         ],
         "xaxis": "x",
         "y": [
          1,
          1,
          2,
          1,
          3,
          2
         ],
         "yaxis": "y"
        },
        {
         "hovertemplate": "page_title=Working Folders<br>month_visited=%{x}<br>total_views=%{y}<extra></extra>",
         "legendgroup": "Working Folders",
         "line": {
          "color": "#FF97FF",
          "dash": "solid"
         },
         "marker": {
          "symbol": "circle"
         },
         "mode": "lines",
         "name": "Working Folders",
         "orientation": "v",
         "showlegend": true,
         "type": "scatter",
         "x": [
          "2023-09"
         ],
         "xaxis": "x",
         "y": [
          5
         ],
         "yaxis": "y"
        },
        {
         "hovertemplate": "page_title=Orçamento<br>month_visited=%{x}<br>total_views=%{y}<extra></extra>",
         "legendgroup": "Orçamento",
         "line": {
          "color": "#FECB52",
          "dash": "solid"
         },
         "marker": {
          "symbol": "circle"
         },
         "mode": "lines",
         "name": "Orçamento",
         "orientation": "v",
         "showlegend": true,
         "type": "scatter",
         "x": [
          "2023-03",
          "2023-04",
          "2023-08",
          "2023-10"
         ],
         "xaxis": "x",
         "y": [
          1,
          1,
          2,
          2
         ],
         "yaxis": "y"
        },
        {
         "hovertemplate": "page_title=Time<br>month_visited=%{x}<br>total_views=%{y}<extra></extra>",
         "legendgroup": "Time",
         "line": {
          "color": "#636efa",
          "dash": "solid"
         },
         "marker": {
          "symbol": "circle"
         },
         "mode": "lines",
         "name": "Time",
         "orientation": "v",
         "showlegend": true,
         "type": "scatter",
         "x": [
          "2023-02",
          "2023-03",
          "2023-04",
          "2023-05",
          "2023-08",
          "2023-09"
         ],
         "xaxis": "x",
         "y": [
          8,
          2,
          1,
          2,
          2,
          2
         ],
         "yaxis": "y"
        },
        {
         "hovertemplate": "page_title=Dia-a-dia da área<br>month_visited=%{x}<br>total_views=%{y}<extra></extra>",
         "legendgroup": "Dia-a-dia da área",
         "line": {
          "color": "#EF553B",
          "dash": "solid"
         },
         "marker": {
          "symbol": "circle"
         },
         "mode": "lines",
         "name": "Dia-a-dia da área",
         "orientation": "v",
         "showlegend": true,
         "type": "scatter",
         "x": [
          "2022-11",
          "2023-02",
          "2023-08"
         ],
         "xaxis": "x",
         "y": [
          2,
          1,
          4
         ],
         "yaxis": "y"
        },
        {
         "hovertemplate": "page_title=Big Numbers do Instituto Reditus<br>month_visited=%{x}<br>total_views=%{y}<extra></extra>",
         "legendgroup": "Big Numbers do Instituto Reditus",
         "line": {
          "color": "#00cc96",
          "dash": "solid"
         },
         "marker": {
          "symbol": "circle"
         },
         "mode": "lines",
         "name": "Big Numbers do Instituto Reditus",
         "orientation": "v",
         "showlegend": true,
         "type": "scatter",
         "x": [
          "2022-12",
          "2023-03",
          "2023-04",
          "2023-08",
          "2023-10"
         ],
         "xaxis": "x",
         "y": [
          1,
          2,
          1,
          2,
          2
         ],
         "yaxis": "y"
        },
        {
         "hovertemplate": "page_title=Precisa de um grupo de email?<br>month_visited=%{x}<br>total_views=%{y}<extra></extra>",
         "legendgroup": "Precisa de um grupo de email?",
         "line": {
          "color": "#ab63fa",
          "dash": "solid"
         },
         "marker": {
          "symbol": "circle"
         },
         "mode": "lines",
         "name": "Precisa de um grupo de email?",
         "orientation": "v",
         "showlegend": true,
         "type": "scatter",
         "x": [
          "2023-01",
          "2023-03",
          "2023-04",
          "2023-05",
          "2023-07",
          "2023-10"
         ],
         "xaxis": "x",
         "y": [
          3,
          3,
          2,
          1,
          1,
          3
         ],
         "yaxis": "y"
        },
        {
         "hovertemplate": "page_title=Rotina GDs<br>month_visited=%{x}<br>total_views=%{y}<extra></extra>",
         "legendgroup": "Rotina GDs",
         "line": {
          "color": "#FFA15A",
          "dash": "solid"
         },
         "marker": {
          "symbol": "circle"
         },
         "mode": "lines",
         "name": "Rotina GDs",
         "orientation": "v",
         "showlegend": true,
         "type": "scatter",
         "x": [
          "2023-04",
          "2023-05",
          "2023-07",
          "2023-09",
          "2023-10"
         ],
         "xaxis": "x",
         "y": [
          9,
          1,
          1,
          2,
          1
         ],
         "yaxis": "y"
        },
        {
         "hovertemplate": "page_title=Reunião de Líderes (RL)<br>month_visited=%{x}<br>total_views=%{y}<extra></extra>",
         "legendgroup": "Reunião de Líderes (RL)",
         "line": {
          "color": "#19d3f3",
          "dash": "solid"
         },
         "marker": {
          "symbol": "circle"
         },
         "mode": "lines",
         "name": "Reunião de Líderes (RL)",
         "orientation": "v",
         "showlegend": true,
         "type": "scatter",
         "x": [
          "2022-10",
          "2023-04",
          "2023-07",
          "2023-10"
         ],
         "xaxis": "x",
         "y": [
          1,
          2,
          1,
          3
         ],
         "yaxis": "y"
        },
        {
         "hovertemplate": "page_title=Interação com Banca do Edital<br>month_visited=%{x}<br>total_views=%{y}<extra></extra>",
         "legendgroup": "Interação com Banca do Edital",
         "line": {
          "color": "#FF6692",
          "dash": "solid"
         },
         "marker": {
          "symbol": "circle"
         },
         "mode": "lines",
         "name": "Interação com Banca do Edital",
         "orientation": "v",
         "showlegend": true,
         "type": "scatter",
         "x": [
          "2023-03",
          "2023-07",
          "2023-09"
         ],
         "xaxis": "x",
         "y": [
          4,
          1,
          3
         ],
         "yaxis": "y"
        },
        {
         "hovertemplate": "page_title=Captação Pontual <br>month_visited=%{x}<br>total_views=%{y}<extra></extra>",
         "legendgroup": "Captação Pontual ",
         "line": {
          "color": "#B6E880",
          "dash": "solid"
         },
         "marker": {
          "symbol": "circle"
         },
         "mode": "lines",
         "name": "Captação Pontual ",
         "orientation": "v",
         "showlegend": true,
         "type": "scatter",
         "x": [
          "2022-10",
          "2023-07",
          "2023-08"
         ],
         "xaxis": "x",
         "y": [
          1,
          1,
          3
         ],
         "yaxis": "y"
        },
        {
         "hovertemplate": "page_title=Atas de reunião<br>month_visited=%{x}<br>total_views=%{y}<extra></extra>",
         "legendgroup": "Atas de reunião",
         "line": {
          "color": "#FF97FF",
          "dash": "solid"
         },
         "marker": {
          "symbol": "circle"
         },
         "mode": "lines",
         "name": "Atas de reunião",
         "orientation": "v",
         "showlegend": true,
         "type": "scatter",
         "x": [
          "2022-11",
          "2023-08"
         ],
         "xaxis": "x",
         "y": [
          1,
          3
         ],
         "yaxis": "y"
        },
        {
         "hovertemplate": "page_title=Ferramentas Externas Úteis<br>month_visited=%{x}<br>total_views=%{y}<extra></extra>",
         "legendgroup": "Ferramentas Externas Úteis",
         "line": {
          "color": "#FECB52",
          "dash": "solid"
         },
         "marker": {
          "symbol": "circle"
         },
         "mode": "lines",
         "name": "Ferramentas Externas Úteis",
         "orientation": "v",
         "showlegend": true,
         "type": "scatter",
         "x": [
          "2022-10",
          "2022-11",
          "2023-04",
          "2023-05",
          "2023-08"
         ],
         "xaxis": "x",
         "y": [
          1,
          1,
          4,
          2,
          3
         ],
         "yaxis": "y"
        },
        {
         "hovertemplate": "page_title=Victor Lameiras<br>month_visited=%{x}<br>total_views=%{y}<extra></extra>",
         "legendgroup": "Victor Lameiras",
         "line": {
          "color": "#636efa",
          "dash": "solid"
         },
         "marker": {
          "symbol": "circle"
         },
         "mode": "lines",
         "name": "Victor Lameiras",
         "orientation": "v",
         "showlegend": true,
         "type": "scatter",
         "x": [
          "2023-09",
          "2023-10"
         ],
         "xaxis": "x",
         "y": [
          2,
          1
         ],
         "yaxis": "y"
        },
        {
         "hovertemplate": "page_title=Reunião Conselho Administrativo (RCA)<br>month_visited=%{x}<br>total_views=%{y}<extra></extra>",
         "legendgroup": "Reunião Conselho Administrativo (RCA)",
         "line": {
          "color": "#EF553B",
          "dash": "solid"
         },
         "marker": {
          "symbol": "circle"
         },
         "mode": "lines",
         "name": "Reunião Conselho Administrativo (RCA)",
         "orientation": "v",
         "showlegend": true,
         "type": "scatter",
         "x": [
          "2022-10",
          "2023-02",
          "2023-04",
          "2023-10"
         ],
         "xaxis": "x",
         "y": [
          1,
          1,
          3,
          3
         ],
         "yaxis": "y"
        },
        {
         "hovertemplate": "page_title=Brainstorms - Infos doadores<br>month_visited=%{x}<br>total_views=%{y}<extra></extra>",
         "legendgroup": "Brainstorms - Infos doadores",
         "line": {
          "color": "#00cc96",
          "dash": "solid"
         },
         "marker": {
          "symbol": "circle"
         },
         "mode": "lines",
         "name": "Brainstorms - Infos doadores",
         "orientation": "v",
         "showlegend": true,
         "type": "scatter",
         "x": [
          "2022-08",
          "2023-02",
          "2023-04",
          "2023-05",
          "2023-07",
          "2023-09"
         ],
         "xaxis": "x",
         "y": [
          7,
          2,
          1,
          1,
          2,
          1
         ],
         "yaxis": "y"
        },
        {
         "hovertemplate": "page_title= <br>month_visited=%{x}<br>total_views=%{y}<extra></extra>",
         "legendgroup": " ",
         "line": {
          "color": "#ab63fa",
          "dash": "solid"
         },
         "marker": {
          "symbol": "circle"
         },
         "mode": "lines",
         "name": " ",
         "orientation": "v",
         "showlegend": true,
         "type": "scatter",
         "x": [
          "2022-09",
          "2022-11",
          "2022-12",
          "2023-01",
          "2023-03",
          "2023-04",
          "2023-05",
          "2023-08"
         ],
         "xaxis": "x",
         "y": [
          3,
          2,
          1,
          3,
          1,
          4,
          3,
          3
         ],
         "yaxis": "y"
        },
        {
         "hovertemplate": "page_title=Modelos de Eventos<br>month_visited=%{x}<br>total_views=%{y}<extra></extra>",
         "legendgroup": "Modelos de Eventos",
         "line": {
          "color": "#FFA15A",
          "dash": "solid"
         },
         "marker": {
          "symbol": "circle"
         },
         "mode": "lines",
         "name": "Modelos de Eventos",
         "orientation": "v",
         "showlegend": true,
         "type": "scatter",
         "x": [
          "2022-11",
          "2023-03",
          "2023-05",
          "2023-08",
          "2023-09",
          "2023-10"
         ],
         "xaxis": "x",
         "y": [
          2,
          9,
          1,
          1,
          1,
          1
         ],
         "yaxis": "y"
        },
        {
         "hovertemplate": "page_title=O que Projetos faz?<br>month_visited=%{x}<br>total_views=%{y}<extra></extra>",
         "legendgroup": "O que Projetos faz?",
         "line": {
          "color": "#19d3f3",
          "dash": "solid"
         },
         "marker": {
          "symbol": "circle"
         },
         "mode": "lines",
         "name": "O que Projetos faz?",
         "orientation": "v",
         "showlegend": true,
         "type": "scatter",
         "x": [
          "2022-09",
          "2022-10",
          "2023-01",
          "2023-02",
          "2023-03",
          "2023-07",
          "2023-08"
         ],
         "xaxis": "x",
         "y": [
          1,
          1,
          2,
          1,
          1,
          1,
          2
         ],
         "yaxis": "y"
        },
        {
         "hovertemplate": "page_title=Organização Interna<br>month_visited=%{x}<br>total_views=%{y}<extra></extra>",
         "legendgroup": "Organização Interna",
         "line": {
          "color": "#FF6692",
          "dash": "solid"
         },
         "marker": {
          "symbol": "circle"
         },
         "mode": "lines",
         "name": "Organização Interna",
         "orientation": "v",
         "showlegend": true,
         "type": "scatter",
         "x": [
          "2022-08",
          "2023-03",
          "2023-04",
          "2023-08"
         ],
         "xaxis": "x",
         "y": [
          2,
          1,
          2,
          3
         ],
         "yaxis": "y"
        },
        {
         "hovertemplate": "page_title=Organograma de Transição pós-REORG<br>month_visited=%{x}<br>total_views=%{y}<extra></extra>",
         "legendgroup": "Organograma de Transição pós-REORG",
         "line": {
          "color": "#B6E880",
          "dash": "solid"
         },
         "marker": {
          "symbol": "circle"
         },
         "mode": "lines",
         "name": "Organograma de Transição pós-REORG",
         "orientation": "v",
         "showlegend": true,
         "type": "scatter",
         "x": [
          "2022-10",
          "2022-11",
          "2022-12",
          "2023-01",
          "2023-02",
          "2023-03",
          "2023-04",
          "2023-10"
         ],
         "xaxis": "x",
         "y": [
          3,
          1,
          3,
          4,
          3,
          5,
          2,
          3
         ],
         "yaxis": "y"
        },
        {
         "hovertemplate": "page_title=PEIR 23.1<br>month_visited=%{x}<br>total_views=%{y}<extra></extra>",
         "legendgroup": "PEIR 23.1",
         "line": {
          "color": "#FF97FF",
          "dash": "solid"
         },
         "marker": {
          "symbol": "circle"
         },
         "mode": "lines",
         "name": "PEIR 23.1",
         "orientation": "v",
         "showlegend": true,
         "type": "scatter",
         "x": [
          "2023-03",
          "2023-04",
          "2023-05",
          "2023-07",
          "2023-09",
          "2023-10"
         ],
         "xaxis": "x",
         "y": [
          12,
          7,
          1,
          1,
          1,
          1
         ],
         "yaxis": "y"
        },
        {
         "hovertemplate": "page_title=Processo de gestão de churn<br>month_visited=%{x}<br>total_views=%{y}<extra></extra>",
         "legendgroup": "Processo de gestão de churn",
         "line": {
          "color": "#FECB52",
          "dash": "solid"
         },
         "marker": {
          "symbol": "circle"
         },
         "mode": "lines",
         "name": "Processo de gestão de churn",
         "orientation": "v",
         "showlegend": true,
         "type": "scatter",
         "x": [
          "2023-02",
          "2023-07",
          "2023-09"
         ],
         "xaxis": "x",
         "y": [
          5,
          2,
          1
         ],
         "yaxis": "y"
        },
        {
         "hovertemplate": "page_title=Captação Perene<br>month_visited=%{x}<br>total_views=%{y}<extra></extra>",
         "legendgroup": "Captação Perene",
         "line": {
          "color": "#636efa",
          "dash": "solid"
         },
         "marker": {
          "symbol": "circle"
         },
         "mode": "lines",
         "name": "Captação Perene",
         "orientation": "v",
         "showlegend": true,
         "type": "scatter",
         "x": [
          "2022-09",
          "2023-08"
         ],
         "xaxis": "x",
         "y": [
          2,
          2
         ],
         "yaxis": "y"
        },
        {
         "hovertemplate": "page_title=O que o Financeiro faz?<br>month_visited=%{x}<br>total_views=%{y}<extra></extra>",
         "legendgroup": "O que o Financeiro faz?",
         "line": {
          "color": "#EF553B",
          "dash": "solid"
         },
         "marker": {
          "symbol": "circle"
         },
         "mode": "lines",
         "name": "O que o Financeiro faz?",
         "orientation": "v",
         "showlegend": true,
         "type": "scatter",
         "x": [
          "2023-01",
          "2023-03",
          "2023-04",
          "2023-08"
         ],
         "xaxis": "x",
         "y": [
          1,
          1,
          1,
          2
         ],
         "yaxis": "y"
        },
        {
         "hovertemplate": "page_title=Comitê de Investimentos<br>month_visited=%{x}<br>total_views=%{y}<extra></extra>",
         "legendgroup": "Comitê de Investimentos",
         "line": {
          "color": "#00cc96",
          "dash": "solid"
         },
         "marker": {
          "symbol": "circle"
         },
         "mode": "lines",
         "name": "Comitê de Investimentos",
         "orientation": "v",
         "showlegend": true,
         "type": "scatter",
         "x": [
          "2023-03",
          "2023-04",
          "2023-08"
         ],
         "xaxis": "x",
         "y": [
          1,
          1,
          2
         ],
         "yaxis": "y"
        },
        {
         "hovertemplate": "page_title=Pipeline de Tarefas da Área<br>month_visited=%{x}<br>total_views=%{y}<extra></extra>",
         "legendgroup": "Pipeline de Tarefas da Área",
         "line": {
          "color": "#ab63fa",
          "dash": "solid"
         },
         "marker": {
          "symbol": "circle"
         },
         "mode": "lines",
         "name": "Pipeline de Tarefas da Área",
         "orientation": "v",
         "showlegend": true,
         "type": "scatter",
         "x": [
          "2023-03",
          "2023-04",
          "2023-08"
         ],
         "xaxis": "x",
         "y": [
          1,
          4,
          2
         ],
         "yaxis": "y"
        },
        {
         "hovertemplate": "page_title=Histórias Inspiradoras<br>month_visited=%{x}<br>total_views=%{y}<extra></extra>",
         "legendgroup": "Histórias Inspiradoras",
         "line": {
          "color": "#FFA15A",
          "dash": "solid"
         },
         "marker": {
          "symbol": "circle"
         },
         "mode": "lines",
         "name": "Histórias Inspiradoras",
         "orientation": "v",
         "showlegend": true,
         "type": "scatter",
         "x": [
          "2023-05",
          "2023-06",
          "2023-07",
          "2023-09"
         ],
         "xaxis": "x",
         "y": [
          16,
          2,
          1,
          1
         ],
         "yaxis": "y"
        },
        {
         "hovertemplate": "page_title=Indicadores<br>month_visited=%{x}<br>total_views=%{y}<extra></extra>",
         "legendgroup": "Indicadores",
         "line": {
          "color": "#19d3f3",
          "dash": "solid"
         },
         "marker": {
          "symbol": "circle"
         },
         "mode": "lines",
         "name": "Indicadores",
         "orientation": "v",
         "showlegend": true,
         "type": "scatter",
         "x": [
          "2022-09",
          "2022-10",
          "2023-02",
          "2023-03",
          "2023-04",
          "2023-05",
          "2023-07",
          "2023-08"
         ],
         "xaxis": "x",
         "y": [
          6,
          13,
          1,
          2,
          4,
          2,
          1,
          1
         ],
         "yaxis": "y"
        },
        {
         "hovertemplate": "page_title=Benchmarks<br>month_visited=%{x}<br>total_views=%{y}<extra></extra>",
         "legendgroup": "Benchmarks",
         "line": {
          "color": "#FF6692",
          "dash": "solid"
         },
         "marker": {
          "symbol": "circle"
         },
         "mode": "lines",
         "name": "Benchmarks",
         "orientation": "v",
         "showlegend": true,
         "type": "scatter",
         "x": [
          "2022-08",
          "2022-11",
          "2023-03",
          "2023-04",
          "2023-05",
          "2023-07",
          "2023-09"
         ],
         "xaxis": "x",
         "y": [
          1,
          1,
          1,
          1,
          2,
          1,
          1
         ],
         "yaxis": "y"
        },
        {
         "hovertemplate": "page_title=Principais Entregáveis<br>month_visited=%{x}<br>total_views=%{y}<extra></extra>",
         "legendgroup": "Principais Entregáveis",
         "line": {
          "color": "#B6E880",
          "dash": "solid"
         },
         "marker": {
          "symbol": "circle"
         },
         "mode": "lines",
         "name": "Principais Entregáveis",
         "orientation": "v",
         "showlegend": true,
         "type": "scatter",
         "x": [
          "2023-03",
          "2023-04",
          "2023-08"
         ],
         "xaxis": "x",
         "y": [
          2,
          1,
          2
         ],
         "yaxis": "y"
        },
        {
         "hovertemplate": "page_title=Reditus Perpetuum (Fundo)<br>month_visited=%{x}<br>total_views=%{y}<extra></extra>",
         "legendgroup": "Reditus Perpetuum (Fundo)",
         "line": {
          "color": "#FF97FF",
          "dash": "solid"
         },
         "marker": {
          "symbol": "circle"
         },
         "mode": "lines",
         "name": "Reditus Perpetuum (Fundo)",
         "orientation": "v",
         "showlegend": true,
         "type": "scatter",
         "x": [
          "2023-04",
          "2023-08"
         ],
         "xaxis": "x",
         "y": [
          1,
          2
         ],
         "yaxis": "y"
        },
        {
         "hovertemplate": "page_title=Comunicação Institucional<br>month_visited=%{x}<br>total_views=%{y}<extra></extra>",
         "legendgroup": "Comunicação Institucional",
         "line": {
          "color": "#FECB52",
          "dash": "solid"
         },
         "marker": {
          "symbol": "circle"
         },
         "mode": "lines",
         "name": "Comunicação Institucional",
         "orientation": "v",
         "showlegend": true,
         "type": "scatter",
         "x": [
          "2022-09",
          "2022-10",
          "2022-11",
          "2023-01",
          "2023-04",
          "2023-05",
          "2023-06",
          "2023-07",
          "2023-09"
         ],
         "xaxis": "x",
         "y": [
          3,
          1,
          5,
          6,
          4,
          4,
          1,
          1,
          1
         ],
         "yaxis": "y"
        },
        {
         "hovertemplate": "page_title=Conselho Fiscal<br>month_visited=%{x}<br>total_views=%{y}<extra></extra>",
         "legendgroup": "Conselho Fiscal",
         "line": {
          "color": "#636efa",
          "dash": "solid"
         },
         "marker": {
          "symbol": "circle"
         },
         "mode": "lines",
         "name": "Conselho Fiscal",
         "orientation": "v",
         "showlegend": true,
         "type": "scatter",
         "x": [
          "2023-03",
          "2023-08"
         ],
         "xaxis": "x",
         "y": [
          2,
          2
         ],
         "yaxis": "y"
        },
        {
         "hovertemplate": "page_title=Bolsistas<br>month_visited=%{x}<br>total_views=%{y}<extra></extra>",
         "legendgroup": "Bolsistas",
         "line": {
          "color": "#EF553B",
          "dash": "solid"
         },
         "marker": {
          "symbol": "circle"
         },
         "mode": "lines",
         "name": "Bolsistas",
         "orientation": "v",
         "showlegend": true,
         "type": "scatter",
         "x": [
          "2023-08"
         ],
         "xaxis": "x",
         "y": [
          2
         ],
         "yaxis": "y"
        },
        {
         "hovertemplate": "page_title=Quero criar uma campanha nas redes sociais<br>month_visited=%{x}<br>total_views=%{y}<extra></extra>",
         "legendgroup": "Quero criar uma campanha nas redes sociais",
         "line": {
          "color": "#00cc96",
          "dash": "solid"
         },
         "marker": {
          "symbol": "circle"
         },
         "mode": "lines",
         "name": "Quero criar uma campanha nas redes sociais",
         "orientation": "v",
         "showlegend": true,
         "type": "scatter",
         "x": [
          "2023-07"
         ],
         "xaxis": "x",
         "y": [
          2
         ],
         "yaxis": "y"
        },
        {
         "hovertemplate": "page_title=Quero enviar um email para a nossa base<br>month_visited=%{x}<br>total_views=%{y}<extra></extra>",
         "legendgroup": "Quero enviar um email para a nossa base",
         "line": {
          "color": "#ab63fa",
          "dash": "solid"
         },
         "marker": {
          "symbol": "circle"
         },
         "mode": "lines",
         "name": "Quero enviar um email para a nossa base",
         "orientation": "v",
         "showlegend": true,
         "type": "scatter",
         "x": [
          "2023-07"
         ],
         "xaxis": "x",
         "y": [
          2
         ],
         "yaxis": "y"
        },
        {
         "hovertemplate": "page_title=Abastecimento de funil (novos potenciais PGD!)<br>month_visited=%{x}<br>total_views=%{y}<extra></extra>",
         "legendgroup": "Abastecimento de funil (novos potenciais PGD!)",
         "line": {
          "color": "#FFA15A",
          "dash": "solid"
         },
         "marker": {
          "symbol": "circle"
         },
         "mode": "lines",
         "name": "Abastecimento de funil (novos potenciais PGD!)",
         "orientation": "v",
         "showlegend": true,
         "type": "scatter",
         "x": [
          "2023-04",
          "2023-06",
          "2023-09"
         ],
         "xaxis": "x",
         "y": [
          7,
          1,
          1
         ],
         "yaxis": "y"
        },
        {
         "hovertemplate": "page_title=Anotações Reunião de Área<br>month_visited=%{x}<br>total_views=%{y}<extra></extra>",
         "legendgroup": "Anotações Reunião de Área",
         "line": {
          "color": "#19d3f3",
          "dash": "solid"
         },
         "marker": {
          "symbol": "circle"
         },
         "mode": "lines",
         "name": "Anotações Reunião de Área",
         "orientation": "v",
         "showlegend": true,
         "type": "scatter",
         "x": [
          "2022-12",
          "2023-08"
         ],
         "xaxis": "x",
         "y": [
          1,
          1
         ],
         "yaxis": "y"
        },
        {
         "hovertemplate": "page_title=To Dos pro Henrique<br>month_visited=%{x}<br>total_views=%{y}<extra></extra>",
         "legendgroup": "To Dos pro Henrique",
         "line": {
          "color": "#FF6692",
          "dash": "solid"
         },
         "marker": {
          "symbol": "circle"
         },
         "mode": "lines",
         "name": "To Dos pro Henrique",
         "orientation": "v",
         "showlegend": true,
         "type": "scatter",
         "x": [
          "2023-04",
          "2023-05",
          "2023-09"
         ],
         "xaxis": "x",
         "y": [
          1,
          1,
          1
         ],
         "yaxis": "y"
        },
        {
         "hovertemplate": "page_title=O que o Financeiro faz? modelo<br>month_visited=%{x}<br>total_views=%{y}<extra></extra>",
         "legendgroup": "O que o Financeiro faz? modelo",
         "line": {
          "color": "#B6E880",
          "dash": "solid"
         },
         "marker": {
          "symbol": "circle"
         },
         "mode": "lines",
         "name": "O que o Financeiro faz? modelo",
         "orientation": "v",
         "showlegend": true,
         "type": "scatter",
         "x": [
          "2023-01",
          "2023-03",
          "2023-08"
         ],
         "xaxis": "x",
         "y": [
          1,
          2,
          1
         ],
         "yaxis": "y"
        },
        {
         "hovertemplate": "page_title=Lista com Contatos de GDs<br>month_visited=%{x}<br>total_views=%{y}<extra></extra>",
         "legendgroup": "Lista com Contatos de GDs",
         "line": {
          "color": "#FF97FF",
          "dash": "solid"
         },
         "marker": {
          "symbol": "circle"
         },
         "mode": "lines",
         "name": "Lista com Contatos de GDs",
         "orientation": "v",
         "showlegend": true,
         "type": "scatter",
         "x": [
          "2023-09"
         ],
         "xaxis": "x",
         "y": [
          1
         ],
         "yaxis": "y"
        },
        {
         "hovertemplate": "page_title=Priorização e Abordagem de PGDs<br>month_visited=%{x}<br>total_views=%{y}<extra></extra>",
         "legendgroup": "Priorização e Abordagem de PGDs",
         "line": {
          "color": "#FECB52",
          "dash": "solid"
         },
         "marker": {
          "symbol": "circle"
         },
         "mode": "lines",
         "name": "Priorização e Abordagem de PGDs",
         "orientation": "v",
         "showlegend": true,
         "type": "scatter",
         "x": [
          "2023-03",
          "2023-04",
          "2023-05",
          "2023-06",
          "2023-09"
         ],
         "xaxis": "x",
         "y": [
          5,
          7,
          1,
          1,
          1
         ],
         "yaxis": "y"
        },
        {
         "hovertemplate": "page_title=Dinâmicas PEIR<br>month_visited=%{x}<br>total_views=%{y}<extra></extra>",
         "legendgroup": "Dinâmicas PEIR",
         "line": {
          "color": "#636efa",
          "dash": "solid"
         },
         "marker": {
          "symbol": "circle"
         },
         "mode": "lines",
         "name": "Dinâmicas PEIR",
         "orientation": "v",
         "showlegend": true,
         "type": "scatter",
         "x": [
          "2023-09"
         ],
         "xaxis": "x",
         "y": [
          1
         ],
         "yaxis": "y"
        },
        {
         "hovertemplate": "page_title=Calendário<br>month_visited=%{x}<br>total_views=%{y}<extra></extra>",
         "legendgroup": "Calendário",
         "line": {
          "color": "#EF553B",
          "dash": "solid"
         },
         "marker": {
          "symbol": "circle"
         },
         "mode": "lines",
         "name": "Calendário",
         "orientation": "v",
         "showlegend": true,
         "type": "scatter",
         "x": [
          "2023-08"
         ],
         "xaxis": "x",
         "y": [
          1
         ],
         "yaxis": "y"
        },
        {
         "hovertemplate": "page_title=Checks do Financeiro<br>month_visited=%{x}<br>total_views=%{y}<extra></extra>",
         "legendgroup": "Checks do Financeiro",
         "line": {
          "color": "#00cc96",
          "dash": "solid"
         },
         "marker": {
          "symbol": "circle"
         },
         "mode": "lines",
         "name": "Checks do Financeiro",
         "orientation": "v",
         "showlegend": true,
         "type": "scatter",
         "x": [
          "2023-06",
          "2023-07"
         ],
         "xaxis": "x",
         "y": [
          1,
          1
         ],
         "yaxis": "y"
        },
        {
         "hovertemplate": "page_title=O que Comunicação faz?<br>month_visited=%{x}<br>total_views=%{y}<extra></extra>",
         "legendgroup": "O que Comunicação faz?",
         "line": {
          "color": "#ab63fa",
          "dash": "solid"
         },
         "marker": {
          "symbol": "circle"
         },
         "mode": "lines",
         "name": "O que Comunicação faz?",
         "orientation": "v",
         "showlegend": true,
         "type": "scatter",
         "x": [
          "2023-01",
          "2023-04",
          "2023-08"
         ],
         "xaxis": "x",
         "y": [
          1,
          2,
          1
         ],
         "yaxis": "y"
        },
        {
         "hovertemplate": "page_title=Solicitações de Pagamento<br>month_visited=%{x}<br>total_views=%{y}<extra></extra>",
         "legendgroup": "Solicitações de Pagamento",
         "line": {
          "color": "#FFA15A",
          "dash": "solid"
         },
         "marker": {
          "symbol": "circle"
         },
         "mode": "lines",
         "name": "Solicitações de Pagamento",
         "orientation": "v",
         "showlegend": true,
         "type": "scatter",
         "x": [
          "2023-03",
          "2023-04",
          "2023-08"
         ],
         "xaxis": "x",
         "y": [
          1,
          1,
          1
         ],
         "yaxis": "y"
        },
        {
         "hovertemplate": "page_title=Planejamento Anna<br>month_visited=%{x}<br>total_views=%{y}<extra></extra>",
         "legendgroup": "Planejamento Anna",
         "line": {
          "color": "#19d3f3",
          "dash": "solid"
         },
         "marker": {
          "symbol": "circle"
         },
         "mode": "lines",
         "name": "Planejamento Anna",
         "orientation": "v",
         "showlegend": true,
         "type": "scatter",
         "x": [
          "2022-12",
          "2023-01",
          "2023-08"
         ],
         "xaxis": "x",
         "y": [
          1,
          1,
          1
         ],
         "yaxis": "y"
        },
        {
         "hovertemplate": "page_title=Proposta de OKRs Reditus 2022<br>month_visited=%{x}<br>total_views=%{y}<extra></extra>",
         "legendgroup": "Proposta de OKRs Reditus 2022",
         "line": {
          "color": "#FF6692",
          "dash": "solid"
         },
         "marker": {
          "symbol": "circle"
         },
         "mode": "lines",
         "name": "Proposta de OKRs Reditus 2022",
         "orientation": "v",
         "showlegend": true,
         "type": "scatter",
         "x": [
          "2022-08",
          "2022-09",
          "2022-12",
          "2023-03",
          "2023-04",
          "2023-05",
          "2023-08"
         ],
         "xaxis": "x",
         "y": [
          5,
          2,
          1,
          3,
          1,
          1,
          1
         ],
         "yaxis": "y"
        },
        {
         "hovertemplate": "page_title=Boas Práticas<br>month_visited=%{x}<br>total_views=%{y}<extra></extra>",
         "legendgroup": "Boas Práticas",
         "line": {
          "color": "#B6E880",
          "dash": "solid"
         },
         "marker": {
          "symbol": "circle"
         },
         "mode": "lines",
         "name": "Boas Práticas",
         "orientation": "v",
         "showlegend": true,
         "type": "scatter",
         "x": [
          "2022-11",
          "2023-02",
          "2023-03",
          "2023-05",
          "2023-08"
         ],
         "xaxis": "x",
         "y": [
          10,
          1,
          4,
          2,
          1
         ],
         "yaxis": "y"
        },
        {
         "hovertemplate": "page_title=O que o Jurídico faz?<br>month_visited=%{x}<br>total_views=%{y}<extra></extra>",
         "legendgroup": "O que o Jurídico faz?",
         "line": {
          "color": "#FF97FF",
          "dash": "solid"
         },
         "marker": {
          "symbol": "circle"
         },
         "mode": "lines",
         "name": "O que o Jurídico faz?",
         "orientation": "v",
         "showlegend": true,
         "type": "scatter",
         "x": [
          "2022-12",
          "2023-02",
          "2023-04",
          "2023-08"
         ],
         "xaxis": "x",
         "y": [
          1,
          1,
          1,
          1
         ],
         "yaxis": "y"
        },
        {
         "hovertemplate": "page_title=Alterações do site<br>month_visited=%{x}<br>total_views=%{y}<extra></extra>",
         "legendgroup": "Alterações do site",
         "line": {
          "color": "#FECB52",
          "dash": "solid"
         },
         "marker": {
          "symbol": "circle"
         },
         "mode": "lines",
         "name": "Alterações do site",
         "orientation": "v",
         "showlegend": true,
         "type": "scatter",
         "x": [
          "2022-08",
          "2022-09",
          "2022-11",
          "2023-01",
          "2023-04",
          "2023-05"
         ],
         "xaxis": "x",
         "y": [
          9,
          2,
          4,
          2,
          3,
          2
         ],
         "yaxis": "y"
        },
        {
         "hovertemplate": "page_title=PEIR 22.2<br>month_visited=%{x}<br>total_views=%{y}<extra></extra>",
         "legendgroup": "PEIR 22.2",
         "line": {
          "color": "#636efa",
          "dash": "solid"
         },
         "marker": {
          "symbol": "circle"
         },
         "mode": "lines",
         "name": "PEIR 22.2",
         "orientation": "v",
         "showlegend": true,
         "type": "scatter",
         "x": [
          "2022-08",
          "2022-10",
          "2022-11",
          "2023-03",
          "2023-05"
         ],
         "xaxis": "x",
         "y": [
          3,
          5,
          1,
          1,
          1
         ],
         "yaxis": "y"
        },
        {
         "hovertemplate": "page_title=Estrutura<br>month_visited=%{x}<br>total_views=%{y}<extra></extra>",
         "legendgroup": "Estrutura",
         "line": {
          "color": "#EF553B",
          "dash": "solid"
         },
         "marker": {
          "symbol": "circle"
         },
         "mode": "lines",
         "name": "Estrutura",
         "orientation": "v",
         "showlegend": true,
         "type": "scatter",
         "x": [
          "2022-09",
          "2022-10"
         ],
         "xaxis": "x",
         "y": [
          2,
          1
         ],
         "yaxis": "y"
        },
        {
         "hovertemplate": "page_title=Gestão do Conhecimento: Jestor<br>month_visited=%{x}<br>total_views=%{y}<extra></extra>",
         "legendgroup": "Gestão do Conhecimento: Jestor",
         "line": {
          "color": "#00cc96",
          "dash": "solid"
         },
         "marker": {
          "symbol": "circle"
         },
         "mode": "lines",
         "name": "Gestão do Conhecimento: Jestor",
         "orientation": "v",
         "showlegend": true,
         "type": "scatter",
         "x": [
          "2022-09",
          "2022-10",
          "2023-01"
         ],
         "xaxis": "x",
         "y": [
          7,
          5,
          3
         ],
         "yaxis": "y"
        },
        {
         "hovertemplate": "page_title=Princípios do Jestor (3:30 minutos de leitura)<br>month_visited=%{x}<br>total_views=%{y}<extra></extra>",
         "legendgroup": "Princípios do Jestor (3:30 minutos de leitura)",
         "line": {
          "color": "#ab63fa",
          "dash": "solid"
         },
         "marker": {
          "symbol": "circle"
         },
         "mode": "lines",
         "name": "Princípios do Jestor (3:30 minutos de leitura)",
         "orientation": "v",
         "showlegend": true,
         "type": "scatter",
         "x": [
          "2022-09",
          "2022-10"
         ],
         "xaxis": "x",
         "y": [
          3,
          1
         ],
         "yaxis": "y"
        },
        {
         "hovertemplate": "page_title=Processos do Dia a Dia<br>month_visited=%{x}<br>total_views=%{y}<extra></extra>",
         "legendgroup": "Processos do Dia a Dia",
         "line": {
          "color": "#FFA15A",
          "dash": "solid"
         },
         "marker": {
          "symbol": "circle"
         },
         "mode": "lines",
         "name": "Processos do Dia a Dia",
         "orientation": "v",
         "showlegend": true,
         "type": "scatter",
         "x": [
          "2022-09"
         ],
         "xaxis": "x",
         "y": [
          2
         ],
         "yaxis": "y"
        },
        {
         "hovertemplate": "page_title=Análise de métricas no Meta Business Suite<br>month_visited=%{x}<br>total_views=%{y}<extra></extra>",
         "legendgroup": "Análise de métricas no Meta Business Suite",
         "line": {
          "color": "#19d3f3",
          "dash": "solid"
         },
         "marker": {
          "symbol": "circle"
         },
         "mode": "lines",
         "name": "Análise de métricas no Meta Business Suite",
         "orientation": "v",
         "showlegend": true,
         "type": "scatter",
         "x": [
          "2022-10",
          "2023-02"
         ],
         "xaxis": "x",
         "y": [
          4,
          1
         ],
         "yaxis": "y"
        },
        {
         "hovertemplate": "page_title=O que Gente e Gestão faz?<br>month_visited=%{x}<br>total_views=%{y}<extra></extra>",
         "legendgroup": "O que Gente e Gestão faz?",
         "line": {
          "color": "#FF6692",
          "dash": "solid"
         },
         "marker": {
          "symbol": "circle"
         },
         "mode": "lines",
         "name": "O que Gente e Gestão faz?",
         "orientation": "v",
         "showlegend": true,
         "type": "scatter",
         "x": [
          "2022-10"
         ],
         "xaxis": "x",
         "y": [
          1
         ],
         "yaxis": "y"
        },
        {
         "hovertemplate": "page_title=One pagers da áreas (old versions)<br>month_visited=%{x}<br>total_views=%{y}<extra></extra>",
         "legendgroup": "One pagers da áreas (old versions)",
         "line": {
          "color": "#B6E880",
          "dash": "solid"
         },
         "marker": {
          "symbol": "circle"
         },
         "mode": "lines",
         "name": "One pagers da áreas (old versions)",
         "orientation": "v",
         "showlegend": true,
         "type": "scatter",
         "x": [
          "2022-10",
          "2023-04"
         ],
         "xaxis": "x",
         "y": [
          1,
          1
         ],
         "yaxis": "y"
        },
        {
         "hovertemplate": "page_title=Reestruturação Organizacional<br>month_visited=%{x}<br>total_views=%{y}<extra></extra>",
         "legendgroup": "Reestruturação Organizacional",
         "line": {
          "color": "#FF97FF",
          "dash": "solid"
         },
         "marker": {
          "symbol": "circle"
         },
         "mode": "lines",
         "name": "Reestruturação Organizacional",
         "orientation": "v",
         "showlegend": true,
         "type": "scatter",
         "x": [
          "2022-10",
          "2022-12",
          "2023-04"
         ],
         "xaxis": "x",
         "y": [
          1,
          1,
          7
         ],
         "yaxis": "y"
        },
        {
         "hovertemplate": "page_title=Tutoriais de Airtable<br>month_visited=%{x}<br>total_views=%{y}<extra></extra>",
         "legendgroup": "Tutoriais de Airtable",
         "line": {
          "color": "#FECB52",
          "dash": "solid"
         },
         "marker": {
          "symbol": "circle"
         },
         "mode": "lines",
         "name": "Tutoriais de Airtable",
         "orientation": "v",
         "showlegend": true,
         "type": "scatter",
         "x": [
          "2023-03",
          "2023-04",
          "2023-05",
          "2023-06"
         ],
         "xaxis": "x",
         "y": [
          88,
          6,
          9,
          1
         ],
         "yaxis": "y"
        },
        {
         "hovertemplate": "page_title=Apresentação Final<br>month_visited=%{x}<br>total_views=%{y}<extra></extra>",
         "legendgroup": "Apresentação Final",
         "line": {
          "color": "#636efa",
          "dash": "solid"
         },
         "marker": {
          "symbol": "circle"
         },
         "mode": "lines",
         "name": "Apresentação Final",
         "orientation": "v",
         "showlegend": true,
         "type": "scatter",
         "x": [
          "2023-04"
         ],
         "xaxis": "x",
         "y": [
          2
         ],
         "yaxis": "y"
        },
        {
         "hovertemplate": "page_title=Benchmarking<br>month_visited=%{x}<br>total_views=%{y}<extra></extra>",
         "legendgroup": "Benchmarking",
         "line": {
          "color": "#EF553B",
          "dash": "solid"
         },
         "marker": {
          "symbol": "circle"
         },
         "mode": "lines",
         "name": "Benchmarking",
         "orientation": "v",
         "showlegend": true,
         "type": "scatter",
         "x": [
          "2023-04"
         ],
         "xaxis": "x",
         "y": [
          1
         ],
         "yaxis": "y"
        },
        {
         "hovertemplate": "page_title=Ferramentas em exploração<br>month_visited=%{x}<br>total_views=%{y}<extra></extra>",
         "legendgroup": "Ferramentas em exploração",
         "line": {
          "color": "#00cc96",
          "dash": "solid"
         },
         "marker": {
          "symbol": "circle"
         },
         "mode": "lines",
         "name": "Ferramentas em exploração",
         "orientation": "v",
         "showlegend": true,
         "type": "scatter",
         "x": [
          "2023-04",
          "2023-05"
         ],
         "xaxis": "x",
         "y": [
          1,
          1
         ],
         "yaxis": "y"
        },
        {
         "hovertemplate": "page_title=Materiais de Estudo<br>month_visited=%{x}<br>total_views=%{y}<extra></extra>",
         "legendgroup": "Materiais de Estudo",
         "line": {
          "color": "#ab63fa",
          "dash": "solid"
         },
         "marker": {
          "symbol": "circle"
         },
         "mode": "lines",
         "name": "Materiais de Estudo",
         "orientation": "v",
         "showlegend": true,
         "type": "scatter",
         "x": [
          "2023-04"
         ],
         "xaxis": "x",
         "y": [
          1
         ],
         "yaxis": "y"
        },
        {
         "hovertemplate": "page_title=Organização de demandas externas<br>month_visited=%{x}<br>total_views=%{y}<extra></extra>",
         "legendgroup": "Organização de demandas externas",
         "line": {
          "color": "#FFA15A",
          "dash": "solid"
         },
         "marker": {
          "symbol": "circle"
         },
         "mode": "lines",
         "name": "Organização de demandas externas",
         "orientation": "v",
         "showlegend": true,
         "type": "scatter",
         "x": [
          "2023-04"
         ],
         "xaxis": "x",
         "y": [
          2
         ],
         "yaxis": "y"
        },
        {
         "hovertemplate": "page_title=Planejamento<br>month_visited=%{x}<br>total_views=%{y}<extra></extra>",
         "legendgroup": "Planejamento",
         "line": {
          "color": "#19d3f3",
          "dash": "solid"
         },
         "marker": {
          "symbol": "circle"
         },
         "mode": "lines",
         "name": "Planejamento",
         "orientation": "v",
         "showlegend": true,
         "type": "scatter",
         "x": [
          "2023-04"
         ],
         "xaxis": "x",
         "y": [
          1
         ],
         "yaxis": "y"
        },
        {
         "hovertemplate": "page_title=Metas<br>month_visited=%{x}<br>total_views=%{y}<extra></extra>",
         "legendgroup": "Metas",
         "line": {
          "color": "#FF6692",
          "dash": "solid"
         },
         "marker": {
          "symbol": "circle"
         },
         "mode": "lines",
         "name": "Metas",
         "orientation": "v",
         "showlegend": true,
         "type": "scatter",
         "x": [
          "2023-06"
         ],
         "xaxis": "x",
         "y": [
          1
         ],
         "yaxis": "y"
        }
       ],
       "layout": {
        "legend": {
         "title": {
          "text": "page_title"
         },
         "tracegroupgap": 0
        },
        "template": {
         "data": {
          "bar": [
           {
            "error_x": {
             "color": "#2a3f5f"
            },
            "error_y": {
             "color": "#2a3f5f"
            },
            "marker": {
             "line": {
              "color": "#E5ECF6",
              "width": 0.5
             },
             "pattern": {
              "fillmode": "overlay",
              "size": 10,
              "solidity": 0.2
             }
            },
            "type": "bar"
           }
          ],
          "barpolar": [
           {
            "marker": {
             "line": {
              "color": "#E5ECF6",
              "width": 0.5
             },
             "pattern": {
              "fillmode": "overlay",
              "size": 10,
              "solidity": 0.2
             }
            },
            "type": "barpolar"
           }
          ],
          "carpet": [
           {
            "aaxis": {
             "endlinecolor": "#2a3f5f",
             "gridcolor": "white",
             "linecolor": "white",
             "minorgridcolor": "white",
             "startlinecolor": "#2a3f5f"
            },
            "baxis": {
             "endlinecolor": "#2a3f5f",
             "gridcolor": "white",
             "linecolor": "white",
             "minorgridcolor": "white",
             "startlinecolor": "#2a3f5f"
            },
            "type": "carpet"
           }
          ],
          "choropleth": [
           {
            "colorbar": {
             "outlinewidth": 0,
             "ticks": ""
            },
            "type": "choropleth"
           }
          ],
          "contour": [
           {
            "colorbar": {
             "outlinewidth": 0,
             "ticks": ""
            },
            "colorscale": [
             [
              0,
              "#0d0887"
             ],
             [
              0.1111111111111111,
              "#46039f"
             ],
             [
              0.2222222222222222,
              "#7201a8"
             ],
             [
              0.3333333333333333,
              "#9c179e"
             ],
             [
              0.4444444444444444,
              "#bd3786"
             ],
             [
              0.5555555555555556,
              "#d8576b"
             ],
             [
              0.6666666666666666,
              "#ed7953"
             ],
             [
              0.7777777777777778,
              "#fb9f3a"
             ],
             [
              0.8888888888888888,
              "#fdca26"
             ],
             [
              1,
              "#f0f921"
             ]
            ],
            "type": "contour"
           }
          ],
          "contourcarpet": [
           {
            "colorbar": {
             "outlinewidth": 0,
             "ticks": ""
            },
            "type": "contourcarpet"
           }
          ],
          "heatmap": [
           {
            "colorbar": {
             "outlinewidth": 0,
             "ticks": ""
            },
            "colorscale": [
             [
              0,
              "#0d0887"
             ],
             [
              0.1111111111111111,
              "#46039f"
             ],
             [
              0.2222222222222222,
              "#7201a8"
             ],
             [
              0.3333333333333333,
              "#9c179e"
             ],
             [
              0.4444444444444444,
              "#bd3786"
             ],
             [
              0.5555555555555556,
              "#d8576b"
             ],
             [
              0.6666666666666666,
              "#ed7953"
             ],
             [
              0.7777777777777778,
              "#fb9f3a"
             ],
             [
              0.8888888888888888,
              "#fdca26"
             ],
             [
              1,
              "#f0f921"
             ]
            ],
            "type": "heatmap"
           }
          ],
          "heatmapgl": [
           {
            "colorbar": {
             "outlinewidth": 0,
             "ticks": ""
            },
            "colorscale": [
             [
              0,
              "#0d0887"
             ],
             [
              0.1111111111111111,
              "#46039f"
             ],
             [
              0.2222222222222222,
              "#7201a8"
             ],
             [
              0.3333333333333333,
              "#9c179e"
             ],
             [
              0.4444444444444444,
              "#bd3786"
             ],
             [
              0.5555555555555556,
              "#d8576b"
             ],
             [
              0.6666666666666666,
              "#ed7953"
             ],
             [
              0.7777777777777778,
              "#fb9f3a"
             ],
             [
              0.8888888888888888,
              "#fdca26"
             ],
             [
              1,
              "#f0f921"
             ]
            ],
            "type": "heatmapgl"
           }
          ],
          "histogram": [
           {
            "marker": {
             "pattern": {
              "fillmode": "overlay",
              "size": 10,
              "solidity": 0.2
             }
            },
            "type": "histogram"
           }
          ],
          "histogram2d": [
           {
            "colorbar": {
             "outlinewidth": 0,
             "ticks": ""
            },
            "colorscale": [
             [
              0,
              "#0d0887"
             ],
             [
              0.1111111111111111,
              "#46039f"
             ],
             [
              0.2222222222222222,
              "#7201a8"
             ],
             [
              0.3333333333333333,
              "#9c179e"
             ],
             [
              0.4444444444444444,
              "#bd3786"
             ],
             [
              0.5555555555555556,
              "#d8576b"
             ],
             [
              0.6666666666666666,
              "#ed7953"
             ],
             [
              0.7777777777777778,
              "#fb9f3a"
             ],
             [
              0.8888888888888888,
              "#fdca26"
             ],
             [
              1,
              "#f0f921"
             ]
            ],
            "type": "histogram2d"
           }
          ],
          "histogram2dcontour": [
           {
            "colorbar": {
             "outlinewidth": 0,
             "ticks": ""
            },
            "colorscale": [
             [
              0,
              "#0d0887"
             ],
             [
              0.1111111111111111,
              "#46039f"
             ],
             [
              0.2222222222222222,
              "#7201a8"
             ],
             [
              0.3333333333333333,
              "#9c179e"
             ],
             [
              0.4444444444444444,
              "#bd3786"
             ],
             [
              0.5555555555555556,
              "#d8576b"
             ],
             [
              0.6666666666666666,
              "#ed7953"
             ],
             [
              0.7777777777777778,
              "#fb9f3a"
             ],
             [
              0.8888888888888888,
              "#fdca26"
             ],
             [
              1,
              "#f0f921"
             ]
            ],
            "type": "histogram2dcontour"
           }
          ],
          "mesh3d": [
           {
            "colorbar": {
             "outlinewidth": 0,
             "ticks": ""
            },
            "type": "mesh3d"
           }
          ],
          "parcoords": [
           {
            "line": {
             "colorbar": {
              "outlinewidth": 0,
              "ticks": ""
             }
            },
            "type": "parcoords"
           }
          ],
          "pie": [
           {
            "automargin": true,
            "type": "pie"
           }
          ],
          "scatter": [
           {
            "fillpattern": {
             "fillmode": "overlay",
             "size": 10,
             "solidity": 0.2
            },
            "type": "scatter"
           }
          ],
          "scatter3d": [
           {
            "line": {
             "colorbar": {
              "outlinewidth": 0,
              "ticks": ""
             }
            },
            "marker": {
             "colorbar": {
              "outlinewidth": 0,
              "ticks": ""
             }
            },
            "type": "scatter3d"
           }
          ],
          "scattercarpet": [
           {
            "marker": {
             "colorbar": {
              "outlinewidth": 0,
              "ticks": ""
             }
            },
            "type": "scattercarpet"
           }
          ],
          "scattergeo": [
           {
            "marker": {
             "colorbar": {
              "outlinewidth": 0,
              "ticks": ""
             }
            },
            "type": "scattergeo"
           }
          ],
          "scattergl": [
           {
            "marker": {
             "colorbar": {
              "outlinewidth": 0,
              "ticks": ""
             }
            },
            "type": "scattergl"
           }
          ],
          "scattermapbox": [
           {
            "marker": {
             "colorbar": {
              "outlinewidth": 0,
              "ticks": ""
             }
            },
            "type": "scattermapbox"
           }
          ],
          "scatterpolar": [
           {
            "marker": {
             "colorbar": {
              "outlinewidth": 0,
              "ticks": ""
             }
            },
            "type": "scatterpolar"
           }
          ],
          "scatterpolargl": [
           {
            "marker": {
             "colorbar": {
              "outlinewidth": 0,
              "ticks": ""
             }
            },
            "type": "scatterpolargl"
           }
          ],
          "scatterternary": [
           {
            "marker": {
             "colorbar": {
              "outlinewidth": 0,
              "ticks": ""
             }
            },
            "type": "scatterternary"
           }
          ],
          "surface": [
           {
            "colorbar": {
             "outlinewidth": 0,
             "ticks": ""
            },
            "colorscale": [
             [
              0,
              "#0d0887"
             ],
             [
              0.1111111111111111,
              "#46039f"
             ],
             [
              0.2222222222222222,
              "#7201a8"
             ],
             [
              0.3333333333333333,
              "#9c179e"
             ],
             [
              0.4444444444444444,
              "#bd3786"
             ],
             [
              0.5555555555555556,
              "#d8576b"
             ],
             [
              0.6666666666666666,
              "#ed7953"
             ],
             [
              0.7777777777777778,
              "#fb9f3a"
             ],
             [
              0.8888888888888888,
              "#fdca26"
             ],
             [
              1,
              "#f0f921"
             ]
            ],
            "type": "surface"
           }
          ],
          "table": [
           {
            "cells": {
             "fill": {
              "color": "#EBF0F8"
             },
             "line": {
              "color": "white"
             }
            },
            "header": {
             "fill": {
              "color": "#C8D4E3"
             },
             "line": {
              "color": "white"
             }
            },
            "type": "table"
           }
          ]
         },
         "layout": {
          "annotationdefaults": {
           "arrowcolor": "#2a3f5f",
           "arrowhead": 0,
           "arrowwidth": 1
          },
          "autotypenumbers": "strict",
          "coloraxis": {
           "colorbar": {
            "outlinewidth": 0,
            "ticks": ""
           }
          },
          "colorscale": {
           "diverging": [
            [
             0,
             "#8e0152"
            ],
            [
             0.1,
             "#c51b7d"
            ],
            [
             0.2,
             "#de77ae"
            ],
            [
             0.3,
             "#f1b6da"
            ],
            [
             0.4,
             "#fde0ef"
            ],
            [
             0.5,
             "#f7f7f7"
            ],
            [
             0.6,
             "#e6f5d0"
            ],
            [
             0.7,
             "#b8e186"
            ],
            [
             0.8,
             "#7fbc41"
            ],
            [
             0.9,
             "#4d9221"
            ],
            [
             1,
             "#276419"
            ]
           ],
           "sequential": [
            [
             0,
             "#0d0887"
            ],
            [
             0.1111111111111111,
             "#46039f"
            ],
            [
             0.2222222222222222,
             "#7201a8"
            ],
            [
             0.3333333333333333,
             "#9c179e"
            ],
            [
             0.4444444444444444,
             "#bd3786"
            ],
            [
             0.5555555555555556,
             "#d8576b"
            ],
            [
             0.6666666666666666,
             "#ed7953"
            ],
            [
             0.7777777777777778,
             "#fb9f3a"
            ],
            [
             0.8888888888888888,
             "#fdca26"
            ],
            [
             1,
             "#f0f921"
            ]
           ],
           "sequentialminus": [
            [
             0,
             "#0d0887"
            ],
            [
             0.1111111111111111,
             "#46039f"
            ],
            [
             0.2222222222222222,
             "#7201a8"
            ],
            [
             0.3333333333333333,
             "#9c179e"
            ],
            [
             0.4444444444444444,
             "#bd3786"
            ],
            [
             0.5555555555555556,
             "#d8576b"
            ],
            [
             0.6666666666666666,
             "#ed7953"
            ],
            [
             0.7777777777777778,
             "#fb9f3a"
            ],
            [
             0.8888888888888888,
             "#fdca26"
            ],
            [
             1,
             "#f0f921"
            ]
           ]
          },
          "colorway": [
           "#636efa",
           "#EF553B",
           "#00cc96",
           "#ab63fa",
           "#FFA15A",
           "#19d3f3",
           "#FF6692",
           "#B6E880",
           "#FF97FF",
           "#FECB52"
          ],
          "font": {
           "color": "#2a3f5f"
          },
          "geo": {
           "bgcolor": "white",
           "lakecolor": "white",
           "landcolor": "#E5ECF6",
           "showlakes": true,
           "showland": true,
           "subunitcolor": "white"
          },
          "hoverlabel": {
           "align": "left"
          },
          "hovermode": "closest",
          "mapbox": {
           "style": "light"
          },
          "paper_bgcolor": "white",
          "plot_bgcolor": "#E5ECF6",
          "polar": {
           "angularaxis": {
            "gridcolor": "white",
            "linecolor": "white",
            "ticks": ""
           },
           "bgcolor": "#E5ECF6",
           "radialaxis": {
            "gridcolor": "white",
            "linecolor": "white",
            "ticks": ""
           }
          },
          "scene": {
           "xaxis": {
            "backgroundcolor": "#E5ECF6",
            "gridcolor": "white",
            "gridwidth": 2,
            "linecolor": "white",
            "showbackground": true,
            "ticks": "",
            "zerolinecolor": "white"
           },
           "yaxis": {
            "backgroundcolor": "#E5ECF6",
            "gridcolor": "white",
            "gridwidth": 2,
            "linecolor": "white",
            "showbackground": true,
            "ticks": "",
            "zerolinecolor": "white"
           },
           "zaxis": {
            "backgroundcolor": "#E5ECF6",
            "gridcolor": "white",
            "gridwidth": 2,
            "linecolor": "white",
            "showbackground": true,
            "ticks": "",
            "zerolinecolor": "white"
           }
          },
          "shapedefaults": {
           "line": {
            "color": "#2a3f5f"
           }
          },
          "ternary": {
           "aaxis": {
            "gridcolor": "white",
            "linecolor": "white",
            "ticks": ""
           },
           "baxis": {
            "gridcolor": "white",
            "linecolor": "white",
            "ticks": ""
           },
           "bgcolor": "#E5ECF6",
           "caxis": {
            "gridcolor": "white",
            "linecolor": "white",
            "ticks": ""
           }
          },
          "title": {
           "x": 0.05
          },
          "xaxis": {
           "automargin": true,
           "gridcolor": "white",
           "linecolor": "white",
           "ticks": "",
           "title": {
            "standoff": 15
           },
           "zerolinecolor": "white",
           "zerolinewidth": 2
          },
          "yaxis": {
           "automargin": true,
           "gridcolor": "white",
           "linecolor": "white",
           "ticks": "",
           "title": {
            "standoff": 15
           },
           "zerolinecolor": "white",
           "zerolinewidth": 2
          }
         }
        },
        "title": {
         "text": "Visualizações Totais por Mês"
        },
        "xaxis": {
         "anchor": "y",
         "domain": [
          0,
          1
         ],
         "title": {
          "text": "month_visited"
         }
        },
        "yaxis": {
         "anchor": "x",
         "domain": [
          0,
          1
         ],
         "title": {
          "text": "total_views"
         }
        }
       }
      }
     },
     "metadata": {},
     "output_type": "display_data"
    }
   ],
   "source": [
    "# Reordering the legend based on the sum of 'total_views' for each 'page_title'\n",
    "legend_order = df_monthly.query(f'month_visited >= \"{date_to_filter}\"').groupby('page_title')['total_views'].sum().sort_values(ascending=False).index.tolist()\n",
    "\n",
    "# Creating the line plot with custom legend order based on 'total_views'\n",
    "fig_total_monthly = px.line(df_monthly, x='month_visited', y='total_views', color='page_title', \n",
    "                            title='Visualizações Totais por Mês',\n",
    "                            category_orders={\"page_title\": legend_order})\n",
    "\n",
    "# Show the figure\n",
    "fig_total_monthly.show()\n"
   ]
  },
  {
   "cell_type": "code",
   "execution_count": 46,
   "metadata": {},
   "outputs": [
    {
     "data": {
      "application/vnd.plotly.v1+json": {
       "config": {
        "plotlyServerURL": "https://plot.ly"
       },
       "data": [
        {
         "hovertemplate": "month_visited=%{x}<br>unique_views=%{y}<extra></extra>",
         "legendgroup": "",
         "line": {
          "color": "#636efa",
          "dash": "solid"
         },
         "marker": {
          "symbol": "circle"
         },
         "mode": "lines",
         "name": "",
         "orientation": "v",
         "showlegend": false,
         "type": "scatter",
         "x": [
          "2022-08",
          "2022-09",
          "2022-10",
          "2022-11",
          "2022-12",
          "2023-01",
          "2023-02",
          "2023-03",
          "2023-04",
          "2023-05",
          "2023-06",
          "2023-07",
          "2023-08",
          "2023-09",
          "2023-10"
         ],
         "xaxis": "x",
         "y": [
          175,
          149,
          205,
          144,
          155,
          275,
          319,
          444,
          317,
          314,
          185,
          328,
          364,
          267,
          175
         ],
         "yaxis": "y"
        }
       ],
       "layout": {
        "legend": {
         "tracegroupgap": 0
        },
        "template": {
         "data": {
          "bar": [
           {
            "error_x": {
             "color": "#2a3f5f"
            },
            "error_y": {
             "color": "#2a3f5f"
            },
            "marker": {
             "line": {
              "color": "#E5ECF6",
              "width": 0.5
             },
             "pattern": {
              "fillmode": "overlay",
              "size": 10,
              "solidity": 0.2
             }
            },
            "type": "bar"
           }
          ],
          "barpolar": [
           {
            "marker": {
             "line": {
              "color": "#E5ECF6",
              "width": 0.5
             },
             "pattern": {
              "fillmode": "overlay",
              "size": 10,
              "solidity": 0.2
             }
            },
            "type": "barpolar"
           }
          ],
          "carpet": [
           {
            "aaxis": {
             "endlinecolor": "#2a3f5f",
             "gridcolor": "white",
             "linecolor": "white",
             "minorgridcolor": "white",
             "startlinecolor": "#2a3f5f"
            },
            "baxis": {
             "endlinecolor": "#2a3f5f",
             "gridcolor": "white",
             "linecolor": "white",
             "minorgridcolor": "white",
             "startlinecolor": "#2a3f5f"
            },
            "type": "carpet"
           }
          ],
          "choropleth": [
           {
            "colorbar": {
             "outlinewidth": 0,
             "ticks": ""
            },
            "type": "choropleth"
           }
          ],
          "contour": [
           {
            "colorbar": {
             "outlinewidth": 0,
             "ticks": ""
            },
            "colorscale": [
             [
              0,
              "#0d0887"
             ],
             [
              0.1111111111111111,
              "#46039f"
             ],
             [
              0.2222222222222222,
              "#7201a8"
             ],
             [
              0.3333333333333333,
              "#9c179e"
             ],
             [
              0.4444444444444444,
              "#bd3786"
             ],
             [
              0.5555555555555556,
              "#d8576b"
             ],
             [
              0.6666666666666666,
              "#ed7953"
             ],
             [
              0.7777777777777778,
              "#fb9f3a"
             ],
             [
              0.8888888888888888,
              "#fdca26"
             ],
             [
              1,
              "#f0f921"
             ]
            ],
            "type": "contour"
           }
          ],
          "contourcarpet": [
           {
            "colorbar": {
             "outlinewidth": 0,
             "ticks": ""
            },
            "type": "contourcarpet"
           }
          ],
          "heatmap": [
           {
            "colorbar": {
             "outlinewidth": 0,
             "ticks": ""
            },
            "colorscale": [
             [
              0,
              "#0d0887"
             ],
             [
              0.1111111111111111,
              "#46039f"
             ],
             [
              0.2222222222222222,
              "#7201a8"
             ],
             [
              0.3333333333333333,
              "#9c179e"
             ],
             [
              0.4444444444444444,
              "#bd3786"
             ],
             [
              0.5555555555555556,
              "#d8576b"
             ],
             [
              0.6666666666666666,
              "#ed7953"
             ],
             [
              0.7777777777777778,
              "#fb9f3a"
             ],
             [
              0.8888888888888888,
              "#fdca26"
             ],
             [
              1,
              "#f0f921"
             ]
            ],
            "type": "heatmap"
           }
          ],
          "heatmapgl": [
           {
            "colorbar": {
             "outlinewidth": 0,
             "ticks": ""
            },
            "colorscale": [
             [
              0,
              "#0d0887"
             ],
             [
              0.1111111111111111,
              "#46039f"
             ],
             [
              0.2222222222222222,
              "#7201a8"
             ],
             [
              0.3333333333333333,
              "#9c179e"
             ],
             [
              0.4444444444444444,
              "#bd3786"
             ],
             [
              0.5555555555555556,
              "#d8576b"
             ],
             [
              0.6666666666666666,
              "#ed7953"
             ],
             [
              0.7777777777777778,
              "#fb9f3a"
             ],
             [
              0.8888888888888888,
              "#fdca26"
             ],
             [
              1,
              "#f0f921"
             ]
            ],
            "type": "heatmapgl"
           }
          ],
          "histogram": [
           {
            "marker": {
             "pattern": {
              "fillmode": "overlay",
              "size": 10,
              "solidity": 0.2
             }
            },
            "type": "histogram"
           }
          ],
          "histogram2d": [
           {
            "colorbar": {
             "outlinewidth": 0,
             "ticks": ""
            },
            "colorscale": [
             [
              0,
              "#0d0887"
             ],
             [
              0.1111111111111111,
              "#46039f"
             ],
             [
              0.2222222222222222,
              "#7201a8"
             ],
             [
              0.3333333333333333,
              "#9c179e"
             ],
             [
              0.4444444444444444,
              "#bd3786"
             ],
             [
              0.5555555555555556,
              "#d8576b"
             ],
             [
              0.6666666666666666,
              "#ed7953"
             ],
             [
              0.7777777777777778,
              "#fb9f3a"
             ],
             [
              0.8888888888888888,
              "#fdca26"
             ],
             [
              1,
              "#f0f921"
             ]
            ],
            "type": "histogram2d"
           }
          ],
          "histogram2dcontour": [
           {
            "colorbar": {
             "outlinewidth": 0,
             "ticks": ""
            },
            "colorscale": [
             [
              0,
              "#0d0887"
             ],
             [
              0.1111111111111111,
              "#46039f"
             ],
             [
              0.2222222222222222,
              "#7201a8"
             ],
             [
              0.3333333333333333,
              "#9c179e"
             ],
             [
              0.4444444444444444,
              "#bd3786"
             ],
             [
              0.5555555555555556,
              "#d8576b"
             ],
             [
              0.6666666666666666,
              "#ed7953"
             ],
             [
              0.7777777777777778,
              "#fb9f3a"
             ],
             [
              0.8888888888888888,
              "#fdca26"
             ],
             [
              1,
              "#f0f921"
             ]
            ],
            "type": "histogram2dcontour"
           }
          ],
          "mesh3d": [
           {
            "colorbar": {
             "outlinewidth": 0,
             "ticks": ""
            },
            "type": "mesh3d"
           }
          ],
          "parcoords": [
           {
            "line": {
             "colorbar": {
              "outlinewidth": 0,
              "ticks": ""
             }
            },
            "type": "parcoords"
           }
          ],
          "pie": [
           {
            "automargin": true,
            "type": "pie"
           }
          ],
          "scatter": [
           {
            "fillpattern": {
             "fillmode": "overlay",
             "size": 10,
             "solidity": 0.2
            },
            "type": "scatter"
           }
          ],
          "scatter3d": [
           {
            "line": {
             "colorbar": {
              "outlinewidth": 0,
              "ticks": ""
             }
            },
            "marker": {
             "colorbar": {
              "outlinewidth": 0,
              "ticks": ""
             }
            },
            "type": "scatter3d"
           }
          ],
          "scattercarpet": [
           {
            "marker": {
             "colorbar": {
              "outlinewidth": 0,
              "ticks": ""
             }
            },
            "type": "scattercarpet"
           }
          ],
          "scattergeo": [
           {
            "marker": {
             "colorbar": {
              "outlinewidth": 0,
              "ticks": ""
             }
            },
            "type": "scattergeo"
           }
          ],
          "scattergl": [
           {
            "marker": {
             "colorbar": {
              "outlinewidth": 0,
              "ticks": ""
             }
            },
            "type": "scattergl"
           }
          ],
          "scattermapbox": [
           {
            "marker": {
             "colorbar": {
              "outlinewidth": 0,
              "ticks": ""
             }
            },
            "type": "scattermapbox"
           }
          ],
          "scatterpolar": [
           {
            "marker": {
             "colorbar": {
              "outlinewidth": 0,
              "ticks": ""
             }
            },
            "type": "scatterpolar"
           }
          ],
          "scatterpolargl": [
           {
            "marker": {
             "colorbar": {
              "outlinewidth": 0,
              "ticks": ""
             }
            },
            "type": "scatterpolargl"
           }
          ],
          "scatterternary": [
           {
            "marker": {
             "colorbar": {
              "outlinewidth": 0,
              "ticks": ""
             }
            },
            "type": "scatterternary"
           }
          ],
          "surface": [
           {
            "colorbar": {
             "outlinewidth": 0,
             "ticks": ""
            },
            "colorscale": [
             [
              0,
              "#0d0887"
             ],
             [
              0.1111111111111111,
              "#46039f"
             ],
             [
              0.2222222222222222,
              "#7201a8"
             ],
             [
              0.3333333333333333,
              "#9c179e"
             ],
             [
              0.4444444444444444,
              "#bd3786"
             ],
             [
              0.5555555555555556,
              "#d8576b"
             ],
             [
              0.6666666666666666,
              "#ed7953"
             ],
             [
              0.7777777777777778,
              "#fb9f3a"
             ],
             [
              0.8888888888888888,
              "#fdca26"
             ],
             [
              1,
              "#f0f921"
             ]
            ],
            "type": "surface"
           }
          ],
          "table": [
           {
            "cells": {
             "fill": {
              "color": "#EBF0F8"
             },
             "line": {
              "color": "white"
             }
            },
            "header": {
             "fill": {
              "color": "#C8D4E3"
             },
             "line": {
              "color": "white"
             }
            },
            "type": "table"
           }
          ]
         },
         "layout": {
          "annotationdefaults": {
           "arrowcolor": "#2a3f5f",
           "arrowhead": 0,
           "arrowwidth": 1
          },
          "autotypenumbers": "strict",
          "coloraxis": {
           "colorbar": {
            "outlinewidth": 0,
            "ticks": ""
           }
          },
          "colorscale": {
           "diverging": [
            [
             0,
             "#8e0152"
            ],
            [
             0.1,
             "#c51b7d"
            ],
            [
             0.2,
             "#de77ae"
            ],
            [
             0.3,
             "#f1b6da"
            ],
            [
             0.4,
             "#fde0ef"
            ],
            [
             0.5,
             "#f7f7f7"
            ],
            [
             0.6,
             "#e6f5d0"
            ],
            [
             0.7,
             "#b8e186"
            ],
            [
             0.8,
             "#7fbc41"
            ],
            [
             0.9,
             "#4d9221"
            ],
            [
             1,
             "#276419"
            ]
           ],
           "sequential": [
            [
             0,
             "#0d0887"
            ],
            [
             0.1111111111111111,
             "#46039f"
            ],
            [
             0.2222222222222222,
             "#7201a8"
            ],
            [
             0.3333333333333333,
             "#9c179e"
            ],
            [
             0.4444444444444444,
             "#bd3786"
            ],
            [
             0.5555555555555556,
             "#d8576b"
            ],
            [
             0.6666666666666666,
             "#ed7953"
            ],
            [
             0.7777777777777778,
             "#fb9f3a"
            ],
            [
             0.8888888888888888,
             "#fdca26"
            ],
            [
             1,
             "#f0f921"
            ]
           ],
           "sequentialminus": [
            [
             0,
             "#0d0887"
            ],
            [
             0.1111111111111111,
             "#46039f"
            ],
            [
             0.2222222222222222,
             "#7201a8"
            ],
            [
             0.3333333333333333,
             "#9c179e"
            ],
            [
             0.4444444444444444,
             "#bd3786"
            ],
            [
             0.5555555555555556,
             "#d8576b"
            ],
            [
             0.6666666666666666,
             "#ed7953"
            ],
            [
             0.7777777777777778,
             "#fb9f3a"
            ],
            [
             0.8888888888888888,
             "#fdca26"
            ],
            [
             1,
             "#f0f921"
            ]
           ]
          },
          "colorway": [
           "#636efa",
           "#EF553B",
           "#00cc96",
           "#ab63fa",
           "#FFA15A",
           "#19d3f3",
           "#FF6692",
           "#B6E880",
           "#FF97FF",
           "#FECB52"
          ],
          "font": {
           "color": "#2a3f5f"
          },
          "geo": {
           "bgcolor": "white",
           "lakecolor": "white",
           "landcolor": "#E5ECF6",
           "showlakes": true,
           "showland": true,
           "subunitcolor": "white"
          },
          "hoverlabel": {
           "align": "left"
          },
          "hovermode": "closest",
          "mapbox": {
           "style": "light"
          },
          "paper_bgcolor": "white",
          "plot_bgcolor": "#E5ECF6",
          "polar": {
           "angularaxis": {
            "gridcolor": "white",
            "linecolor": "white",
            "ticks": ""
           },
           "bgcolor": "#E5ECF6",
           "radialaxis": {
            "gridcolor": "white",
            "linecolor": "white",
            "ticks": ""
           }
          },
          "scene": {
           "xaxis": {
            "backgroundcolor": "#E5ECF6",
            "gridcolor": "white",
            "gridwidth": 2,
            "linecolor": "white",
            "showbackground": true,
            "ticks": "",
            "zerolinecolor": "white"
           },
           "yaxis": {
            "backgroundcolor": "#E5ECF6",
            "gridcolor": "white",
            "gridwidth": 2,
            "linecolor": "white",
            "showbackground": true,
            "ticks": "",
            "zerolinecolor": "white"
           },
           "zaxis": {
            "backgroundcolor": "#E5ECF6",
            "gridcolor": "white",
            "gridwidth": 2,
            "linecolor": "white",
            "showbackground": true,
            "ticks": "",
            "zerolinecolor": "white"
           }
          },
          "shapedefaults": {
           "line": {
            "color": "#2a3f5f"
           }
          },
          "ternary": {
           "aaxis": {
            "gridcolor": "white",
            "linecolor": "white",
            "ticks": ""
           },
           "baxis": {
            "gridcolor": "white",
            "linecolor": "white",
            "ticks": ""
           },
           "bgcolor": "#E5ECF6",
           "caxis": {
            "gridcolor": "white",
            "linecolor": "white",
            "ticks": ""
           }
          },
          "title": {
           "x": 0.05
          },
          "xaxis": {
           "automargin": true,
           "gridcolor": "white",
           "linecolor": "white",
           "ticks": "",
           "title": {
            "standoff": 15
           },
           "zerolinecolor": "white",
           "zerolinewidth": 2
          },
          "yaxis": {
           "automargin": true,
           "gridcolor": "white",
           "linecolor": "white",
           "ticks": "",
           "title": {
            "standoff": 15
           },
           "zerolinecolor": "white",
           "zerolinewidth": 2
          }
         }
        },
        "title": {
         "text": "Visualizações Únicas por Mês Global"
        },
        "xaxis": {
         "anchor": "y",
         "domain": [
          0,
          1
         ],
         "title": {
          "text": "month_visited"
         }
        },
        "yaxis": {
         "anchor": "x",
         "domain": [
          0,
          1
         ],
         "title": {
          "text": "unique_views"
         }
        }
       }
      }
     },
     "metadata": {},
     "output_type": "display_data"
    }
   ],
   "source": [
    "df_total = df_monthly.groupby(['month_visited'])['unique_views'].sum().reset_index()\n",
    "\n",
    "fig_total_sum_monthly = px.line(df_total, x='month_visited', y='unique_views', \n",
    "                            title='Visualizações Únicas por Mês Global')\n",
    "fig_total_sum_monthly.show()"
   ]
  }
 ],
 "metadata": {
  "kernelspec": {
   "display_name": "myenv",
   "language": "python",
   "name": "python3"
  },
  "language_info": {
   "codemirror_mode": {
    "name": "ipython",
    "version": 3
   },
   "file_extension": ".py",
   "mimetype": "text/x-python",
   "name": "python",
   "nbconvert_exporter": "python",
   "pygments_lexer": "ipython3",
   "version": "3.8.6"
  },
  "orig_nbformat": 4
 },
 "nbformat": 4,
 "nbformat_minor": 2
}
