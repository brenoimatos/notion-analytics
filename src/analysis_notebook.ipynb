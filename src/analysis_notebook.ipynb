{
 "cells": [
  {
   "cell_type": "code",
   "execution_count": 1,
   "metadata": {},
   "outputs": [],
   "source": [
    "import pandas as pd\n",
    "import plotly.express as px\n"
   ]
  },
  {
   "cell_type": "code",
   "execution_count": 2,
   "metadata": {},
   "outputs": [
    {
     "data": {
      "text/html": [
       "<div>\n",
       "<style scoped>\n",
       "    .dataframe tbody tr th:only-of-type {\n",
       "        vertical-align: middle;\n",
       "    }\n",
       "\n",
       "    .dataframe tbody tr th {\n",
       "        vertical-align: top;\n",
       "    }\n",
       "\n",
       "    .dataframe thead th {\n",
       "        text-align: right;\n",
       "    }\n",
       "</style>\n",
       "<table border=\"1\" class=\"dataframe\">\n",
       "  <thead>\n",
       "    <tr style=\"text-align: right;\">\n",
       "      <th></th>\n",
       "      <th>id</th>\n",
       "      <th>url</th>\n",
       "      <th>page_title</th>\n",
       "      <th>alternative_title</th>\n",
       "      <th>ds</th>\n",
       "      <th>unique_views</th>\n",
       "      <th>total_views</th>\n",
       "    </tr>\n",
       "  </thead>\n",
       "  <tbody>\n",
       "    <tr>\n",
       "      <th>0</th>\n",
       "      <td>30c0c3ff-265e-4d09-9e58-f21361e5200d</td>\n",
       "      <td>https://www.notion.so/Instituto-Reditus-30c0c3...</td>\n",
       "      <td>Instituto Reditus</td>\n",
       "      <td>Instituto Reditus</td>\n",
       "      <td>2022-08-02</td>\n",
       "      <td>5</td>\n",
       "      <td>6</td>\n",
       "    </tr>\n",
       "    <tr>\n",
       "      <th>1</th>\n",
       "      <td>30c0c3ff-265e-4d09-9e58-f21361e5200d</td>\n",
       "      <td>https://www.notion.so/Instituto-Reditus-30c0c3...</td>\n",
       "      <td>Instituto Reditus</td>\n",
       "      <td>Instituto Reditus</td>\n",
       "      <td>2022-08-03</td>\n",
       "      <td>3</td>\n",
       "      <td>6</td>\n",
       "    </tr>\n",
       "    <tr>\n",
       "      <th>2</th>\n",
       "      <td>30c0c3ff-265e-4d09-9e58-f21361e5200d</td>\n",
       "      <td>https://www.notion.so/Instituto-Reditus-30c0c3...</td>\n",
       "      <td>Instituto Reditus</td>\n",
       "      <td>Instituto Reditus</td>\n",
       "      <td>2022-08-04</td>\n",
       "      <td>1</td>\n",
       "      <td>1</td>\n",
       "    </tr>\n",
       "  </tbody>\n",
       "</table>\n",
       "</div>"
      ],
      "text/plain": [
       "                                     id  \\\n",
       "0  30c0c3ff-265e-4d09-9e58-f21361e5200d   \n",
       "1  30c0c3ff-265e-4d09-9e58-f21361e5200d   \n",
       "2  30c0c3ff-265e-4d09-9e58-f21361e5200d   \n",
       "\n",
       "                                                 url         page_title  \\\n",
       "0  https://www.notion.so/Instituto-Reditus-30c0c3...  Instituto Reditus   \n",
       "1  https://www.notion.so/Instituto-Reditus-30c0c3...  Instituto Reditus   \n",
       "2  https://www.notion.so/Instituto-Reditus-30c0c3...  Instituto Reditus   \n",
       "\n",
       "   alternative_title          ds  unique_views  total_views  \n",
       "0  Instituto Reditus  2022-08-02             5            6  \n",
       "1  Instituto Reditus  2022-08-03             3            6  \n",
       "2  Instituto Reditus  2022-08-04             1            1  "
      ]
     },
     "execution_count": 2,
     "metadata": {},
     "output_type": "execute_result"
    }
   ],
   "source": [
    "\n",
    "df_raw = pd.read_json(r'C:\\Users\\breno\\Documents\\Programacao\\Projetos\\notion-analytics\\src\\data\\parsed\\parsed_analytics_filtered_True.json')\n",
    "df_raw.head(3)"
   ]
  },
  {
   "cell_type": "code",
   "execution_count": 3,
   "metadata": {},
   "outputs": [
    {
     "data": {
      "text/html": [
       "<div>\n",
       "<style scoped>\n",
       "    .dataframe tbody tr th:only-of-type {\n",
       "        vertical-align: middle;\n",
       "    }\n",
       "\n",
       "    .dataframe tbody tr th {\n",
       "        vertical-align: top;\n",
       "    }\n",
       "\n",
       "    .dataframe thead th {\n",
       "        text-align: right;\n",
       "    }\n",
       "</style>\n",
       "<table border=\"1\" class=\"dataframe\">\n",
       "  <thead>\n",
       "    <tr style=\"text-align: right;\">\n",
       "      <th></th>\n",
       "      <th>id</th>\n",
       "      <th>url</th>\n",
       "      <th>page_title</th>\n",
       "      <th>alternative_title</th>\n",
       "      <th>ds</th>\n",
       "      <th>unique_views</th>\n",
       "      <th>total_views</th>\n",
       "      <th>date_visited</th>\n",
       "    </tr>\n",
       "  </thead>\n",
       "  <tbody>\n",
       "    <tr>\n",
       "      <th>0</th>\n",
       "      <td>30c0c3ff-265e-4d09-9e58-f21361e5200d</td>\n",
       "      <td>https://www.notion.so/Instituto-Reditus-30c0c3...</td>\n",
       "      <td>Instituto Reditus</td>\n",
       "      <td>Instituto Reditus</td>\n",
       "      <td>2022-08-02</td>\n",
       "      <td>5</td>\n",
       "      <td>6</td>\n",
       "      <td>2022-08-02</td>\n",
       "    </tr>\n",
       "    <tr>\n",
       "      <th>1</th>\n",
       "      <td>30c0c3ff-265e-4d09-9e58-f21361e5200d</td>\n",
       "      <td>https://www.notion.so/Instituto-Reditus-30c0c3...</td>\n",
       "      <td>Instituto Reditus</td>\n",
       "      <td>Instituto Reditus</td>\n",
       "      <td>2022-08-03</td>\n",
       "      <td>3</td>\n",
       "      <td>6</td>\n",
       "      <td>2022-08-03</td>\n",
       "    </tr>\n",
       "    <tr>\n",
       "      <th>847</th>\n",
       "      <td>dce4edc0-3ff6-4a2e-80e9-9bc0e4f4d6ac</td>\n",
       "      <td>https://www.notion.so/Miss-o-Vis-o-e-Valores-d...</td>\n",
       "      <td>Missão, Visão e Valores</td>\n",
       "      <td>Missão, Visão e Valores</td>\n",
       "      <td>2022-08-03</td>\n",
       "      <td>1</td>\n",
       "      <td>1</td>\n",
       "      <td>2022-08-03</td>\n",
       "    </tr>\n",
       "  </tbody>\n",
       "</table>\n",
       "</div>"
      ],
      "text/plain": [
       "                                       id  \\\n",
       "0    30c0c3ff-265e-4d09-9e58-f21361e5200d   \n",
       "1    30c0c3ff-265e-4d09-9e58-f21361e5200d   \n",
       "847  dce4edc0-3ff6-4a2e-80e9-9bc0e4f4d6ac   \n",
       "\n",
       "                                                   url  \\\n",
       "0    https://www.notion.so/Instituto-Reditus-30c0c3...   \n",
       "1    https://www.notion.so/Instituto-Reditus-30c0c3...   \n",
       "847  https://www.notion.so/Miss-o-Vis-o-e-Valores-d...   \n",
       "\n",
       "                  page_title        alternative_title          ds  \\\n",
       "0          Instituto Reditus        Instituto Reditus  2022-08-02   \n",
       "1          Instituto Reditus        Instituto Reditus  2022-08-03   \n",
       "847  Missão, Visão e Valores  Missão, Visão e Valores  2022-08-03   \n",
       "\n",
       "     unique_views  total_views date_visited  \n",
       "0               5            6   2022-08-02  \n",
       "1               3            6   2022-08-03  \n",
       "847             1            1   2022-08-03  "
      ]
     },
     "execution_count": 3,
     "metadata": {},
     "output_type": "execute_result"
    }
   ],
   "source": [
    "df = (\n",
    "    df_raw\n",
    "    .assign(date_visited=pd.to_datetime(df_raw['ds']))\n",
    "    .sort_values(by='date_visited')\n",
    ")\n",
    "df.head(3)"
   ]
  },
  {
   "cell_type": "code",
   "execution_count": 4,
   "metadata": {},
   "outputs": [
    {
     "data": {
      "text/plain": [
       "id                           object\n",
       "url                          object\n",
       "page_title                   object\n",
       "alternative_title            object\n",
       "ds                           object\n",
       "unique_views                  int64\n",
       "total_views                   int64\n",
       "date_visited         datetime64[ns]\n",
       "dtype: object"
      ]
     },
     "execution_count": 4,
     "metadata": {},
     "output_type": "execute_result"
    }
   ],
   "source": [
    "df.dtypes\n"
   ]
  },
  {
   "cell_type": "code",
   "execution_count": 11,
   "metadata": {},
   "outputs": [
    {
     "data": {
      "text/html": [
       "<div>\n",
       "<style scoped>\n",
       "    .dataframe tbody tr th:only-of-type {\n",
       "        vertical-align: middle;\n",
       "    }\n",
       "\n",
       "    .dataframe tbody tr th {\n",
       "        vertical-align: top;\n",
       "    }\n",
       "\n",
       "    .dataframe thead th {\n",
       "        text-align: right;\n",
       "    }\n",
       "</style>\n",
       "<table border=\"1\" class=\"dataframe\">\n",
       "  <thead>\n",
       "    <tr style=\"text-align: right;\">\n",
       "      <th></th>\n",
       "      <th>month_visited</th>\n",
       "      <th>page_title</th>\n",
       "      <th>unique_views</th>\n",
       "      <th>total_views</th>\n",
       "    </tr>\n",
       "  </thead>\n",
       "  <tbody>\n",
       "    <tr>\n",
       "      <th>0</th>\n",
       "      <td>2022-08</td>\n",
       "      <td>Alterações do site</td>\n",
       "      <td>6</td>\n",
       "      <td>9</td>\n",
       "    </tr>\n",
       "    <tr>\n",
       "      <th>1</th>\n",
       "      <td>2022-08</td>\n",
       "      <td>Comunicação</td>\n",
       "      <td>8</td>\n",
       "      <td>13</td>\n",
       "    </tr>\n",
       "    <tr>\n",
       "      <th>2</th>\n",
       "      <td>2022-08</td>\n",
       "      <td>Dashboards</td>\n",
       "      <td>2</td>\n",
       "      <td>6</td>\n",
       "    </tr>\n",
       "    <tr>\n",
       "      <th>3</th>\n",
       "      <td>2022-08</td>\n",
       "      <td>Ferramentas</td>\n",
       "      <td>1</td>\n",
       "      <td>1</td>\n",
       "    </tr>\n",
       "    <tr>\n",
       "      <th>4</th>\n",
       "      <td>2022-08</td>\n",
       "      <td>Gestão</td>\n",
       "      <td>1</td>\n",
       "      <td>2</td>\n",
       "    </tr>\n",
       "  </tbody>\n",
       "</table>\n",
       "</div>"
      ],
      "text/plain": [
       "  month_visited          page_title  unique_views  total_views\n",
       "0       2022-08  Alterações do site             6            9\n",
       "1       2022-08         Comunicação             8           13\n",
       "2       2022-08          Dashboards             2            6\n",
       "3       2022-08         Ferramentas             1            1\n",
       "4       2022-08              Gestão             1            2"
      ]
     },
     "execution_count": 11,
     "metadata": {},
     "output_type": "execute_result"
    }
   ],
   "source": [
    "# Aggregate the data by month\n",
    "df['month_visited'] = df['date_visited'].dt.to_period('M').astype(str)\n",
    "df_monthly = df.groupby(['month_visited', 'page_title']).agg({\n",
    "    'unique_views': 'sum',\n",
    "    'total_views': 'sum'\n",
    "}).reset_index()\n",
    "\n",
    "df_monthly.head()"
   ]
  },
  {
   "cell_type": "code",
   "execution_count": 13,
   "metadata": {},
   "outputs": [
    {
     "data": {
      "application/vnd.plotly.v1+json": {
       "config": {
        "plotlyServerURL": "https://plot.ly"
       },
       "data": [
        {
         "hovertemplate": "page_title=Instituto Reditus<br>month_visited=%{x}<br>unique_views=%{y}<extra></extra>",
         "legendgroup": "Instituto Reditus",
         "line": {
          "color": "#636efa",
          "dash": "solid"
         },
         "marker": {
          "symbol": "circle"
         },
         "mode": "lines",
         "name": "Instituto Reditus",
         "orientation": "v",
         "showlegend": true,
         "type": "scatter",
         "x": [
          "2022-08",
          "2022-09",
          "2022-10",
          "2022-11",
          "2022-12",
          "2023-01",
          "2023-02",
          "2023-03",
          "2023-04",
          "2023-05",
          "2023-06",
          "2023-07",
          "2023-08",
          "2023-09",
          "2023-10"
         ],
         "xaxis": "x",
         "y": [
          34,
          38,
          40,
          34,
          27,
          64,
          60,
          66,
          39,
          45,
          20,
          48,
          48,
          46,
          31
         ],
         "yaxis": "y"
        },
        {
         "hovertemplate": "page_title=Gestão<br>month_visited=%{x}<br>unique_views=%{y}<extra></extra>",
         "legendgroup": "Gestão",
         "line": {
          "color": "#EF553B",
          "dash": "solid"
         },
         "marker": {
          "symbol": "circle"
         },
         "mode": "lines",
         "name": "Gestão",
         "orientation": "v",
         "showlegend": true,
         "type": "scatter",
         "x": [
          "2022-08",
          "2022-09",
          "2022-10",
          "2022-11",
          "2022-12",
          "2023-01",
          "2023-02",
          "2023-03",
          "2023-04",
          "2023-05",
          "2023-06",
          "2023-07",
          "2023-08",
          "2023-09",
          "2023-10"
         ],
         "xaxis": "x",
         "y": [
          1,
          1,
          7,
          4,
          6,
          8,
          5,
          7,
          7,
          9,
          8,
          13,
          24,
          12,
          12
         ],
         "yaxis": "y"
        },
        {
         "hovertemplate": "page_title=Comunicação<br>month_visited=%{x}<br>unique_views=%{y}<extra></extra>",
         "legendgroup": "Comunicação",
         "line": {
          "color": "#00cc96",
          "dash": "solid"
         },
         "marker": {
          "symbol": "circle"
         },
         "mode": "lines",
         "name": "Comunicação",
         "orientation": "v",
         "showlegend": true,
         "type": "scatter",
         "x": [
          "2022-08",
          "2022-09",
          "2022-10",
          "2022-11",
          "2022-12",
          "2023-01",
          "2023-02",
          "2023-03",
          "2023-04",
          "2023-05",
          "2023-06",
          "2023-07",
          "2023-08",
          "2023-09",
          "2023-10"
         ],
         "xaxis": "x",
         "y": [
          8,
          5,
          3,
          6,
          6,
          16,
          14,
          10,
          5,
          12,
          3,
          3,
          5,
          8,
          4
         ],
         "yaxis": "y"
        },
        {
         "hovertemplate": "page_title=Membros<br>month_visited=%{x}<br>unique_views=%{y}<extra></extra>",
         "legendgroup": "Membros",
         "line": {
          "color": "#ab63fa",
          "dash": "solid"
         },
         "marker": {
          "symbol": "circle"
         },
         "mode": "lines",
         "name": "Membros",
         "orientation": "v",
         "showlegend": true,
         "type": "scatter",
         "x": [
          "2022-08",
          "2022-09",
          "2022-10",
          "2022-11",
          "2022-12",
          "2023-01",
          "2023-02",
          "2023-03",
          "2023-04",
          "2023-05",
          "2023-06",
          "2023-07",
          "2023-08",
          "2023-09",
          "2023-10"
         ],
         "xaxis": "x",
         "y": [
          5,
          2,
          3,
          3,
          5,
          10,
          6,
          10,
          2,
          2,
          1,
          3,
          9,
          5,
          2
         ],
         "yaxis": "y"
        },
        {
         "hovertemplate": "page_title=Reunião Geral (RG)<br>month_visited=%{x}<br>unique_views=%{y}<extra></extra>",
         "legendgroup": "Reunião Geral (RG)",
         "line": {
          "color": "#FFA15A",
          "dash": "solid"
         },
         "marker": {
          "symbol": "circle"
         },
         "mode": "lines",
         "name": "Reunião Geral (RG)",
         "orientation": "v",
         "showlegend": true,
         "type": "scatter",
         "x": [
          "2022-10",
          "2022-11",
          "2022-12",
          "2023-01",
          "2023-02",
          "2023-03",
          "2023-04",
          "2023-05",
          "2023-06",
          "2023-07",
          "2023-08",
          "2023-09",
          "2023-10"
         ],
         "xaxis": "x",
         "y": [
          3,
          10,
          8,
          12,
          3,
          1,
          8,
          4,
          5,
          2,
          7,
          1,
          2
         ],
         "yaxis": "y"
        },
        {
         "hovertemplate": "page_title=Marketing<br>month_visited=%{x}<br>unique_views=%{y}<extra></extra>",
         "legendgroup": "Marketing",
         "line": {
          "color": "#19d3f3",
          "dash": "solid"
         },
         "marker": {
          "symbol": "circle"
         },
         "mode": "lines",
         "name": "Marketing",
         "orientation": "v",
         "showlegend": true,
         "type": "scatter",
         "x": [
          "2022-08",
          "2022-09",
          "2022-10",
          "2022-11",
          "2022-12",
          "2023-01",
          "2023-02",
          "2023-03",
          "2023-04",
          "2023-05",
          "2023-06",
          "2023-07",
          "2023-08",
          "2023-09",
          "2023-10"
         ],
         "xaxis": "x",
         "y": [
          3,
          4,
          2,
          7,
          3,
          2,
          3,
          3,
          1,
          5,
          2,
          5,
          9,
          4,
          5
         ],
         "yaxis": "y"
        },
        {
         "hovertemplate": "page_title=Dashboards<br>month_visited=%{x}<br>unique_views=%{y}<extra></extra>",
         "legendgroup": "Dashboards",
         "line": {
          "color": "#FF6692",
          "dash": "solid"
         },
         "marker": {
          "symbol": "circle"
         },
         "mode": "lines",
         "name": "Dashboards",
         "orientation": "v",
         "showlegend": true,
         "type": "scatter",
         "x": [
          "2022-08",
          "2022-10",
          "2022-11",
          "2022-12",
          "2023-01",
          "2023-02",
          "2023-03",
          "2023-04",
          "2023-05",
          "2023-06",
          "2023-07",
          "2023-08",
          "2023-09",
          "2023-10"
         ],
         "xaxis": "x",
         "y": [
          2,
          3,
          2,
          8,
          4,
          6,
          8,
          4,
          3,
          1,
          1,
          2,
          1,
          2
         ],
         "yaxis": "y"
        },
        {
         "hovertemplate": "page_title=Rituais<br>month_visited=%{x}<br>unique_views=%{y}<extra></extra>",
         "legendgroup": "Rituais",
         "line": {
          "color": "#B6E880",
          "dash": "solid"
         },
         "marker": {
          "symbol": "circle"
         },
         "mode": "lines",
         "name": "Rituais",
         "orientation": "v",
         "showlegend": true,
         "type": "scatter",
         "x": [
          "2022-08",
          "2022-09",
          "2022-10",
          "2022-11",
          "2022-12",
          "2023-01",
          "2023-02",
          "2023-03",
          "2023-04",
          "2023-05",
          "2023-06",
          "2023-07",
          "2023-08",
          "2023-09",
          "2023-10"
         ],
         "xaxis": "x",
         "y": [
          1,
          2,
          1,
          1,
          3,
          2,
          2,
          4,
          6,
          5,
          3,
          6,
          7,
          2,
          2
         ],
         "yaxis": "y"
        },
        {
         "hovertemplate": "page_title=Redes Sociais<br>month_visited=%{x}<br>unique_views=%{y}<extra></extra>",
         "legendgroup": "Redes Sociais",
         "line": {
          "color": "#FF97FF",
          "dash": "solid"
         },
         "marker": {
          "symbol": "circle"
         },
         "mode": "lines",
         "name": "Redes Sociais",
         "orientation": "v",
         "showlegend": true,
         "type": "scatter",
         "x": [
          "2022-08",
          "2022-09",
          "2022-11",
          "2022-12",
          "2023-01",
          "2023-02",
          "2023-03",
          "2023-04",
          "2023-05",
          "2023-07",
          "2023-08",
          "2023-09"
         ],
         "xaxis": "x",
         "y": [
          3,
          3,
          2,
          2,
          3,
          7,
          4,
          1,
          7,
          2,
          2,
          3
         ],
         "yaxis": "y"
        },
        {
         "hovertemplate": "page_title=OKRs<br>month_visited=%{x}<br>unique_views=%{y}<extra></extra>",
         "legendgroup": "OKRs",
         "line": {
          "color": "#FECB52",
          "dash": "solid"
         },
         "marker": {
          "symbol": "circle"
         },
         "mode": "lines",
         "name": "OKRs",
         "orientation": "v",
         "showlegend": true,
         "type": "scatter",
         "x": [
          "2022-08",
          "2022-09",
          "2022-10",
          "2022-12",
          "2023-01",
          "2023-02",
          "2023-03",
          "2023-04",
          "2023-05",
          "2023-07",
          "2023-08",
          "2023-09",
          "2023-10"
         ],
         "xaxis": "x",
         "y": [
          2,
          1,
          2,
          3,
          2,
          1,
          5,
          4,
          4,
          2,
          2,
          2,
          1
         ],
         "yaxis": "y"
        },
        {
         "hovertemplate": "page_title=Missão, Visão e Valores<br>month_visited=%{x}<br>unique_views=%{y}<extra></extra>",
         "legendgroup": "Missão, Visão e Valores",
         "line": {
          "color": "#636efa",
          "dash": "solid"
         },
         "marker": {
          "symbol": "circle"
         },
         "mode": "lines",
         "name": "Missão, Visão e Valores",
         "orientation": "v",
         "showlegend": true,
         "type": "scatter",
         "x": [
          "2022-08",
          "2022-12",
          "2023-01",
          "2023-02",
          "2023-03",
          "2023-04",
          "2023-05",
          "2023-06",
          "2023-07",
          "2023-08",
          "2023-09",
          "2023-10"
         ],
         "xaxis": "x",
         "y": [
          5,
          3,
          2,
          2,
          4,
          1,
          2,
          1,
          3,
          2,
          2,
          1
         ],
         "yaxis": "y"
        },
        {
         "hovertemplate": "page_title=Líderes<br>month_visited=%{x}<br>unique_views=%{y}<extra></extra>",
         "legendgroup": "Líderes",
         "line": {
          "color": "#EF553B",
          "dash": "solid"
         },
         "marker": {
          "symbol": "circle"
         },
         "mode": "lines",
         "name": "Líderes",
         "orientation": "v",
         "showlegend": true,
         "type": "scatter",
         "x": [
          "2022-11",
          "2022-12",
          "2023-01",
          "2023-02",
          "2023-03",
          "2023-04",
          "2023-05",
          "2023-06",
          "2023-07",
          "2023-08",
          "2023-09",
          "2023-10"
         ],
         "xaxis": "x",
         "y": [
          1,
          2,
          5,
          3,
          3,
          3,
          2,
          2,
          2,
          1,
          1,
          1
         ],
         "yaxis": "y"
        },
        {
         "hovertemplate": "page_title=Quem somos<br>month_visited=%{x}<br>unique_views=%{y}<extra></extra>",
         "legendgroup": "Quem somos",
         "line": {
          "color": "#00cc96",
          "dash": "solid"
         },
         "marker": {
          "symbol": "circle"
         },
         "mode": "lines",
         "name": "Quem somos",
         "orientation": "v",
         "showlegend": true,
         "type": "scatter",
         "x": [
          "2022-08",
          "2022-09",
          "2022-10",
          "2022-11",
          "2022-12",
          "2023-01",
          "2023-02",
          "2023-03",
          "2023-04",
          "2023-05",
          "2023-07",
          "2023-08",
          "2023-09",
          "2023-10"
         ],
         "xaxis": "x",
         "y": [
          2,
          1,
          2,
          3,
          2,
          1,
          5,
          3,
          1,
          1,
          1,
          2,
          1,
          1
         ],
         "yaxis": "y"
        },
        {
         "hovertemplate": "page_title=Tecnologia<br>month_visited=%{x}<br>unique_views=%{y}<extra></extra>",
         "legendgroup": "Tecnologia",
         "line": {
          "color": "#ab63fa",
          "dash": "solid"
         },
         "marker": {
          "symbol": "circle"
         },
         "mode": "lines",
         "name": "Tecnologia",
         "orientation": "v",
         "showlegend": true,
         "type": "scatter",
         "x": [
          "2022-12",
          "2023-01",
          "2023-02",
          "2023-03",
          "2023-04",
          "2023-06",
          "2023-07",
          "2023-08",
          "2023-09",
          "2023-10"
         ],
         "xaxis": "x",
         "y": [
          1,
          1,
          2,
          2,
          2,
          1,
          2,
          7,
          4,
          3
         ],
         "yaxis": "y"
        },
        {
         "hovertemplate": "page_title=Princípios de Trabalho<br>month_visited=%{x}<br>unique_views=%{y}<extra></extra>",
         "legendgroup": "Princípios de Trabalho",
         "line": {
          "color": "#FFA15A",
          "dash": "solid"
         },
         "marker": {
          "symbol": "circle"
         },
         "mode": "lines",
         "name": "Princípios de Trabalho",
         "orientation": "v",
         "showlegend": true,
         "type": "scatter",
         "x": [
          "2022-10",
          "2022-12",
          "2023-01",
          "2023-02",
          "2023-03",
          "2023-04",
          "2023-07",
          "2023-08",
          "2023-09"
         ],
         "xaxis": "x",
         "y": [
          2,
          3,
          1,
          3,
          5,
          1,
          1,
          4,
          3
         ],
         "yaxis": "y"
        },
        {
         "hovertemplate": "page_title=Ferramentas<br>month_visited=%{x}<br>unique_views=%{y}<extra></extra>",
         "legendgroup": "Ferramentas",
         "line": {
          "color": "#19d3f3",
          "dash": "solid"
         },
         "marker": {
          "symbol": "circle"
         },
         "mode": "lines",
         "name": "Ferramentas",
         "orientation": "v",
         "showlegend": true,
         "type": "scatter",
         "x": [
          "2022-08",
          "2022-09",
          "2022-11",
          "2022-12",
          "2023-01",
          "2023-02",
          "2023-03",
          "2023-04",
          "2023-05",
          "2023-07",
          "2023-08",
          "2023-09"
         ],
         "xaxis": "x",
         "y": [
          1,
          1,
          1,
          3,
          4,
          1,
          1,
          1,
          4,
          1,
          3,
          1
         ],
         "yaxis": "y"
        },
        {
         "hovertemplate": "page_title=Sou de outra área, o que preciso saber?<br>month_visited=%{x}<br>unique_views=%{y}<extra></extra>",
         "legendgroup": "Sou de outra área, o que preciso saber?",
         "line": {
          "color": "#FF6692",
          "dash": "solid"
         },
         "marker": {
          "symbol": "circle"
         },
         "mode": "lines",
         "name": "Sou de outra área, o que preciso saber?",
         "orientation": "v",
         "showlegend": true,
         "type": "scatter",
         "x": [
          "2022-08",
          "2022-09",
          "2022-11",
          "2023-01",
          "2023-04",
          "2023-05",
          "2023-09",
          "2023-10"
         ],
         "xaxis": "x",
         "y": [
          3,
          2,
          2,
          4,
          1,
          3,
          2,
          3
         ],
         "yaxis": "y"
        },
        {
         "hovertemplate": "page_title=Planejamento Estratégico (PEIR)<br>month_visited=%{x}<br>unique_views=%{y}<extra></extra>",
         "legendgroup": "Planejamento Estratégico (PEIR)",
         "line": {
          "color": "#B6E880",
          "dash": "solid"
         },
         "marker": {
          "symbol": "circle"
         },
         "mode": "lines",
         "name": "Planejamento Estratégico (PEIR)",
         "orientation": "v",
         "showlegend": true,
         "type": "scatter",
         "x": [
          "2022-08",
          "2022-12",
          "2023-03",
          "2023-04",
          "2023-05",
          "2023-07",
          "2023-08",
          "2023-09",
          "2023-10"
         ],
         "xaxis": "x",
         "y": [
          2,
          1,
          4,
          3,
          2,
          4,
          2,
          1,
          1
         ],
         "yaxis": "y"
        },
        {
         "hovertemplate": "page_title=Comunicação Institucional<br>month_visited=%{x}<br>unique_views=%{y}<extra></extra>",
         "legendgroup": "Comunicação Institucional",
         "line": {
          "color": "#FF97FF",
          "dash": "solid"
         },
         "marker": {
          "symbol": "circle"
         },
         "mode": "lines",
         "name": "Comunicação Institucional",
         "orientation": "v",
         "showlegend": true,
         "type": "scatter",
         "x": [
          "2022-09",
          "2022-10",
          "2022-11",
          "2023-01",
          "2023-04",
          "2023-05",
          "2023-06",
          "2023-07",
          "2023-09"
         ],
         "xaxis": "x",
         "y": [
          2,
          1,
          3,
          5,
          2,
          3,
          1,
          1,
          1
         ],
         "yaxis": "y"
        },
        {
         "hovertemplate": "page_title=Nossa História<br>month_visited=%{x}<br>unique_views=%{y}<extra></extra>",
         "legendgroup": "Nossa História",
         "line": {
          "color": "#FECB52",
          "dash": "solid"
         },
         "marker": {
          "symbol": "circle"
         },
         "mode": "lines",
         "name": "Nossa História",
         "orientation": "v",
         "showlegend": true,
         "type": "scatter",
         "x": [
          "2022-10",
          "2022-12",
          "2023-01",
          "2023-02",
          "2023-04",
          "2023-05",
          "2023-06",
          "2023-07",
          "2023-08",
          "2023-09",
          "2023-10"
         ],
         "xaxis": "x",
         "y": [
          1,
          1,
          1,
          4,
          1,
          1,
          2,
          1,
          2,
          1,
          1
         ],
         "yaxis": "y"
        },
        {
         "hovertemplate": "page_title=Como Organizar o PEIR (Checklist)<br>month_visited=%{x}<br>unique_views=%{y}<extra></extra>",
         "legendgroup": "Como Organizar o PEIR (Checklist)",
         "line": {
          "color": "#636efa",
          "dash": "solid"
         },
         "marker": {
          "symbol": "circle"
         },
         "mode": "lines",
         "name": "Como Organizar o PEIR (Checklist)",
         "orientation": "v",
         "showlegend": true,
         "type": "scatter",
         "x": [
          "2023-03",
          "2023-04",
          "2023-07",
          "2023-08",
          "2023-09",
          "2023-10"
         ],
         "xaxis": "x",
         "y": [
          5,
          2,
          6,
          1,
          1,
          1
         ],
         "yaxis": "y"
        },
        {
         "hovertemplate": "page_title=Alterações do site<br>month_visited=%{x}<br>unique_views=%{y}<extra></extra>",
         "legendgroup": "Alterações do site",
         "line": {
          "color": "#EF553B",
          "dash": "solid"
         },
         "marker": {
          "symbol": "circle"
         },
         "mode": "lines",
         "name": "Alterações do site",
         "orientation": "v",
         "showlegend": true,
         "type": "scatter",
         "x": [
          "2022-08",
          "2022-09",
          "2022-11",
          "2023-01",
          "2023-04",
          "2023-05"
         ],
         "xaxis": "x",
         "y": [
          6,
          2,
          2,
          2,
          1,
          1
         ],
         "yaxis": "y"
        },
        {
         "hovertemplate": "page_title=Radar de execução<br>month_visited=%{x}<br>unique_views=%{y}<extra></extra>",
         "legendgroup": "Radar de execução",
         "line": {
          "color": "#00cc96",
          "dash": "solid"
         },
         "marker": {
          "symbol": "circle"
         },
         "mode": "lines",
         "name": "Radar de execução",
         "orientation": "v",
         "showlegend": true,
         "type": "scatter",
         "x": [
          "2023-05",
          "2023-09",
          "2023-10"
         ],
         "xaxis": "x",
         "y": [
          2,
          2,
          2
         ],
         "yaxis": "y"
        },
        {
         "hovertemplate": "page_title=Reunião Conselho Administrativo (RCA)<br>month_visited=%{x}<br>unique_views=%{y}<extra></extra>",
         "legendgroup": "Reunião Conselho Administrativo (RCA)",
         "line": {
          "color": "#ab63fa",
          "dash": "solid"
         },
         "marker": {
          "symbol": "circle"
         },
         "mode": "lines",
         "name": "Reunião Conselho Administrativo (RCA)",
         "orientation": "v",
         "showlegend": true,
         "type": "scatter",
         "x": [
          "2022-10",
          "2023-02",
          "2023-04",
          "2023-10"
         ],
         "xaxis": "x",
         "y": [
          1,
          1,
          2,
          1
         ],
         "yaxis": "y"
        },
        {
         "hovertemplate": "page_title=Reunião de Líderes (RL)<br>month_visited=%{x}<br>unique_views=%{y}<extra></extra>",
         "legendgroup": "Reunião de Líderes (RL)",
         "line": {
          "color": "#FFA15A",
          "dash": "solid"
         },
         "marker": {
          "symbol": "circle"
         },
         "mode": "lines",
         "name": "Reunião de Líderes (RL)",
         "orientation": "v",
         "showlegend": true,
         "type": "scatter",
         "x": [
          "2022-10",
          "2023-04",
          "2023-07",
          "2023-10"
         ],
         "xaxis": "x",
         "y": [
          1,
          1,
          1,
          1
         ],
         "yaxis": "y"
        },
        {
         "hovertemplate": "page_title=O que Comunicação faz?<br>month_visited=%{x}<br>unique_views=%{y}<extra></extra>",
         "legendgroup": "O que Comunicação faz?",
         "line": {
          "color": "#19d3f3",
          "dash": "solid"
         },
         "marker": {
          "symbol": "circle"
         },
         "mode": "lines",
         "name": "O que Comunicação faz?",
         "orientation": "v",
         "showlegend": true,
         "type": "scatter",
         "x": [
          "2023-01",
          "2023-04",
          "2023-08"
         ],
         "xaxis": "x",
         "y": [
          1,
          1,
          1
         ],
         "yaxis": "y"
        },
        {
         "hovertemplate": "page_title=Dinâmicas PEIR<br>month_visited=%{x}<br>unique_views=%{y}<extra></extra>",
         "legendgroup": "Dinâmicas PEIR",
         "line": {
          "color": "#FF6692",
          "dash": "solid"
         },
         "marker": {
          "symbol": "circle"
         },
         "mode": "lines",
         "name": "Dinâmicas PEIR",
         "orientation": "v",
         "showlegend": true,
         "type": "scatter",
         "x": [
          "2023-09"
         ],
         "xaxis": "x",
         "y": [
          1
         ],
         "yaxis": "y"
        }
       ],
       "layout": {
        "legend": {
         "title": {
          "text": "page_title"
         },
         "tracegroupgap": 0
        },
        "template": {
         "data": {
          "bar": [
           {
            "error_x": {
             "color": "#2a3f5f"
            },
            "error_y": {
             "color": "#2a3f5f"
            },
            "marker": {
             "line": {
              "color": "#E5ECF6",
              "width": 0.5
             },
             "pattern": {
              "fillmode": "overlay",
              "size": 10,
              "solidity": 0.2
             }
            },
            "type": "bar"
           }
          ],
          "barpolar": [
           {
            "marker": {
             "line": {
              "color": "#E5ECF6",
              "width": 0.5
             },
             "pattern": {
              "fillmode": "overlay",
              "size": 10,
              "solidity": 0.2
             }
            },
            "type": "barpolar"
           }
          ],
          "carpet": [
           {
            "aaxis": {
             "endlinecolor": "#2a3f5f",
             "gridcolor": "white",
             "linecolor": "white",
             "minorgridcolor": "white",
             "startlinecolor": "#2a3f5f"
            },
            "baxis": {
             "endlinecolor": "#2a3f5f",
             "gridcolor": "white",
             "linecolor": "white",
             "minorgridcolor": "white",
             "startlinecolor": "#2a3f5f"
            },
            "type": "carpet"
           }
          ],
          "choropleth": [
           {
            "colorbar": {
             "outlinewidth": 0,
             "ticks": ""
            },
            "type": "choropleth"
           }
          ],
          "contour": [
           {
            "colorbar": {
             "outlinewidth": 0,
             "ticks": ""
            },
            "colorscale": [
             [
              0,
              "#0d0887"
             ],
             [
              0.1111111111111111,
              "#46039f"
             ],
             [
              0.2222222222222222,
              "#7201a8"
             ],
             [
              0.3333333333333333,
              "#9c179e"
             ],
             [
              0.4444444444444444,
              "#bd3786"
             ],
             [
              0.5555555555555556,
              "#d8576b"
             ],
             [
              0.6666666666666666,
              "#ed7953"
             ],
             [
              0.7777777777777778,
              "#fb9f3a"
             ],
             [
              0.8888888888888888,
              "#fdca26"
             ],
             [
              1,
              "#f0f921"
             ]
            ],
            "type": "contour"
           }
          ],
          "contourcarpet": [
           {
            "colorbar": {
             "outlinewidth": 0,
             "ticks": ""
            },
            "type": "contourcarpet"
           }
          ],
          "heatmap": [
           {
            "colorbar": {
             "outlinewidth": 0,
             "ticks": ""
            },
            "colorscale": [
             [
              0,
              "#0d0887"
             ],
             [
              0.1111111111111111,
              "#46039f"
             ],
             [
              0.2222222222222222,
              "#7201a8"
             ],
             [
              0.3333333333333333,
              "#9c179e"
             ],
             [
              0.4444444444444444,
              "#bd3786"
             ],
             [
              0.5555555555555556,
              "#d8576b"
             ],
             [
              0.6666666666666666,
              "#ed7953"
             ],
             [
              0.7777777777777778,
              "#fb9f3a"
             ],
             [
              0.8888888888888888,
              "#fdca26"
             ],
             [
              1,
              "#f0f921"
             ]
            ],
            "type": "heatmap"
           }
          ],
          "heatmapgl": [
           {
            "colorbar": {
             "outlinewidth": 0,
             "ticks": ""
            },
            "colorscale": [
             [
              0,
              "#0d0887"
             ],
             [
              0.1111111111111111,
              "#46039f"
             ],
             [
              0.2222222222222222,
              "#7201a8"
             ],
             [
              0.3333333333333333,
              "#9c179e"
             ],
             [
              0.4444444444444444,
              "#bd3786"
             ],
             [
              0.5555555555555556,
              "#d8576b"
             ],
             [
              0.6666666666666666,
              "#ed7953"
             ],
             [
              0.7777777777777778,
              "#fb9f3a"
             ],
             [
              0.8888888888888888,
              "#fdca26"
             ],
             [
              1,
              "#f0f921"
             ]
            ],
            "type": "heatmapgl"
           }
          ],
          "histogram": [
           {
            "marker": {
             "pattern": {
              "fillmode": "overlay",
              "size": 10,
              "solidity": 0.2
             }
            },
            "type": "histogram"
           }
          ],
          "histogram2d": [
           {
            "colorbar": {
             "outlinewidth": 0,
             "ticks": ""
            },
            "colorscale": [
             [
              0,
              "#0d0887"
             ],
             [
              0.1111111111111111,
              "#46039f"
             ],
             [
              0.2222222222222222,
              "#7201a8"
             ],
             [
              0.3333333333333333,
              "#9c179e"
             ],
             [
              0.4444444444444444,
              "#bd3786"
             ],
             [
              0.5555555555555556,
              "#d8576b"
             ],
             [
              0.6666666666666666,
              "#ed7953"
             ],
             [
              0.7777777777777778,
              "#fb9f3a"
             ],
             [
              0.8888888888888888,
              "#fdca26"
             ],
             [
              1,
              "#f0f921"
             ]
            ],
            "type": "histogram2d"
           }
          ],
          "histogram2dcontour": [
           {
            "colorbar": {
             "outlinewidth": 0,
             "ticks": ""
            },
            "colorscale": [
             [
              0,
              "#0d0887"
             ],
             [
              0.1111111111111111,
              "#46039f"
             ],
             [
              0.2222222222222222,
              "#7201a8"
             ],
             [
              0.3333333333333333,
              "#9c179e"
             ],
             [
              0.4444444444444444,
              "#bd3786"
             ],
             [
              0.5555555555555556,
              "#d8576b"
             ],
             [
              0.6666666666666666,
              "#ed7953"
             ],
             [
              0.7777777777777778,
              "#fb9f3a"
             ],
             [
              0.8888888888888888,
              "#fdca26"
             ],
             [
              1,
              "#f0f921"
             ]
            ],
            "type": "histogram2dcontour"
           }
          ],
          "mesh3d": [
           {
            "colorbar": {
             "outlinewidth": 0,
             "ticks": ""
            },
            "type": "mesh3d"
           }
          ],
          "parcoords": [
           {
            "line": {
             "colorbar": {
              "outlinewidth": 0,
              "ticks": ""
             }
            },
            "type": "parcoords"
           }
          ],
          "pie": [
           {
            "automargin": true,
            "type": "pie"
           }
          ],
          "scatter": [
           {
            "fillpattern": {
             "fillmode": "overlay",
             "size": 10,
             "solidity": 0.2
            },
            "type": "scatter"
           }
          ],
          "scatter3d": [
           {
            "line": {
             "colorbar": {
              "outlinewidth": 0,
              "ticks": ""
             }
            },
            "marker": {
             "colorbar": {
              "outlinewidth": 0,
              "ticks": ""
             }
            },
            "type": "scatter3d"
           }
          ],
          "scattercarpet": [
           {
            "marker": {
             "colorbar": {
              "outlinewidth": 0,
              "ticks": ""
             }
            },
            "type": "scattercarpet"
           }
          ],
          "scattergeo": [
           {
            "marker": {
             "colorbar": {
              "outlinewidth": 0,
              "ticks": ""
             }
            },
            "type": "scattergeo"
           }
          ],
          "scattergl": [
           {
            "marker": {
             "colorbar": {
              "outlinewidth": 0,
              "ticks": ""
             }
            },
            "type": "scattergl"
           }
          ],
          "scattermapbox": [
           {
            "marker": {
             "colorbar": {
              "outlinewidth": 0,
              "ticks": ""
             }
            },
            "type": "scattermapbox"
           }
          ],
          "scatterpolar": [
           {
            "marker": {
             "colorbar": {
              "outlinewidth": 0,
              "ticks": ""
             }
            },
            "type": "scatterpolar"
           }
          ],
          "scatterpolargl": [
           {
            "marker": {
             "colorbar": {
              "outlinewidth": 0,
              "ticks": ""
             }
            },
            "type": "scatterpolargl"
           }
          ],
          "scatterternary": [
           {
            "marker": {
             "colorbar": {
              "outlinewidth": 0,
              "ticks": ""
             }
            },
            "type": "scatterternary"
           }
          ],
          "surface": [
           {
            "colorbar": {
             "outlinewidth": 0,
             "ticks": ""
            },
            "colorscale": [
             [
              0,
              "#0d0887"
             ],
             [
              0.1111111111111111,
              "#46039f"
             ],
             [
              0.2222222222222222,
              "#7201a8"
             ],
             [
              0.3333333333333333,
              "#9c179e"
             ],
             [
              0.4444444444444444,
              "#bd3786"
             ],
             [
              0.5555555555555556,
              "#d8576b"
             ],
             [
              0.6666666666666666,
              "#ed7953"
             ],
             [
              0.7777777777777778,
              "#fb9f3a"
             ],
             [
              0.8888888888888888,
              "#fdca26"
             ],
             [
              1,
              "#f0f921"
             ]
            ],
            "type": "surface"
           }
          ],
          "table": [
           {
            "cells": {
             "fill": {
              "color": "#EBF0F8"
             },
             "line": {
              "color": "white"
             }
            },
            "header": {
             "fill": {
              "color": "#C8D4E3"
             },
             "line": {
              "color": "white"
             }
            },
            "type": "table"
           }
          ]
         },
         "layout": {
          "annotationdefaults": {
           "arrowcolor": "#2a3f5f",
           "arrowhead": 0,
           "arrowwidth": 1
          },
          "autotypenumbers": "strict",
          "coloraxis": {
           "colorbar": {
            "outlinewidth": 0,
            "ticks": ""
           }
          },
          "colorscale": {
           "diverging": [
            [
             0,
             "#8e0152"
            ],
            [
             0.1,
             "#c51b7d"
            ],
            [
             0.2,
             "#de77ae"
            ],
            [
             0.3,
             "#f1b6da"
            ],
            [
             0.4,
             "#fde0ef"
            ],
            [
             0.5,
             "#f7f7f7"
            ],
            [
             0.6,
             "#e6f5d0"
            ],
            [
             0.7,
             "#b8e186"
            ],
            [
             0.8,
             "#7fbc41"
            ],
            [
             0.9,
             "#4d9221"
            ],
            [
             1,
             "#276419"
            ]
           ],
           "sequential": [
            [
             0,
             "#0d0887"
            ],
            [
             0.1111111111111111,
             "#46039f"
            ],
            [
             0.2222222222222222,
             "#7201a8"
            ],
            [
             0.3333333333333333,
             "#9c179e"
            ],
            [
             0.4444444444444444,
             "#bd3786"
            ],
            [
             0.5555555555555556,
             "#d8576b"
            ],
            [
             0.6666666666666666,
             "#ed7953"
            ],
            [
             0.7777777777777778,
             "#fb9f3a"
            ],
            [
             0.8888888888888888,
             "#fdca26"
            ],
            [
             1,
             "#f0f921"
            ]
           ],
           "sequentialminus": [
            [
             0,
             "#0d0887"
            ],
            [
             0.1111111111111111,
             "#46039f"
            ],
            [
             0.2222222222222222,
             "#7201a8"
            ],
            [
             0.3333333333333333,
             "#9c179e"
            ],
            [
             0.4444444444444444,
             "#bd3786"
            ],
            [
             0.5555555555555556,
             "#d8576b"
            ],
            [
             0.6666666666666666,
             "#ed7953"
            ],
            [
             0.7777777777777778,
             "#fb9f3a"
            ],
            [
             0.8888888888888888,
             "#fdca26"
            ],
            [
             1,
             "#f0f921"
            ]
           ]
          },
          "colorway": [
           "#636efa",
           "#EF553B",
           "#00cc96",
           "#ab63fa",
           "#FFA15A",
           "#19d3f3",
           "#FF6692",
           "#B6E880",
           "#FF97FF",
           "#FECB52"
          ],
          "font": {
           "color": "#2a3f5f"
          },
          "geo": {
           "bgcolor": "white",
           "lakecolor": "white",
           "landcolor": "#E5ECF6",
           "showlakes": true,
           "showland": true,
           "subunitcolor": "white"
          },
          "hoverlabel": {
           "align": "left"
          },
          "hovermode": "closest",
          "mapbox": {
           "style": "light"
          },
          "paper_bgcolor": "white",
          "plot_bgcolor": "#E5ECF6",
          "polar": {
           "angularaxis": {
            "gridcolor": "white",
            "linecolor": "white",
            "ticks": ""
           },
           "bgcolor": "#E5ECF6",
           "radialaxis": {
            "gridcolor": "white",
            "linecolor": "white",
            "ticks": ""
           }
          },
          "scene": {
           "xaxis": {
            "backgroundcolor": "#E5ECF6",
            "gridcolor": "white",
            "gridwidth": 2,
            "linecolor": "white",
            "showbackground": true,
            "ticks": "",
            "zerolinecolor": "white"
           },
           "yaxis": {
            "backgroundcolor": "#E5ECF6",
            "gridcolor": "white",
            "gridwidth": 2,
            "linecolor": "white",
            "showbackground": true,
            "ticks": "",
            "zerolinecolor": "white"
           },
           "zaxis": {
            "backgroundcolor": "#E5ECF6",
            "gridcolor": "white",
            "gridwidth": 2,
            "linecolor": "white",
            "showbackground": true,
            "ticks": "",
            "zerolinecolor": "white"
           }
          },
          "shapedefaults": {
           "line": {
            "color": "#2a3f5f"
           }
          },
          "ternary": {
           "aaxis": {
            "gridcolor": "white",
            "linecolor": "white",
            "ticks": ""
           },
           "baxis": {
            "gridcolor": "white",
            "linecolor": "white",
            "ticks": ""
           },
           "bgcolor": "#E5ECF6",
           "caxis": {
            "gridcolor": "white",
            "linecolor": "white",
            "ticks": ""
           }
          },
          "title": {
           "x": 0.05
          },
          "xaxis": {
           "automargin": true,
           "gridcolor": "white",
           "linecolor": "white",
           "ticks": "",
           "title": {
            "standoff": 15
           },
           "zerolinecolor": "white",
           "zerolinewidth": 2
          },
          "yaxis": {
           "automargin": true,
           "gridcolor": "white",
           "linecolor": "white",
           "ticks": "",
           "title": {
            "standoff": 15
           },
           "zerolinecolor": "white",
           "zerolinewidth": 2
          }
         }
        },
        "title": {
         "text": "Visualizações Únicas por Mês"
        },
        "xaxis": {
         "anchor": "y",
         "domain": [
          0,
          1
         ],
         "title": {
          "text": "month_visited"
         }
        },
        "yaxis": {
         "anchor": "x",
         "domain": [
          0,
          1
         ],
         "title": {
          "text": "unique_views"
         }
        }
       }
      }
     },
     "metadata": {},
     "output_type": "display_data"
    }
   ],
   "source": [
    "legend_order = df_monthly.groupby('page_title')['unique_views'].sum().sort_values(ascending=False).index.tolist()\n",
    "fig_unique_monthly = px.line(df_monthly, x='month_visited', y='unique_views', color='page_title', title='Visualizações Únicas por Mês', category_orders={\"page_title\": legend_order})\n",
    "fig_unique_monthly"
   ]
  },
  {
   "cell_type": "code",
   "execution_count": 14,
   "metadata": {},
   "outputs": [
    {
     "data": {
      "application/vnd.plotly.v1+json": {
       "config": {
        "plotlyServerURL": "https://plot.ly"
       },
       "data": [
        {
         "hovertemplate": "page_title=Instituto Reditus<br>month_visited=%{x}<br>total_views=%{y}<extra></extra>",
         "legendgroup": "Instituto Reditus",
         "line": {
          "color": "#636efa",
          "dash": "solid"
         },
         "marker": {
          "symbol": "circle"
         },
         "mode": "lines",
         "name": "Instituto Reditus",
         "orientation": "v",
         "showlegend": true,
         "type": "scatter",
         "x": [
          "2022-08",
          "2022-09",
          "2022-10",
          "2022-11",
          "2022-12",
          "2023-01",
          "2023-02",
          "2023-03",
          "2023-04",
          "2023-05",
          "2023-06",
          "2023-07",
          "2023-08",
          "2023-09",
          "2023-10"
         ],
         "xaxis": "x",
         "y": [
          49,
          54,
          71,
          60,
          55,
          112,
          135,
          121,
          128,
          96,
          33,
          85,
          114,
          96,
          65
         ],
         "yaxis": "y"
        },
        {
         "hovertemplate": "page_title=Gestão<br>month_visited=%{x}<br>total_views=%{y}<extra></extra>",
         "legendgroup": "Gestão",
         "line": {
          "color": "#EF553B",
          "dash": "solid"
         },
         "marker": {
          "symbol": "circle"
         },
         "mode": "lines",
         "name": "Gestão",
         "orientation": "v",
         "showlegend": true,
         "type": "scatter",
         "x": [
          "2022-08",
          "2022-09",
          "2022-10",
          "2022-11",
          "2022-12",
          "2023-01",
          "2023-02",
          "2023-03",
          "2023-04",
          "2023-05",
          "2023-06",
          "2023-07",
          "2023-08",
          "2023-09",
          "2023-10"
         ],
         "xaxis": "x",
         "y": [
          2,
          1,
          9,
          6,
          10,
          12,
          6,
          7,
          35,
          31,
          17,
          18,
          44,
          21,
          53
         ],
         "yaxis": "y"
        },
        {
         "hovertemplate": "page_title=Comunicação<br>month_visited=%{x}<br>total_views=%{y}<extra></extra>",
         "legendgroup": "Comunicação",
         "line": {
          "color": "#00cc96",
          "dash": "solid"
         },
         "marker": {
          "symbol": "circle"
         },
         "mode": "lines",
         "name": "Comunicação",
         "orientation": "v",
         "showlegend": true,
         "type": "scatter",
         "x": [
          "2022-08",
          "2022-09",
          "2022-10",
          "2022-11",
          "2022-12",
          "2023-01",
          "2023-02",
          "2023-03",
          "2023-04",
          "2023-05",
          "2023-06",
          "2023-07",
          "2023-08",
          "2023-09",
          "2023-10"
         ],
         "xaxis": "x",
         "y": [
          13,
          11,
          4,
          13,
          10,
          39,
          20,
          14,
          20,
          39,
          8,
          5,
          12,
          29,
          9
         ],
         "yaxis": "y"
        },
        {
         "hovertemplate": "page_title=Membros<br>month_visited=%{x}<br>total_views=%{y}<extra></extra>",
         "legendgroup": "Membros",
         "line": {
          "color": "#ab63fa",
          "dash": "solid"
         },
         "marker": {
          "symbol": "circle"
         },
         "mode": "lines",
         "name": "Membros",
         "orientation": "v",
         "showlegend": true,
         "type": "scatter",
         "x": [
          "2022-08",
          "2022-09",
          "2022-10",
          "2022-11",
          "2022-12",
          "2023-01",
          "2023-02",
          "2023-03",
          "2023-04",
          "2023-05",
          "2023-06",
          "2023-07",
          "2023-08",
          "2023-09",
          "2023-10"
         ],
         "xaxis": "x",
         "y": [
          32,
          2,
          3,
          3,
          7,
          12,
          7,
          11,
          3,
          3,
          1,
          3,
          13,
          15,
          4
         ],
         "yaxis": "y"
        },
        {
         "hovertemplate": "page_title=Marketing<br>month_visited=%{x}<br>total_views=%{y}<extra></extra>",
         "legendgroup": "Marketing",
         "line": {
          "color": "#FFA15A",
          "dash": "solid"
         },
         "marker": {
          "symbol": "circle"
         },
         "mode": "lines",
         "name": "Marketing",
         "orientation": "v",
         "showlegend": true,
         "type": "scatter",
         "x": [
          "2022-08",
          "2022-09",
          "2022-10",
          "2022-11",
          "2022-12",
          "2023-01",
          "2023-02",
          "2023-03",
          "2023-04",
          "2023-05",
          "2023-06",
          "2023-07",
          "2023-08",
          "2023-09",
          "2023-10"
         ],
         "xaxis": "x",
         "y": [
          3,
          5,
          3,
          8,
          6,
          6,
          4,
          4,
          2,
          5,
          3,
          34,
          21,
          7,
          6
         ],
         "yaxis": "y"
        },
        {
         "hovertemplate": "page_title=Reunião Geral (RG)<br>month_visited=%{x}<br>total_views=%{y}<extra></extra>",
         "legendgroup": "Reunião Geral (RG)",
         "line": {
          "color": "#19d3f3",
          "dash": "solid"
         },
         "marker": {
          "symbol": "circle"
         },
         "mode": "lines",
         "name": "Reunião Geral (RG)",
         "orientation": "v",
         "showlegend": true,
         "type": "scatter",
         "x": [
          "2022-10",
          "2022-11",
          "2022-12",
          "2023-01",
          "2023-02",
          "2023-03",
          "2023-04",
          "2023-05",
          "2023-06",
          "2023-07",
          "2023-08",
          "2023-09",
          "2023-10"
         ],
         "xaxis": "x",
         "y": [
          3,
          15,
          12,
          15,
          4,
          1,
          10,
          5,
          5,
          2,
          9,
          1,
          5
         ],
         "yaxis": "y"
        },
        {
         "hovertemplate": "page_title=Rituais<br>month_visited=%{x}<br>total_views=%{y}<extra></extra>",
         "legendgroup": "Rituais",
         "line": {
          "color": "#FF6692",
          "dash": "solid"
         },
         "marker": {
          "symbol": "circle"
         },
         "mode": "lines",
         "name": "Rituais",
         "orientation": "v",
         "showlegend": true,
         "type": "scatter",
         "x": [
          "2022-08",
          "2022-09",
          "2022-10",
          "2022-11",
          "2022-12",
          "2023-01",
          "2023-02",
          "2023-03",
          "2023-04",
          "2023-05",
          "2023-06",
          "2023-07",
          "2023-08",
          "2023-09",
          "2023-10"
         ],
         "xaxis": "x",
         "y": [
          1,
          2,
          4,
          1,
          4,
          2,
          3,
          4,
          21,
          6,
          3,
          7,
          12,
          2,
          10
         ],
         "yaxis": "y"
        },
        {
         "hovertemplate": "page_title=Dashboards<br>month_visited=%{x}<br>total_views=%{y}<extra></extra>",
         "legendgroup": "Dashboards",
         "line": {
          "color": "#B6E880",
          "dash": "solid"
         },
         "marker": {
          "symbol": "circle"
         },
         "mode": "lines",
         "name": "Dashboards",
         "orientation": "v",
         "showlegend": true,
         "type": "scatter",
         "x": [
          "2022-08",
          "2022-10",
          "2022-11",
          "2022-12",
          "2023-01",
          "2023-02",
          "2023-03",
          "2023-04",
          "2023-05",
          "2023-06",
          "2023-07",
          "2023-08",
          "2023-09",
          "2023-10"
         ],
         "xaxis": "x",
         "y": [
          6,
          4,
          3,
          15,
          5,
          9,
          10,
          8,
          3,
          1,
          1,
          2,
          3,
          3
         ],
         "yaxis": "y"
        },
        {
         "hovertemplate": "page_title=Redes Sociais<br>month_visited=%{x}<br>total_views=%{y}<extra></extra>",
         "legendgroup": "Redes Sociais",
         "line": {
          "color": "#FF97FF",
          "dash": "solid"
         },
         "marker": {
          "symbol": "circle"
         },
         "mode": "lines",
         "name": "Redes Sociais",
         "orientation": "v",
         "showlegend": true,
         "type": "scatter",
         "x": [
          "2022-08",
          "2022-09",
          "2022-11",
          "2022-12",
          "2023-01",
          "2023-02",
          "2023-03",
          "2023-04",
          "2023-05",
          "2023-07",
          "2023-08",
          "2023-09"
         ],
         "xaxis": "x",
         "y": [
          3,
          3,
          3,
          4,
          4,
          12,
          5,
          5,
          10,
          2,
          3,
          6
         ],
         "yaxis": "y"
        },
        {
         "hovertemplate": "page_title=Sou de outra área, o que preciso saber?<br>month_visited=%{x}<br>total_views=%{y}<extra></extra>",
         "legendgroup": "Sou de outra área, o que preciso saber?",
         "line": {
          "color": "#FECB52",
          "dash": "solid"
         },
         "marker": {
          "symbol": "circle"
         },
         "mode": "lines",
         "name": "Sou de outra área, o que preciso saber?",
         "orientation": "v",
         "showlegend": true,
         "type": "scatter",
         "x": [
          "2022-08",
          "2022-09",
          "2022-11",
          "2023-01",
          "2023-04",
          "2023-05",
          "2023-09",
          "2023-10"
         ],
         "xaxis": "x",
         "y": [
          4,
          4,
          3,
          14,
          10,
          6,
          3,
          3
         ],
         "yaxis": "y"
        },
        {
         "hovertemplate": "page_title=OKRs<br>month_visited=%{x}<br>total_views=%{y}<extra></extra>",
         "legendgroup": "OKRs",
         "line": {
          "color": "#636efa",
          "dash": "solid"
         },
         "marker": {
          "symbol": "circle"
         },
         "mode": "lines",
         "name": "OKRs",
         "orientation": "v",
         "showlegend": true,
         "type": "scatter",
         "x": [
          "2022-08",
          "2022-09",
          "2022-10",
          "2022-12",
          "2023-01",
          "2023-02",
          "2023-03",
          "2023-04",
          "2023-05",
          "2023-07",
          "2023-08",
          "2023-09",
          "2023-10"
         ],
         "xaxis": "x",
         "y": [
          2,
          1,
          2,
          7,
          3,
          1,
          10,
          7,
          6,
          2,
          2,
          3,
          1
         ],
         "yaxis": "y"
        },
        {
         "hovertemplate": "page_title=Tecnologia<br>month_visited=%{x}<br>total_views=%{y}<extra></extra>",
         "legendgroup": "Tecnologia",
         "line": {
          "color": "#EF553B",
          "dash": "solid"
         },
         "marker": {
          "symbol": "circle"
         },
         "mode": "lines",
         "name": "Tecnologia",
         "orientation": "v",
         "showlegend": true,
         "type": "scatter",
         "x": [
          "2022-12",
          "2023-01",
          "2023-02",
          "2023-03",
          "2023-04",
          "2023-06",
          "2023-07",
          "2023-08",
          "2023-09",
          "2023-10"
         ],
         "xaxis": "x",
         "y": [
          1,
          1,
          2,
          3,
          2,
          1,
          2,
          14,
          14,
          3
         ],
         "yaxis": "y"
        },
        {
         "hovertemplate": "page_title=Planejamento Estratégico (PEIR)<br>month_visited=%{x}<br>total_views=%{y}<extra></extra>",
         "legendgroup": "Planejamento Estratégico (PEIR)",
         "line": {
          "color": "#00cc96",
          "dash": "solid"
         },
         "marker": {
          "symbol": "circle"
         },
         "mode": "lines",
         "name": "Planejamento Estratégico (PEIR)",
         "orientation": "v",
         "showlegend": true,
         "type": "scatter",
         "x": [
          "2022-08",
          "2022-12",
          "2023-03",
          "2023-04",
          "2023-05",
          "2023-07",
          "2023-08",
          "2023-09",
          "2023-10"
         ],
         "xaxis": "x",
         "y": [
          3,
          1,
          9,
          10,
          2,
          5,
          2,
          2,
          5
         ],
         "yaxis": "y"
        },
        {
         "hovertemplate": "page_title=Ferramentas<br>month_visited=%{x}<br>total_views=%{y}<extra></extra>",
         "legendgroup": "Ferramentas",
         "line": {
          "color": "#ab63fa",
          "dash": "solid"
         },
         "marker": {
          "symbol": "circle"
         },
         "mode": "lines",
         "name": "Ferramentas",
         "orientation": "v",
         "showlegend": true,
         "type": "scatter",
         "x": [
          "2022-08",
          "2022-09",
          "2022-11",
          "2022-12",
          "2023-01",
          "2023-02",
          "2023-03",
          "2023-04",
          "2023-05",
          "2023-07",
          "2023-08",
          "2023-09"
         ],
         "xaxis": "x",
         "y": [
          1,
          1,
          1,
          3,
          4,
          2,
          1,
          4,
          6,
          1,
          10,
          2
         ],
         "yaxis": "y"
        },
        {
         "hovertemplate": "page_title=Missão, Visão e Valores<br>month_visited=%{x}<br>total_views=%{y}<extra></extra>",
         "legendgroup": "Missão, Visão e Valores",
         "line": {
          "color": "#FFA15A",
          "dash": "solid"
         },
         "marker": {
          "symbol": "circle"
         },
         "mode": "lines",
         "name": "Missão, Visão e Valores",
         "orientation": "v",
         "showlegend": true,
         "type": "scatter",
         "x": [
          "2022-08",
          "2022-12",
          "2023-01",
          "2023-02",
          "2023-03",
          "2023-04",
          "2023-05",
          "2023-06",
          "2023-07",
          "2023-08",
          "2023-09",
          "2023-10"
         ],
         "xaxis": "x",
         "y": [
          6,
          4,
          2,
          2,
          5,
          1,
          2,
          1,
          3,
          5,
          2,
          1
         ],
         "yaxis": "y"
        },
        {
         "hovertemplate": "page_title=Líderes<br>month_visited=%{x}<br>total_views=%{y}<extra></extra>",
         "legendgroup": "Líderes",
         "line": {
          "color": "#19d3f3",
          "dash": "solid"
         },
         "marker": {
          "symbol": "circle"
         },
         "mode": "lines",
         "name": "Líderes",
         "orientation": "v",
         "showlegend": true,
         "type": "scatter",
         "x": [
          "2022-11",
          "2022-12",
          "2023-01",
          "2023-02",
          "2023-03",
          "2023-04",
          "2023-05",
          "2023-06",
          "2023-07",
          "2023-08",
          "2023-09",
          "2023-10"
         ],
         "xaxis": "x",
         "y": [
          1,
          2,
          6,
          3,
          4,
          3,
          2,
          3,
          2,
          5,
          1,
          1
         ],
         "yaxis": "y"
        },
        {
         "hovertemplate": "page_title=Como Organizar o PEIR (Checklist)<br>month_visited=%{x}<br>total_views=%{y}<extra></extra>",
         "legendgroup": "Como Organizar o PEIR (Checklist)",
         "line": {
          "color": "#FF6692",
          "dash": "solid"
         },
         "marker": {
          "symbol": "circle"
         },
         "mode": "lines",
         "name": "Como Organizar o PEIR (Checklist)",
         "orientation": "v",
         "showlegend": true,
         "type": "scatter",
         "x": [
          "2023-03",
          "2023-04",
          "2023-07",
          "2023-08",
          "2023-09",
          "2023-10"
         ],
         "xaxis": "x",
         "y": [
          11,
          3,
          13,
          1,
          2,
          1
         ],
         "yaxis": "y"
        },
        {
         "hovertemplate": "page_title=Princípios de Trabalho<br>month_visited=%{x}<br>total_views=%{y}<extra></extra>",
         "legendgroup": "Princípios de Trabalho",
         "line": {
          "color": "#B6E880",
          "dash": "solid"
         },
         "marker": {
          "symbol": "circle"
         },
         "mode": "lines",
         "name": "Princípios de Trabalho",
         "orientation": "v",
         "showlegend": true,
         "type": "scatter",
         "x": [
          "2022-10",
          "2022-12",
          "2023-01",
          "2023-02",
          "2023-03",
          "2023-04",
          "2023-07",
          "2023-08",
          "2023-09"
         ],
         "xaxis": "x",
         "y": [
          3,
          5,
          1,
          3,
          5,
          3,
          1,
          6,
          3
         ],
         "yaxis": "y"
        },
        {
         "hovertemplate": "page_title=Quem somos<br>month_visited=%{x}<br>total_views=%{y}<extra></extra>",
         "legendgroup": "Quem somos",
         "line": {
          "color": "#FF97FF",
          "dash": "solid"
         },
         "marker": {
          "symbol": "circle"
         },
         "mode": "lines",
         "name": "Quem somos",
         "orientation": "v",
         "showlegend": true,
         "type": "scatter",
         "x": [
          "2022-08",
          "2022-09",
          "2022-10",
          "2022-11",
          "2022-12",
          "2023-01",
          "2023-02",
          "2023-03",
          "2023-04",
          "2023-05",
          "2023-07",
          "2023-08",
          "2023-09",
          "2023-10"
         ],
         "xaxis": "x",
         "y": [
          2,
          1,
          2,
          3,
          2,
          2,
          5,
          3,
          1,
          1,
          1,
          4,
          1,
          1
         ],
         "yaxis": "y"
        },
        {
         "hovertemplate": "page_title=Comunicação Institucional<br>month_visited=%{x}<br>total_views=%{y}<extra></extra>",
         "legendgroup": "Comunicação Institucional",
         "line": {
          "color": "#FECB52",
          "dash": "solid"
         },
         "marker": {
          "symbol": "circle"
         },
         "mode": "lines",
         "name": "Comunicação Institucional",
         "orientation": "v",
         "showlegend": true,
         "type": "scatter",
         "x": [
          "2022-09",
          "2022-10",
          "2022-11",
          "2023-01",
          "2023-04",
          "2023-05",
          "2023-06",
          "2023-07",
          "2023-09"
         ],
         "xaxis": "x",
         "y": [
          3,
          1,
          5,
          6,
          4,
          4,
          1,
          1,
          1
         ],
         "yaxis": "y"
        },
        {
         "hovertemplate": "page_title=Alterações do site<br>month_visited=%{x}<br>total_views=%{y}<extra></extra>",
         "legendgroup": "Alterações do site",
         "line": {
          "color": "#636efa",
          "dash": "solid"
         },
         "marker": {
          "symbol": "circle"
         },
         "mode": "lines",
         "name": "Alterações do site",
         "orientation": "v",
         "showlegend": true,
         "type": "scatter",
         "x": [
          "2022-08",
          "2022-09",
          "2022-11",
          "2023-01",
          "2023-04",
          "2023-05"
         ],
         "xaxis": "x",
         "y": [
          9,
          2,
          4,
          2,
          3,
          2
         ],
         "yaxis": "y"
        },
        {
         "hovertemplate": "page_title=Nossa História<br>month_visited=%{x}<br>total_views=%{y}<extra></extra>",
         "legendgroup": "Nossa História",
         "line": {
          "color": "#EF553B",
          "dash": "solid"
         },
         "marker": {
          "symbol": "circle"
         },
         "mode": "lines",
         "name": "Nossa História",
         "orientation": "v",
         "showlegend": true,
         "type": "scatter",
         "x": [
          "2022-10",
          "2022-12",
          "2023-01",
          "2023-02",
          "2023-04",
          "2023-05",
          "2023-06",
          "2023-07",
          "2023-08",
          "2023-09",
          "2023-10"
         ],
         "xaxis": "x",
         "y": [
          1,
          1,
          1,
          5,
          1,
          1,
          3,
          1,
          3,
          1,
          1
         ],
         "yaxis": "y"
        },
        {
         "hovertemplate": "page_title=Radar de execução<br>month_visited=%{x}<br>total_views=%{y}<extra></extra>",
         "legendgroup": "Radar de execução",
         "line": {
          "color": "#00cc96",
          "dash": "solid"
         },
         "marker": {
          "symbol": "circle"
         },
         "mode": "lines",
         "name": "Radar de execução",
         "orientation": "v",
         "showlegend": true,
         "type": "scatter",
         "x": [
          "2023-05",
          "2023-09",
          "2023-10"
         ],
         "xaxis": "x",
         "y": [
          9,
          3,
          2
         ],
         "yaxis": "y"
        },
        {
         "hovertemplate": "page_title=Reunião Conselho Administrativo (RCA)<br>month_visited=%{x}<br>total_views=%{y}<extra></extra>",
         "legendgroup": "Reunião Conselho Administrativo (RCA)",
         "line": {
          "color": "#ab63fa",
          "dash": "solid"
         },
         "marker": {
          "symbol": "circle"
         },
         "mode": "lines",
         "name": "Reunião Conselho Administrativo (RCA)",
         "orientation": "v",
         "showlegend": true,
         "type": "scatter",
         "x": [
          "2022-10",
          "2023-02",
          "2023-04",
          "2023-10"
         ],
         "xaxis": "x",
         "y": [
          1,
          1,
          3,
          3
         ],
         "yaxis": "y"
        },
        {
         "hovertemplate": "page_title=Reunião de Líderes (RL)<br>month_visited=%{x}<br>total_views=%{y}<extra></extra>",
         "legendgroup": "Reunião de Líderes (RL)",
         "line": {
          "color": "#FFA15A",
          "dash": "solid"
         },
         "marker": {
          "symbol": "circle"
         },
         "mode": "lines",
         "name": "Reunião de Líderes (RL)",
         "orientation": "v",
         "showlegend": true,
         "type": "scatter",
         "x": [
          "2022-10",
          "2023-04",
          "2023-07",
          "2023-10"
         ],
         "xaxis": "x",
         "y": [
          1,
          2,
          1,
          3
         ],
         "yaxis": "y"
        },
        {
         "hovertemplate": "page_title=O que Comunicação faz?<br>month_visited=%{x}<br>total_views=%{y}<extra></extra>",
         "legendgroup": "O que Comunicação faz?",
         "line": {
          "color": "#19d3f3",
          "dash": "solid"
         },
         "marker": {
          "symbol": "circle"
         },
         "mode": "lines",
         "name": "O que Comunicação faz?",
         "orientation": "v",
         "showlegend": true,
         "type": "scatter",
         "x": [
          "2023-01",
          "2023-04",
          "2023-08"
         ],
         "xaxis": "x",
         "y": [
          1,
          2,
          1
         ],
         "yaxis": "y"
        },
        {
         "hovertemplate": "page_title=Dinâmicas PEIR<br>month_visited=%{x}<br>total_views=%{y}<extra></extra>",
         "legendgroup": "Dinâmicas PEIR",
         "line": {
          "color": "#FF6692",
          "dash": "solid"
         },
         "marker": {
          "symbol": "circle"
         },
         "mode": "lines",
         "name": "Dinâmicas PEIR",
         "orientation": "v",
         "showlegend": true,
         "type": "scatter",
         "x": [
          "2023-09"
         ],
         "xaxis": "x",
         "y": [
          1
         ],
         "yaxis": "y"
        }
       ],
       "layout": {
        "legend": {
         "title": {
          "text": "page_title"
         },
         "tracegroupgap": 0
        },
        "template": {
         "data": {
          "bar": [
           {
            "error_x": {
             "color": "#2a3f5f"
            },
            "error_y": {
             "color": "#2a3f5f"
            },
            "marker": {
             "line": {
              "color": "#E5ECF6",
              "width": 0.5
             },
             "pattern": {
              "fillmode": "overlay",
              "size": 10,
              "solidity": 0.2
             }
            },
            "type": "bar"
           }
          ],
          "barpolar": [
           {
            "marker": {
             "line": {
              "color": "#E5ECF6",
              "width": 0.5
             },
             "pattern": {
              "fillmode": "overlay",
              "size": 10,
              "solidity": 0.2
             }
            },
            "type": "barpolar"
           }
          ],
          "carpet": [
           {
            "aaxis": {
             "endlinecolor": "#2a3f5f",
             "gridcolor": "white",
             "linecolor": "white",
             "minorgridcolor": "white",
             "startlinecolor": "#2a3f5f"
            },
            "baxis": {
             "endlinecolor": "#2a3f5f",
             "gridcolor": "white",
             "linecolor": "white",
             "minorgridcolor": "white",
             "startlinecolor": "#2a3f5f"
            },
            "type": "carpet"
           }
          ],
          "choropleth": [
           {
            "colorbar": {
             "outlinewidth": 0,
             "ticks": ""
            },
            "type": "choropleth"
           }
          ],
          "contour": [
           {
            "colorbar": {
             "outlinewidth": 0,
             "ticks": ""
            },
            "colorscale": [
             [
              0,
              "#0d0887"
             ],
             [
              0.1111111111111111,
              "#46039f"
             ],
             [
              0.2222222222222222,
              "#7201a8"
             ],
             [
              0.3333333333333333,
              "#9c179e"
             ],
             [
              0.4444444444444444,
              "#bd3786"
             ],
             [
              0.5555555555555556,
              "#d8576b"
             ],
             [
              0.6666666666666666,
              "#ed7953"
             ],
             [
              0.7777777777777778,
              "#fb9f3a"
             ],
             [
              0.8888888888888888,
              "#fdca26"
             ],
             [
              1,
              "#f0f921"
             ]
            ],
            "type": "contour"
           }
          ],
          "contourcarpet": [
           {
            "colorbar": {
             "outlinewidth": 0,
             "ticks": ""
            },
            "type": "contourcarpet"
           }
          ],
          "heatmap": [
           {
            "colorbar": {
             "outlinewidth": 0,
             "ticks": ""
            },
            "colorscale": [
             [
              0,
              "#0d0887"
             ],
             [
              0.1111111111111111,
              "#46039f"
             ],
             [
              0.2222222222222222,
              "#7201a8"
             ],
             [
              0.3333333333333333,
              "#9c179e"
             ],
             [
              0.4444444444444444,
              "#bd3786"
             ],
             [
              0.5555555555555556,
              "#d8576b"
             ],
             [
              0.6666666666666666,
              "#ed7953"
             ],
             [
              0.7777777777777778,
              "#fb9f3a"
             ],
             [
              0.8888888888888888,
              "#fdca26"
             ],
             [
              1,
              "#f0f921"
             ]
            ],
            "type": "heatmap"
           }
          ],
          "heatmapgl": [
           {
            "colorbar": {
             "outlinewidth": 0,
             "ticks": ""
            },
            "colorscale": [
             [
              0,
              "#0d0887"
             ],
             [
              0.1111111111111111,
              "#46039f"
             ],
             [
              0.2222222222222222,
              "#7201a8"
             ],
             [
              0.3333333333333333,
              "#9c179e"
             ],
             [
              0.4444444444444444,
              "#bd3786"
             ],
             [
              0.5555555555555556,
              "#d8576b"
             ],
             [
              0.6666666666666666,
              "#ed7953"
             ],
             [
              0.7777777777777778,
              "#fb9f3a"
             ],
             [
              0.8888888888888888,
              "#fdca26"
             ],
             [
              1,
              "#f0f921"
             ]
            ],
            "type": "heatmapgl"
           }
          ],
          "histogram": [
           {
            "marker": {
             "pattern": {
              "fillmode": "overlay",
              "size": 10,
              "solidity": 0.2
             }
            },
            "type": "histogram"
           }
          ],
          "histogram2d": [
           {
            "colorbar": {
             "outlinewidth": 0,
             "ticks": ""
            },
            "colorscale": [
             [
              0,
              "#0d0887"
             ],
             [
              0.1111111111111111,
              "#46039f"
             ],
             [
              0.2222222222222222,
              "#7201a8"
             ],
             [
              0.3333333333333333,
              "#9c179e"
             ],
             [
              0.4444444444444444,
              "#bd3786"
             ],
             [
              0.5555555555555556,
              "#d8576b"
             ],
             [
              0.6666666666666666,
              "#ed7953"
             ],
             [
              0.7777777777777778,
              "#fb9f3a"
             ],
             [
              0.8888888888888888,
              "#fdca26"
             ],
             [
              1,
              "#f0f921"
             ]
            ],
            "type": "histogram2d"
           }
          ],
          "histogram2dcontour": [
           {
            "colorbar": {
             "outlinewidth": 0,
             "ticks": ""
            },
            "colorscale": [
             [
              0,
              "#0d0887"
             ],
             [
              0.1111111111111111,
              "#46039f"
             ],
             [
              0.2222222222222222,
              "#7201a8"
             ],
             [
              0.3333333333333333,
              "#9c179e"
             ],
             [
              0.4444444444444444,
              "#bd3786"
             ],
             [
              0.5555555555555556,
              "#d8576b"
             ],
             [
              0.6666666666666666,
              "#ed7953"
             ],
             [
              0.7777777777777778,
              "#fb9f3a"
             ],
             [
              0.8888888888888888,
              "#fdca26"
             ],
             [
              1,
              "#f0f921"
             ]
            ],
            "type": "histogram2dcontour"
           }
          ],
          "mesh3d": [
           {
            "colorbar": {
             "outlinewidth": 0,
             "ticks": ""
            },
            "type": "mesh3d"
           }
          ],
          "parcoords": [
           {
            "line": {
             "colorbar": {
              "outlinewidth": 0,
              "ticks": ""
             }
            },
            "type": "parcoords"
           }
          ],
          "pie": [
           {
            "automargin": true,
            "type": "pie"
           }
          ],
          "scatter": [
           {
            "fillpattern": {
             "fillmode": "overlay",
             "size": 10,
             "solidity": 0.2
            },
            "type": "scatter"
           }
          ],
          "scatter3d": [
           {
            "line": {
             "colorbar": {
              "outlinewidth": 0,
              "ticks": ""
             }
            },
            "marker": {
             "colorbar": {
              "outlinewidth": 0,
              "ticks": ""
             }
            },
            "type": "scatter3d"
           }
          ],
          "scattercarpet": [
           {
            "marker": {
             "colorbar": {
              "outlinewidth": 0,
              "ticks": ""
             }
            },
            "type": "scattercarpet"
           }
          ],
          "scattergeo": [
           {
            "marker": {
             "colorbar": {
              "outlinewidth": 0,
              "ticks": ""
             }
            },
            "type": "scattergeo"
           }
          ],
          "scattergl": [
           {
            "marker": {
             "colorbar": {
              "outlinewidth": 0,
              "ticks": ""
             }
            },
            "type": "scattergl"
           }
          ],
          "scattermapbox": [
           {
            "marker": {
             "colorbar": {
              "outlinewidth": 0,
              "ticks": ""
             }
            },
            "type": "scattermapbox"
           }
          ],
          "scatterpolar": [
           {
            "marker": {
             "colorbar": {
              "outlinewidth": 0,
              "ticks": ""
             }
            },
            "type": "scatterpolar"
           }
          ],
          "scatterpolargl": [
           {
            "marker": {
             "colorbar": {
              "outlinewidth": 0,
              "ticks": ""
             }
            },
            "type": "scatterpolargl"
           }
          ],
          "scatterternary": [
           {
            "marker": {
             "colorbar": {
              "outlinewidth": 0,
              "ticks": ""
             }
            },
            "type": "scatterternary"
           }
          ],
          "surface": [
           {
            "colorbar": {
             "outlinewidth": 0,
             "ticks": ""
            },
            "colorscale": [
             [
              0,
              "#0d0887"
             ],
             [
              0.1111111111111111,
              "#46039f"
             ],
             [
              0.2222222222222222,
              "#7201a8"
             ],
             [
              0.3333333333333333,
              "#9c179e"
             ],
             [
              0.4444444444444444,
              "#bd3786"
             ],
             [
              0.5555555555555556,
              "#d8576b"
             ],
             [
              0.6666666666666666,
              "#ed7953"
             ],
             [
              0.7777777777777778,
              "#fb9f3a"
             ],
             [
              0.8888888888888888,
              "#fdca26"
             ],
             [
              1,
              "#f0f921"
             ]
            ],
            "type": "surface"
           }
          ],
          "table": [
           {
            "cells": {
             "fill": {
              "color": "#EBF0F8"
             },
             "line": {
              "color": "white"
             }
            },
            "header": {
             "fill": {
              "color": "#C8D4E3"
             },
             "line": {
              "color": "white"
             }
            },
            "type": "table"
           }
          ]
         },
         "layout": {
          "annotationdefaults": {
           "arrowcolor": "#2a3f5f",
           "arrowhead": 0,
           "arrowwidth": 1
          },
          "autotypenumbers": "strict",
          "coloraxis": {
           "colorbar": {
            "outlinewidth": 0,
            "ticks": ""
           }
          },
          "colorscale": {
           "diverging": [
            [
             0,
             "#8e0152"
            ],
            [
             0.1,
             "#c51b7d"
            ],
            [
             0.2,
             "#de77ae"
            ],
            [
             0.3,
             "#f1b6da"
            ],
            [
             0.4,
             "#fde0ef"
            ],
            [
             0.5,
             "#f7f7f7"
            ],
            [
             0.6,
             "#e6f5d0"
            ],
            [
             0.7,
             "#b8e186"
            ],
            [
             0.8,
             "#7fbc41"
            ],
            [
             0.9,
             "#4d9221"
            ],
            [
             1,
             "#276419"
            ]
           ],
           "sequential": [
            [
             0,
             "#0d0887"
            ],
            [
             0.1111111111111111,
             "#46039f"
            ],
            [
             0.2222222222222222,
             "#7201a8"
            ],
            [
             0.3333333333333333,
             "#9c179e"
            ],
            [
             0.4444444444444444,
             "#bd3786"
            ],
            [
             0.5555555555555556,
             "#d8576b"
            ],
            [
             0.6666666666666666,
             "#ed7953"
            ],
            [
             0.7777777777777778,
             "#fb9f3a"
            ],
            [
             0.8888888888888888,
             "#fdca26"
            ],
            [
             1,
             "#f0f921"
            ]
           ],
           "sequentialminus": [
            [
             0,
             "#0d0887"
            ],
            [
             0.1111111111111111,
             "#46039f"
            ],
            [
             0.2222222222222222,
             "#7201a8"
            ],
            [
             0.3333333333333333,
             "#9c179e"
            ],
            [
             0.4444444444444444,
             "#bd3786"
            ],
            [
             0.5555555555555556,
             "#d8576b"
            ],
            [
             0.6666666666666666,
             "#ed7953"
            ],
            [
             0.7777777777777778,
             "#fb9f3a"
            ],
            [
             0.8888888888888888,
             "#fdca26"
            ],
            [
             1,
             "#f0f921"
            ]
           ]
          },
          "colorway": [
           "#636efa",
           "#EF553B",
           "#00cc96",
           "#ab63fa",
           "#FFA15A",
           "#19d3f3",
           "#FF6692",
           "#B6E880",
           "#FF97FF",
           "#FECB52"
          ],
          "font": {
           "color": "#2a3f5f"
          },
          "geo": {
           "bgcolor": "white",
           "lakecolor": "white",
           "landcolor": "#E5ECF6",
           "showlakes": true,
           "showland": true,
           "subunitcolor": "white"
          },
          "hoverlabel": {
           "align": "left"
          },
          "hovermode": "closest",
          "mapbox": {
           "style": "light"
          },
          "paper_bgcolor": "white",
          "plot_bgcolor": "#E5ECF6",
          "polar": {
           "angularaxis": {
            "gridcolor": "white",
            "linecolor": "white",
            "ticks": ""
           },
           "bgcolor": "#E5ECF6",
           "radialaxis": {
            "gridcolor": "white",
            "linecolor": "white",
            "ticks": ""
           }
          },
          "scene": {
           "xaxis": {
            "backgroundcolor": "#E5ECF6",
            "gridcolor": "white",
            "gridwidth": 2,
            "linecolor": "white",
            "showbackground": true,
            "ticks": "",
            "zerolinecolor": "white"
           },
           "yaxis": {
            "backgroundcolor": "#E5ECF6",
            "gridcolor": "white",
            "gridwidth": 2,
            "linecolor": "white",
            "showbackground": true,
            "ticks": "",
            "zerolinecolor": "white"
           },
           "zaxis": {
            "backgroundcolor": "#E5ECF6",
            "gridcolor": "white",
            "gridwidth": 2,
            "linecolor": "white",
            "showbackground": true,
            "ticks": "",
            "zerolinecolor": "white"
           }
          },
          "shapedefaults": {
           "line": {
            "color": "#2a3f5f"
           }
          },
          "ternary": {
           "aaxis": {
            "gridcolor": "white",
            "linecolor": "white",
            "ticks": ""
           },
           "baxis": {
            "gridcolor": "white",
            "linecolor": "white",
            "ticks": ""
           },
           "bgcolor": "#E5ECF6",
           "caxis": {
            "gridcolor": "white",
            "linecolor": "white",
            "ticks": ""
           }
          },
          "title": {
           "x": 0.05
          },
          "xaxis": {
           "automargin": true,
           "gridcolor": "white",
           "linecolor": "white",
           "ticks": "",
           "title": {
            "standoff": 15
           },
           "zerolinecolor": "white",
           "zerolinewidth": 2
          },
          "yaxis": {
           "automargin": true,
           "gridcolor": "white",
           "linecolor": "white",
           "ticks": "",
           "title": {
            "standoff": 15
           },
           "zerolinecolor": "white",
           "zerolinewidth": 2
          }
         }
        },
        "title": {
         "text": "Visualizações Totais por Mês"
        },
        "xaxis": {
         "anchor": "y",
         "domain": [
          0,
          1
         ],
         "title": {
          "text": "month_visited"
         }
        },
        "yaxis": {
         "anchor": "x",
         "domain": [
          0,
          1
         ],
         "title": {
          "text": "total_views"
         }
        }
       }
      }
     },
     "metadata": {},
     "output_type": "display_data"
    }
   ],
   "source": [
    "# Reordering the legend based on the sum of 'total_views' for each 'page_title'\n",
    "legend_order_total_views = df_monthly.groupby('page_title')['total_views'].sum().sort_values(ascending=False).index.tolist()\n",
    "\n",
    "# Creating the line plot with custom legend order based on 'total_views'\n",
    "fig_total_monthly = px.line(df_monthly, x='month_visited', y='total_views', color='page_title', \n",
    "                            title='Visualizações Totais por Mês',\n",
    "                            category_orders={\"page_title\": legend_order_total_views})\n",
    "\n",
    "# Show the figure\n",
    "fig_total_monthly.show()\n"
   ]
  },
  {
   "cell_type": "code",
   "execution_count": 21,
   "metadata": {},
   "outputs": [
    {
     "data": {
      "application/vnd.plotly.v1+json": {
       "config": {
        "plotlyServerURL": "https://plot.ly"
       },
       "data": [
        {
         "hovertemplate": "page_title=Instituto Reditus<br>date_visited=%{x}<br>unique_views=%{y}<extra></extra>",
         "legendgroup": "Instituto Reditus",
         "line": {
          "color": "#636efa",
          "dash": "solid"
         },
         "marker": {
          "symbol": "circle"
         },
         "mode": "lines",
         "name": "Instituto Reditus",
         "showlegend": true,
         "type": "scattergl",
         "x": [
          "2022-08-02T00:00:00",
          "2022-08-03T00:00:00",
          "2022-08-04T00:00:00",
          "2022-08-05T00:00:00",
          "2022-08-09T00:00:00",
          "2022-08-10T00:00:00",
          "2022-08-15T00:00:00",
          "2022-08-16T00:00:00",
          "2022-08-17T00:00:00",
          "2022-08-18T00:00:00",
          "2022-08-19T00:00:00",
          "2022-08-21T00:00:00",
          "2022-08-22T00:00:00",
          "2022-08-24T00:00:00",
          "2022-08-25T00:00:00",
          "2022-08-27T00:00:00",
          "2022-08-29T00:00:00",
          "2022-08-30T00:00:00",
          "2022-08-31T00:00:00",
          "2022-09-06T00:00:00",
          "2022-09-07T00:00:00",
          "2022-09-08T00:00:00",
          "2022-09-09T00:00:00",
          "2022-09-10T00:00:00",
          "2022-09-11T00:00:00",
          "2022-09-12T00:00:00",
          "2022-09-13T00:00:00",
          "2022-09-14T00:00:00",
          "2022-09-15T00:00:00",
          "2022-09-21T00:00:00",
          "2022-09-22T00:00:00",
          "2022-09-23T00:00:00",
          "2022-09-26T00:00:00",
          "2022-09-28T00:00:00",
          "2022-09-29T00:00:00",
          "2022-09-30T00:00:00",
          "2022-10-02T00:00:00",
          "2022-10-03T00:00:00",
          "2022-10-04T00:00:00",
          "2022-10-05T00:00:00",
          "2022-10-06T00:00:00",
          "2022-10-09T00:00:00",
          "2022-10-10T00:00:00",
          "2022-10-12T00:00:00",
          "2022-10-13T00:00:00",
          "2022-10-14T00:00:00",
          "2022-10-15T00:00:00",
          "2022-10-16T00:00:00",
          "2022-10-17T00:00:00",
          "2022-10-18T00:00:00",
          "2022-10-20T00:00:00",
          "2022-10-23T00:00:00",
          "2022-10-24T00:00:00",
          "2022-10-26T00:00:00",
          "2022-10-27T00:00:00",
          "2022-10-30T00:00:00",
          "2022-11-01T00:00:00",
          "2022-11-02T00:00:00",
          "2022-11-03T00:00:00",
          "2022-11-05T00:00:00",
          "2022-11-09T00:00:00",
          "2022-11-10T00:00:00",
          "2022-11-11T00:00:00",
          "2022-11-20T00:00:00",
          "2022-11-21T00:00:00",
          "2022-11-22T00:00:00",
          "2022-11-23T00:00:00",
          "2022-11-24T00:00:00",
          "2022-11-25T00:00:00",
          "2022-11-30T00:00:00",
          "2022-12-06T00:00:00",
          "2022-12-07T00:00:00",
          "2022-12-09T00:00:00",
          "2022-12-12T00:00:00",
          "2022-12-13T00:00:00",
          "2022-12-14T00:00:00",
          "2022-12-15T00:00:00",
          "2022-12-19T00:00:00",
          "2022-12-20T00:00:00",
          "2022-12-21T00:00:00",
          "2022-12-28T00:00:00",
          "2022-12-30T00:00:00",
          "2023-01-05T00:00:00",
          "2023-01-08T00:00:00",
          "2023-01-09T00:00:00",
          "2023-01-10T00:00:00",
          "2023-01-11T00:00:00",
          "2023-01-12T00:00:00",
          "2023-01-13T00:00:00",
          "2023-01-16T00:00:00",
          "2023-01-17T00:00:00",
          "2023-01-19T00:00:00",
          "2023-01-20T00:00:00",
          "2023-01-21T00:00:00",
          "2023-01-22T00:00:00",
          "2023-01-24T00:00:00",
          "2023-01-25T00:00:00",
          "2023-01-27T00:00:00",
          "2023-01-28T00:00:00",
          "2023-01-30T00:00:00",
          "2023-01-31T00:00:00",
          "2023-02-01T00:00:00",
          "2023-02-02T00:00:00",
          "2023-02-04T00:00:00",
          "2023-02-06T00:00:00",
          "2023-02-07T00:00:00",
          "2023-02-08T00:00:00",
          "2023-02-09T00:00:00",
          "2023-02-10T00:00:00",
          "2023-02-11T00:00:00",
          "2023-02-14T00:00:00",
          "2023-02-15T00:00:00",
          "2023-02-16T00:00:00",
          "2023-02-17T00:00:00",
          "2023-02-22T00:00:00",
          "2023-02-23T00:00:00",
          "2023-02-24T00:00:00",
          "2023-02-25T00:00:00",
          "2023-02-26T00:00:00",
          "2023-02-27T00:00:00",
          "2023-03-01T00:00:00",
          "2023-03-02T00:00:00",
          "2023-03-05T00:00:00",
          "2023-03-06T00:00:00",
          "2023-03-07T00:00:00",
          "2023-03-08T00:00:00",
          "2023-03-09T00:00:00",
          "2023-03-10T00:00:00",
          "2023-03-11T00:00:00",
          "2023-03-12T00:00:00",
          "2023-03-13T00:00:00",
          "2023-03-14T00:00:00",
          "2023-03-15T00:00:00",
          "2023-03-17T00:00:00",
          "2023-03-18T00:00:00",
          "2023-03-19T00:00:00",
          "2023-03-20T00:00:00",
          "2023-03-21T00:00:00",
          "2023-03-22T00:00:00",
          "2023-03-23T00:00:00",
          "2023-03-24T00:00:00",
          "2023-03-26T00:00:00",
          "2023-03-27T00:00:00",
          "2023-03-28T00:00:00",
          "2023-03-29T00:00:00",
          "2023-03-30T00:00:00",
          "2023-03-31T00:00:00",
          "2023-04-03T00:00:00",
          "2023-04-04T00:00:00",
          "2023-04-05T00:00:00",
          "2023-04-06T00:00:00",
          "2023-04-07T00:00:00",
          "2023-04-08T00:00:00",
          "2023-04-10T00:00:00",
          "2023-04-11T00:00:00",
          "2023-04-12T00:00:00",
          "2023-04-13T00:00:00",
          "2023-04-15T00:00:00",
          "2023-04-17T00:00:00",
          "2023-04-18T00:00:00",
          "2023-04-23T00:00:00",
          "2023-04-24T00:00:00",
          "2023-04-25T00:00:00",
          "2023-04-26T00:00:00",
          "2023-04-27T00:00:00",
          "2023-04-30T00:00:00",
          "2023-05-02T00:00:00",
          "2023-05-03T00:00:00",
          "2023-05-04T00:00:00",
          "2023-05-08T00:00:00",
          "2023-05-09T00:00:00",
          "2023-05-11T00:00:00",
          "2023-05-13T00:00:00",
          "2023-05-14T00:00:00",
          "2023-05-15T00:00:00",
          "2023-05-16T00:00:00",
          "2023-05-17T00:00:00",
          "2023-05-20T00:00:00",
          "2023-05-21T00:00:00",
          "2023-05-22T00:00:00",
          "2023-05-24T00:00:00",
          "2023-05-25T00:00:00",
          "2023-05-26T00:00:00",
          "2023-05-29T00:00:00",
          "2023-05-30T00:00:00",
          "2023-05-31T00:00:00",
          "2023-06-01T00:00:00",
          "2023-06-02T00:00:00",
          "2023-06-06T00:00:00",
          "2023-06-12T00:00:00",
          "2023-06-14T00:00:00",
          "2023-06-15T00:00:00",
          "2023-06-19T00:00:00",
          "2023-06-20T00:00:00",
          "2023-06-22T00:00:00",
          "2023-06-23T00:00:00",
          "2023-06-26T00:00:00",
          "2023-06-28T00:00:00",
          "2023-06-29T00:00:00",
          "2023-06-30T00:00:00",
          "2023-07-03T00:00:00",
          "2023-07-04T00:00:00",
          "2023-07-05T00:00:00",
          "2023-07-10T00:00:00",
          "2023-07-11T00:00:00",
          "2023-07-12T00:00:00",
          "2023-07-13T00:00:00",
          "2023-07-17T00:00:00",
          "2023-07-18T00:00:00",
          "2023-07-19T00:00:00",
          "2023-07-20T00:00:00",
          "2023-07-24T00:00:00",
          "2023-07-25T00:00:00",
          "2023-07-26T00:00:00",
          "2023-07-27T00:00:00",
          "2023-07-28T00:00:00",
          "2023-07-31T00:00:00",
          "2023-08-01T00:00:00",
          "2023-08-02T00:00:00",
          "2023-08-03T00:00:00",
          "2023-08-04T00:00:00",
          "2023-08-06T00:00:00",
          "2023-08-07T00:00:00",
          "2023-08-08T00:00:00",
          "2023-08-09T00:00:00",
          "2023-08-10T00:00:00",
          "2023-08-11T00:00:00",
          "2023-08-13T00:00:00",
          "2023-08-14T00:00:00",
          "2023-08-15T00:00:00",
          "2023-08-16T00:00:00",
          "2023-08-21T00:00:00",
          "2023-08-22T00:00:00",
          "2023-08-24T00:00:00",
          "2023-08-29T00:00:00",
          "2023-08-30T00:00:00",
          "2023-08-31T00:00:00",
          "2023-09-03T00:00:00",
          "2023-09-04T00:00:00",
          "2023-09-05T00:00:00",
          "2023-09-06T00:00:00",
          "2023-09-07T00:00:00",
          "2023-09-08T00:00:00",
          "2023-09-11T00:00:00",
          "2023-09-12T00:00:00",
          "2023-09-13T00:00:00",
          "2023-09-14T00:00:00",
          "2023-09-17T00:00:00",
          "2023-09-18T00:00:00",
          "2023-09-19T00:00:00",
          "2023-09-20T00:00:00",
          "2023-09-21T00:00:00",
          "2023-09-23T00:00:00",
          "2023-09-24T00:00:00",
          "2023-09-25T00:00:00",
          "2023-09-26T00:00:00",
          "2023-09-27T00:00:00",
          "2023-09-28T00:00:00",
          "2023-09-29T00:00:00",
          "2023-09-30T00:00:00",
          "2023-10-01T00:00:00",
          "2023-10-02T00:00:00",
          "2023-10-03T00:00:00",
          "2023-10-04T00:00:00",
          "2023-10-05T00:00:00"
         ],
         "xaxis": "x",
         "y": [
          5,
          3,
          1,
          1,
          1,
          1,
          1,
          3,
          4,
          1,
          1,
          1,
          1,
          2,
          1,
          3,
          1,
          1,
          2,
          2,
          4,
          2,
          4,
          1,
          1,
          1,
          3,
          4,
          2,
          1,
          2,
          1,
          3,
          3,
          3,
          1,
          1,
          2,
          1,
          2,
          1,
          2,
          2,
          1,
          4,
          4,
          1,
          1,
          6,
          4,
          3,
          1,
          1,
          1,
          1,
          1,
          2,
          3,
          8,
          1,
          3,
          2,
          1,
          3,
          3,
          3,
          2,
          1,
          1,
          1,
          3,
          1,
          1,
          3,
          3,
          2,
          2,
          2,
          5,
          2,
          2,
          1,
          3,
          1,
          11,
          8,
          3,
          2,
          1,
          5,
          6,
          5,
          2,
          1,
          1,
          3,
          5,
          2,
          1,
          2,
          2,
          5,
          1,
          1,
          2,
          4,
          7,
          10,
          2,
          1,
          3,
          7,
          2,
          2,
          2,
          2,
          2,
          1,
          1,
          5,
          2,
          1,
          1,
          5,
          7,
          3,
          1,
          8,
          2,
          1,
          1,
          4,
          2,
          1,
          1,
          2,
          2,
          2,
          1,
          1,
          1,
          5,
          3,
          2,
          2,
          3,
          2,
          1,
          6,
          1,
          3,
          1,
          2,
          3,
          2,
          1,
          2,
          1,
          2,
          3,
          1,
          3,
          4,
          1,
          1,
          1,
          3,
          2,
          1,
          2,
          1,
          1,
          2,
          1,
          5,
          5,
          1,
          1,
          1,
          1,
          3,
          1,
          1,
          2,
          5,
          6,
          1,
          1,
          2,
          1,
          5,
          1,
          1,
          1,
          1,
          1,
          1,
          2,
          1,
          1,
          1,
          1,
          1,
          3,
          3,
          5,
          2,
          5,
          4,
          1,
          2,
          2,
          2,
          4,
          4,
          3,
          5,
          3,
          4,
          2,
          4,
          1,
          2,
          5,
          3,
          1,
          1,
          1,
          2,
          5,
          2,
          4,
          2,
          1,
          2,
          2,
          1,
          1,
          1,
          1,
          2,
          1,
          2,
          1,
          2,
          4,
          1,
          2,
          1,
          2,
          1,
          4,
          3,
          2,
          2,
          4,
          2,
          4,
          2,
          1,
          2,
          6,
          11,
          6,
          6
         ],
         "yaxis": "y"
        },
        {
         "hovertemplate": "page_title=Missão, Visão e Valores<br>date_visited=%{x}<br>unique_views=%{y}<extra></extra>",
         "legendgroup": "Missão, Visão e Valores",
         "line": {
          "color": "#EF553B",
          "dash": "solid"
         },
         "marker": {
          "symbol": "circle"
         },
         "mode": "lines",
         "name": "Missão, Visão e Valores",
         "showlegend": true,
         "type": "scattergl",
         "x": [
          "2022-08-03T00:00:00",
          "2022-08-17T00:00:00",
          "2022-08-22T00:00:00",
          "2022-08-23T00:00:00",
          "2022-08-27T00:00:00",
          "2022-12-06T00:00:00",
          "2022-12-14T00:00:00",
          "2023-01-05T00:00:00",
          "2023-01-17T00:00:00",
          "2023-02-01T00:00:00",
          "2023-02-26T00:00:00",
          "2023-03-06T00:00:00",
          "2023-03-13T00:00:00",
          "2023-03-22T00:00:00",
          "2023-03-28T00:00:00",
          "2023-04-07T00:00:00",
          "2023-05-16T00:00:00",
          "2023-05-29T00:00:00",
          "2023-06-26T00:00:00",
          "2023-07-10T00:00:00",
          "2023-07-11T00:00:00",
          "2023-07-27T00:00:00",
          "2023-08-07T00:00:00",
          "2023-08-22T00:00:00",
          "2023-09-23T00:00:00",
          "2023-09-25T00:00:00",
          "2023-10-04T00:00:00"
         ],
         "xaxis": "x",
         "y": [
          1,
          1,
          1,
          1,
          1,
          2,
          1,
          1,
          1,
          1,
          1,
          1,
          1,
          1,
          1,
          1,
          1,
          1,
          1,
          1,
          1,
          1,
          1,
          1,
          1,
          1,
          1
         ],
         "yaxis": "y"
        },
        {
         "hovertemplate": "page_title=OKRs<br>date_visited=%{x}<br>unique_views=%{y}<extra></extra>",
         "legendgroup": "OKRs",
         "line": {
          "color": "#00cc96",
          "dash": "solid"
         },
         "marker": {
          "symbol": "circle"
         },
         "mode": "lines",
         "name": "OKRs",
         "showlegend": true,
         "type": "scattergl",
         "x": [
          "2022-08-03T00:00:00",
          "2022-08-29T00:00:00",
          "2022-09-08T00:00:00",
          "2022-10-17T00:00:00",
          "2022-10-23T00:00:00",
          "2022-12-06T00:00:00",
          "2022-12-13T00:00:00",
          "2022-12-21T00:00:00",
          "2023-01-09T00:00:00",
          "2023-01-17T00:00:00",
          "2023-02-15T00:00:00",
          "2023-03-05T00:00:00",
          "2023-03-06T00:00:00",
          "2023-03-10T00:00:00",
          "2023-03-29T00:00:00",
          "2023-04-07T00:00:00",
          "2023-04-08T00:00:00",
          "2023-04-17T00:00:00",
          "2023-04-25T00:00:00",
          "2023-05-02T00:00:00",
          "2023-05-04T00:00:00",
          "2023-05-08T00:00:00",
          "2023-07-11T00:00:00",
          "2023-07-25T00:00:00",
          "2023-08-08T00:00:00",
          "2023-08-29T00:00:00",
          "2023-09-21T00:00:00",
          "2023-09-23T00:00:00",
          "2023-10-02T00:00:00"
         ],
         "xaxis": "x",
         "y": [
          1,
          1,
          1,
          1,
          1,
          1,
          1,
          1,
          1,
          1,
          1,
          1,
          2,
          1,
          1,
          1,
          1,
          1,
          1,
          1,
          1,
          2,
          1,
          1,
          1,
          1,
          1,
          1,
          1
         ],
         "yaxis": "y"
        },
        {
         "hovertemplate": "page_title=Alterações do site<br>date_visited=%{x}<br>unique_views=%{y}<extra></extra>",
         "legendgroup": "Alterações do site",
         "line": {
          "color": "#ab63fa",
          "dash": "solid"
         },
         "marker": {
          "symbol": "circle"
         },
         "mode": "lines",
         "name": "Alterações do site",
         "showlegend": true,
         "type": "scattergl",
         "x": [
          "2022-08-03T00:00:00",
          "2022-08-04T00:00:00",
          "2022-08-05T00:00:00",
          "2022-09-07T00:00:00",
          "2022-09-26T00:00:00",
          "2022-11-03T00:00:00",
          "2023-01-10T00:00:00",
          "2023-01-12T00:00:00",
          "2023-04-07T00:00:00",
          "2023-05-08T00:00:00"
         ],
         "xaxis": "x",
         "y": [
          4,
          1,
          1,
          1,
          1,
          2,
          1,
          1,
          1,
          1
         ],
         "yaxis": "y"
        },
        {
         "hovertemplate": "page_title=Planejamento Estratégico (PEIR)<br>date_visited=%{x}<br>unique_views=%{y}<extra></extra>",
         "legendgroup": "Planejamento Estratégico (PEIR)",
         "line": {
          "color": "#FFA15A",
          "dash": "solid"
         },
         "marker": {
          "symbol": "circle"
         },
         "mode": "lines",
         "name": "Planejamento Estratégico (PEIR)",
         "showlegend": true,
         "type": "scattergl",
         "x": [
          "2022-08-05T00:00:00",
          "2022-08-29T00:00:00",
          "2022-12-12T00:00:00",
          "2023-03-06T00:00:00",
          "2023-03-10T00:00:00",
          "2023-03-14T00:00:00",
          "2023-04-07T00:00:00",
          "2023-04-08T00:00:00",
          "2023-04-25T00:00:00",
          "2023-05-02T00:00:00",
          "2023-05-08T00:00:00",
          "2023-07-17T00:00:00",
          "2023-07-18T00:00:00",
          "2023-07-24T00:00:00",
          "2023-07-31T00:00:00",
          "2023-08-01T00:00:00",
          "2023-08-08T00:00:00",
          "2023-09-24T00:00:00",
          "2023-10-02T00:00:00"
         ],
         "xaxis": "x",
         "y": [
          1,
          1,
          1,
          1,
          2,
          1,
          1,
          1,
          1,
          1,
          1,
          1,
          1,
          1,
          1,
          1,
          1,
          1,
          1
         ],
         "yaxis": "y"
        },
        {
         "hovertemplate": "page_title=Sou de outra área, o que preciso saber?<br>date_visited=%{x}<br>unique_views=%{y}<extra></extra>",
         "legendgroup": "Sou de outra área, o que preciso saber?",
         "line": {
          "color": "#19d3f3",
          "dash": "solid"
         },
         "marker": {
          "symbol": "circle"
         },
         "mode": "lines",
         "name": "Sou de outra área, o que preciso saber?",
         "showlegend": true,
         "type": "scattergl",
         "x": [
          "2022-08-05T00:00:00",
          "2022-08-17T00:00:00",
          "2022-09-07T00:00:00",
          "2022-09-26T00:00:00",
          "2022-11-03T00:00:00",
          "2022-11-20T00:00:00",
          "2023-01-10T00:00:00",
          "2023-01-12T00:00:00",
          "2023-01-25T00:00:00",
          "2023-01-30T00:00:00",
          "2023-04-07T00:00:00",
          "2023-05-08T00:00:00",
          "2023-05-13T00:00:00",
          "2023-09-28T00:00:00",
          "2023-10-03T00:00:00"
         ],
         "xaxis": "x",
         "y": [
          1,
          2,
          1,
          1,
          1,
          1,
          1,
          1,
          1,
          1,
          1,
          2,
          1,
          2,
          3
         ],
         "yaxis": "y"
        },
        {
         "hovertemplate": "page_title=Comunicação<br>date_visited=%{x}<br>unique_views=%{y}<extra></extra>",
         "legendgroup": "Comunicação",
         "line": {
          "color": "#FF6692",
          "dash": "solid"
         },
         "marker": {
          "symbol": "circle"
         },
         "mode": "lines",
         "name": "Comunicação",
         "showlegend": true,
         "type": "scattergl",
         "x": [
          "2022-08-05T00:00:00",
          "2022-08-15T00:00:00",
          "2022-08-16T00:00:00",
          "2022-08-17T00:00:00",
          "2022-08-24T00:00:00",
          "2022-08-25T00:00:00",
          "2022-08-27T00:00:00",
          "2022-08-31T00:00:00",
          "2022-09-07T00:00:00",
          "2022-09-10T00:00:00",
          "2022-09-15T00:00:00",
          "2022-09-26T00:00:00",
          "2022-10-13T00:00:00",
          "2022-10-20T00:00:00",
          "2022-10-30T00:00:00",
          "2022-11-01T00:00:00",
          "2022-11-03T00:00:00",
          "2022-11-05T00:00:00",
          "2022-11-20T00:00:00",
          "2022-11-21T00:00:00",
          "2022-11-23T00:00:00",
          "2022-12-05T00:00:00",
          "2022-12-12T00:00:00",
          "2022-12-13T00:00:00",
          "2022-12-20T00:00:00",
          "2022-12-21T00:00:00",
          "2023-01-08T00:00:00",
          "2023-01-09T00:00:00",
          "2023-01-10T00:00:00",
          "2023-01-12T00:00:00",
          "2023-01-16T00:00:00",
          "2023-01-17T00:00:00",
          "2023-01-19T00:00:00",
          "2023-01-20T00:00:00",
          "2023-01-24T00:00:00",
          "2023-01-25T00:00:00",
          "2023-01-26T00:00:00",
          "2023-01-30T00:00:00",
          "2023-02-01T00:00:00",
          "2023-02-02T00:00:00",
          "2023-02-06T00:00:00",
          "2023-02-07T00:00:00",
          "2023-02-08T00:00:00",
          "2023-02-15T00:00:00",
          "2023-02-16T00:00:00",
          "2023-02-17T00:00:00",
          "2023-02-22T00:00:00",
          "2023-02-27T00:00:00",
          "2023-03-02T00:00:00",
          "2023-03-06T00:00:00",
          "2023-03-07T00:00:00",
          "2023-03-08T00:00:00",
          "2023-03-14T00:00:00",
          "2023-03-20T00:00:00",
          "2023-03-27T00:00:00",
          "2023-03-30T00:00:00",
          "2023-04-03T00:00:00",
          "2023-04-07T00:00:00",
          "2023-04-13T00:00:00",
          "2023-04-17T00:00:00",
          "2023-04-18T00:00:00",
          "2023-05-08T00:00:00",
          "2023-05-09T00:00:00",
          "2023-05-13T00:00:00",
          "2023-05-15T00:00:00",
          "2023-05-16T00:00:00",
          "2023-05-17T00:00:00",
          "2023-05-21T00:00:00",
          "2023-05-30T00:00:00",
          "2023-06-01T00:00:00",
          "2023-06-14T00:00:00",
          "2023-07-03T00:00:00",
          "2023-07-18T00:00:00",
          "2023-07-31T00:00:00",
          "2023-08-01T00:00:00",
          "2023-08-08T00:00:00",
          "2023-08-15T00:00:00",
          "2023-08-21T00:00:00",
          "2023-08-29T00:00:00",
          "2023-09-13T00:00:00",
          "2023-09-18T00:00:00",
          "2023-09-23T00:00:00",
          "2023-09-27T00:00:00",
          "2023-09-28T00:00:00",
          "2023-09-30T00:00:00",
          "2023-10-02T00:00:00",
          "2023-10-03T00:00:00"
         ],
         "xaxis": "x",
         "y": [
          1,
          1,
          1,
          1,
          1,
          1,
          1,
          1,
          1,
          1,
          1,
          2,
          1,
          1,
          1,
          1,
          1,
          1,
          1,
          1,
          1,
          1,
          1,
          1,
          1,
          2,
          1,
          1,
          1,
          2,
          1,
          2,
          1,
          1,
          1,
          2,
          1,
          2,
          2,
          2,
          1,
          1,
          1,
          1,
          1,
          1,
          1,
          3,
          1,
          2,
          1,
          2,
          1,
          1,
          1,
          1,
          1,
          1,
          1,
          1,
          1,
          2,
          1,
          1,
          1,
          2,
          2,
          1,
          2,
          1,
          2,
          1,
          1,
          1,
          1,
          1,
          1,
          1,
          1,
          1,
          1,
          2,
          1,
          2,
          1,
          1,
          3
         ],
         "yaxis": "y"
        },
        {
         "hovertemplate": "page_title=Rituais<br>date_visited=%{x}<br>unique_views=%{y}<extra></extra>",
         "legendgroup": "Rituais",
         "line": {
          "color": "#B6E880",
          "dash": "solid"
         },
         "marker": {
          "symbol": "circle"
         },
         "mode": "lines",
         "name": "Rituais",
         "showlegend": true,
         "type": "scattergl",
         "x": [
          "2022-08-05T00:00:00",
          "2022-09-08T00:00:00",
          "2022-09-28T00:00:00",
          "2022-10-23T00:00:00",
          "2022-11-30T00:00:00",
          "2022-12-06T00:00:00",
          "2022-12-12T00:00:00",
          "2022-12-20T00:00:00",
          "2023-01-17T00:00:00",
          "2023-01-22T00:00:00",
          "2023-02-11T00:00:00",
          "2023-02-26T00:00:00",
          "2023-03-06T00:00:00",
          "2023-03-10T00:00:00",
          "2023-03-13T00:00:00",
          "2023-04-07T00:00:00",
          "2023-04-08T00:00:00",
          "2023-04-11T00:00:00",
          "2023-04-17T00:00:00",
          "2023-04-18T00:00:00",
          "2023-04-25T00:00:00",
          "2023-05-08T00:00:00",
          "2023-05-13T00:00:00",
          "2023-05-16T00:00:00",
          "2023-05-24T00:00:00",
          "2023-05-30T00:00:00",
          "2023-06-06T00:00:00",
          "2023-06-14T00:00:00",
          "2023-06-20T00:00:00",
          "2023-07-17T00:00:00",
          "2023-07-18T00:00:00",
          "2023-07-24T00:00:00",
          "2023-07-31T00:00:00",
          "2023-08-01T00:00:00",
          "2023-08-02T00:00:00",
          "2023-08-03T00:00:00",
          "2023-08-08T00:00:00",
          "2023-08-15T00:00:00",
          "2023-08-22T00:00:00",
          "2023-09-24T00:00:00",
          "2023-09-28T00:00:00",
          "2023-10-02T00:00:00",
          "2023-10-05T00:00:00"
         ],
         "xaxis": "x",
         "y": [
          1,
          1,
          1,
          1,
          1,
          1,
          1,
          1,
          1,
          1,
          1,
          1,
          1,
          2,
          1,
          1,
          1,
          1,
          1,
          1,
          1,
          1,
          1,
          1,
          1,
          1,
          1,
          1,
          1,
          2,
          1,
          2,
          1,
          1,
          1,
          2,
          1,
          1,
          1,
          1,
          1,
          1,
          1
         ],
         "yaxis": "y"
        },
        {
         "hovertemplate": "page_title=Membros<br>date_visited=%{x}<br>unique_views=%{y}<extra></extra>",
         "legendgroup": "Membros",
         "line": {
          "color": "#FF97FF",
          "dash": "solid"
         },
         "marker": {
          "symbol": "circle"
         },
         "mode": "lines",
         "name": "Membros",
         "showlegend": true,
         "type": "scattergl",
         "x": [
          "2022-08-08T00:00:00",
          "2022-08-13T00:00:00",
          "2022-08-22T00:00:00",
          "2022-08-26T00:00:00",
          "2022-08-27T00:00:00",
          "2022-09-14T00:00:00",
          "2022-09-26T00:00:00",
          "2022-10-02T00:00:00",
          "2022-10-03T00:00:00",
          "2022-10-26T00:00:00",
          "2022-11-10T00:00:00",
          "2022-11-22T00:00:00",
          "2022-11-25T00:00:00",
          "2022-12-06T00:00:00",
          "2022-12-12T00:00:00",
          "2022-12-15T00:00:00",
          "2022-12-21T00:00:00",
          "2023-01-10T00:00:00",
          "2023-01-11T00:00:00",
          "2023-01-12T00:00:00",
          "2023-01-14T00:00:00",
          "2023-01-17T00:00:00",
          "2023-01-19T00:00:00",
          "2023-01-20T00:00:00",
          "2023-01-25T00:00:00",
          "2023-01-31T00:00:00",
          "2023-02-06T00:00:00",
          "2023-02-07T00:00:00",
          "2023-02-09T00:00:00",
          "2023-02-10T00:00:00",
          "2023-02-22T00:00:00",
          "2023-02-26T00:00:00",
          "2023-03-05T00:00:00",
          "2023-03-06T00:00:00",
          "2023-03-15T00:00:00",
          "2023-03-18T00:00:00",
          "2023-03-20T00:00:00",
          "2023-03-26T00:00:00",
          "2023-03-28T00:00:00",
          "2023-03-30T00:00:00",
          "2023-03-31T00:00:00",
          "2023-04-07T00:00:00",
          "2023-04-30T00:00:00",
          "2023-05-20T00:00:00",
          "2023-05-29T00:00:00",
          "2023-06-23T00:00:00",
          "2023-07-11T00:00:00",
          "2023-07-17T00:00:00",
          "2023-07-20T00:00:00",
          "2023-08-08T00:00:00",
          "2023-08-09T00:00:00",
          "2023-08-14T00:00:00",
          "2023-08-16T00:00:00",
          "2023-08-21T00:00:00",
          "2023-08-22T00:00:00",
          "2023-08-25T00:00:00",
          "2023-08-29T00:00:00",
          "2023-09-05T00:00:00",
          "2023-09-23T00:00:00",
          "2023-09-25T00:00:00",
          "2023-09-26T00:00:00",
          "2023-09-28T00:00:00",
          "2023-10-02T00:00:00"
         ],
         "xaxis": "x",
         "y": [
          1,
          1,
          1,
          1,
          1,
          1,
          1,
          1,
          1,
          1,
          1,
          1,
          1,
          2,
          1,
          1,
          1,
          1,
          2,
          1,
          1,
          1,
          1,
          1,
          1,
          1,
          1,
          1,
          1,
          1,
          1,
          1,
          1,
          2,
          1,
          1,
          1,
          1,
          1,
          1,
          1,
          1,
          1,
          1,
          1,
          1,
          1,
          1,
          1,
          1,
          1,
          1,
          1,
          1,
          2,
          1,
          1,
          1,
          1,
          1,
          1,
          1,
          2
         ],
         "yaxis": "y"
        },
        {
         "hovertemplate": "page_title=Ferramentas<br>date_visited=%{x}<br>unique_views=%{y}<extra></extra>",
         "legendgroup": "Ferramentas",
         "line": {
          "color": "#FECB52",
          "dash": "solid"
         },
         "marker": {
          "symbol": "circle"
         },
         "mode": "lines",
         "name": "Ferramentas",
         "showlegend": true,
         "type": "scattergl",
         "x": [
          "2022-08-09T00:00:00",
          "2022-09-28T00:00:00",
          "2022-11-11T00:00:00",
          "2022-12-06T00:00:00",
          "2022-12-15T00:00:00",
          "2022-12-20T00:00:00",
          "2023-01-16T00:00:00",
          "2023-01-19T00:00:00",
          "2023-01-22T00:00:00",
          "2023-01-25T00:00:00",
          "2023-02-26T00:00:00",
          "2023-03-06T00:00:00",
          "2023-04-07T00:00:00",
          "2023-05-11T00:00:00",
          "2023-05-21T00:00:00",
          "2023-05-26T00:00:00",
          "2023-07-12T00:00:00",
          "2023-08-03T00:00:00",
          "2023-08-14T00:00:00",
          "2023-08-22T00:00:00",
          "2023-09-13T00:00:00"
         ],
         "xaxis": "x",
         "y": [
          1,
          1,
          1,
          1,
          1,
          1,
          1,
          1,
          1,
          1,
          1,
          1,
          1,
          2,
          1,
          1,
          1,
          1,
          1,
          1,
          1
         ],
         "yaxis": "y"
        },
        {
         "hovertemplate": "page_title=Marketing<br>date_visited=%{x}<br>unique_views=%{y}<extra></extra>",
         "legendgroup": "Marketing",
         "line": {
          "color": "#636efa",
          "dash": "solid"
         },
         "marker": {
          "symbol": "circle"
         },
         "mode": "lines",
         "name": "Marketing",
         "showlegend": true,
         "type": "scattergl",
         "x": [
          "2022-08-16T00:00:00",
          "2022-08-24T00:00:00",
          "2022-08-25T00:00:00",
          "2022-09-07T00:00:00",
          "2022-09-09T00:00:00",
          "2022-09-13T00:00:00",
          "2022-09-26T00:00:00",
          "2022-10-02T00:00:00",
          "2022-10-15T00:00:00",
          "2022-11-01T00:00:00",
          "2022-11-02T00:00:00",
          "2022-11-03T00:00:00",
          "2022-11-05T00:00:00",
          "2022-11-21T00:00:00",
          "2022-12-12T00:00:00",
          "2022-12-13T00:00:00",
          "2022-12-21T00:00:00",
          "2023-01-11T00:00:00",
          "2023-01-20T00:00:00",
          "2023-02-01T00:00:00",
          "2023-02-04T00:00:00",
          "2023-02-17T00:00:00",
          "2023-03-01T00:00:00",
          "2023-03-30T00:00:00",
          "2023-04-07T00:00:00",
          "2023-05-02T00:00:00",
          "2023-05-09T00:00:00",
          "2023-05-20T00:00:00",
          "2023-05-21T00:00:00",
          "2023-05-30T00:00:00",
          "2023-06-14T00:00:00",
          "2023-06-23T00:00:00",
          "2023-07-12T00:00:00",
          "2023-07-18T00:00:00",
          "2023-07-25T00:00:00",
          "2023-07-27T00:00:00",
          "2023-07-31T00:00:00",
          "2023-08-01T00:00:00",
          "2023-08-04T00:00:00",
          "2023-08-15T00:00:00",
          "2023-08-22T00:00:00",
          "2023-08-24T00:00:00",
          "2023-08-25T00:00:00",
          "2023-08-29T00:00:00",
          "2023-08-31T00:00:00",
          "2023-09-14T00:00:00",
          "2023-09-19T00:00:00",
          "2023-09-21T00:00:00",
          "2023-09-25T00:00:00",
          "2023-10-01T00:00:00",
          "2023-10-02T00:00:00",
          "2023-10-04T00:00:00",
          "2023-10-05T00:00:00"
         ],
         "xaxis": "x",
         "y": [
          1,
          1,
          1,
          1,
          1,
          1,
          1,
          1,
          1,
          1,
          1,
          3,
          1,
          1,
          1,
          1,
          1,
          1,
          1,
          1,
          1,
          1,
          2,
          1,
          1,
          1,
          1,
          1,
          1,
          1,
          1,
          1,
          1,
          1,
          1,
          1,
          1,
          1,
          1,
          2,
          1,
          1,
          1,
          1,
          1,
          1,
          1,
          1,
          1,
          1,
          2,
          1,
          1
         ],
         "yaxis": "y"
        },
        {
         "hovertemplate": "page_title=Redes Sociais<br>date_visited=%{x}<br>unique_views=%{y}<extra></extra>",
         "legendgroup": "Redes Sociais",
         "line": {
          "color": "#EF553B",
          "dash": "solid"
         },
         "marker": {
          "symbol": "circle"
         },
         "mode": "lines",
         "name": "Redes Sociais",
         "showlegend": true,
         "type": "scattergl",
         "x": [
          "2022-08-17T00:00:00",
          "2022-08-24T00:00:00",
          "2022-08-27T00:00:00",
          "2022-09-01T00:00:00",
          "2022-09-10T00:00:00",
          "2022-09-26T00:00:00",
          "2022-11-05T00:00:00",
          "2022-11-11T00:00:00",
          "2022-12-20T00:00:00",
          "2022-12-21T00:00:00",
          "2023-01-19T00:00:00",
          "2023-01-24T00:00:00",
          "2023-01-30T00:00:00",
          "2023-02-01T00:00:00",
          "2023-02-02T00:00:00",
          "2023-02-08T00:00:00",
          "2023-02-15T00:00:00",
          "2023-02-16T00:00:00",
          "2023-03-06T00:00:00",
          "2023-03-14T00:00:00",
          "2023-03-20T00:00:00",
          "2023-03-27T00:00:00",
          "2023-04-07T00:00:00",
          "2023-05-08T00:00:00",
          "2023-05-13T00:00:00",
          "2023-05-15T00:00:00",
          "2023-05-23T00:00:00",
          "2023-05-30T00:00:00",
          "2023-07-18T00:00:00",
          "2023-07-31T00:00:00",
          "2023-08-08T00:00:00",
          "2023-08-21T00:00:00",
          "2023-09-18T00:00:00",
          "2023-09-28T00:00:00"
         ],
         "xaxis": "x",
         "y": [
          1,
          1,
          1,
          1,
          1,
          1,
          1,
          1,
          1,
          1,
          1,
          1,
          1,
          2,
          2,
          1,
          1,
          1,
          1,
          1,
          1,
          1,
          1,
          2,
          1,
          1,
          1,
          2,
          1,
          1,
          1,
          1,
          1,
          2
         ],
         "yaxis": "y"
        },
        {
         "hovertemplate": "page_title=Dashboards<br>date_visited=%{x}<br>unique_views=%{y}<extra></extra>",
         "legendgroup": "Dashboards",
         "line": {
          "color": "#00cc96",
          "dash": "solid"
         },
         "marker": {
          "symbol": "circle"
         },
         "mode": "lines",
         "name": "Dashboards",
         "showlegend": true,
         "type": "scattergl",
         "x": [
          "2022-08-19T00:00:00",
          "2022-08-29T00:00:00",
          "2022-10-02T00:00:00",
          "2022-10-10T00:00:00",
          "2022-10-17T00:00:00",
          "2022-11-03T00:00:00",
          "2022-11-30T00:00:00",
          "2022-12-06T00:00:00",
          "2022-12-13T00:00:00",
          "2022-12-14T00:00:00",
          "2022-12-18T00:00:00",
          "2022-12-20T00:00:00",
          "2022-12-21T00:00:00",
          "2022-12-30T00:00:00",
          "2023-01-09T00:00:00",
          "2023-01-17T00:00:00",
          "2023-01-22T00:00:00",
          "2023-01-24T00:00:00",
          "2023-02-08T00:00:00",
          "2023-02-09T00:00:00",
          "2023-02-10T00:00:00",
          "2023-02-12T00:00:00",
          "2023-02-26T00:00:00",
          "2023-03-06T00:00:00",
          "2023-03-07T00:00:00",
          "2023-03-10T00:00:00",
          "2023-03-11T00:00:00",
          "2023-03-12T00:00:00",
          "2023-03-13T00:00:00",
          "2023-03-21T00:00:00",
          "2023-03-26T00:00:00",
          "2023-04-04T00:00:00",
          "2023-04-07T00:00:00",
          "2023-04-17T00:00:00",
          "2023-04-18T00:00:00",
          "2023-05-16T00:00:00",
          "2023-05-26T00:00:00",
          "2023-05-30T00:00:00",
          "2023-06-14T00:00:00",
          "2023-07-10T00:00:00",
          "2023-08-03T00:00:00",
          "2023-08-22T00:00:00",
          "2023-09-21T00:00:00",
          "2023-10-01T00:00:00",
          "2023-10-05T00:00:00"
         ],
         "xaxis": "x",
         "y": [
          1,
          1,
          1,
          1,
          1,
          1,
          1,
          1,
          2,
          1,
          1,
          1,
          1,
          1,
          1,
          1,
          1,
          1,
          1,
          1,
          1,
          1,
          2,
          1,
          1,
          1,
          1,
          1,
          1,
          1,
          1,
          1,
          1,
          1,
          1,
          1,
          1,
          1,
          1,
          1,
          1,
          1,
          1,
          1,
          1
         ],
         "yaxis": "y"
        },
        {
         "hovertemplate": "page_title=Quem somos<br>date_visited=%{x}<br>unique_views=%{y}<extra></extra>",
         "legendgroup": "Quem somos",
         "line": {
          "color": "#ab63fa",
          "dash": "solid"
         },
         "marker": {
          "symbol": "circle"
         },
         "mode": "lines",
         "name": "Quem somos",
         "showlegend": true,
         "type": "scattergl",
         "x": [
          "2022-08-27T00:00:00",
          "2022-08-29T00:00:00",
          "2022-09-29T00:00:00",
          "2022-10-16T00:00:00",
          "2022-10-23T00:00:00",
          "2022-11-03T00:00:00",
          "2022-11-25T00:00:00",
          "2022-11-30T00:00:00",
          "2022-12-06T00:00:00",
          "2022-12-12T00:00:00",
          "2023-01-10T00:00:00",
          "2023-02-10T00:00:00",
          "2023-02-22T00:00:00",
          "2023-02-25T00:00:00",
          "2023-02-26T00:00:00",
          "2023-03-06T00:00:00",
          "2023-03-15T00:00:00",
          "2023-03-19T00:00:00",
          "2023-04-07T00:00:00",
          "2023-05-29T00:00:00",
          "2023-07-27T00:00:00",
          "2023-08-09T00:00:00",
          "2023-08-22T00:00:00",
          "2023-09-04T00:00:00",
          "2023-10-04T00:00:00"
         ],
         "xaxis": "x",
         "y": [
          1,
          1,
          1,
          1,
          1,
          1,
          1,
          1,
          1,
          1,
          1,
          1,
          1,
          1,
          2,
          1,
          1,
          1,
          1,
          1,
          1,
          1,
          1,
          1,
          1
         ],
         "yaxis": "y"
        },
        {
         "hovertemplate": "page_title=Gestão<br>date_visited=%{x}<br>unique_views=%{y}<extra></extra>",
         "legendgroup": "Gestão",
         "line": {
          "color": "#FFA15A",
          "dash": "solid"
         },
         "marker": {
          "symbol": "circle"
         },
         "mode": "lines",
         "name": "Gestão",
         "showlegend": true,
         "type": "scattergl",
         "x": [
          "2022-08-29T00:00:00",
          "2022-09-28T00:00:00",
          "2022-10-03T00:00:00",
          "2022-10-10T00:00:00",
          "2022-10-14T00:00:00",
          "2022-10-18T00:00:00",
          "2022-10-24T00:00:00",
          "2022-10-26T00:00:00",
          "2022-11-02T00:00:00",
          "2022-11-09T00:00:00",
          "2022-11-24T00:00:00",
          "2022-11-30T00:00:00",
          "2022-12-12T00:00:00",
          "2022-12-13T00:00:00",
          "2022-12-20T00:00:00",
          "2022-12-21T00:00:00",
          "2022-12-28T00:00:00",
          "2023-01-06T00:00:00",
          "2023-01-09T00:00:00",
          "2023-01-10T00:00:00",
          "2023-01-11T00:00:00",
          "2023-01-17T00:00:00",
          "2023-01-22T00:00:00",
          "2023-01-31T00:00:00",
          "2023-02-07T00:00:00",
          "2023-02-08T00:00:00",
          "2023-02-09T00:00:00",
          "2023-02-10T00:00:00",
          "2023-02-17T00:00:00",
          "2023-03-01T00:00:00",
          "2023-03-06T00:00:00",
          "2023-03-07T00:00:00",
          "2023-03-10T00:00:00",
          "2023-03-12T00:00:00",
          "2023-03-26T00:00:00",
          "2023-03-30T00:00:00",
          "2023-04-07T00:00:00",
          "2023-04-08T00:00:00",
          "2023-04-17T00:00:00",
          "2023-04-18T00:00:00",
          "2023-04-25T00:00:00",
          "2023-05-08T00:00:00",
          "2023-05-13T00:00:00",
          "2023-05-15T00:00:00",
          "2023-05-16T00:00:00",
          "2023-05-24T00:00:00",
          "2023-05-30T00:00:00",
          "2023-06-05T00:00:00",
          "2023-06-06T00:00:00",
          "2023-06-15T00:00:00",
          "2023-06-23T00:00:00",
          "2023-06-26T00:00:00",
          "2023-07-04T00:00:00",
          "2023-07-14T00:00:00",
          "2023-07-17T00:00:00",
          "2023-07-18T00:00:00",
          "2023-07-24T00:00:00",
          "2023-07-25T00:00:00",
          "2023-07-27T00:00:00",
          "2023-07-28T00:00:00",
          "2023-07-31T00:00:00",
          "2023-08-01T00:00:00",
          "2023-08-03T00:00:00",
          "2023-08-04T00:00:00",
          "2023-08-08T00:00:00",
          "2023-08-09T00:00:00",
          "2023-08-14T00:00:00",
          "2023-08-15T00:00:00",
          "2023-08-16T00:00:00",
          "2023-08-21T00:00:00",
          "2023-08-22T00:00:00",
          "2023-08-29T00:00:00",
          "2023-08-31T00:00:00",
          "2023-09-05T00:00:00",
          "2023-09-12T00:00:00",
          "2023-09-13T00:00:00",
          "2023-09-24T00:00:00",
          "2023-09-26T00:00:00",
          "2023-09-27T00:00:00",
          "2023-09-29T00:00:00",
          "2023-10-02T00:00:00",
          "2023-10-03T00:00:00",
          "2023-10-04T00:00:00",
          "2023-10-05T00:00:00"
         ],
         "xaxis": "x",
         "y": [
          1,
          1,
          1,
          1,
          2,
          1,
          1,
          1,
          1,
          1,
          1,
          1,
          1,
          1,
          1,
          1,
          2,
          1,
          1,
          2,
          1,
          1,
          1,
          1,
          1,
          1,
          1,
          1,
          1,
          1,
          1,
          1,
          1,
          1,
          1,
          1,
          1,
          1,
          1,
          2,
          2,
          1,
          1,
          1,
          2,
          2,
          2,
          1,
          1,
          1,
          3,
          2,
          1,
          1,
          1,
          1,
          2,
          2,
          2,
          1,
          2,
          3,
          2,
          1,
          2,
          2,
          1,
          4,
          1,
          1,
          3,
          3,
          1,
          3,
          2,
          1,
          1,
          1,
          3,
          1,
          4,
          1,
          4,
          3
         ],
         "yaxis": "y"
        },
        {
         "hovertemplate": "page_title=Comunicação Institucional<br>date_visited=%{x}<br>unique_views=%{y}<extra></extra>",
         "legendgroup": "Comunicação Institucional",
         "line": {
          "color": "#19d3f3",
          "dash": "solid"
         },
         "marker": {
          "symbol": "circle"
         },
         "mode": "lines",
         "name": "Comunicação Institucional",
         "showlegend": true,
         "type": "scattergl",
         "x": [
          "2022-09-07T00:00:00",
          "2022-09-26T00:00:00",
          "2022-10-20T00:00:00",
          "2022-11-03T00:00:00",
          "2022-11-05T00:00:00",
          "2022-11-20T00:00:00",
          "2023-01-09T00:00:00",
          "2023-01-12T00:00:00",
          "2023-01-17T00:00:00",
          "2023-01-25T00:00:00",
          "2023-01-26T00:00:00",
          "2023-04-03T00:00:00",
          "2023-04-07T00:00:00",
          "2023-05-13T00:00:00",
          "2023-05-16T00:00:00",
          "2023-05-30T00:00:00",
          "2023-06-01T00:00:00",
          "2023-07-03T00:00:00",
          "2023-09-28T00:00:00"
         ],
         "xaxis": "x",
         "y": [
          1,
          1,
          1,
          1,
          1,
          1,
          1,
          1,
          1,
          1,
          1,
          1,
          1,
          1,
          1,
          1,
          1,
          1,
          1
         ],
         "yaxis": "y"
        },
        {
         "hovertemplate": "page_title=Princípios de Trabalho<br>date_visited=%{x}<br>unique_views=%{y}<extra></extra>",
         "legendgroup": "Princípios de Trabalho",
         "line": {
          "color": "#FF6692",
          "dash": "solid"
         },
         "marker": {
          "symbol": "circle"
         },
         "mode": "lines",
         "name": "Princípios de Trabalho",
         "showlegend": true,
         "type": "scattergl",
         "x": [
          "2022-10-18T00:00:00",
          "2022-10-23T00:00:00",
          "2022-12-06T00:00:00",
          "2022-12-13T00:00:00",
          "2023-01-16T00:00:00",
          "2023-02-10T00:00:00",
          "2023-02-11T00:00:00",
          "2023-02-26T00:00:00",
          "2023-03-06T00:00:00",
          "2023-03-13T00:00:00",
          "2023-03-14T00:00:00",
          "2023-03-26T00:00:00",
          "2023-03-30T00:00:00",
          "2023-04-07T00:00:00",
          "2023-07-11T00:00:00",
          "2023-08-01T00:00:00",
          "2023-08-03T00:00:00",
          "2023-08-09T00:00:00",
          "2023-08-22T00:00:00",
          "2023-09-13T00:00:00",
          "2023-09-23T00:00:00",
          "2023-09-25T00:00:00"
         ],
         "xaxis": "x",
         "y": [
          1,
          1,
          2,
          1,
          1,
          1,
          1,
          1,
          1,
          1,
          1,
          1,
          1,
          1,
          1,
          1,
          1,
          1,
          1,
          1,
          1,
          1
         ],
         "yaxis": "y"
        },
        {
         "hovertemplate": "page_title=Reunião Conselho Administrativo (RCA)<br>date_visited=%{x}<br>unique_views=%{y}<extra></extra>",
         "legendgroup": "Reunião Conselho Administrativo (RCA)",
         "line": {
          "color": "#B6E880",
          "dash": "solid"
         },
         "marker": {
          "symbol": "circle"
         },
         "mode": "lines",
         "name": "Reunião Conselho Administrativo (RCA)",
         "showlegend": true,
         "type": "scattergl",
         "x": [
          "2022-10-23T00:00:00",
          "2023-02-26T00:00:00",
          "2023-04-07T00:00:00",
          "2023-04-25T00:00:00",
          "2023-10-02T00:00:00"
         ],
         "xaxis": "x",
         "y": [
          1,
          1,
          1,
          1,
          1
         ],
         "yaxis": "y"
        },
        {
         "hovertemplate": "page_title=Nossa História<br>date_visited=%{x}<br>unique_views=%{y}<extra></extra>",
         "legendgroup": "Nossa História",
         "line": {
          "color": "#FF97FF",
          "dash": "solid"
         },
         "marker": {
          "symbol": "circle"
         },
         "mode": "lines",
         "name": "Nossa História",
         "showlegend": true,
         "type": "scattergl",
         "x": [
          "2022-10-23T00:00:00",
          "2022-12-06T00:00:00",
          "2023-01-10T00:00:00",
          "2023-02-10T00:00:00",
          "2023-02-11T00:00:00",
          "2023-02-22T00:00:00",
          "2023-02-26T00:00:00",
          "2023-04-07T00:00:00",
          "2023-05-29T00:00:00",
          "2023-06-05T00:00:00",
          "2023-06-06T00:00:00",
          "2023-07-11T00:00:00",
          "2023-08-22T00:00:00",
          "2023-08-29T00:00:00",
          "2023-09-19T00:00:00",
          "2023-10-04T00:00:00"
         ],
         "xaxis": "x",
         "y": [
          1,
          1,
          1,
          1,
          1,
          1,
          1,
          1,
          1,
          1,
          1,
          1,
          1,
          1,
          1,
          1
         ],
         "yaxis": "y"
        },
        {
         "hovertemplate": "page_title=Reunião de Líderes (RL)<br>date_visited=%{x}<br>unique_views=%{y}<extra></extra>",
         "legendgroup": "Reunião de Líderes (RL)",
         "line": {
          "color": "#FECB52",
          "dash": "solid"
         },
         "marker": {
          "symbol": "circle"
         },
         "mode": "lines",
         "name": "Reunião de Líderes (RL)",
         "showlegend": true,
         "type": "scattergl",
         "x": [
          "2022-10-23T00:00:00",
          "2023-04-07T00:00:00",
          "2023-07-24T00:00:00",
          "2023-10-02T00:00:00"
         ],
         "xaxis": "x",
         "y": [
          1,
          1,
          1,
          1
         ],
         "yaxis": "y"
        },
        {
         "hovertemplate": "page_title=Reunião Geral (RG)<br>date_visited=%{x}<br>unique_views=%{y}<extra></extra>",
         "legendgroup": "Reunião Geral (RG)",
         "line": {
          "color": "#636efa",
          "dash": "solid"
         },
         "marker": {
          "symbol": "circle"
         },
         "mode": "lines",
         "name": "Reunião Geral (RG)",
         "showlegend": true,
         "type": "scattergl",
         "x": [
          "2022-10-24T00:00:00",
          "2022-10-25T00:00:00",
          "2022-10-28T00:00:00",
          "2022-11-03T00:00:00",
          "2022-11-05T00:00:00",
          "2022-11-08T00:00:00",
          "2022-11-17T00:00:00",
          "2022-11-30T00:00:00",
          "2022-12-06T00:00:00",
          "2022-12-07T00:00:00",
          "2022-12-12T00:00:00",
          "2022-12-13T00:00:00",
          "2022-12-15T00:00:00",
          "2022-12-30T00:00:00",
          "2023-01-08T00:00:00",
          "2023-01-09T00:00:00",
          "2023-01-12T00:00:00",
          "2023-01-17T00:00:00",
          "2023-01-19T00:00:00",
          "2023-01-24T00:00:00",
          "2023-01-30T00:00:00",
          "2023-01-31T00:00:00",
          "2023-02-07T00:00:00",
          "2023-02-14T00:00:00",
          "2023-03-10T00:00:00",
          "2023-04-07T00:00:00",
          "2023-04-11T00:00:00",
          "2023-04-17T00:00:00",
          "2023-04-18T00:00:00",
          "2023-04-25T00:00:00",
          "2023-04-27T00:00:00",
          "2023-05-04T00:00:00",
          "2023-05-16T00:00:00",
          "2023-05-24T00:00:00",
          "2023-06-06T00:00:00",
          "2023-06-11T00:00:00",
          "2023-06-20T00:00:00",
          "2023-06-23T00:00:00",
          "2023-07-17T00:00:00",
          "2023-07-24T00:00:00",
          "2023-08-02T00:00:00",
          "2023-08-03T00:00:00",
          "2023-08-15T00:00:00",
          "2023-08-16T00:00:00",
          "2023-08-22T00:00:00",
          "2023-09-26T00:00:00",
          "2023-10-02T00:00:00",
          "2023-10-05T00:00:00"
         ],
         "xaxis": "x",
         "y": [
          1,
          1,
          1,
          1,
          1,
          1,
          3,
          4,
          2,
          1,
          2,
          1,
          1,
          1,
          1,
          1,
          1,
          5,
          1,
          1,
          1,
          1,
          2,
          1,
          1,
          1,
          2,
          1,
          1,
          2,
          1,
          1,
          1,
          2,
          2,
          1,
          1,
          1,
          1,
          1,
          1,
          1,
          3,
          1,
          1,
          1,
          1,
          1
         ],
         "yaxis": "y"
        },
        {
         "hovertemplate": "page_title=Líderes<br>date_visited=%{x}<br>unique_views=%{y}<extra></extra>",
         "legendgroup": "Líderes",
         "line": {
          "color": "#EF553B",
          "dash": "solid"
         },
         "marker": {
          "symbol": "circle"
         },
         "mode": "lines",
         "name": "Líderes",
         "showlegend": true,
         "type": "scattergl",
         "x": [
          "2022-11-10T00:00:00",
          "2022-12-06T00:00:00",
          "2022-12-12T00:00:00",
          "2023-01-10T00:00:00",
          "2023-01-19T00:00:00",
          "2023-01-20T00:00:00",
          "2023-01-30T00:00:00",
          "2023-01-31T00:00:00",
          "2023-02-11T00:00:00",
          "2023-02-15T00:00:00",
          "2023-02-26T00:00:00",
          "2023-03-06T00:00:00",
          "2023-03-17T00:00:00",
          "2023-03-31T00:00:00",
          "2023-04-03T00:00:00",
          "2023-04-07T00:00:00",
          "2023-04-30T00:00:00",
          "2023-05-29T00:00:00",
          "2023-05-30T00:00:00",
          "2023-06-14T00:00:00",
          "2023-06-30T00:00:00",
          "2023-07-11T00:00:00",
          "2023-07-18T00:00:00",
          "2023-08-22T00:00:00",
          "2023-09-26T00:00:00",
          "2023-10-02T00:00:00"
         ],
         "xaxis": "x",
         "y": [
          1,
          1,
          1,
          1,
          1,
          1,
          1,
          1,
          1,
          1,
          1,
          1,
          1,
          1,
          1,
          1,
          1,
          1,
          1,
          1,
          1,
          1,
          1,
          1,
          1,
          1
         ],
         "yaxis": "y"
        },
        {
         "hovertemplate": "page_title=Tecnologia<br>date_visited=%{x}<br>unique_views=%{y}<extra></extra>",
         "legendgroup": "Tecnologia",
         "line": {
          "color": "#00cc96",
          "dash": "solid"
         },
         "marker": {
          "symbol": "circle"
         },
         "mode": "lines",
         "name": "Tecnologia",
         "showlegend": true,
         "type": "scattergl",
         "x": [
          "2022-12-12T00:00:00",
          "2023-01-19T00:00:00",
          "2023-02-07T00:00:00",
          "2023-02-17T00:00:00",
          "2023-03-10T00:00:00",
          "2023-03-30T00:00:00",
          "2023-04-07T00:00:00",
          "2023-04-17T00:00:00",
          "2023-06-14T00:00:00",
          "2023-07-20T00:00:00",
          "2023-07-27T00:00:00",
          "2023-08-01T00:00:00",
          "2023-08-09T00:00:00",
          "2023-08-21T00:00:00",
          "2023-08-22T00:00:00",
          "2023-08-29T00:00:00",
          "2023-09-05T00:00:00",
          "2023-09-10T00:00:00",
          "2023-09-11T00:00:00",
          "2023-09-12T00:00:00",
          "2023-10-02T00:00:00",
          "2023-10-04T00:00:00"
         ],
         "xaxis": "x",
         "y": [
          1,
          1,
          1,
          1,
          1,
          1,
          1,
          1,
          1,
          1,
          1,
          2,
          1,
          1,
          2,
          1,
          1,
          1,
          1,
          1,
          1,
          2
         ],
         "yaxis": "y"
        },
        {
         "hovertemplate": "page_title=O que Comunicação faz?<br>date_visited=%{x}<br>unique_views=%{y}<extra></extra>",
         "legendgroup": "O que Comunicação faz?",
         "line": {
          "color": "#ab63fa",
          "dash": "solid"
         },
         "marker": {
          "symbol": "circle"
         },
         "mode": "lines",
         "name": "O que Comunicação faz?",
         "showlegend": true,
         "type": "scattergl",
         "x": [
          "2023-01-25T00:00:00",
          "2023-04-07T00:00:00",
          "2023-08-15T00:00:00"
         ],
         "xaxis": "x",
         "y": [
          1,
          1,
          1
         ],
         "yaxis": "y"
        },
        {
         "hovertemplate": "page_title=Como Organizar o PEIR (Checklist)<br>date_visited=%{x}<br>unique_views=%{y}<extra></extra>",
         "legendgroup": "Como Organizar o PEIR (Checklist)",
         "line": {
          "color": "#FFA15A",
          "dash": "solid"
         },
         "marker": {
          "symbol": "circle"
         },
         "mode": "lines",
         "name": "Como Organizar o PEIR (Checklist)",
         "showlegend": true,
         "type": "scattergl",
         "x": [
          "2023-03-10T00:00:00",
          "2023-03-12T00:00:00",
          "2023-03-13T00:00:00",
          "2023-03-19T00:00:00",
          "2023-04-07T00:00:00",
          "2023-04-25T00:00:00",
          "2023-07-17T00:00:00",
          "2023-07-18T00:00:00",
          "2023-07-24T00:00:00",
          "2023-07-25T00:00:00",
          "2023-07-31T00:00:00",
          "2023-08-01T00:00:00",
          "2023-09-24T00:00:00",
          "2023-10-02T00:00:00"
         ],
         "xaxis": "x",
         "y": [
          1,
          2,
          1,
          1,
          1,
          1,
          1,
          1,
          1,
          1,
          2,
          1,
          1,
          1
         ],
         "yaxis": "y"
        },
        {
         "hovertemplate": "page_title=Radar de execução<br>date_visited=%{x}<br>unique_views=%{y}<extra></extra>",
         "legendgroup": "Radar de execução",
         "line": {
          "color": "#19d3f3",
          "dash": "solid"
         },
         "marker": {
          "symbol": "circle"
         },
         "mode": "lines",
         "name": "Radar de execução",
         "showlegend": true,
         "type": "scattergl",
         "x": [
          "2023-05-13T00:00:00",
          "2023-05-17T00:00:00",
          "2023-09-28T00:00:00",
          "2023-09-30T00:00:00",
          "2023-10-03T00:00:00"
         ],
         "xaxis": "x",
         "y": [
          1,
          1,
          1,
          1,
          2
         ],
         "yaxis": "y"
        },
        {
         "hovertemplate": "page_title=Dinâmicas PEIR<br>date_visited=%{x}<br>unique_views=%{y}<extra></extra>",
         "legendgroup": "Dinâmicas PEIR",
         "line": {
          "color": "#FF6692",
          "dash": "solid"
         },
         "marker": {
          "symbol": "circle"
         },
         "mode": "lines",
         "name": "Dinâmicas PEIR",
         "showlegend": true,
         "type": "scattergl",
         "x": [
          "2023-09-24T00:00:00"
         ],
         "xaxis": "x",
         "y": [
          1
         ],
         "yaxis": "y"
        }
       ],
       "layout": {
        "legend": {
         "title": {
          "text": "page_title"
         },
         "tracegroupgap": 0
        },
        "template": {
         "data": {
          "bar": [
           {
            "error_x": {
             "color": "#2a3f5f"
            },
            "error_y": {
             "color": "#2a3f5f"
            },
            "marker": {
             "line": {
              "color": "#E5ECF6",
              "width": 0.5
             },
             "pattern": {
              "fillmode": "overlay",
              "size": 10,
              "solidity": 0.2
             }
            },
            "type": "bar"
           }
          ],
          "barpolar": [
           {
            "marker": {
             "line": {
              "color": "#E5ECF6",
              "width": 0.5
             },
             "pattern": {
              "fillmode": "overlay",
              "size": 10,
              "solidity": 0.2
             }
            },
            "type": "barpolar"
           }
          ],
          "carpet": [
           {
            "aaxis": {
             "endlinecolor": "#2a3f5f",
             "gridcolor": "white",
             "linecolor": "white",
             "minorgridcolor": "white",
             "startlinecolor": "#2a3f5f"
            },
            "baxis": {
             "endlinecolor": "#2a3f5f",
             "gridcolor": "white",
             "linecolor": "white",
             "minorgridcolor": "white",
             "startlinecolor": "#2a3f5f"
            },
            "type": "carpet"
           }
          ],
          "choropleth": [
           {
            "colorbar": {
             "outlinewidth": 0,
             "ticks": ""
            },
            "type": "choropleth"
           }
          ],
          "contour": [
           {
            "colorbar": {
             "outlinewidth": 0,
             "ticks": ""
            },
            "colorscale": [
             [
              0,
              "#0d0887"
             ],
             [
              0.1111111111111111,
              "#46039f"
             ],
             [
              0.2222222222222222,
              "#7201a8"
             ],
             [
              0.3333333333333333,
              "#9c179e"
             ],
             [
              0.4444444444444444,
              "#bd3786"
             ],
             [
              0.5555555555555556,
              "#d8576b"
             ],
             [
              0.6666666666666666,
              "#ed7953"
             ],
             [
              0.7777777777777778,
              "#fb9f3a"
             ],
             [
              0.8888888888888888,
              "#fdca26"
             ],
             [
              1,
              "#f0f921"
             ]
            ],
            "type": "contour"
           }
          ],
          "contourcarpet": [
           {
            "colorbar": {
             "outlinewidth": 0,
             "ticks": ""
            },
            "type": "contourcarpet"
           }
          ],
          "heatmap": [
           {
            "colorbar": {
             "outlinewidth": 0,
             "ticks": ""
            },
            "colorscale": [
             [
              0,
              "#0d0887"
             ],
             [
              0.1111111111111111,
              "#46039f"
             ],
             [
              0.2222222222222222,
              "#7201a8"
             ],
             [
              0.3333333333333333,
              "#9c179e"
             ],
             [
              0.4444444444444444,
              "#bd3786"
             ],
             [
              0.5555555555555556,
              "#d8576b"
             ],
             [
              0.6666666666666666,
              "#ed7953"
             ],
             [
              0.7777777777777778,
              "#fb9f3a"
             ],
             [
              0.8888888888888888,
              "#fdca26"
             ],
             [
              1,
              "#f0f921"
             ]
            ],
            "type": "heatmap"
           }
          ],
          "heatmapgl": [
           {
            "colorbar": {
             "outlinewidth": 0,
             "ticks": ""
            },
            "colorscale": [
             [
              0,
              "#0d0887"
             ],
             [
              0.1111111111111111,
              "#46039f"
             ],
             [
              0.2222222222222222,
              "#7201a8"
             ],
             [
              0.3333333333333333,
              "#9c179e"
             ],
             [
              0.4444444444444444,
              "#bd3786"
             ],
             [
              0.5555555555555556,
              "#d8576b"
             ],
             [
              0.6666666666666666,
              "#ed7953"
             ],
             [
              0.7777777777777778,
              "#fb9f3a"
             ],
             [
              0.8888888888888888,
              "#fdca26"
             ],
             [
              1,
              "#f0f921"
             ]
            ],
            "type": "heatmapgl"
           }
          ],
          "histogram": [
           {
            "marker": {
             "pattern": {
              "fillmode": "overlay",
              "size": 10,
              "solidity": 0.2
             }
            },
            "type": "histogram"
           }
          ],
          "histogram2d": [
           {
            "colorbar": {
             "outlinewidth": 0,
             "ticks": ""
            },
            "colorscale": [
             [
              0,
              "#0d0887"
             ],
             [
              0.1111111111111111,
              "#46039f"
             ],
             [
              0.2222222222222222,
              "#7201a8"
             ],
             [
              0.3333333333333333,
              "#9c179e"
             ],
             [
              0.4444444444444444,
              "#bd3786"
             ],
             [
              0.5555555555555556,
              "#d8576b"
             ],
             [
              0.6666666666666666,
              "#ed7953"
             ],
             [
              0.7777777777777778,
              "#fb9f3a"
             ],
             [
              0.8888888888888888,
              "#fdca26"
             ],
             [
              1,
              "#f0f921"
             ]
            ],
            "type": "histogram2d"
           }
          ],
          "histogram2dcontour": [
           {
            "colorbar": {
             "outlinewidth": 0,
             "ticks": ""
            },
            "colorscale": [
             [
              0,
              "#0d0887"
             ],
             [
              0.1111111111111111,
              "#46039f"
             ],
             [
              0.2222222222222222,
              "#7201a8"
             ],
             [
              0.3333333333333333,
              "#9c179e"
             ],
             [
              0.4444444444444444,
              "#bd3786"
             ],
             [
              0.5555555555555556,
              "#d8576b"
             ],
             [
              0.6666666666666666,
              "#ed7953"
             ],
             [
              0.7777777777777778,
              "#fb9f3a"
             ],
             [
              0.8888888888888888,
              "#fdca26"
             ],
             [
              1,
              "#f0f921"
             ]
            ],
            "type": "histogram2dcontour"
           }
          ],
          "mesh3d": [
           {
            "colorbar": {
             "outlinewidth": 0,
             "ticks": ""
            },
            "type": "mesh3d"
           }
          ],
          "parcoords": [
           {
            "line": {
             "colorbar": {
              "outlinewidth": 0,
              "ticks": ""
             }
            },
            "type": "parcoords"
           }
          ],
          "pie": [
           {
            "automargin": true,
            "type": "pie"
           }
          ],
          "scatter": [
           {
            "fillpattern": {
             "fillmode": "overlay",
             "size": 10,
             "solidity": 0.2
            },
            "type": "scatter"
           }
          ],
          "scatter3d": [
           {
            "line": {
             "colorbar": {
              "outlinewidth": 0,
              "ticks": ""
             }
            },
            "marker": {
             "colorbar": {
              "outlinewidth": 0,
              "ticks": ""
             }
            },
            "type": "scatter3d"
           }
          ],
          "scattercarpet": [
           {
            "marker": {
             "colorbar": {
              "outlinewidth": 0,
              "ticks": ""
             }
            },
            "type": "scattercarpet"
           }
          ],
          "scattergeo": [
           {
            "marker": {
             "colorbar": {
              "outlinewidth": 0,
              "ticks": ""
             }
            },
            "type": "scattergeo"
           }
          ],
          "scattergl": [
           {
            "marker": {
             "colorbar": {
              "outlinewidth": 0,
              "ticks": ""
             }
            },
            "type": "scattergl"
           }
          ],
          "scattermapbox": [
           {
            "marker": {
             "colorbar": {
              "outlinewidth": 0,
              "ticks": ""
             }
            },
            "type": "scattermapbox"
           }
          ],
          "scatterpolar": [
           {
            "marker": {
             "colorbar": {
              "outlinewidth": 0,
              "ticks": ""
             }
            },
            "type": "scatterpolar"
           }
          ],
          "scatterpolargl": [
           {
            "marker": {
             "colorbar": {
              "outlinewidth": 0,
              "ticks": ""
             }
            },
            "type": "scatterpolargl"
           }
          ],
          "scatterternary": [
           {
            "marker": {
             "colorbar": {
              "outlinewidth": 0,
              "ticks": ""
             }
            },
            "type": "scatterternary"
           }
          ],
          "surface": [
           {
            "colorbar": {
             "outlinewidth": 0,
             "ticks": ""
            },
            "colorscale": [
             [
              0,
              "#0d0887"
             ],
             [
              0.1111111111111111,
              "#46039f"
             ],
             [
              0.2222222222222222,
              "#7201a8"
             ],
             [
              0.3333333333333333,
              "#9c179e"
             ],
             [
              0.4444444444444444,
              "#bd3786"
             ],
             [
              0.5555555555555556,
              "#d8576b"
             ],
             [
              0.6666666666666666,
              "#ed7953"
             ],
             [
              0.7777777777777778,
              "#fb9f3a"
             ],
             [
              0.8888888888888888,
              "#fdca26"
             ],
             [
              1,
              "#f0f921"
             ]
            ],
            "type": "surface"
           }
          ],
          "table": [
           {
            "cells": {
             "fill": {
              "color": "#EBF0F8"
             },
             "line": {
              "color": "white"
             }
            },
            "header": {
             "fill": {
              "color": "#C8D4E3"
             },
             "line": {
              "color": "white"
             }
            },
            "type": "table"
           }
          ]
         },
         "layout": {
          "annotationdefaults": {
           "arrowcolor": "#2a3f5f",
           "arrowhead": 0,
           "arrowwidth": 1
          },
          "autotypenumbers": "strict",
          "coloraxis": {
           "colorbar": {
            "outlinewidth": 0,
            "ticks": ""
           }
          },
          "colorscale": {
           "diverging": [
            [
             0,
             "#8e0152"
            ],
            [
             0.1,
             "#c51b7d"
            ],
            [
             0.2,
             "#de77ae"
            ],
            [
             0.3,
             "#f1b6da"
            ],
            [
             0.4,
             "#fde0ef"
            ],
            [
             0.5,
             "#f7f7f7"
            ],
            [
             0.6,
             "#e6f5d0"
            ],
            [
             0.7,
             "#b8e186"
            ],
            [
             0.8,
             "#7fbc41"
            ],
            [
             0.9,
             "#4d9221"
            ],
            [
             1,
             "#276419"
            ]
           ],
           "sequential": [
            [
             0,
             "#0d0887"
            ],
            [
             0.1111111111111111,
             "#46039f"
            ],
            [
             0.2222222222222222,
             "#7201a8"
            ],
            [
             0.3333333333333333,
             "#9c179e"
            ],
            [
             0.4444444444444444,
             "#bd3786"
            ],
            [
             0.5555555555555556,
             "#d8576b"
            ],
            [
             0.6666666666666666,
             "#ed7953"
            ],
            [
             0.7777777777777778,
             "#fb9f3a"
            ],
            [
             0.8888888888888888,
             "#fdca26"
            ],
            [
             1,
             "#f0f921"
            ]
           ],
           "sequentialminus": [
            [
             0,
             "#0d0887"
            ],
            [
             0.1111111111111111,
             "#46039f"
            ],
            [
             0.2222222222222222,
             "#7201a8"
            ],
            [
             0.3333333333333333,
             "#9c179e"
            ],
            [
             0.4444444444444444,
             "#bd3786"
            ],
            [
             0.5555555555555556,
             "#d8576b"
            ],
            [
             0.6666666666666666,
             "#ed7953"
            ],
            [
             0.7777777777777778,
             "#fb9f3a"
            ],
            [
             0.8888888888888888,
             "#fdca26"
            ],
            [
             1,
             "#f0f921"
            ]
           ]
          },
          "colorway": [
           "#636efa",
           "#EF553B",
           "#00cc96",
           "#ab63fa",
           "#FFA15A",
           "#19d3f3",
           "#FF6692",
           "#B6E880",
           "#FF97FF",
           "#FECB52"
          ],
          "font": {
           "color": "#2a3f5f"
          },
          "geo": {
           "bgcolor": "white",
           "lakecolor": "white",
           "landcolor": "#E5ECF6",
           "showlakes": true,
           "showland": true,
           "subunitcolor": "white"
          },
          "hoverlabel": {
           "align": "left"
          },
          "hovermode": "closest",
          "mapbox": {
           "style": "light"
          },
          "paper_bgcolor": "white",
          "plot_bgcolor": "#E5ECF6",
          "polar": {
           "angularaxis": {
            "gridcolor": "white",
            "linecolor": "white",
            "ticks": ""
           },
           "bgcolor": "#E5ECF6",
           "radialaxis": {
            "gridcolor": "white",
            "linecolor": "white",
            "ticks": ""
           }
          },
          "scene": {
           "xaxis": {
            "backgroundcolor": "#E5ECF6",
            "gridcolor": "white",
            "gridwidth": 2,
            "linecolor": "white",
            "showbackground": true,
            "ticks": "",
            "zerolinecolor": "white"
           },
           "yaxis": {
            "backgroundcolor": "#E5ECF6",
            "gridcolor": "white",
            "gridwidth": 2,
            "linecolor": "white",
            "showbackground": true,
            "ticks": "",
            "zerolinecolor": "white"
           },
           "zaxis": {
            "backgroundcolor": "#E5ECF6",
            "gridcolor": "white",
            "gridwidth": 2,
            "linecolor": "white",
            "showbackground": true,
            "ticks": "",
            "zerolinecolor": "white"
           }
          },
          "shapedefaults": {
           "line": {
            "color": "#2a3f5f"
           }
          },
          "ternary": {
           "aaxis": {
            "gridcolor": "white",
            "linecolor": "white",
            "ticks": ""
           },
           "baxis": {
            "gridcolor": "white",
            "linecolor": "white",
            "ticks": ""
           },
           "bgcolor": "#E5ECF6",
           "caxis": {
            "gridcolor": "white",
            "linecolor": "white",
            "ticks": ""
           }
          },
          "title": {
           "x": 0.05
          },
          "xaxis": {
           "automargin": true,
           "gridcolor": "white",
           "linecolor": "white",
           "ticks": "",
           "title": {
            "standoff": 15
           },
           "zerolinecolor": "white",
           "zerolinewidth": 2
          },
          "yaxis": {
           "automargin": true,
           "gridcolor": "white",
           "linecolor": "white",
           "ticks": "",
           "title": {
            "standoff": 15
           },
           "zerolinecolor": "white",
           "zerolinewidth": 2
          }
         }
        },
        "title": {
         "text": "Visualizações Totais por Mês"
        },
        "xaxis": {
         "anchor": "y",
         "domain": [
          0,
          1
         ],
         "title": {
          "text": "date_visited"
         }
        },
        "yaxis": {
         "anchor": "x",
         "domain": [
          0,
          1
         ],
         "title": {
          "text": "unique_views"
         }
        }
       }
      }
     },
     "metadata": {},
     "output_type": "display_data"
    }
   ],
   "source": [
    "fig_total_monthly = px.line(df, x='date_visited', y='unique_views', color='page_title', \n",
    "                            title='Visualizações Totais por Mês')\n",
    "fig_total_monthly.show()"
   ]
  }
 ],
 "metadata": {
  "kernelspec": {
   "display_name": "myenv",
   "language": "python",
   "name": "python3"
  },
  "language_info": {
   "codemirror_mode": {
    "name": "ipython",
    "version": 3
   },
   "file_extension": ".py",
   "mimetype": "text/x-python",
   "name": "python",
   "nbconvert_exporter": "python",
   "pygments_lexer": "ipython3",
   "version": "3.8.6"
  },
  "orig_nbformat": 4
 },
 "nbformat": 4,
 "nbformat_minor": 2
}
